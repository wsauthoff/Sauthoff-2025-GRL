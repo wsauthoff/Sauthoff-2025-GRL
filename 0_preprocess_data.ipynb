{
 "cells": [
  {
   "cell_type": "code",
   "execution_count": null,
   "id": "9a180750-d435-44ea-94f0-c96b9dbea099",
   "metadata": {
    "user_expressions": []
   },
   "outputs": [],
   "source": [
    "# TODO\n",
    "#"
   ]
  },
  {
   "cell_type": "markdown",
   "id": "5ff75638-a801-40a3-bd59-7d6536dbc054",
   "metadata": {},
   "source": [
    "# Set up computing environment"
   ]
  },
  {
   "cell_type": "code",
   "execution_count": null,
   "id": "ad47cdb0-00aa-4268-8691-9e44b3bfda2d",
   "metadata": {},
   "outputs": [],
   "source": [
    "# Import libraries\n",
    "import earthaccess\n",
    "import geopandas as gpd\n",
    "import matplotlib.pyplot as plt\n",
    "import os\n",
    "import xarray as xr\n",
    "\n",
    "# Define data directories dependent on home environment\n",
    "# Replace with your directory file paths\n",
    "if os.getenv('HOME') == '/home/jovyan':\n",
    "    DATA_DIR = '/home/jovyan/data'\n",
    "    SCRIPT_DIR = '/home/jovyan/repos/scripts'"
   ]
  },
  {
   "cell_type": "markdown",
   "id": "ff4adef9-57d4-4ab4-b066-ba4a4ebb38a5",
   "metadata": {
    "user_expressions": []
   },
   "source": [
    "# Functions"
   ]
  },
  {
   "cell_type": "code",
   "execution_count": null,
   "id": "323680f2-75c7-4398-93c9-7c4ecbf76d34",
   "metadata": {},
   "outputs": [],
   "source": []
  },
  {
   "cell_type": "markdown",
   "id": "6f5e0e1c-b26e-4ee3-87eb-ceea82bc5d73",
   "metadata": {},
   "source": [
    "# Import datasets"
   ]
  },
  {
   "cell_type": "code",
   "execution_count": null,
   "id": "79b17078-d831-4b2d-a16d-214e5c79b867",
   "metadata": {},
   "outputs": [],
   "source": [
    "# Log into NASA Earthdata to search for datasets\n",
    "earthaccess.login()"
   ]
  },
  {
   "cell_type": "markdown",
   "id": "ddf50c0c-d35f-4845-9085-15b2deedad0c",
   "metadata": {},
   "source": [
    "# Analysis"
   ]
  },
  {
   "cell_type": "code",
   "execution_count": null,
   "id": "76b1c2ae-9d43-470c-86ed-afa34a8e2186",
   "metadata": {},
   "outputs": [],
   "source": [
    "# Find start, end, and mid-cycle dates of combined CryoSat-2 and ICESat-2 data\n",
    "cyc_start_dates = []\n",
    "cyc_end_dates = []\n",
    "midcyc_dates = []\n",
    "\n",
    "for idx in range(len(dataset1.delta_h[:33])):\n",
    "    # Smith and others, 2017 method CryoSat-2 SARIn data\n",
    "    if dataset1.identifier_product_DOI == 'doi:10.5194/tc-11-451-2017':\n",
    "        cyc_start_date = datetime.datetime(int(dataset1.time.values[idx]), 1, 1) + datetime.timedelta(days = (dataset1.time.values[idx] % 1) * 365.25)\n",
    "        cyc_end_date = datetime.datetime(int(dataset1.time.values[idx+1]), 1, 1) + datetime.timedelta(days = (dataset1.time.values[idx+1] % 1) * 365.25)\n",
    "        midcyc_days = cyc_end_date - cyc_start_date\n",
    "        midcyc_date = cyc_start_date + midcyc_days/2\n",
    "        cyc_start_dates += [cyc_start_date]\n",
    "        cyc_end_dates += [cyc_end_date]\n",
    "        midcyc_dates += [midcyc_date]\n",
    "\n",
    "for idx in range(len(dataset2.delta_h)-1): \n",
    "    cyc_start_date = dataset2.time.values[idx]\n",
    "    cyc_end_date = dataset2.time.values[idx+1]\n",
    "    midcyc_days = cyc_end_date - cyc_start_date\n",
    "    midcyc_date = cyc_start_date + midcyc_days/2\n",
    "    cyc_start_dates += [cyc_start_date]\n",
    "    cyc_end_dates += [cyc_end_date]\n",
    "    midcyc_dates += [midcyc_date]"
   ]
  },
  {
   "cell_type": "code",
   "execution_count": null,
   "id": "56f2143e-b11b-4cdc-8797-5958c81b4ab3",
   "metadata": {},
   "outputs": [],
   "source": [
    "midcyc_dates"
   ]
  },
  {
   "cell_type": "code",
   "execution_count": null,
   "id": "28ba94a4-5063-4a4d-9c79-63598d173504",
   "metadata": {},
   "outputs": [],
   "source": []
  }
 ],
 "metadata": {
  "kernelspec": {
   "display_name": "Python 3 (ipykernel)",
   "language": "python",
   "name": "python3"
  },
  "language_info": {
   "codemirror_mode": {
    "name": "ipython",
    "version": 3
   },
   "file_extension": ".py",
   "mimetype": "text/x-python",
   "name": "python",
   "nbconvert_exporter": "python",
   "pygments_lexer": "ipython3",
   "version": "3.10.13"
  }
 },
 "nbformat": 4,
 "nbformat_minor": 5
}
