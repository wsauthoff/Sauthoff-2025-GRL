{
 "cells": [
  {
   "cell_type": "code",
   "execution_count": 8,
   "id": "9a180750-d435-44ea-94f0-c96b9dbea099",
   "metadata": {
    "user_expressions": []
   },
   "outputs": [],
   "source": [
    "# TODO\n",
    "\n",
    "# change plot_height_changes to have 15x search extent or none at all?\n",
    "\n",
    "# Import/read ATL11 (try h5coro)\n",
    "# Add ATL11 overlay\n",
    "\n",
    "# Add something along the lines of code below to illustrate lake area/outline:\n",
    "# # Plot polygons in the GeoDataFrame\n",
    "# gdf.plot(ax=ax, color='lightblue', edgecolor='black', linewidth=1, label='Polygon Area')\n",
    "# # Optionally, if you want to plot just the boundaries with a different style\n",
    "# gdf.boundary.plot(ax=ax, color='red', linewidth=2, label='Polygon Boundary')\n",
    "\n",
    "# Simplify subsetting code:\n",
    "# CS2_dh_sub = CS2_dh.sel(y=slice(y_max, y_min), x=slice(x_min, x_max))\n",
    "# ATL15_dh_sub = ATL15_dh.sel(x=slice(x_min, x_max), y=slice(y_min, y_max))\n",
    "\n",
    "# Simplify codes to makes lines:\n",
    "# Creating custom legend entries as lines\n",
    "    # line_3_1 = mlines.Line2D([], [], color='red', linewidth=2, label='v3.1')\n",
    "    # line_3_6 = mlines.Line2D([], [], color='blue', linewidth=2, label='v3.6')\n",
    "\n",
    "# # Saved geojson's behave differently: evolving_outlines_gdfs have midcyc_datetime open as timestamp whereas \n",
    "# # compare_evolving_static_outlines_gdfs have midcyc_datetime open as string\n",
    "# evolving_outlines_gdf = gpd.read_file(os.path.join(\n",
    "#     os.getcwd(), 'output/lake_outlines/evolving_outlines/{}.geojson'.format(SF18_lake_gdf['name'].values[0])))\n",
    "# print(type(evolving_outlines_gdf['midcyc_datetime'][0]))\n",
    "\n",
    "# geom_calcs_df = pd.read_csv(os.path.join(\n",
    "#     os.getcwd(), 'output/lake_outlines/compare_evolving_static_outlines/{}.csv'.format(SF18_lake_gdf['name'].values[0])))\n",
    "# print(type(geom_calcs_df['midcyc_datetime'][0]))\n",
    "\n",
    "# Within plot_data_counts and plot_height_changes func's add handing of lakes with shorted CS2 time period\n",
    "\n",
    "# Add Hodgson doline lake and AP lakes\n",
    "\n",
    "# To extract_intersecting_polygons, add while loop to do all polygons within"
   ]
  },
  {
   "cell_type": "code",
   "execution_count": 9,
   "id": "46ca6a6e-114b-437a-babe-8dfa175f4299",
   "metadata": {},
   "outputs": [],
   "source": [
    "# Code to Fig. S1 of Sauthoff and others, 202X\n",
    "# This code runs continental-scale operations on multiple datasets and\n",
    "# requires a 32 GB server or local memory\n",
    "#\n",
    "# Written 2023-07-11 by W. Sauthoff (wsauthoff.github.io)"
   ]
  },
  {
   "cell_type": "markdown",
   "id": "5ff75638-a801-40a3-bd59-7d6536dbc054",
   "metadata": {},
   "source": [
    "# Set up computing environment"
   ]
  },
  {
   "cell_type": "code",
   "execution_count": 10,
   "id": "67b2a28f-a575-4f1e-b1c9-f601327149aa",
   "metadata": {
    "tags": []
   },
   "outputs": [
    {
     "name": "stdout",
     "output_type": "stream",
     "text": [
      "Requirement already satisfied: openpyxl in /srv/conda/envs/notebook/lib/python3.11/site-packages (3.1.2)\n",
      "Requirement already satisfied: et-xmlfile in /srv/conda/envs/notebook/lib/python3.11/site-packages (from openpyxl) (1.1.0)\n",
      "Note: you may need to restart the kernel to use updated packages.\n"
     ]
    }
   ],
   "source": [
    "%pip install openpyxl"
   ]
  },
  {
   "cell_type": "code",
   "execution_count": 11,
   "id": "ad47cdb0-00aa-4268-8691-9e44b3bfda2d",
   "metadata": {},
   "outputs": [],
   "source": [
    "# Import libraries\n",
    "import datetime\n",
    "import earthaccess\n",
    "import fiona\n",
    "import gc\n",
    "import geopandas as gpd\n",
    "from IPython.display import clear_output\n",
    "import matplotlib\n",
    "import matplotlib.cm as cm\n",
    "from matplotlib.collections import LineCollection\n",
    "import matplotlib.colors as colors\n",
    "import matplotlib.dates as mdates\n",
    "from matplotlib.patches import Rectangle\n",
    "from matplotlib.legend_handler import HandlerTuple\n",
    "import matplotlib.pyplot as plt\n",
    "import matplotlib.ticker as ticker\n",
    "from mpl_toolkits.axes_grid1 import make_axes_locatable\n",
    "from mpl_toolkits.axes_grid1.inset_locator import inset_axes\n",
    "import numpy as np\n",
    "import os\n",
    "from os import path\n",
    "import pandas as pd\n",
    "from pyproj import CRS, Geod, Transformer\n",
    "import rioxarray\n",
    "from rioxarray.exceptions import NoDataInBounds\n",
    "from shapely.geometry import box, MultiPolygon, Point, Polygon\n",
    "from shapely.ops import unary_union\n",
    "from skimage import measure\n",
    "import time\n",
    "import xarray as xr\n",
    "\n",
    "# Magic functions\n",
    "%matplotlib widget\n",
    "# %matplotlib inline\n",
    "\n",
    "from IPython.display import Audio, display\n",
    "def play_sound():\n",
    "    display(Audio(url=\"http://codeskulptor-demos.commondatastorage.googleapis.com/pang/pop.mp3\", autoplay=True))\n",
    "\n",
    "# Define data directories dependent on home environment\n",
    "# Replace with your directory file paths\n",
    "if os.getenv('HOME') == '/home/jovyan':\n",
    "    DATA_DIR = '/home/jovyan/data'\n",
    "    SCRIPT_DIR = '/home/jovyan/repos_my/script_dir'\n",
    "    OUTPUT_DIR = '/home/jovyan/1_outlines_candidates/output/FigS1_lake_reexamination_methods.ipynb'\n",
    "\n",
    "# Define constants and coordinate transforms for the geodesic area calculation\n",
    "CRS_LL = \"EPSG:4326\" # wgs84 in lon,lat\n",
    "GEOD = CRS(CRS_LL).get_geod() # geod object for calculating geodesic area on defined ellipsoid\n",
    "CRS_XY = \"EPSG:3031\" # Antarctic Polar Stereographic in x, y\n",
    "XY_TO_LL = Transformer.from_crs(CRS_XY, CRS_LL, always_xy = True) # make coord transformer\n",
    "geod = Geod(ellps=\"WGS84\") # Create a Geod object for calculating area on the WGS84 ellipsoid\n",
    "\n",
    "# Change default font to increase font size\n",
    "plt.rcParams.update({'font.size': 8})\n"
   ]
  },
  {
   "cell_type": "markdown",
   "id": "ff4adef9-57d4-4ab4-b066-ba4a4ebb38a5",
   "metadata": {},
   "source": [
    "# Functions"
   ]
  },
  {
   "cell_type": "code",
   "execution_count": 12,
   "id": "e074c049-cbfc-41a5-8d42-35f57f5cdffa",
   "metadata": {
    "tags": []
   },
   "outputs": [],
   "source": [
    "# def read_field(group, field):\n",
    "#     \"\"\"\n",
    "#     generic field-reading function\n",
    "#     \"\"\"\n",
    "#     data=np.array(group[field])\n",
    "#     bad=(data==group[field].attrs['_FillValue'])\n",
    "#     data[bad]=np.NaN\n",
    "#     return data"
   ]
  },
  {
   "cell_type": "code",
   "execution_count": 13,
   "id": "649ccc68-98f0-4c40-969e-d20c4d37de06",
   "metadata": {
    "tags": []
   },
   "outputs": [],
   "source": [
    "# def read_ATL11(filename, pair):\n",
    "#     \"\"\"\n",
    "#     ATL11 reader\n",
    "#     \"\"\"\n",
    "#     with h5py.File(filename,'r') as h5f:\n",
    "#         longitude=read_field(h5f[pair],'longitude')\n",
    "#         latitude=read_field(h5f[pair],'latitude')\n",
    "#         h_corr=read_field(h5f[pair],'h_corr')\n",
    "#         h_corr_sigma=read_field(h5f[pair],'h_corr_sigma')\n",
    "#         h_corr_sigma_s=read_field(h5f[pair],'h_corr_sigma_systematic')\n",
    "#         quality=np.array(h5f[pair]['quality_summary'])\n",
    "#     for col in range(h_corr.shape[1]):\n",
    "#         h_corr[quality==1]=np.NaN\n",
    "#     # return the values\n",
    "#     return longitude, latitude, h_corr, np.sqrt(h_corr_sigma**2+h_corr_sigma_s**2)"
   ]
  },
  {
   "cell_type": "code",
   "execution_count": 14,
   "id": "a4f894df-e7b5-42e7-9469-523ab310517b",
   "metadata": {
    "tags": []
   },
   "outputs": [],
   "source": [
    "# def datetime64_to_fractional_year(date):\n",
    "#     \"\"\"\n",
    "#     Convert a numpy.datetime64 object into a fractional year, rounded to 0, .25, .5, or .75.\n",
    "#     \"\"\"\n",
    "#     year = date.astype('datetime64[Y]').astype(int) + 1970\n",
    "#     start_of_year = np.datetime64(f'{year}-01-01')\n",
    "#     start_of_next_year = np.datetime64(f'{year + 1}-01-01')\n",
    "#     year_length = (start_of_next_year - start_of_year).astype('timedelta64[D]').astype(int)\n",
    "#     day_of_year = (date - start_of_year).astype('timedelta64[D]').astype(int)\n",
    "#     fractional_year = year + day_of_year / year_length\n",
    "\n",
    "#     # Round to nearest quarter\n",
    "#     rounded_fractional_year = round(fractional_year * 4) / 4\n",
    "#     return rounded_fractional_year\n",
    "\n",
    "# # # Example usage\n",
    "# # date = np.datetime64('2024-01-05')\n",
    "# # fractional_year = datetime64_to_fractional_year(date)"
   ]
  },
  {
   "cell_type": "code",
   "execution_count": 15,
   "id": "02195ea6-a643-436c-b4ed-06a418f555b3",
   "metadata": {},
   "outputs": [],
   "source": [
    "# def timestamp_to_fractional_year(timestamp):\n",
    "#     # Check if the year is a leap year\n",
    "#     year = timestamp.year\n",
    "#     if (year % 4 == 0 and year % 100 != 0) or (year % 400 == 0):\n",
    "#         days_in_year = 366\n",
    "#     else:\n",
    "#         days_in_year = 365\n",
    "\n",
    "#     # Calculate the day of the year\n",
    "#     day_of_year = timestamp.timetuple().tm_yday\n",
    "\n",
    "#     # Calculate the fractional year\n",
    "#     fractional_year = year + (day_of_year - 1) / days_in_year\n",
    "    \n",
    "#     return fractional_year\n",
    "\n",
    "# # # Example usage\n",
    "# # timestamp = pd.Timestamp('2023-03-07 12:34:56')\n",
    "# # fractional_year = timestamp_to_fractional_year(timestamp)\n",
    "# # print(f\"Fractional Year: {fractional_year}\")"
   ]
  },
  {
   "cell_type": "code",
   "execution_count": 16,
   "id": "323680f2-75c7-4398-93c9-7c4ecbf76d34",
   "metadata": {},
   "outputs": [],
   "source": [
    "def muliple_area_buffer(polygon, area_multiple, precision=100):\n",
    "    '''\n",
    "    This function takes a polygon and returns a polygon with a buffer such that the area of the buffered polygon\n",
    "    is approximately the specified multiple the area of the original polygon.\n",
    "\n",
    "    Inputs\n",
    "    * param polygon: Shapely Polygon object\n",
    "    * param area_multiple: the multiple of the original polygon area you wish the buffered polygon to be\n",
    "    * param precision: Precision for the iterative process to find the buffer distance\n",
    "    * return: Buffered Polygon\n",
    "    '''\n",
    "    original_area = polygon.area\n",
    "    target_area = area_multiple * original_area\n",
    "    buffer_distance = 0\n",
    "    buffered_polygon = polygon\n",
    "\n",
    "    while True:\n",
    "        buffered_polygon = polygon.buffer(buffer_distance)\n",
    "        if buffered_polygon.area >= target_area:\n",
    "            break\n",
    "        buffer_distance += precision\n",
    "    \n",
    "    # Convert to geodataframe\n",
    "    buffered_polygon_gdf = gpd.GeoDataFrame({'geometry': [buffered_polygon]})\n",
    "\n",
    "    return buffered_polygon\n",
    "\n",
    "# # Example usage\n",
    "# # Define a simple square polygon\n",
    "# square = Polygon([(0, 0), (1, 0), (1, 1), (0, 1)])\n",
    "# # Apply the function to find the buffered polygon area and bounds\n",
    "# buffered_poly = muliple_area_buffer(square, 2)"
   ]
  },
  {
   "cell_type": "code",
   "execution_count": 17,
   "id": "0c6ac957-3f76-4167-b794-ef6704a7d63b",
   "metadata": {
    "tags": []
   },
   "outputs": [],
   "source": [
    "def create_folder(directory):\n",
    "    # Check if the directory already exists\n",
    "    if not os.path.exists(directory):\n",
    "        # If it doesn't exist, create a new directory\n",
    "        os.makedirs(directory)\n",
    "        print(f\"Folder '{directory}' created successfully.\")\n",
    "    else:\n",
    "        print(f\"Folder '{directory}' already exists.\")"
   ]
  },
  {
   "cell_type": "code",
   "execution_count": 18,
   "id": "333fd087-aed3-42ee-ba7a-1f7fc88c43a0",
   "metadata": {
    "tags": []
   },
   "outputs": [],
   "source": [
    "# def filter_gdf_by_folder_contents(gdf, folder_path):\n",
    "#     '''\n",
    "#     Filter the GeoDataFrame to only include rows where the 'name' is not already in folder_path\n",
    "#     '''\n",
    "#     # List all files in folder_path2 and strip extensions\n",
    "#     names = {os.path.splitext(name)[0] for name in os.listdir(folder_path) \n",
    "#                      if os.path.isfile(os.path.join(folder_path, name))}\n",
    "\n",
    "#     # Filter based on names\n",
    "#     gdf_filtered = gdf[~gdf['name'].isin(names)]\n",
    "\n",
    "#     return gdf_filtered"
   ]
  },
  {
   "cell_type": "code",
   "execution_count": 44,
   "id": "d7a732f2-b57b-45bd-a466-6fdbcf3956c8",
   "metadata": {},
   "outputs": [],
   "source": [
    "def filter_gdf_by_folder_contents(gdf, folder_path, exclude=True):\n",
    "    '''\n",
    "    Filter the GeoDataFrame based on whether the 'name' is in the folder_path.\n",
    "    \n",
    "    Args:\n",
    "    gdf: GeoDataFrame to be filtered.\n",
    "    folder_path: Path to the directory containing files.\n",
    "    exclude: If True, excludes rows where the 'name' is in folder_path.\n",
    "             If False, includes only rows where the 'name' is in folder_path.\n",
    "\n",
    "    Returns:\n",
    "    GeoDataFrame filtered based on the presence of 'name' in folder_path.\n",
    "    '''\n",
    "    # List all files in folder_path and strip extensions\n",
    "    # Ignore .txt files that are used to indicate a like did not generate data\n",
    "    names = {os.path.splitext(name)[0] for name in os.listdir(folder_path) \n",
    "                     if os.path.isfile(os.path.join(folder_path, name)) and not name.endswith('.txt')}\n",
    "\n",
    "    # Filter based on names\n",
    "    if exclude:\n",
    "        gdf_filtered = gdf[~gdf['name'].isin(names)]\n",
    "    else:\n",
    "        gdf_filtered = gdf[gdf['name'].isin(names)]\n",
    "\n",
    "    return gdf_filtered"
   ]
  },
  {
   "cell_type": "code",
   "execution_count": 20,
   "id": "abeb0f11-15ad-455d-807f-33dbc73a7e80",
   "metadata": {
    "tags": []
   },
   "outputs": [],
   "source": [
    "# Remove S09/SF18 and just use static_lakes_gdf for simplicity\n",
    "def plot_data_counts(lake_gdf, dataset1, dataset2): \n",
    "    '''\n",
    "    Create planview plots of counts going into gridded ice-surface height change (dh/dt) products\n",
    "    \n",
    "    Inputs:\n",
    "    * lake_gdf: geodataframe of lake to be analyzed\n",
    "    * dataset1: dataset1 to be analyzed\n",
    "    * dataset2: dataset2 to be analyzed in conjunction with dataset1; currently configured to \n",
    "    splice CryoSat-2 and ICESat-2 eras\n",
    "    \n",
    "    Outputs:\n",
    "    * Sequence of planview data count visuals of lake around surrounding area\n",
    "    '''\n",
    "    # Define lake name and polygon\n",
    "    lake_name = lake_gdf['name']\n",
    "    lake_poly = lake_gdf['geometry']\n",
    "    \n",
    "    # Create buffered polygons for various multiples of lake area to find which\n",
    "    # best emcompasses the height change signals at previously identified lakes\n",
    "    search_extent_poly = muliple_area_buffer(lake_poly, 10)\n",
    "    \n",
    "    # Establish x_min, x_max, y_min, y_max\n",
    "    # x_min, y_min, x_max, y_max = search_extent_poly.iloc[0].geometry.bounds\n",
    "    x_min, y_min, x_max, y_max = search_extent_poly.bounds\n",
    "    x_buffer = abs(x_max-x_min)*0.5\n",
    "    y_buffer = abs(y_max-y_min)*0.5\n",
    "\n",
    "    # Subsetting datasets\n",
    "    mask_x = (dataset1.x >= x_min - x_buffer) & (dataset1.x <= x_max + x_buffer)\n",
    "    mask_y = (dataset1.y >= y_min - y_buffer) & (dataset1.y <= y_max + y_buffer)\n",
    "    dataset1_subset = dataset1.where(mask_x & mask_y, drop=True)\n",
    "    mask_x = (dataset2.x >= x_min - x_buffer) & (dataset2.x <= x_max + x_buffer)\n",
    "    mask_y = (dataset2.y >= y_min - y_buffer) & (dataset2.y <= y_max + y_buffer)\n",
    "    dataset2_subset = dataset2.where(mask_x & mask_y, drop=True)\n",
    "    \n",
    "    # Make output folders\n",
    "    create_folder(OUTPUT_DIR + '/{}'.format('plot_data_counts'))\n",
    "    create_folder(OUTPUT_DIR + '/plot_data_counts/{}'.format(lake_name))\n",
    "    print('Now creating/saving plots...')\n",
    "\n",
    "    # Create lines for legend\n",
    "    S09_color = 'paleturquoise'\n",
    "    SF18_color  = 'turquoise'\n",
    "    static_lakes_gdf_postSF18_color = 'darkturquoise'\n",
    "    Smith2009 = plt.Line2D((0, 1), (0, 0), color=S09_color, linestyle=(0, (1, 3)), linewidth=2)\n",
    "    SiegfriedFricker2018 = plt.Line2D((0, 1), (0, 0), color=SF18_color, linestyle=(0, (1, 2)), linewidth=2)\n",
    "    static_lakes_gdf_postSF18_line = plt.Line2D((0, 1), (0, 0), color=static_lakes_gdf_postSF18_color, linestyle=(0, (1, 1)), linewidth=2)\n",
    "    search_extent_line = plt.Line2D((0, 1), (0, 0), color='red', linestyle='solid', linewidth=2)\n",
    "\n",
    "    # Calculate cycle-to-cycle dHeight at each cycle of the spliced data sets\n",
    "    for idx in range(len(midcyc_dates)):\n",
    "        # For midcyc_dates indexes <= 32, use CryoSat-2 dataset for cycle-to-cycle dHeight\n",
    "        # This covers the CryoSat-2 era before ICESat-2 launch (2010-08-17 to 2018-08-17)\n",
    "        if idx <= 32:\n",
    "            count_subset = dataset1_subset['data_count'][idx,:,:]\n",
    "            count_subset.rio.write_crs(\"epsg:3031\", inplace=True)\n",
    "\n",
    "        # For midcyc_dates indexes > 32, use ICESat-2 dataset for cycle-to-cycle dHeight\n",
    "        # This covers the ICESat-2 era (2018-11-16 to most recently available data)\n",
    "        elif idx > 32:\n",
    "            # Subtract 33 from idx to start over at index zero with new dataset\n",
    "            count_subset = dataset2_subset['data_count'][(idx-33),:,:]\n",
    "            count_subset.rio.write_crs(\"epsg:3031\", inplace=True)\n",
    "            \n",
    "        # Only plot arrays that have data in them; some time slices have no data because no CryoSat-2 SARIn coverage\n",
    "        # Returns True if there is at least one non-NaN value in data_stacked, and False if all values are NaN\n",
    "        if np.any(~np.isnan(count_subset)):\n",
    "            # Create fig, ax\n",
    "            fig, ax = plt.subplots()\n",
    "\n",
    "            # Plot figure\n",
    "            img = ax.imshow(count_subset, extent=[x_min-x_buffer, x_max+x_buffer, y_min-y_buffer, y_max+y_buffer], \n",
    "                origin='lower', cmap='viridis')\n",
    "\n",
    "            # Plot buffered polygons\n",
    "            gpd.GeoDataFrame(geometry=[search_extent_poly]).boundary.plot(ax=ax, edgecolor='r', facecolor='none', linewidth=2)\n",
    "            \n",
    "            # Overlay published active lake outlines for visual comparison and grounding line\n",
    "            S09_outlines.boundary.plot(ax=ax, edgecolor=S09_color, linestyle=(0, (1, 3)), linewidth=2)\n",
    "            SF18_outlines.boundary.plot(ax=ax, edgecolor=SF18_color, linestyle=(0, (1, 2)), linewidth=2)\n",
    "            static_lakes_gdf_postSF18.boundary.plot(ax=ax, edgecolor=static_lakes_gdf_postSF18_color, linestyle=(0, (1, 1)), linewidth=2)          \n",
    "            \n",
    "            # Change polar stereographic m to km\n",
    "            km_scale = 1e3\n",
    "            ticks_x = ticker.FuncFormatter(lambda x, pos: '{0:g}'.format(x/km_scale))\n",
    "            ax.xaxis.set_major_formatter(ticks_x)\n",
    "            ticks_y = ticker.FuncFormatter(lambda x, pos: '{0:g}'.format(x/km_scale))\n",
    "            ax.yaxis.set_major_formatter(ticks_y)  \n",
    "\n",
    "            # Label axes, set limits, and set title\n",
    "            ax.set_xlabel('x [km]', size=15)\n",
    "            ax.set_ylabel('y [km]', size=15) \n",
    "            ax.set(xlim=(x_min-x_buffer, x_max+x_buffer), ylim=(y_min-y_buffer, y_max+y_buffer))\n",
    "\n",
    "            # Plot inset map\n",
    "            axIns = ax.inset_axes([0.01, 0.01, 0.2, 0.2]) # [left, bottom, width, height] (fractional axes coordinates)\n",
    "            axIns.set_aspect('equal')\n",
    "            moa_2014_coastline.plot(ax=axIns, color='gray', edgecolor='k', linewidth=0.1, zorder=3)\n",
    "            moa_2014_groundingline.plot(ax=axIns, color='ghostwhite', edgecolor='k', linewidth=0.1, zorder=3)\n",
    "            axIns.axis('off')\n",
    "\n",
    "            # Plot red star to indicate location\n",
    "            axIns.scatter(((x_max+x_min)/2), ((y_max+y_min)/2), marker='*', \n",
    "                linewidth=1, edgecolor='k', facecolor='r', s=100, zorder=3)\n",
    "\n",
    "            # Add colorbar \n",
    "            divider = make_axes_locatable(ax)\n",
    "            cax = divider.append_axes('right', size='5%', pad=0.2)\n",
    "            fig.colorbar(img, cax=cax).set_label('data counts', size=15)\n",
    "\n",
    "            # Add legend\n",
    "            ax.legend([Smith2009, \n",
    "                       SiegfriedFricker2018, \n",
    "                       static_lakes_gdf_postSF18_line,\n",
    "                       search_extent_line                       \n",
    "                      ],\n",
    "                ['static outline (S09)', \n",
    "                 'static outline (SF18)', \n",
    "                 'other',\n",
    "                 'search extent'\n",
    "                ], \n",
    "                loc='upper center')\n",
    "            \n",
    "            # Set a title for the axes\n",
    "            ax.set_title('Data counts from from {} to {}'.format(cyc_start_dates[idx].astype('datetime64[D]').astype(str), cyc_end_dates[idx].astype('datetime64[D]').astype(str)))\n",
    "            \n",
    "            # Save and close fig\n",
    "            plt.savefig(OUTPUT_DIR + \n",
    "                '/plot_data_counts/{}/plot_data_counts_{}_{}-{}.png'\n",
    "                .format(lake_name, lake_name, cyc_start_dates[idx].astype('datetime64[D]').astype(str), cyc_end_dates[idx].astype('datetime64[D]').astype(str)), dpi=300, bbox_inches='tight')\n",
    "            plt.close()\n",
    "    print('Complete')\n",
    "        \n",
    "# # Example usage\n",
    "# plot_data_counts(lake_gdf=lake_gdf, dataset1=CS2_Smith2017, dataset2=ATL15_dh): "
   ]
  },
  {
   "cell_type": "code",
   "execution_count": 21,
   "id": "9970b6cb-b3b0-494c-b6c6-290679b5194d",
   "metadata": {
    "tags": []
   },
   "outputs": [],
   "source": [
    "def plot_height_changes(lake_gdf, dataset1, dataset2): \n",
    "    '''\n",
    "    Create planview plots of ice surface height changes (dh/dt)\n",
    "    \n",
    "    Inputs:\n",
    "    * lake_gdf: geodataframe of lake to be analyzed\n",
    "    * dataset1: dataset1 to be analyzed\n",
    "    * dataset2: dataset2 to be analyzed in conjunction with dataset1; currently configured to \n",
    "    splice CryoSat-2 and ICESat-2 eras\n",
    "    \n",
    "    Outputs: \n",
    "    * Sequence of planview delta height visuals of lake around surrounding area\n",
    "    '''\n",
    "    # Define lake name and polygon\n",
    "    lake_name = lake_gdf.name.values[0]\n",
    "    static_outline = lake_gdf.iloc[0].geometry\n",
    "    \n",
    "    # Create buffered polygons for various multiples of lake area to find which\n",
    "    # best emcompasses the height change signals at previously identified lakes\n",
    "    search_extent_poly = muliple_area_buffer(static_outline, 10)\n",
    "\n",
    "    # Establish x_min, x_max, y_min, y_max\n",
    "    # x_min, y_min, x_max, y_max = search_extent_poly.iloc[0].geometry.bounds\n",
    "    x_min, y_min, x_max, y_max = search_extent_poly.bounds\n",
    "    x_buffer = abs(x_max-x_min)*0.2\n",
    "    y_buffer = abs(y_max-y_min)*0.2\n",
    "    \n",
    "    # Subsetting datasets\n",
    "    mask_x = (dataset1.x >= x_min - x_buffer) & (dataset1.x <= x_max + x_buffer)\n",
    "    mask_y = (dataset1.y >= y_min - y_buffer) & (dataset1.y <= y_max + y_buffer)\n",
    "    dataset1_subset = dataset1.where(mask_x & mask_y, drop=True)\n",
    "    mask_x = (dataset2.x >= x_min - x_buffer) & (dataset2.x <= x_max + x_buffer)\n",
    "    mask_y = (dataset2.y >= y_min - y_buffer) & (dataset2.y <= y_max + y_buffer)\n",
    "    dataset2_subset = dataset2.where(mask_x & mask_y, drop=True)\n",
    "    \n",
    "    # Find magnitude of ice surface deformation in bounding box to create appropriate color map scale\n",
    "    # Create empty lists to store data\n",
    "    height_anom_pos = []\n",
    "    height_anom_neg = []\n",
    "    for idx in range(len(midcyc_dates)):\n",
    "        if idx <= 32:\n",
    "            dhdt_subset = dataset1_subset.delta_h[idx+1,:,:]-dataset1_subset.delta_h[idx,:,:]\n",
    "        elif idx > 32:\n",
    "            # Subtract 33 from idx to start over at index zero with new dataset\n",
    "            dhdt_subset = dataset2_subset.delta_h[(idx-33)+1,:,:]-dataset2_subset.delta_h[(idx-33),:,:]\n",
    "        if np.any(~np.isnan(dhdt_subset)):       \n",
    "            pos = np.nanmax(dhdt_subset)\n",
    "            neg = np.nanmin(dhdt_subset)\n",
    "            height_anom_pos += [pos]\n",
    "            height_anom_neg += [neg]\n",
    "    \n",
    "    # Store max pos/neg height anomalies from all cycles to create colorbar bounds later\n",
    "    max_height_anom_pos = max(height_anom_pos)\n",
    "    max_height_anom_neg = min(height_anom_neg)\n",
    "    \n",
    "    # Establish diverging colorbar\n",
    "    divnorm=colors.TwoSlopeNorm(vmin=max_height_anom_neg, vcenter=0., vmax=max_height_anom_pos)\n",
    "   \n",
    "    # Make output folders\n",
    "    create_folder(OUTPUT_DIR + '/{}'.format('plot_height_changes'))\n",
    "    create_folder(OUTPUT_DIR + '/plot_height_changes/{}'.format(lake_name))\n",
    "    print('Now creating/saving plots...')\n",
    "\n",
    "    # Create lines for legend\n",
    "    S09_color = 'paleturquoise'\n",
    "    SF18_color  = 'turquoise'\n",
    "    static_lakes_gdf_postSF18_color = 'darkturquoise'\n",
    "    # S09_line = plt.Line2D((0, 1), (0, 0), color=S09_color, linestyle=(0, (1, 3)), linewidth=2)\n",
    "    S09_line = plt.Line2D([], [], color=S09_color, linestyle=(0, (1, 3)), linewidth=2)\n",
    "    SF18_line = plt.Line2D((0, 1), (0, 0), color=SF18_color, linestyle=(0, (1, 2)), linewidth=2)\n",
    "    static_lakes_gdf_postSF18_line = plt.Line2D((0, 1), (0, 0), color=static_lakes_gdf_postSF18_color, linestyle=(0, (1, 1)), linewidth=2)\n",
    "    search_extent_line = plt.Line2D((0, 1), (0, 0), color='red', linestyle='solid', linewidth=2)\n",
    "\n",
    "    # Calculate cycle-to-cycle dHeight at each cycle of the spliced data sets\n",
    "    for idx in range(len(midcyc_dates)):\n",
    "        # For midcyc_dates indexes <= 32, use CryoSat-2 dataset for cycle-to-cycle dHeight\n",
    "        # This covers the CryoSat-2 era before ICESat-2 launch (2010-08-17 to 2018-08-17)\n",
    "        if idx <= 32:\n",
    "            dhdt_subset = dataset1_subset.delta_h[idx+1,:,:]-dataset1_subset.delta_h[idx,:,:]\n",
    "            # dhdt_subset.rio.write_crs(\"epsg:3031\", inplace=True)\n",
    "\n",
    "        # For midcyc_dates indexes > 32, use ICESat-2 dataset for cycle-to-cycle dHeight\n",
    "        # This covers the ICESat-2 era (2018-11-16 to most recently available data)\n",
    "        elif idx > 32:\n",
    "            # Subtract 33 from idx to reset idx to zero for new dataset\n",
    "            dhdt_subset = dataset2_subset.delta_h[(idx-33)+1,:,:]-dataset2_subset.delta_h[(idx-33),:,:]\n",
    "            # dhdt_subset.rio.write_crs(\"epsg:3031\", inplace=True)\n",
    "\n",
    "        # Only plot arrays that have data in them; some time slices have no data because no CryoSat-2 SARIn coverage\n",
    "        # Returns True if there is at least one non-NaN value in data_stacked, and False if all values are NaN\n",
    "        if np.any(~np.isnan(dhdt_subset)):\n",
    "            # Create fig, ax\n",
    "            fig, ax = plt.subplots()\n",
    "\n",
    "            # Plot figure\n",
    "            img = ax.imshow(dhdt_subset, extent=[x_min-x_buffer, x_max+x_buffer, y_min-y_buffer, y_max+y_buffer],\n",
    "                origin='lower', cmap='coolwarm_r', \n",
    "                norm=divnorm)\n",
    "\n",
    "            # Plot buffered polygons\n",
    "            gpd.GeoDataFrame(geometry=[search_extent_poly]).boundary.plot(ax=ax, edgecolor='red', facecolor='none', linewidth=2)\n",
    "            \n",
    "            # Overlay published active lake outlines for visual comparison and grounding line\n",
    "            S09_outlines.boundary.plot(ax=ax, edgecolor=S09_color, linestyle=(0, (1, 3)), linewidth=2)\n",
    "            SF18_outlines.boundary.plot(ax=ax, edgecolor=SF18_color, linestyle=(0, (1, 2)), linewidth=2)\n",
    "            static_lakes_gdf_postSF18.boundary.plot(ax=ax, edgecolor=static_lakes_gdf_postSF18_color, linestyle=(0, (1, 1)), linewidth=2)          \n",
    "            \n",
    "            # Change polar stereographic m to km\n",
    "            km_scale = 1e3\n",
    "            ticks_x = ticker.FuncFormatter(lambda x, pos: '{0:g}'.format(x/km_scale))\n",
    "            ax.xaxis.set_major_formatter(ticks_x)\n",
    "            ticks_y = ticker.FuncFormatter(lambda x, pos: '{0:g}'.format(x/km_scale))\n",
    "            ax.yaxis.set_major_formatter(ticks_y)  \n",
    "\n",
    "            # Label axes, set limits, and set title\n",
    "            ax.set_xlabel('x [km]', size=15)\n",
    "            ax.set_ylabel('y [km]', size=15) \n",
    "            ax.set(xlim=(x_min-x_buffer, x_max+x_buffer), ylim=(y_min-y_buffer, y_max+y_buffer))\n",
    "\n",
    "            # Plot inset map\n",
    "            axIns = ax.inset_axes([0.01, 0.01, 0.2, 0.2]) # [left, bottom, width, height] (fractional axes coordinates)\n",
    "            axIns.set_aspect('equal')\n",
    "            moa_2014_coastline.plot(ax=axIns, color='gray', edgecolor='k', linewidth=0.1, zorder=3)\n",
    "            moa_2014_groundingline.plot(ax=axIns, color='ghostwhite', edgecolor='k', linewidth=0.1, zorder=3)\n",
    "            axIns.axis('off')\n",
    "\n",
    "            # Plot red star to indicate location\n",
    "            axIns.scatter(((x_max+x_min)/2), ((y_max+y_min)/2), marker='*', \n",
    "                linewidth=1, edgecolor='k', facecolor='r', s=100, zorder=3)\n",
    "\n",
    "            # Add colorbar \n",
    "            divider = make_axes_locatable(ax)\n",
    "            cax = divider.append_axes('right', size='5%', pad=0.2)\n",
    "            fig.colorbar(img, cax=cax).set_label('height change (dh) [m]', size=15)\n",
    "\n",
    "            # Add legend\n",
    "            ax.legend([S09_line, \n",
    "                       SF18_line, \n",
    "                       static_lakes_gdf_postSF18_line,\n",
    "                       search_extent_line\n",
    "                      ],\n",
    "                ['static outline (S09)', \n",
    "                 'static outline (SF18)', \n",
    "                 'other',\n",
    "                 'search extent'\n",
    "                ], \n",
    "                loc='upper center')\n",
    "            \n",
    "            # Set a title for the axes\n",
    "            ax.set_title('Height change from from {} to {}'.format(cyc_start_dates[idx].astype('datetime64[D]').astype(str), cyc_end_dates[idx].astype('datetime64[D]').astype(str)))\n",
    "            \n",
    "            # Save and close fig\n",
    "            plt.savefig(OUTPUT_DIR + \n",
    "                '/plot_height_changes/{}/plot_height_changes_{}_{}-{}.png'\n",
    "                .format(lake_name, lake_name, cyc_start_dates[idx].astype('datetime64[D]').astype(str), cyc_end_dates[idx].astype('datetime64[D]').astype(str)), dpi=300, bbox_inches='tight')\n",
    "            plt.close()\n",
    "    print('Complete')\n",
    "        \n",
    "# # Example usage\n",
    "# plot_height_changes(lake_gdf=lake_gdf, dataset1=CS2_Smith2017, dataset2=ATL15_dh): "
   ]
  },
  {
   "cell_type": "code",
   "execution_count": 22,
   "id": "43829be4-1170-408c-b125-18d6087638d9",
   "metadata": {
    "tags": []
   },
   "outputs": [],
   "source": [
    "def find_evolving_outlines(lake_gdf, area_multiple_search_extent, level, dataset1, dataset2, plot=False): \n",
    "    '''\n",
    "    Create planview dh/dt plots of ice surface height changes \n",
    "    Create time-variable outlines using skimage contour to plot evolving outlines as polygons.\n",
    "    \n",
    "    Inputs:\n",
    "    * ROI_name: str of the region of interest for using in file name saving\n",
    "    * ROI_poly: list of polygon(s) that define evolving outline search extent\n",
    "    * level: vertical distance in meters to delineate ice surface deformation contour\n",
    "    * dataset1: dataset1 to be analyzed\n",
    "    * dataset2: dataset2 to be analyzed in conjunction with dataset1; currently configured to \n",
    "    splice CryoSat-2 and ICESat-2 eras\n",
    "    \n",
    "    Outputs: \n",
    "    * Sequence of planview delta height visuals of ICESat-2 ATL15 with variable ice surface \n",
    "    deformation contours plotted to delineate evolving lake boundaries.\n",
    "    * geopandas geodataframe of polygons created at each step (would need to modify to collect all polygons \n",
    "    at all time steps)\n",
    "    '''\n",
    "    # Define lake name and polygon\n",
    "    lake_name = lake_gdf['name']\n",
    "    lake_poly = lake_gdf['geometry']\n",
    "    buffered_poly = muliple_area_buffer(lake_poly, area_multiple_search_extent+1)\n",
    "\n",
    "    # Establish x_min, x_max, y_min, y_max\n",
    "    x_min, y_min, x_max, y_max = buffered_poly.bounds\n",
    "    x_buffer = abs(x_max-x_min)*0.2\n",
    "    y_buffer = abs(y_max-y_min)*0.2\n",
    "    \n",
    "    # Masking datasets\n",
    "    if dataset1 != 'none':\n",
    "        dataset1_buffered_poly_sub = dataset1.sel(x=slice(x_min, x_max), y=slice(y_min, y_max))\n",
    "        dataset1_mask = np.array([[buffered_poly.contains(Point(x, y)) for x in dataset1_buffered_poly_sub['x'].values] for y in dataset1_buffered_poly_sub['y'].values])\n",
    "        dataset1_mask_da = xr.DataArray(dataset1_mask, coords=[dataset1_buffered_poly_sub.y, dataset1_buffered_poly_sub.x], dims=[\"y\", \"x\"])\n",
    "        dataset1_dh_masked = dataset1['delta_h'].where(dataset1_mask_da, drop=True)\n",
    "    dataset2_buffered_poly_sub = dataset2.sel(x=slice(x_min, x_max), y=slice(y_min, y_max))\n",
    "    dataset2_mask = np.array([[buffered_poly.contains(Point(x, y)) for x in dataset2_buffered_poly_sub['x'].values] for y in dataset2_buffered_poly_sub['y'].values])\n",
    "    dataset2_mask_da = xr.DataArray(dataset2_mask, coords=[dataset2_buffered_poly_sub.y, dataset2_buffered_poly_sub.x], dims=[\"y\", \"x\"])\n",
    "    dataset2_dh_masked = dataset2['delta_h'].where(dataset2_mask_da, drop=True)\n",
    "    \n",
    "    # Only proceed with plotting if plot=True\n",
    "    if plot:\n",
    "        # Find magnitude of ice surface deformation in bounding box to create appropriate color map scale\n",
    "        # Create empty lists to store data\n",
    "        height_anom_pos = []\n",
    "        height_anom_neg = []\n",
    "        \n",
    "        for idx in range(len(midcyc_dates)-1):  # Less one because cycle-to-cycle differencing reduces length by one\n",
    "            if lake_gdf['CS2_SARIn_time_period'] == '2013.75-2018.75' and 20 <= idx <= 32:\n",
    "                continue  # Skip the rest of the loop for indexes 21-32 because this dataset has reduced number of time slices\n",
    "\n",
    "            if idx <= 32:\n",
    "                if dataset1 != 'none':\n",
    "                    dhdt_masked = dataset1_dh_masked[idx+1,:,:]-dataset1_dh_masked[idx,:,:]\n",
    "                else:\n",
    "                    continue\n",
    "            elif idx > 32:\n",
    "                # Subtract 33 from idx to start over at index zero with new dataset\n",
    "                dhdt_masked = dataset2_dh_masked[(idx-33)+1,:,:]-dataset2_dh_masked[(idx-33),:,:]\n",
    "            if np.any(~np.isnan(dhdt_masked)):       \n",
    "                pos = np.nanmax(dhdt_masked)\n",
    "                neg = np.nanmin(dhdt_masked)\n",
    "                height_anom_pos += [pos]\n",
    "                height_anom_neg += [neg]\n",
    "\n",
    "        # Store max pos/neg height anomalies from all cycles to create colorbar bounds later\n",
    "        max_height_anom_pos = max(height_anom_pos)\n",
    "        max_height_anom_neg = min(height_anom_neg)\n",
    "\n",
    "        # Establish diverging colorbar\n",
    "        divnorm=colors.TwoSlopeNorm(vmin=max_height_anom_neg, vcenter=0., vmax=max_height_anom_pos)\n",
    "\n",
    "        # Create lines for legend\n",
    "        S09_color = 'paleturquoise'\n",
    "        SF18_color  = 'turquoise'\n",
    "        static_lakes_gdf_postSF18_color = 'darkturquoise'\n",
    "        S09_line = plt.Line2D((0, 1), (0, 0), color=S09_color, linestyle=(0, (1, 3)), linewidth=2)\n",
    "        SF18_line = plt.Line2D((0, 1), (0, 0), color=SF18_color, linestyle=(0, (1, 2)), linewidth=2)\n",
    "        static_lakes_gdf_postSF18_line = plt.Line2D((0, 1), (0, 0), color=static_lakes_gdf_postSF18_color, linestyle=(0, (1, 1)), linewidth=2)\n",
    "        uplift = plt.Line2D((0, 1), (0, 0), color='mediumblue', linestyle=(0, (3, 5, 1, 5)), linewidth=2)\n",
    "        subsidence = plt.Line2D((0, 1), (0, 0), color='maroon', linestyle=(0, (3, 5, 1, 5, 1, 5)), linewidth=2)\n",
    "        search_extent_line = plt.Line2D((0, 1), (0, 0), color='red', linestyle='solid', linewidth=2)\n",
    "    \n",
    "    # Create empty list to store polygons, areas, dh's, dvol's and dates\n",
    "    polys = []\n",
    "    areas = []\n",
    "    dhs = []\n",
    "    dvols =[]\n",
    "    midcyc_datetimes = []\n",
    "\n",
    "    # Calculate cycle-to-cycle dHeight at each cycle of the spliced data sets\n",
    "    for idx in range(len(midcyc_dates)-1):  # Less one because cycle-to-cycle differencing reduces length by one\n",
    "        if lake_gdf['CS2_SARIn_time_period'] == '2013.75-2018.75' and 20 <= idx <= 32:\n",
    "            continue  # Skip the rest of the loop for indexes 21-32 because this dataset has reduced number of time slices\n",
    "        \n",
    "        # For midcyc_dates indexes <= 32, use CryoSat-2 dataset for cycle-to-cycle dHeight\n",
    "        # This covers the CryoSat-2 era before ICESat-2 launch (2010-08-17 to 2018-08-17)\n",
    "        if idx <= 32:\n",
    "            if dataset1 != 'none':\n",
    "                dhdt_masked = dataset1_dh_masked[idx+1,:,:]-dataset1_dh_masked[idx,:,:]\n",
    "                dhdt_masked.rio.write_crs(\"epsg:3031\", inplace=True)\n",
    "            else:\n",
    "                continue\n",
    "\n",
    "        # For midcyc_dates indexes > 32, use ICESat-2 dataset for cycle-to-cycle dHeight\n",
    "        # This covers the ICESat-2 era (2018-11-16 to most recently available data)\n",
    "        elif idx > 32:\n",
    "            # Subtract 33 from idx to start over at index zero with new dataset\n",
    "            dhdt_masked = dataset2_dh_masked[(idx-33)+1,:,:]-dataset2_dh_masked[(idx-33),:,:]\n",
    "            dhdt_masked.rio.write_crs(\"epsg:3031\", inplace=True)\n",
    "\n",
    "        # Create mapping conversion factor to map array location to polar stereographic x,y\n",
    "        x_conv = (x_max-x_min)/dhdt_masked.shape[1]\n",
    "        y_conv = (y_max-y_min)/dhdt_masked.shape[0]\n",
    "\n",
    "        # Only plot arrays that have data in them; some time slices have no data because no CryoSat-2 SARIn coverage\n",
    "        # Returns True if there is at least one non-NaN value in data_stacked, and False if all values are NaN\n",
    "        if np.any(~np.isnan(dhdt_masked)):\n",
    "            if plot:\n",
    "                # Create fig, ax\n",
    "                fig, ax = plt.subplots()\n",
    "\n",
    "                # Plot figure\n",
    "                img = ax.imshow(dhdt_masked, extent=[x_min, x_max, y_min, y_max], \n",
    "                    origin='lower', cmap='coolwarm_r', \n",
    "                    norm=divnorm)\n",
    "\n",
    "                # Plot the boundary of the evolving outline search extent\n",
    "                gpd.GeoSeries(buffered_poly).boundary.plot(ax=ax, color='red')\n",
    "\n",
    "            # Create empty lists to store contours \n",
    "            contours_pos = []\n",
    "            contours_neg = []\n",
    "\n",
    "            # Create contours at the positive and negative threshold \n",
    "            contour_pos = measure.find_contours(dhdt_masked.values, level)\n",
    "            # If at least one contour, add to list of contours\n",
    "            if len(contour_pos) > 0: \n",
    "                contours_pos += [contour_pos]\n",
    "            contour_neg = measure.find_contours(dhdt_masked.values, -level)\n",
    "            if len(contour_neg) > 0: \n",
    "                contours_neg += [contour_neg]\n",
    "\n",
    "            # Plot contours and make into polygons\n",
    "            for i in range(len(contours_pos)): \n",
    "                for j in range(len(contours_pos[i])):\n",
    "                    x = x_min+contours_pos[i][j][:,1]*x_conv\n",
    "                    y = y_min+contours_pos[i][j][:,0]*y_conv\n",
    "                    if plot:\n",
    "                        ax.plot(x, y, color='mediumblue', linestyle='dashdot', linewidth=1, label=level)\n",
    "\n",
    "                    # Make polygons from evolving outlines and store to list\n",
    "                    if len(contours_pos[i][j][:,1]) > 2: \n",
    "                        poly = Polygon(list(zip(x, y)))\n",
    "                        try:\n",
    "                            dhdt_poly = dhdt_masked.rio.clip([poly])   \n",
    "                            lon, lat = XY_TO_LL.transform(x,y)\n",
    "                            poly_area = abs(GEOD.polygon_area_perimeter(lon, lat)[0])\n",
    "                            if np.any(~np.isnan(dhdt_poly)):\n",
    "                                poly_dh = np.nanmean(dhdt_poly)\n",
    "                                poly_dvol = poly_dh*poly_area\n",
    "                                polys += [poly]\n",
    "                                areas += [poly_area]\n",
    "                                dhs += [poly_dh]\n",
    "                                dvols += [poly_dvol]\n",
    "                                midcyc_datetimes += [midcyc_dates[idx]]\n",
    "                        except NoDataInBounds:\n",
    "                            pass  # Skip to the next iteration\n",
    "                        except Exception as e:\n",
    "                            # Handle any other exceptions\n",
    "                            raise\n",
    "\n",
    "            for i in range(len(contours_neg)): \n",
    "                for j in range(len(contours_neg[i])):\n",
    "                    x = x_min+contours_neg[i][j][:,1]*x_conv\n",
    "                    y = y_min+contours_neg[i][j][:,0]*y_conv\n",
    "                    if plot:\n",
    "                        ax.plot(x, y, color='maroon', linestyle=(0, (3, 1, 1, 1)), linewidth=1, label=-level)\n",
    "\n",
    "                    if len(contours_neg[i][j][:,1]) > 2: \n",
    "                        poly = Polygon(list(zip(x, y)))\n",
    "                        try:\n",
    "                            dhdt_poly = dhdt_masked.rio.clip([poly]) \n",
    "                            lon, lat = XY_TO_LL.transform(x,y)\n",
    "                            poly_area = abs(GEOD.polygon_area_perimeter(lon, lat)[0])\n",
    "                            if np.any(~np.isnan(dhdt_poly)):\n",
    "                                poly_dh = np.nanmean(dhdt_poly)\n",
    "                                poly_dvol = poly_dh*poly_area\n",
    "                                polys += [poly]\n",
    "                                areas += [poly_area]\n",
    "                                dhs += [poly_dh]\n",
    "                                dvols += [poly_dvol]\n",
    "                                midcyc_datetimes += [midcyc_dates[idx]]\n",
    "                        except NoDataInBounds:\n",
    "                            pass  # Skip to the next iteration\n",
    "                        except Exception as e:\n",
    "                            # Handle any other exceptions\n",
    "                            raise\n",
    "\n",
    "            if plot:\n",
    "                # Overlay published active lake outlines for visual comparison and grounding line\n",
    "                S09_color = 'paleturquoise'\n",
    "                SF18_color  = 'turquoise'\n",
    "                static_lakes_gdf_postSF18_color = 'darkturquoise'\n",
    "                S09_outlines.boundary.plot(ax=ax, edgecolor=S09_color, linestyle=(0, (1, 3)), linewidth=2)\n",
    "                SF18_outlines.boundary.plot(ax=ax, edgecolor=SF18_color, linestyle=(0, (1, 2)), linewidth=2)\n",
    "                static_lakes_gdf_postSF18.boundary.plot(ax=ax, edgecolor=static_lakes_gdf_postSF18_color, linestyle=(0, (1, 1)), linewidth=2)          \n",
    "\n",
    "                # Change polar stereographic m to km\n",
    "                km_scale = 1e3\n",
    "                ticks_x = ticker.FuncFormatter(lambda x, pos: '{0:g}'.format(x/km_scale))\n",
    "                ax.xaxis.set_major_formatter(ticks_x)\n",
    "                ticks_y = ticker.FuncFormatter(lambda x, pos: '{0:g}'.format(x/km_scale))\n",
    "                ax.yaxis.set_major_formatter(ticks_y)  \n",
    "\n",
    "                # Label axes, set limits, and set title\n",
    "                ax.set_xlabel('x [km]', size=15)\n",
    "                ax.set_ylabel('y [km]', size=15) \n",
    "                ax.set(xlim=(x_min-x_buffer, x_max+x_buffer), ylim=(y_min-y_buffer, y_max+y_buffer))\n",
    "\n",
    "                # Plot inset map\n",
    "                axIns = ax.inset_axes([-0.01, 0.01, 0.3, 0.3]) # [left, bottom, width, height] (fractional axes coordinates)\n",
    "                axIns.set_aspect('equal')\n",
    "                moa_2014_coastline.plot(ax=axIns, color='gray', edgecolor='k', linewidth=0.1, zorder=3)\n",
    "                moa_2014_groundingline.plot(ax=axIns, color='ghostwhite', edgecolor='k', linewidth=0.1, zorder=3)\n",
    "                axIns.axis('off')\n",
    "\n",
    "                # # Plot black rectangle to indicate location\n",
    "                # rect = Rectangle((x_min, y_min), (x_max-x_min), (y_max-y_min), fill=False, linewidth=2, color='k', zorder=3)\n",
    "                # axIns.add_artist(rect)\n",
    "\n",
    "                # Plot red star to indicate location\n",
    "                axIns.scatter(((x_max+x_min)/2), ((y_max+y_min)/2), marker='*', \n",
    "                    linewidth=1, edgecolor='k', facecolor='r', s=100, zorder=3)\n",
    "\n",
    "                # Add colorbar \n",
    "                divider = make_axes_locatable(ax)\n",
    "                cax = divider.append_axes('right', size='5%', pad=0.2)\n",
    "                fig.colorbar(img, cax=cax).set_label('height change (dh) [m]', size=15)\n",
    "\n",
    "                # Add legend\n",
    "                ax.legend([S09_line, \n",
    "                           SF18_line, \n",
    "                           static_lakes_gdf_postSF18_line,\n",
    "                           uplift, \n",
    "                           subsidence,\n",
    "                           search_extent_line],\n",
    "                    ['static outline (S09)', \n",
    "                     'static outline (SF18)', \n",
    "                     'other',\n",
    "                     ('+ '+str(level)+' m uplift evolving outline'), \n",
    "                     ('– '+str(level)+' m subsidence evolving outline'),\n",
    "                     'search extent'], \n",
    "                    loc='upper left')\n",
    "\n",
    "                # Set a title for the axes\n",
    "                ax.set_title('Evolving outlines and height change \\nfrom from {} to {}'.format(cyc_start_dates[idx].astype('datetime64[D]').astype(str), cyc_end_dates[idx].astype('datetime64[D]').astype(str)))\n",
    "\n",
    "                # Save and close fig\n",
    "                plt.savefig(OUTPUT_DIR + \n",
    "                    '/find_evolving_outlines/{}/find_evolving_outlines_{}_{}x-search-extent_{}m-level_{}-{}.png'\n",
    "                    .format(lake_name, lake_name, area_multiple_search_extent, level, cyc_start_dates[idx].astype('datetime64[D]').astype(str), cyc_end_dates[idx].astype('datetime64[D]').astype(str)), dpi=300, bbox_inches='tight')\n",
    "                plt.close()\n",
    "\n",
    "    # Store optimal search extent and level information\n",
    "    area_multiple_search_extents = [area_multiple_search_extent for _ in range(len(polys))]\n",
    "    levels = [level for _ in range(len(polys))]\n",
    "\n",
    "    # Store polygons in geopandas geodataframe for further analysis\n",
    "    d = {'area_multiple_search_extent': area_multiple_search_extents,\n",
    "         'level': levels,\n",
    "         'geometry': polys, \n",
    "         'area (m^2)': areas, \n",
    "         'dh (m)': dhs, \n",
    "         'vol (m^3)': dvols,\n",
    "         'midcyc_datetime': midcyc_datetimes}\n",
    "    gdf = gpd.GeoDataFrame(d, crs=\"EPSG:3031\")\n",
    "\n",
    "    return gdf\n",
    "\n",
    "# # Example usage\n",
    "# outlines_gdf = find_evolving_outlines(lake_gdf=lake_gdf, area_multiple_search_extent=2, level=0.1, dataset1=dataset1, dataset2=dataset2, plot=False)"
   ]
  },
  {
   "cell_type": "code",
   "execution_count": 23,
   "id": "f1e7e3a8-2ea3-42a7-be7b-e6bd761e390a",
   "metadata": {},
   "outputs": [],
   "source": [
    "def find_search_extents_and_levels(static_lakes_gdf):\n",
    "    for idx, row in static_lakes_gdf.iterrows():\n",
    "\n",
    "        # Define starting level and search extents that will be explored\n",
    "        initial_level = 0.1\n",
    "        area_multiple_search_extents = range(2, 16)  # From 2 to 15 inclusive\n",
    "    \n",
    "        # Assign dataset; during CS2 era, assign based on SARIn coverage time period\n",
    "        if static_lakes_gdf['CS2_SARIn_time_period'][idx] == 'nan':\n",
    "            dataset1 = 'none'\n",
    "        elif static_lakes_gdf['CS2_SARIn_time_period'][idx] == '2013.75-2018.75':\n",
    "            dataset1=CS2_Smith2017.sel(time=slice(np.datetime64('2013-10-01T22:30:00.000000000'), None))\n",
    "        elif static_lakes_gdf['CS2_SARIn_time_period'][idx] == '2010.5-2018.75':\n",
    "            dataset1=CS2_Smith2017\n",
    "        dataset2=ATL15_dh\n",
    "\n",
    "        # Select lake\n",
    "        lake_gdf = static_lakes_gdf.loc[idx]\n",
    "        lake_name = lake_gdf['name']\n",
    "        print('Working on', lake_name)\n",
    "    \n",
    "        # Initialize DataFrame to store results\n",
    "        search_extents_levels_df = pd.DataFrame(columns=['area_multiple_search_extent', 'level'])\n",
    "    \n",
    "        for area_multiple_search_extent in area_multiple_search_extents:\n",
    "            level = initial_level  # Reset level for each new area_multiple_search_extent\n",
    "            within_fraction = 0.0  # Reset within_fraction for each new area_multiple_search_extent\n",
    "            level_increment = 0.05  # Initial level increment\n",
    "            within_fraction_target = 0.95\n",
    "    \n",
    "            while within_fraction < within_fraction_target and level <= 2.0:\n",
    "                # Find evolving outlines\n",
    "                outlines_gdf = find_evolving_outlines(lake_gdf=lake_gdf, \n",
    "                    area_multiple_search_extent=area_multiple_search_extent, level=level, \n",
    "                    dataset1=dataset1, dataset2=dataset2)\n",
    "    \n",
    "                # Define lake polygon and buffered geodataframe as before\n",
    "                # static_outline = lake_gdf.iloc[0].geometry\n",
    "                static_outline = lake_gdf['geometry']\n",
    "                buffered_static_outline = muliple_area_buffer(polygon=static_outline, \n",
    "                    area_multiple=area_multiple_search_extent)\n",
    "                buffered_lake_gdf = gpd.GeoDataFrame(geometry=gpd.GeoSeries([buffered_static_outline]), crs=3031)\n",
    "                \n",
    "                # Check which evolving outlines are within or overlap\n",
    "                within = gpd.sjoin(outlines_gdf, buffered_lake_gdf, predicate='within')\n",
    "                overlaps = gpd.sjoin(outlines_gdf, buffered_lake_gdf, predicate='overlaps')\n",
    "    \n",
    "                # Calculate within_fraction as before\n",
    "                if (len(within) + len(overlaps)) > 0:\n",
    "                    within_fraction = np.round((len(within) / (len(within) + len(overlaps))), 2)\n",
    "                else:\n",
    "                    print('No outlines found at this level')\n",
    "                    break\n",
    "    \n",
    "                print(f\"Extent: {area_multiple_search_extent}, Level: {level}, Within: {round(within_fraction*100)}%\")\n",
    "    \n",
    "                # Once within_fraction is greater specified percent,\n",
    "                if within_fraction >= 0.75:\n",
    "                    level_increment = 0.01  # Increase level increment\n",
    "    \n",
    "                # Once within_fraction is greater specified percent,\n",
    "                if within_fraction >= within_fraction_target:\n",
    "                    # Store the results in a new row and then concatenate into the results DataFrame only if within_fraction is > 90%\n",
    "                    new_row = pd.DataFrame({'area_multiple_search_extent': [area_multiple_search_extent], 'level': [level]})\n",
    "                    search_extents_levels_df = pd.concat([search_extents_levels_df, new_row], ignore_index=True)\n",
    "                    break  # Exit loop if condition is met\n",
    "    \n",
    "                level += level_increment\n",
    "                level = np.round(level, 2)\n",
    "    \n",
    "        # Store the DataFrame as geojson file for later use\n",
    "        search_extents_levels_df.to_csv('output/search_extents_levels/{}.csv'.format(lake_gdf['name'].values[0]), index=False)\n",
    "    \n",
    "        # Clear the output of each index\n",
    "        clear_output(wait=True)"
   ]
  },
  {
   "cell_type": "code",
   "execution_count": 24,
   "id": "1a2a38f2-79ca-47ee-9985-955794b370de",
   "metadata": {},
   "outputs": [],
   "source": [
    "def finalize_evolving_outlines(static_lakes_gdf):\n",
    "    for idx, row in static_lakes_gdf.iterrows():   \n",
    "        # Select lake\n",
    "        lake_gdf = static_lakes_gdf.loc[idx]\n",
    "        lake_name = lake_gdf['name']\n",
    "        print('Working on', lake_name)\n",
    "    \n",
    "        # Select dataframe the row with the minimum level to capture the most signal\n",
    "        # If there are multiple rows with the same minimum level, select the row with \n",
    "        # the smaller area_multiple_search_extent\n",
    "        \n",
    "        # Load in search extents and levels dataframe and see if it is empty\n",
    "        search_extents_levels_df = pd.read_csv('output/search_extents_levels/{}.csv'.format(lake_name))\n",
    "        if search_extents_levels_df.empty:\n",
    "            # Write a text file indicating no evolving outlines\n",
    "            with open('output/lake_outlines/evolving_outlines/{}.txt'.format(lake_name), 'w') as f:\n",
    "                f.write(\"There are no evolving outlines for this lake.\")\n",
    "            continue\n",
    "\n",
    "        # Sort the DataFrame first by 'Resulting_Level' and then by 'area_multiple_search_extent', \n",
    "        # both in ascending order\n",
    "        sorted_df = search_extents_levels_df.sort_values(by=['level', 'area_multiple_search_extent'], \n",
    "            ascending=[True, True])\n",
    "        \n",
    "        # Select the first row of the sorted DataFrame\n",
    "        selected_row = sorted_df.iloc[0]\n",
    "        \n",
    "        # Display the selected row\n",
    "        print(selected_row)\n",
    "    \n",
    "        # Assign dataset; during CS2 era, assign based on SARIn coverage time period\n",
    "        if static_lakes_gdf_filtered['CS2_SARIn_time_period'][idx] == 'nan':\n",
    "            dataset1='none'\n",
    "        elif static_lakes_gdf_filtered['CS2_SARIn_time_period'][idx] == '2013.75-2018.75':\n",
    "            dataset1=CS2_Smith2017.sel(time=slice(np.datetime64('2013-10-01T22:30:00.000000000'), None))\n",
    "        elif static_lakes_gdf_filtered['CS2_SARIn_time_period'][idx] == '2010.5-2018.75':\n",
    "            dataset1=CS2_Smith2017\n",
    "        dataset2=ATL15_dh\n",
    "        \n",
    "        # Repeat with the selected level (first make output folders)\n",
    "        create_folder(OUTPUT_DIR + '/{}'.format('find_evolving_outlines'))\n",
    "        create_folder(OUTPUT_DIR + '/find_evolving_outlines/{}'.format(lake_name))\n",
    "        outlines_gdf = find_evolving_outlines(lake_gdf=lake_gdf, \n",
    "            area_multiple_search_extent=selected_row['area_multiple_search_extent'],\n",
    "            level=selected_row['level'], dataset1=dataset1, dataset2=dataset2, plot=True)\n",
    "       \n",
    "        # Clean up outlines by just looking at those intersecting with original static lake outline or evolving outlines that do so\n",
    "        filtered_gdf = extract_intersecting_polygons(outlines_gdf, lake_gdf['geometry'])\n",
    "        \n",
    "        # Plot and save fig of evolving outlines\n",
    "        create_folder(OUTPUT_DIR + '/{}'.format('plot_evolving_outlines'))\n",
    "        plot_evolving_outlines(lake_gdf=lake_gdf, outlines_gdf=filtered_gdf)\n",
    "            \n",
    "        # Ensure there are outlines in filtered_gdf\n",
    "        if not filtered_gdf.empty:\n",
    "            # Export evolving outlines GeoDataFrame to GeoJSON\n",
    "            filtered_gdf.to_file(filename='output/lake_outlines/evolving_outlines/{}.geojson'.format(lake_name), driver='GeoJSON')\n",
    "        elif filtered_gdf.empty:\n",
    "            # Write a text file indicating no evolving outlines\n",
    "            with open('output/lake_outlines/evolving_outlines/{}.txt'.format(lake_name), 'w') as f:\n",
    "                f.write(\"There are no evolving outlines for this lake.\")\n",
    "            # Otherwise move onto next lake\n",
    "        \n",
    "        # Clear the output of each index\n",
    "        clear_output(wait=True)"
   ]
  },
  {
   "cell_type": "code",
   "execution_count": 25,
   "id": "34cb4a1a-e0a2-4393-8fa8-5071f0d79863",
   "metadata": {
    "tags": []
   },
   "outputs": [],
   "source": [
    "# def extract_intersecting_polygons(outlines_gdf, polygon):\n",
    "#     \"\"\"\n",
    "#     Extract polygons from a GeoDataFrame that intersect with a specified polygon,\n",
    "#     as well as polygons that intersect with those intersected polygons.\n",
    "\n",
    "#     Parameters:\n",
    "#     outlines_gdf (geopandas.GeoDataFrame): A GeoDataFrame containing polygon geometries (here evolving outlines).\n",
    "#     polygon (shapely.Polygon): A shapely polygon\n",
    "\n",
    "#     Returns:\n",
    "#     geopandas.GeoDataFrame: A GeoDataFrame containing the polygons that either\n",
    "#                             intersect directly with the input polygon or intersect with\n",
    "#                             polygons that intersect with the initial polygon.\n",
    "#     \"\"\"\n",
    "#     # Step 0: Ensure there are outlines in outines_gdf and deal with invalid polygon\n",
    "#     if outlines_gdf.empty:\n",
    "#         print('There are no evolving outlines in geodataframe.')\n",
    "#         pass\n",
    "        \n",
    "#     # Attempt to make polygon valid if it's invalid\n",
    "#     if not polygon.is_valid:\n",
    "#         polygon = polygon.buffer(0)\n",
    "#         # raise ValueError(\"Input polygon is invalid and will be excluded.\")\n",
    "\n",
    "#     # Exclude invalid geometries in the GeoDataFrame before processing\n",
    "#     valid_gdf = outlines_gdf[outlines_gdf['geometry'].is_valid]\n",
    "    \n",
    "#     # Step 1: Find polygons that intersect with the given polygon\n",
    "#     directly_intersecting = valid_gdf[valid_gdf.intersects(polygon)]\n",
    "    \n",
    "#     if directly_intersecting.empty:\n",
    "#         # If no directly intersecting polygons, return an empty GeoDataFrame\n",
    "#         return gpd.GeoDataFrame(columns=valid_gdf.columns, geometry='geometry')\n",
    "\n",
    "#     # Step 2: Find polygons that intersect with the polygons found in Step 1\n",
    "#     # We use 'unary_union' to merge all polygons found in Step 1 into a single geometry\n",
    "#     # Then we select polygons from the original GeoDataFrame that intersect with this merged geometry\n",
    "#     indirectly_intersecting = valid_gdf[valid_gdf.intersects(directly_intersecting.unary_union)]\n",
    "\n",
    "#     # Step 3: Find polygons that intersect with the polygons found in Step 1\n",
    "#     # We use 'unary_union' to merge all polygons found in Step 1 into a single geometry\n",
    "#     # Then we select polygons from the original GeoDataFrame that intersect with this merged geometry\n",
    "#     second_indirectly_intersecting = valid_gdf[valid_gdf.intersects(indirectly_intersecting.unary_union)]\n",
    "\n",
    "#     # Combine both directly and indirectly intersecting polygons to ensure no duplicates\n",
    "#     result_gdf = gpd.GeoDataFrame(pd.concat([directly_intersecting, indirectly_intersecting, second_indirectly_intersecting], ignore_index=True).drop_duplicates(subset='geometry'))\n",
    "\n",
    "#     return result_gdf"
   ]
  },
  {
   "cell_type": "code",
   "execution_count": 26,
   "id": "63031188-089e-4870-897e-d13483ecbf2d",
   "metadata": {
    "tags": []
   },
   "outputs": [],
   "source": [
    "def extract_intersecting_polygons_recursive(outlines_gdf, polygon, already_found=None):\n",
    "    \"\"\"\n",
    "    Recursively extract polygons from a GeoDataFrame that intersect with a specified polygon\n",
    "    and any polygons found in previous recursive calls.\n",
    "\n",
    "    Parameters:\n",
    "    outlines_gdf (geopandas.GeoDataFrame): A GeoDataFrame containing polygon geometries.\n",
    "    polygon (shapely.geometry.Polygon): A shapely polygon.\n",
    "    already_found (geopandas.GeoDataFrame): Polygons found in previous iterations.\n",
    "\n",
    "    Returns:\n",
    "    geopandas.GeoDataFrame: A GeoDataFrame containing all polygons that either directly or indirectly\n",
    "                            intersect with the input polygon through multiple iterations.\n",
    "    \"\"\"\n",
    "    # Initialize 'already_found' if it's the first recursive call\n",
    "    if already_found is None:\n",
    "        already_found = gpd.GeoDataFrame(columns=outlines_gdf.columns, geometry='geometry')\n",
    "\n",
    "    # Ensure the polygon is valid\n",
    "    if not polygon.is_valid:\n",
    "        polygon = polygon.buffer(0)\n",
    "\n",
    "    # Filter for valid geometries\n",
    "    valid_gdf = outlines_gdf[outlines_gdf['geometry'].is_valid]\n",
    "\n",
    "    # Find polygons that intersect with the specified polygon\n",
    "    directly_intersecting = valid_gdf[valid_gdf.intersects(polygon)]\n",
    "\n",
    "    if directly_intersecting.empty:\n",
    "        return already_found\n",
    "\n",
    "    # Combine new findings with already found polygons\n",
    "    new_findings = gpd.GeoDataFrame(pd.concat([already_found, directly_intersecting], ignore_index=True).drop_duplicates(subset='geometry'))\n",
    "\n",
    "    # Find if there are any newly added polygons in this iteration\n",
    "    if new_findings.shape[0] == already_found.shape[0]:\n",
    "        # No new polygons were found in this iteration, stop recursion\n",
    "        return already_found\n",
    "    else:\n",
    "        # Prepare the next recursive call with all new polygons found until now\n",
    "        all_intersected_union = new_findings.unary_union\n",
    "        return extract_intersecting_polygons_recursive(outlines_gdf, all_intersected_union, new_findings)\n",
    "\n",
    "# Usage example:\n",
    "# result = extract_intersecting_polygons_recursive(outlines_gdf, some_polygon)"
   ]
  },
  {
   "cell_type": "code",
   "execution_count": 27,
   "id": "289e6700-cfc7-49c9-9643-925794b574d3",
   "metadata": {
    "tags": []
   },
   "outputs": [],
   "source": [
    "# Simplify to just one color/line for past static outline\n",
    "def plot_evolving_outlines(lake_gdf):\n",
    "    '''\n",
    "    Func to plot evolving outlines in aggregate\n",
    "    '''\n",
    "    # Define lake name and polygon\n",
    "    lake_name = lake_gdf['name']\n",
    "    static_outline = lake_gdf['geometry']\n",
    "\n",
    "    # Open static outline(s) and evolving outlines and geometric calculation comparison geodataframes for plotting\n",
    "    try:\n",
    "        evolving_outlines_gdf = gpd.read_file(os.path.join(\n",
    "            os.getcwd(), 'output/lake_outlines/evolving_outlines/{}.geojson'.format(lake_name)))\n",
    "    except fiona.errors.DriverError:\n",
    "        print(f\"File for {lake_name} not found. Skipping...\")\n",
    "        return  # Skip the rest of the function if the file doesn't exist\n",
    "    \n",
    "    # Attempt to open the geometric calculations CSV file\n",
    "    try:\n",
    "        geom_calcs_df = pd.read_csv(os.path.join(\n",
    "            os.getcwd(), 'output/lake_outlines/compare_evolving_and_static_outlines/{}.csv'.format(lake_name)))\n",
    "    except FileNotFoundError:\n",
    "        print(f\"CSV file for {lake_name} not found. Skipping...\")\n",
    "        return  # Skip the rest of the function if the file doesn't exist\n",
    "\n",
    "    # Create buffered polygon for area multiple search extent\n",
    "    search_extent_buffered_static_outline = muliple_area_buffer(static_outline, int(outlines_gdf['area_multiple_search_extent'][0]))\n",
    "\n",
    "    # Create fig, ax\n",
    "    fig, ax = plt.subplots(figsize=(5,5))\n",
    "    \n",
    "    # Plot buffered polygons\n",
    "    gpd.GeoDataFrame(geometry=[search_extent_buffered_static_outline]).boundary.plot(ax=ax, edgecolor='red', facecolor='none', linewidth=1)\n",
    "\n",
    "    # Set colormap and normalize to date values\n",
    "    cmap = plt.get_cmap('plasma', len(midcyc_dates)-1)\n",
    "    norm = plt.Normalize(datetime64_to_fractional_year(midcyc_dates[0]), datetime64_to_fractional_year(midcyc_dates[-1]))\n",
    "    m = plt.cm.ScalarMappable(cmap=cmap)\n",
    "    m.set_array(np.array([datetime64_to_fractional_year(date) for date in midcyc_dates[0:-1]]))\n",
    "    divider = make_axes_locatable(ax)\n",
    "    cax = divider.append_axes('bottom', size='2.5%', pad=0.5)\n",
    "    fig.colorbar(m, cax=cax, orientation='horizontal').set_label('evolving outline year', size=10)\n",
    "\n",
    "    # Overlay published active lake outlines for visual comparison and grounding line\n",
    "    S09_color = 'paleturquoise'\n",
    "    SF18_color  = 'turquoise'\n",
    "    static_lakes_gdf_postSF18_color = 'darkturquoise'\n",
    "    S09_outlines.boundary.plot(ax=ax, facecolor=S09_color, linestyle=(0, (1, 3)), linewidth=2, alpha=0.25)\n",
    "    S09_outlines.boundary.plot(ax=ax, edgecolor=S09_color, linestyle=(0, (1, 3)), linewidth=2)\n",
    "    SF18_outlines.boundary.plot(ax=ax, facecolor=SF18_color, linestyle=(0, (1, 2)), linewidth=2, alpha=0.25)\n",
    "    SF18_outlines.boundary.plot(ax=ax, edgecolor=SF18_color, linestyle=(0, (1, 2)), linewidth=2)\n",
    "    static_lakes_gdf_postSF18.boundary.plot(ax=ax, facecolor=static_lakes_gdf_postSF18_color, linestyle=(0, (1, 1)), linewidth=2, alpha=0.25)\n",
    "    static_lakes_gdf_postSF18.boundary.plot(ax=ax, edgecolor=static_lakes_gdf_postSF18_color, linestyle=(0, (1, 1)), linewidth=2)\n",
    "\n",
    "    # Use for loop to plot each outline in the geopandas dataframe and color by date\n",
    "    lines = []  # list of lines to be used for the legend\n",
    "    for idx, dt in enumerate(midcyc_dates):\n",
    "        x = 1; y = 1\n",
    "        line, = ax.plot(x, y, color=cmap(norm(datetime64_to_fractional_year(midcyc_dates[idx]))), linewidth=2)\n",
    "        lines.append(line)\n",
    "        # Filter GeoDataFrame for the current date\n",
    "        current_outlines = outlines_gdf[outlines_gdf['midcyc_datetime'] == dt]\n",
    "        # Check if the filtered GeoSeries is empty\n",
    "        if not current_outlines.empty:\n",
    "            current_outlines.boundary.plot(ax=ax, \n",
    "                color=cmap(norm(datetime64_to_fractional_year(midcyc_dates[idx]))), linewidth=1)\n",
    "\n",
    "    # Change polar stereographic m to km for cleaner-looking axes labels\n",
    "    km_scale = 1e3\n",
    "    ticks_x = ticker.FuncFormatter(lambda x, pos: '{0:g}'.format(x/km_scale))\n",
    "    ax.xaxis.set_major_formatter(ticks_x)\n",
    "    ticks_y = ticker.FuncFormatter(lambda x, pos: '{0:g}'.format(x/km_scale))\n",
    "    ax.yaxis.set_major_formatter(ticks_y)\n",
    "    ax.set_aspect('equal')\n",
    "\n",
    "    # Label axes and set limits\n",
    "    ax.set_xlabel('x [km]', size=10)\n",
    "    ax.set_ylabel('y [km]', size=10)\n",
    "    \n",
    "    # Extract x_min, y_min, x_max, y_max from the total_bounds attribute\n",
    "    x_min, y_min, x_max, y_max = search_extent_buffered_static_outline.bounds\n",
    "    x_buffer = abs(x_max-x_min)*0.2\n",
    "    y_buffer = abs(y_max-y_min)*0.2\n",
    "    ax.set(xlim=(x_min-x_buffer, x_max+x_buffer), ylim=(y_min-y_buffer, y_max+y_buffer))\n",
    "\n",
    "    # Create lines for legend\n",
    "    S09_color = 'paleturquoise'\n",
    "    SF18_color  = 'turquoise'\n",
    "    static_lakes_gdf_postSF18_color = 'darkturquoise'\n",
    "    S09_line = plt.Line2D((0, 1), (0, 0), color=S09_color, linestyle=(0, (1, 3)), linewidth=2)\n",
    "    SF18_line = plt.Line2D((0, 1), (0, 0), color=SF18_color, linestyle=(0, (1, 2)), linewidth=2)\n",
    "    static_lakes_gdf_postSF18_line = plt.Line2D((0, 1), (0, 0), color=static_lakes_gdf_postSF18_color, linestyle=(0, (1, 1)), linewidth=2)\n",
    "    search_extent = plt.Line2D((0, 1), (0, 0), color='red', linestyle='solid', linewidth=2)\n",
    "    \n",
    "    # Create legend\n",
    "    ax.legend(handles=[S09_line, \n",
    "        SF18_line,\n",
    "        static_lakes_gdf_postSF18_line,\n",
    "        tuple(lines),\n",
    "        search_extent], \n",
    "        labels=['static outline (Smith and others, 2009)',\n",
    "            'static outline (Siegfried & Fricker, 2018)', \n",
    "            'other',\n",
    "            'evolving outline (this study)',\n",
    "            'search extent'], \n",
    "              handlelength=3, handler_map={tuple: HandlerTuple(ndivide=None, pad=0)},\n",
    "             loc='upper left', bbox_to_anchor=(0, 1.35))\n",
    "\n",
    "    # Plot inset map to show location \n",
    "    axIns = ax.inset_axes([0.02, 0.01, 0.25, 0.25]) # [left, bottom, width, height] (fractional axes coordinates)\n",
    "    axIns.set_aspect('equal')\n",
    "    moa_2014_coastline.plot(ax=axIns, color='gray', edgecolor='k', linewidth=0.1, zorder=3)\n",
    "    moa_2014_groundingline.plot(ax=axIns, color='ghostwhite', edgecolor='k', linewidth=0.1, zorder=3)\n",
    "    axIns.scatter(((x_max+x_min)/2), ((y_max+y_min)/2), marker='*', linewidth=1, edgecolor='k', facecolor='r', s=50, zorder=3)\n",
    "    # rect = Rectangle((x_min, y_min), (x_max-x_min), (y_max-y_min), fill=False, linewidth=2, color='k', zorder=3)\n",
    "    # axIns.add_artist(rect) \n",
    "    axIns.axis('off')\n",
    "\n",
    "    plt.savefig(OUTPUT_DIR + '/plot_evolving_outlines/plot_evolving_outlines_{}_{}x-search-extent_{}m-level.png'\n",
    "        .format(lake_name, outlines_gdf['area_multiple_search_extent'][0], outlines_gdf['level'][0]),\n",
    "                dpi=300, bbox_inches='tight')\n",
    "    \n",
    "    plt.close()"
   ]
  },
  {
   "cell_type": "code",
   "execution_count": 28,
   "id": "09a64b8c-09ac-424f-a6ed-225e5ff60791",
   "metadata": {
    "tags": []
   },
   "outputs": [],
   "source": [
    "# def remove_outlier_polygon(gdf, axis='x', max_or_min='max'):\n",
    "#     '''\n",
    "#     Func to remove outline outliers by removing a polygon\n",
    "#     with the most extreme x or y coordinates\n",
    "    \n",
    "#     Inputs\n",
    "#     * geopandas geodataframe\n",
    "#     * axis indicates whether the x or y axis will \n",
    "#     have its extreme polygon removed\n",
    "#     * max_or_min indicates whether the max or min centroid axis\n",
    "#     value will be removed\n",
    "    \n",
    "#     Ouputs\n",
    "#     * geopandas geodataframe with one outline removed\n",
    "#     '''\n",
    "    \n",
    "#     # Check if the GeoDataFrame is empty\n",
    "#     if gdf.empty:\n",
    "#         print(\"GeoDataFrame is empty. Nothing to remove.\")\n",
    "#         return gdf\n",
    "    \n",
    "#     # Choose the axis and max or min for extreme value\n",
    "#     if axis not in ['x', 'y']:\n",
    "#         raise ValueError(\"Invalid axis. Use 'x' or 'y'.\")\n",
    "#     if max_or_min not in ['max', 'min']:\n",
    "#         raise ValueError(\"Invalid max_or_min. Use 'max' or 'min'.\")\n",
    "\n",
    "#     # Calculate the centroid and extreme value\n",
    "#     if axis == 'x':\n",
    "#         if max_or_min == 'max':\n",
    "#             idx_to_remove = gdf.geometry.bounds['maxx'].idxmax()\n",
    "#         else:\n",
    "#             idx_to_remove = gdf.geometry.bounds['minx'].idxmin()\n",
    "#     else:\n",
    "#         if max_or_min == 'max':\n",
    "#             idx_to_remove = gdf.geometry.bounds['maxy'].idxmax()\n",
    "#         else:\n",
    "#             idx_to_remove = gdf.geometry.bounds['miny'].idxmin()\n",
    "\n",
    "#     # Remove the polygon with the specified polygon index to remove\n",
    "#     gdf_filtered = gdf.drop(idx_to_remove)\n",
    "\n",
    "#     print(f\"Removed polygon with extreme {max_or_min} {axis}-value at index {idx_to_remove}.\")\n",
    "\n",
    "#     return gdf_filtered\n",
    "\n",
    "# # Example usage:\n",
    "# # Assuming 'gdf' is your GeoDataFrame\n",
    "# # new_gdf = remove_extreme_polygon(gdf, axis='x', positive=True)"
   ]
  },
  {
   "cell_type": "code",
   "execution_count": 29,
   "id": "e38cbfea-ab55-48ad-83fe-719a5885ba5e",
   "metadata": {},
   "outputs": [],
   "source": [
    "def compare_evolving_and_static_outlines(lake_gdf, dataset1, dataset2): \n",
    "    '''\n",
    "    Create geodataframe of dArea, dHeight, dVol calculations for static compared evolving outlines\n",
    "    '''\n",
    "    # Define lake name and polygon and buffered polygon to use as off-lake region\n",
    "    lake_name = lake_gdf['name'].iloc[0]\n",
    "\n",
    "    # Open evolving outlines geodataframe\n",
    "    try:\n",
    "        evolving_outlines_gdf = gpd.read_file(os.path.join(\n",
    "            os.getcwd(), 'output/lake_outlines/evolving_outlines/{}.geojson'.format(lake_name)))\n",
    "    except fiona.errors.DriverError:\n",
    "        print(f\"File for {lake_name} not found. Skipping...\")\n",
    "        return  # Skip the rest of the function if the file doesn't exist\n",
    "    \n",
    "    # Ensure there are outlines in outines_gdf and deal with invalid polygon\n",
    "    if evolving_outlines_gdf.empty:\n",
    "        print('There are no evolving outlines in geodataframe.')\n",
    "        return  # Exit the function immediately if evolving_outlines_gdf is empty\n",
    "\n",
    "    # Define region of interest for slicing from evolving and static outlines\n",
    "    evolving_outlines_unary_union = evolving_outlines_gdf.unary_union\n",
    "    evolving_outlines_unary_union_buffered = muliple_area_buffer(evolving_outlines_unary_union, 2)\n",
    "    static_outline = lake_gdf['geometry'].iloc[0]\n",
    "    static_outline_buffered = muliple_area_buffer(static_outline, 2)   \n",
    "\n",
    "    # Combine static outline with evolving outlines from outlines_gdf\n",
    "    combined_outline = unary_union([static_outline] + list(evolving_outlines_gdf.geometry))\n",
    "\n",
    "    # Establish x_min, x_max, y_min, y_max from the combined outline\n",
    "    x_min, y_min, x_max, y_max = combined_outline.bounds\n",
    "    del combined_outline\n",
    "    \n",
    "    # Clipping datasets\n",
    "    if dataset1 != 'none':\n",
    "        # Create and apply the mask to dataset variable\n",
    "        dataset1_combined_outline_sub = dataset1.sel(x=slice(x_min, x_max), y=slice(y_min, y_max))\n",
    "        dataset1_static_outline_mask = np.array([[static_outline.contains(Point(x, y)) for x in dataset1_combined_outline_sub['x'].values] for y in dataset1_combined_outline_sub['y'].values])\n",
    "        dataset1_static_outline_mask_da = xr.DataArray(dataset1_static_outline_mask, coords=[dataset1_combined_outline_sub.y, dataset1_combined_outline_sub.x], dims=[\"y\", \"x\"])\n",
    "        dataset1_static_outline_masked_data = dataset1['delta_h'].where(dataset1_static_outline_mask_da, drop=True)\n",
    "\n",
    "        dataset1_static_outline_buffered_mask = np.array([[static_outline_buffered.contains(Point(x, y)) for x in dataset1_combined_outline_sub['x'].values] for y in dataset1_combined_outline_sub['y'].values])\n",
    "        dataset1_static_region_mask = dataset1_static_outline_buffered_mask & ~dataset1_static_outline_mask\n",
    "        dataset1_static_region_mask_da = xr.DataArray(dataset1_static_region_mask, coords=[dataset1_combined_outline_sub.y, dataset1_combined_outline_sub.x], dims=[\"y\", \"x\"])\n",
    "        dataset1_static_region_masked_data = dataset1['delta_h'].where(dataset1_static_region_mask_da, drop=True)\n",
    "\n",
    "        dataset1_evolving_outlines_unary_union_buffered_mask = np.array([[evolving_outlines_unary_union_buffered.contains(Point(x, y)) for x in dataset1_combined_outline_sub['x'].values] for y in dataset1_combined_outline_sub['y'].values])\n",
    "        dataset1_evolving_outlines_unary_union_mask = np.array([[evolving_outlines_unary_union.contains(Point(x, y)) for x in dataset1_combined_outline_sub['x'].values] for y in dataset1_combined_outline_sub['y'].values])\n",
    "        dataset1_evolving_outlines_region_mask = dataset1_evolving_outlines_unary_union_buffered_mask & ~dataset1_evolving_outlines_unary_union_mask\n",
    "        dataset1_evolving_outlines_region_mask_da = xr.DataArray(dataset1_evolving_outlines_region_mask, coords=[dataset1_combined_outline_sub.y, dataset1_combined_outline_sub.x], dims=[\"y\", \"x\"])\n",
    "        dataset1_evolving_outlines_region_masked_data = dataset1_combined_outline_sub['delta_h'].where(dataset1_evolving_outlines_region_mask_da, drop=True)\n",
    "    else:\n",
    "        pass\n",
    "\n",
    "    # Do same for dataset2\n",
    "    dataset2_combined_outline_sub = dataset2.sel(x=slice(x_min, x_max), y=slice(y_min, y_max))\n",
    "    dataset2_static_outline_mask = np.array([[static_outline.contains(Point(x, y)) for x in dataset2_combined_outline_sub['x'].values] for y in dataset2_combined_outline_sub['y'].values])\n",
    "    dataset2_static_outline_mask_da = xr.DataArray(dataset2_static_outline_mask, coords=[dataset2_combined_outline_sub.y, dataset2_combined_outline_sub.x], dims=[\"y\", \"x\"])\n",
    "    dataset2_static_outline_masked_data = dataset2['delta_h'].where(dataset2_static_outline_mask_da, drop=True)\n",
    "\n",
    "    dataset2_static_outline_buffered_mask = np.array([[static_outline_buffered.contains(Point(x, y)) for x in dataset2_combined_outline_sub['x'].values] for y in dataset2_combined_outline_sub['y'].values])\n",
    "    dataset2_static_region_mask = dataset2_static_outline_buffered_mask & ~dataset2_static_outline_mask\n",
    "    dataset2_static_region_mask_da = xr.DataArray(dataset2_static_region_mask, coords=[dataset2_combined_outline_sub.y, dataset2_combined_outline_sub.x], dims=[\"y\", \"x\"])\n",
    "    dataset2_static_region_masked_data = dataset2['delta_h'].where(dataset2_static_region_mask_da, drop=True)\n",
    "\n",
    "    dataset2_evolving_outlines_unary_union_buffered_mask = np.array([[evolving_outlines_unary_union_buffered.contains(Point(x, y)) for x in dataset2_combined_outline_sub['x'].values] for y in dataset2_combined_outline_sub['y'].values])\n",
    "    dataset2_evolving_outlines_unary_union_mask = np.array([[evolving_outlines_unary_union.contains(Point(x, y)) for x in dataset2_combined_outline_sub['x'].values] for y in dataset2_combined_outline_sub['y'].values])\n",
    "    dataset2_evolving_outlines_region_mask = dataset2_evolving_outlines_unary_union_buffered_mask & ~dataset2_evolving_outlines_unary_union_mask\n",
    "    dataset2_evolving_outlines_region_mask_da = xr.DataArray(dataset2_evolving_outlines_region_mask, coords=[dataset2_combined_outline_sub.y, dataset2_combined_outline_sub.x], dims=[\"y\", \"x\"])\n",
    "    dataset2_evolving_outlines_region_masked_data = dataset2_combined_outline_sub['delta_h'].where(dataset2_evolving_outlines_region_mask_da, drop=True)\n",
    "\n",
    "    # Create empty list to store polygons, areas, perimeters and dates\n",
    "    static_outline_dhs = []\n",
    "    static_outline_region_dhs = []\n",
    "    static_outline_dhs_corr = []\n",
    "    static_outline_dvols_corr = []\n",
    "    evolving_outlines_areas = []\n",
    "    evolving_outlines_dhs = []\n",
    "    evolving_outlines_region_dhs = []\n",
    "    evolving_outlines_dhs_corr = []\n",
    "    evolving_outlines_dvols_corr = []\n",
    "    midcyc_datetimes = []\n",
    "\n",
    "    # Calculate cycle-to-cycle dHeight at each cycle of the spliced data sets\n",
    "    for idx, dt in enumerate(cyc_dates['midcyc_dates']):\n",
    "        # For midcyc_dates indexes <= 32, use CryoSat-2 dataset for cycle-to-cycle dHeight\n",
    "        # This covers the CryoSat-2 era before ICESat-2 launch (2010-08-17 to 2018-08-17)\n",
    "        # Skip indices based on CS2_SARIn_time_period\n",
    "        if lake_gdf['CS2_SARIn_time_period'].iloc[0] == '2013.75-2018.75' and 20 <= idx <= 32:\n",
    "            continue  # Skip the rest of the loop for indexes 21-32 because this dataset has reduced number of time slices\n",
    "        \n",
    "        print('Working on', cyc_dates['midcyc_dates'][idx])\n",
    "        if idx <= 32:\n",
    "            if dataset1 != 'none':\n",
    "                static_outline_dh = dataset1_static_outline_masked_data[idx+1,:,:]-dataset1_static_outline_masked_data[idx,:,:]\n",
    "                static_outline_region_dh = dataset1_static_region_masked_data[idx+1,:,:]-dataset1_static_region_masked_data[idx,:,:]\n",
    "    \n",
    "                # Filter rows that match the current time slice\n",
    "                evolving_outlines_gdf_dt_sub = evolving_outlines_gdf[evolving_outlines_gdf['midcyc_datetime'] == dt]\n",
    "            else:\n",
    "                continue\n",
    "            \n",
    "            # Check if evolving_outlines_gdf_dt_sub has any rows before proceeding\n",
    "            if not evolving_outlines_gdf_dt_sub.empty:\n",
    "                evolving_outlines_gdf_dt_sub_unary_union = evolving_outlines_gdf_dt_sub.unary_union\n",
    "                dataset1_evolving_outlines_dt_sub_mask = np.array([[evolving_outlines_gdf_dt_sub_unary_union.contains(Point(x, y)) for x in dataset1_combined_outline_sub['x'].values] for y in dataset1_combined_outline_sub['y'].values])\n",
    "                dataset1_evolving_outlines_dt_sub_mask_da = xr.DataArray(dataset1_evolving_outlines_dt_sub_mask, coords=[dataset1_combined_outline_sub.y, dataset1_combined_outline_sub.x], dims=[\"y\", \"x\"])\n",
    "                dataset1_evolving_outlines_dt_sub_masked_data = dataset1_combined_outline_sub['delta_h'].where(dataset1_evolving_outlines_dt_sub_mask_da, drop=True)\n",
    "                evolving_outlines_dh = dataset1_evolving_outlines_dt_sub_masked_data[idx+1,:,:]-dataset1_evolving_outlines_dt_sub_masked_data[idx,:,:]\n",
    "                evolving_outlines_region_dh = dataset1_evolving_outlines_region_masked_data[idx+1,:,:]-dataset1_evolving_outlines_region_masked_data[idx,:,:]\n",
    "            elif evolving_outlines_gdf_dt_sub.empty:\n",
    "                evolving_outlines_dh = 0\n",
    "                evolving_outlines_region_dh = 0\n",
    "\n",
    "        # For midcyc_dates indexes > 32, use ICESat-2 dataset for cycle-to-cycle dHeight\n",
    "        # This covers the ICESat-2 ATL06 v003 (2018-11-16 to 2023-04-02)\n",
    "        elif idx > 32:\n",
    "            # Subtract 33 from idx to start over at index zero with new dataset\n",
    "            static_outline_dh = dataset2_static_outline_masked_data[(idx-33)+1,:,:]-dataset2_static_outline_masked_data[(idx-33),:,:]\n",
    "            static_outline_region_dh = dataset2_static_region_masked_data[(idx-33)+1,:,:]-dataset2_static_region_masked_data[(idx-33),:,:]\n",
    "\n",
    "            # Filter rows that match the current time slice\n",
    "            evolving_outlines_gdf_dt_sub = evolving_outlines_gdf[evolving_outlines_gdf['midcyc_datetime'] == dt]\n",
    "\n",
    "            if not evolving_outlines_gdf_dt_sub.empty:\n",
    "                evolving_outlines_gdf_dt_sub_unary_union = evolving_outlines_gdf_dt_sub.unary_union\n",
    "                dataset2_evolving_outlines_dt_sub_mask = np.array([[evolving_outlines_gdf_dt_sub_unary_union.contains(Point(x, y)) for x in dataset2_combined_outline_sub['x'].values] for y in dataset2_combined_outline_sub['y'].values])\n",
    "                dataset2_evolving_outlines_dt_sub_mask_da = xr.DataArray(dataset2_evolving_outlines_dt_sub_mask, coords=[dataset2_combined_outline_sub.y, dataset2_combined_outline_sub.x], dims=[\"y\", \"x\"])\n",
    "                dataset2_evolving_outlines_dt_sub_masked_data = dataset2_combined_outline_sub['delta_h'].where(dataset2_evolving_outlines_dt_sub_mask_da, drop=True)\n",
    "                evolving_outlines_dh = dataset2_evolving_outlines_dt_sub_masked_data[(idx-33)+1,:,:]-dataset2_evolving_outlines_dt_sub_masked_data[(idx-33),:,:]\n",
    "                evolving_outlines_region_dh = dataset2_evolving_outlines_region_masked_data[(idx-33)+1,:,:]-dataset2_evolving_outlines_region_masked_data[(idx-33),:,:]\n",
    "            elif evolving_outlines_gdf_dt_sub.empty:\n",
    "                evolving_outlines_dh = 0\n",
    "                evolving_outlines_region_dh = 0\n",
    "\n",
    "        # Store data into lists\n",
    "        static_outline_dh_mean = np.nanmean(static_outline_dh)\n",
    "        static_outline_region_dh_mean = np.nanmean(static_outline_region_dh)\n",
    "        static_outline_dh_corr = static_outline_dh_mean - static_outline_region_dh_mean\n",
    "        static_outline_dvol_corr = static_outline_dh_corr*lake_gdf['area (m^2)'].iloc[0]\n",
    "\n",
    "        static_outline_dhs += [static_outline_dh_mean]\n",
    "        static_outline_region_dhs += [static_outline_region_dh_mean]\n",
    "        static_outline_dhs_corr += [static_outline_dh_corr]\n",
    "        static_outline_dvols_corr += [static_outline_dvol_corr]\n",
    "\n",
    "        evolving_outlines_gdf_dt_sub = evolving_outlines_gdf_dt_sub.to_crs('EPSG:4326')\n",
    "        evolving_outlines_area = sum(evolving_outlines_gdf_dt_sub['geometry'].apply(    \n",
    "            lambda poly: abs(geod.polygon_area_perimeter(\n",
    "            poly.exterior.coords.xy[0], poly.exterior.coords.xy[1])[0]) if poly is not None and poly.is_valid else None))\n",
    "\n",
    "        evolving_outlines_dh_mean = np.nanmean(evolving_outlines_dh)\n",
    "        evolving_outlines_region_dh_mean = np.nanmean(evolving_outlines_region_dh)\n",
    "        evolving_outlines_dh_corr = evolving_outlines_dh_mean - evolving_outlines_region_dh_mean\n",
    "        evolving_outlines_dvol_corr = evolving_outlines_dh_corr*evolving_outlines_area\n",
    "\n",
    "        evolving_outlines_areas += [evolving_outlines_area]\n",
    "        evolving_outlines_dhs += [evolving_outlines_dh_mean]\n",
    "        evolving_outlines_region_dhs += [evolving_outlines_region_dh_mean]\n",
    "        evolving_outlines_dhs_corr += [evolving_outlines_dh_corr]\n",
    "        evolving_outlines_dvols_corr += [evolving_outlines_dvol_corr]\n",
    "\n",
    "        midcyc_datetimes += [midcyc_dates[idx]]\n",
    "\n",
    "        # Clear the output of each index\n",
    "        # clear_output(wait=True)\n",
    "\n",
    "    # Store static outline area\n",
    "    static_outline_areas = [lake_gdf['area (m^2)'].iloc[0] for _ in range(len(midcyc_datetimes))]\n",
    "\n",
    "    # Store polygons in dataframe for further analysis\n",
    "    d = {'midcyc_datetime': midcyc_datetimes,\n",
    "        'evolving_outlines_area (m^2)': evolving_outlines_areas,\n",
    "        'evolving_outlines_dh (m)': evolving_outlines_dhs,\n",
    "        'evolving_outlines_region_dh (m)': evolving_outlines_region_dhs,\n",
    "        'evolving_outlines_dh_corr (m)': evolving_outlines_dhs_corr,\n",
    "        'evolving_outlines_dvol_corr (m^3)': evolving_outlines_dvols_corr,\n",
    "        'static_outline_area (m^2)': static_outline_areas,\n",
    "        'static_outline_dh (m)': static_outline_dhs, \n",
    "        'static_outline_region_dh (m)': static_outline_region_dhs,\n",
    "        'static_outline_dh_corr (m)': static_outline_dhs_corr,\n",
    "        'static_outline_dvol_corr (m^3)': static_outline_dvols_corr,\n",
    "        'bias_area (m^2)': [evolving - static for evolving, static in zip(evolving_outlines_areas, static_outline_areas)],\n",
    "        'bias_region_dh (m)': [evolving - static for evolving, static in zip(evolving_outlines_region_dhs, static_outline_region_dhs)],\n",
    "        'bias_outlines_dh_corr (m)': [evolving - static for evolving, static in zip(evolving_outlines_dhs_corr, static_outline_dhs_corr)],\n",
    "        'bias_dvol_corr (m^3)': [evolving - static for evolving, static in zip(evolving_outlines_dvols_corr, static_outline_dvols_corr)]}\n",
    "    df = pd.DataFrame(d)\n",
    "\n",
    "    # Export dataframe to csv\n",
    "    df.to_csv('output/lake_outlines/compare_evolving_and_static_outlines/{}.csv'.format(lake_name), index=False)\n",
    "\n",
    "    # Clear the output of each index\n",
    "    clear_output(wait=True)"
   ]
  },
  {
   "cell_type": "code",
   "execution_count": 30,
   "id": "1e16a960-6411-4725-b1bb-ff86f4ced3a8",
   "metadata": {},
   "outputs": [],
   "source": [
    "# def plot_evolving_and_static_comparison(lake_name):\n",
    "#     '''\n",
    "#     Plot static and evolving outlines with dArea, dHeight, and dVolume\n",
    "#     '''\n",
    "#     print('working on {}'.format(lake_name))\n",
    "#     fig, ax = plt.subplots(1,4, figsize=(12,5))\n",
    "    \n",
    "#     # Define colors and linestyles that will be reused and create lines for legend\n",
    "#     # S09_color = 'paleturquoise'\n",
    "#     SF18_color  = 'turquoise'\n",
    "#     # lake_locations_postSF18_color = 'darkturquoise'\n",
    "#     # S09_linestyle=(0, (1, 2))\n",
    "#     SF18_linestyle=(0, (1, 1))\n",
    "#     # S09_line = plt.Line2D((0, 1), (0, 0), color=S09_color, linestyle=S09_linestyle, linewidth=2)\n",
    "#     SF18_line = plt.Line2D((0, 1), (0, 0), color=SF18_color, linestyle='solid', linewidth=1)\n",
    "    \n",
    "#     # Panel A - evolving outlines ------------------------------------------------------\n",
    "#     # Plot static and evolving outlines onto MOA surface imagery\n",
    "#     # Open static outline(s) and evolving outlines and geometric calculation comparison geodataframes for plotting\n",
    "#     # S09_lake_gdf = S09_outlines[S09_outlines['Name'] == 'Whillans_4']\n",
    "#     lake_gdf = static_lakes_gdf[static_lakes_gdf['name'] == lake_name]\n",
    "#     # Attempt to open the evolving outlines GeoJSON file\n",
    "#     try:\n",
    "#         evolving_outlines_gdf = gpd.read_file(os.path.join(\n",
    "#             os.getcwd(), 'output/lake_outlines/evolving_outlines/{}.geojson'.format(lake_name)))\n",
    "#     except fiona.errors.DriverError:\n",
    "#         print(f\"File for {lake_name} not found. Skipping...\")\n",
    "#         return  # Skip the rest of the function if the file doesn't exist\n",
    "    \n",
    "#     # Attempt to open the geometric calculations CSV file\n",
    "#     try:\n",
    "#         geom_calcs_df = pd.read_csv(os.path.join(\n",
    "#             os.getcwd(), 'output/lake_outlines/compare_evolving_and_static_outlines/{}.csv'.format(lake_name)))\n",
    "#     except FileNotFoundError:\n",
    "#         print(f\"CSV file for {lake_name} not found. Skipping...\")\n",
    "#         return  # Skip the rest of the function if the file doesn't exist\n",
    "    \n",
    "#     # Convert of strings to datetime\n",
    "#     geom_calcs_df['midcyc_datetime'] = pd.to_datetime(geom_calcs_df['midcyc_datetime'])\n",
    "\n",
    "#     # Create buffered polygon for the area multiple search extent select for this lake\n",
    "#     search_extent_poly = muliple_area_buffer(lake_gdf.geometry.iloc[0], evolving_outlines_gdf['area_multiple_search_extent'][0])    \n",
    "\n",
    "#     # Combine static outline(s) with evolving outlines in unary union to plot all within bounds of plot\n",
    "#     # Use .buffer(0) to fix any invalid geometries\n",
    "#     all_outlines_unary_union = unary_union([search_extent_poly, lake_gdf.geometry.iloc[0].buffer(0)] + list(evolving_outlines_gdf.geometry.buffer(0)))\n",
    "#     x_min, y_min, x_max, y_max = all_outlines_unary_union.bounds\n",
    "#     buffer_frac = 0.2\n",
    "#     x_buffer = abs(x_max-x_min)*buffer_frac\n",
    "#     y_buffer = abs(y_max-y_min)*buffer_frac\n",
    "#     mask_x = (moa_highres_da.x >= x_min-x_buffer) & (moa_highres_da.x <= x_max+x_buffer)\n",
    "#     mask_y = (moa_highres_da.y >= y_min-y_buffer) & (moa_highres_da.y <= y_max+y_buffer)\n",
    "#     moa_highres_da_subset = moa_highres_da.where(mask_x & mask_y, drop=True)\n",
    "#     ax[0].imshow(moa_highres_da_subset[0,:,:], cmap=\"gray\", clim=[14000, 17000], extent=[x_min-x_buffer, x_max+x_buffer, y_min-y_buffer, y_max+y_buffer])\n",
    "    \n",
    "#     # Pick colormap and make continuous cmap discrete for evolving outlines\n",
    "#     colormap = 'plasma'\n",
    "#     continuous_cmap = matplotlib.colormaps[colormap]\n",
    "#     discrete_cmap = colors.ListedColormap(continuous_cmap(np.linspace(0, 1, len(cyc_dates['midcyc_dates'])-1)))\n",
    "    \n",
    "#     # Norm to time variable\n",
    "#     norm = plt.Normalize(mdates.date2num(cyc_dates['midcyc_dates'].iloc[0]), \n",
    "#                          mdates.date2num(cyc_dates['midcyc_dates'].iloc[-1]))\n",
    "    \n",
    "#     # Use for loop to store each time slice as line segment to use in legend\n",
    "#     # And plot each evolving outline in the geodataframe color by date\n",
    "#     lines = []  # list of lines to be used for the legend\n",
    "#     for idx, dt in enumerate(cyc_dates['midcyc_dates']):\n",
    "#         x = 1; y = 1\n",
    "#         line, = ax[0].plot(x, y, color=discrete_cmap(norm(mdates.date2num(cyc_dates['midcyc_dates'][idx]))), linewidth=1)\n",
    "#         lines.append(line)\n",
    "        \n",
    "#         # Filter rows that match the current time slice\n",
    "#         evolving_outlines_gdf_dt_sub = evolving_outlines_gdf[evolving_outlines_gdf['midcyc_datetime'] == dt]\n",
    "    \n",
    "#         # Plotting the subset if not empty\n",
    "#         if not evolving_outlines_gdf_dt_sub.empty:\n",
    "#             evolving_outlines_gdf_dt_sub.boundary.plot(ax=ax[0], color=discrete_cmap(norm(mdates.date2num(cyc_dates['midcyc_dates'][idx]))), linewidth=1)\n",
    "    \n",
    "#     # Plot static outline\n",
    "#     lake_gdf.boundary.plot(ax=ax[0], color=SF18_color, linewidth=1)\n",
    "\n",
    "#     # Plot area multiple search extent\n",
    "#     gpd.GeoDataFrame(geometry=[search_extent_poly]).boundary.plot(ax=ax[0], edgecolor='magenta', facecolor='none', linewidth=1)\n",
    "    \n",
    "#     # Plot inset map\n",
    "#     axIns = ax[0].inset_axes([0.8, 0.8, 0.3, 0.3]) # [left, bottom, width, height] (fractional axes coordinates)\n",
    "#     axIns.set_aspect('equal')\n",
    "#     moa_2014_coastline.plot(ax=axIns, color='gray', edgecolor='k', linewidth=0.1, zorder=3)\n",
    "#     moa_2014_groundingline.plot(ax=axIns, color='ghostwhite', edgecolor='k', linewidth=0.1, zorder=3)\n",
    "#     axIns.axis('off')\n",
    "    \n",
    "#     # Plot red star to indicate location\n",
    "#     axIns.scatter(((x_max+x_min)/2), ((y_max+y_min)/2), marker='*', \n",
    "#         linewidth=1, edgecolor='k', facecolor='r', s=50, zorder=3)\n",
    "    \n",
    "#     # Plot legend\n",
    "#     search_extent_line = plt.Line2D((0, 1), (0, 0), color='magenta', linestyle='solid', linewidth=1)\n",
    "#     legend = ax[0].legend([tuple(lines), SF18_line, search_extent_line], ['evolving outlines', 'static outline', 'search extent'],\n",
    "#         handlelength=3, handler_map={tuple: HandlerTuple(ndivide=None, pad=0)},\n",
    "#         loc='upper left')\n",
    "#     # legend.get_frame().set_linewidth(0.0)\n",
    "#     ax[0].patch.set_alpha(1)\n",
    "    \n",
    "#     # Create colorbar \n",
    "#     m = plt.cm.ScalarMappable(cmap=discrete_cmap)\n",
    "#     m.set_array(np.array([timestamp_to_fractional_year(date) for date in cyc_dates['midcyc_dates']]))\n",
    "#     cax = inset_axes(ax[0],\n",
    "#                      width=\"100%\",\n",
    "#                      height=\"3%\",\n",
    "#                      loc=3,\n",
    "#                      bbox_to_anchor=[0,-0.2,1,1],\n",
    "#                      bbox_transform=ax[0].transAxes,\n",
    "#                      borderpad=0,\n",
    "#                      )\n",
    "#     cbar=fig.colorbar(m, ticks=np.array([2010,2012,2014,2016,2018,2020,2022]), \n",
    "#                  cax=cax, orientation='horizontal')#.set_label('evolving outline year', size=15)\n",
    "    \n",
    "#     # Set the label for the colorbar and adjust its size\n",
    "#     cbar.set_label('evolving outline year', size=10, labelpad=5)\n",
    "    \n",
    "#     # Change polar stereographic m to km\n",
    "#     km_scale = 1e3\n",
    "#     ticks_x = ticker.FuncFormatter(lambda x, pos: '{0:g}'.format(x/km_scale))\n",
    "#     ax[0].xaxis.set_major_formatter(ticks_x)\n",
    "#     ticks_y = ticker.FuncFormatter(lambda x, pos: '{0:g}'.format(x/km_scale))\n",
    "#     ax[0].yaxis.set_major_formatter(ticks_y)\n",
    "    \n",
    "#     # Set axes limit, title, and axis label\n",
    "#     ax[0].set(xlim=(x_min-x_buffer, x_max+x_buffer), ylim=(y_min-y_buffer, y_max+y_buffer))\n",
    "#     ax[0].set_title('evolving and static\\noutline comparison', size=12, pad=8)\n",
    "#     ax[0].set_xlabel('X [km]')\n",
    "#     ax[0].set_ylabel('Y [km]')\n",
    "    \n",
    "#     # Panel - da/dt ---------------------------------------------\n",
    "#     # Plot multi-colored line and scatter for data points\n",
    "#     x=mdates.date2num(geom_calcs_df['midcyc_datetime'])\n",
    "#     y=np.divide(geom_calcs_df['evolving_outlines_area (m^2)'], 1e6)\n",
    "    \n",
    "#     # Create points and segments for LineCollection\n",
    "#     points = np.array([x, y]).T.reshape(-1, 1, 2)\n",
    "#     segments = np.concatenate([points[:-1], points[1:]], axis=1)\n",
    "    \n",
    "#     # Create a LineCollection, using the discrete colormap and norm\n",
    "#     lc = LineCollection(segments, cmap=discrete_cmap, norm=norm, linestyle=(0, (2, 1)))\n",
    "    \n",
    "#     # Set the values used for colormapping, using matplotlib dates for colors\n",
    "#     lc.set_array(x)\n",
    "#     lc.set_linewidth(2)\n",
    "#     line = ax[1].add_collection(lc)\n",
    "    \n",
    "#     # Scatter plot, using the discrete colormap and norm for coloring\n",
    "#     # Convert x values (fractional years) back to matplotlib dates for consistent coloring\n",
    "#     scatter = ax[1].scatter(x, y, c=x, cmap=discrete_cmap, norm=norm)\n",
    "    \n",
    "#     # Plot static outline area\n",
    "#     ax[1].axhline(np.divide(lake_gdf['area (m^2)'], 1e6).values, color=SF18_color, linestyle='solid', linewidth=1)\n",
    "    \n",
    "#     # # Plot bias\n",
    "#     # ax[1].plot(mdates.date2num(geom_calcs_df['midcyc_datetime']),\n",
    "#     #     np.divide(geom_calcs_df['bias_area (m^2)'], 1e6), color='red', linestyle='solid', linewidth=1)\n",
    "    \n",
    "#     # # Add legend\n",
    "#     # bias = plt.Line2D((0, 1), (0, 0), color='red', linestyle='solid', linewidth=1)\n",
    "#     # legend = ax[1].legend([tuple(lines), SF18_line, bias],\n",
    "#     #     ['evolving outlines', 'static outline', 'bias (evolving - static)'], \n",
    "#     #     handlelength=3, handler_map={tuple: HandlerTuple(ndivide=None, pad=0)},\n",
    "#     #     loc='upper left')\n",
    "#     legend = ax[1].legend([tuple(lines), SF18_line],\n",
    "#         ['evolving outlines', 'static outline'], \n",
    "#         handlelength=3, handler_map={tuple: HandlerTuple(ndivide=None, pad=0)},\n",
    "#         loc='upper left')\n",
    "\n",
    "#     # Format the x-axis to display years only\n",
    "#     ax[1].xaxis.set_major_locator(mdates.YearLocator(base=2))  # Major ticks every other year\n",
    "#     ax[1].xaxis.set_minor_locator(mdates.YearLocator(base=1))  # Minor ticks every year\n",
    "#     ax[1].xaxis.set_major_formatter(mdates.DateFormatter('%Y'))  # Display major ticks as years\n",
    "    \n",
    "#     # # Set x-axis limits\n",
    "#     # start_date = geom_calcs_df['midcyc_datetime'].min()\n",
    "#     # end_date = geom_calcs_df['midcyc_datetime'].max()\n",
    "#     # ax[1].set_xlim(mdates.date2num(start_date), mdates.date2num(end_date))\n",
    "    \n",
    "#     # Set title and axis label\n",
    "#     ax[1].set_title('wetted area [km$^2$]', size=12, pad=8)\n",
    "#     ax[1].set_xlabel('year')\n",
    "    \n",
    "#     # Panel C - dh/dt -------------------------------------------------------\n",
    "#     # Plot horizontal zero line for reference\n",
    "#     ax[2].axhline(0, color='gray', linestyle='dotted', linewidth=1)\n",
    "    \n",
    "#     # Plot multi-colored line and scatter for data points\n",
    "#     x=mdates.date2num(geom_calcs_df['midcyc_datetime'])\n",
    "#     y=np.cumsum(geom_calcs_df['evolving_outlines_dh_corr (m)'])\n",
    "    \n",
    "#     # Create points and segments for LineCollection\n",
    "#     points = np.array([x, y]).T.reshape(-1, 1, 2)\n",
    "#     segments = np.concatenate([points[:-1], points[1:]], axis=1)\n",
    "    \n",
    "#     # Create a LineCollection, using the discrete colormap and norm\n",
    "#     lc = LineCollection(segments, cmap=discrete_cmap, norm=norm, linestyle=(0, (2, 1)))\n",
    "    \n",
    "#     # Set the values used for colormapping, using matplotlib dates for colors\n",
    "#     lc.set_array(x)\n",
    "#     lc.set_linewidth(2)\n",
    "#     line = ax[2].add_collection(lc)\n",
    "    \n",
    "#     # Scatter plot, using the discrete colormap and norm for coloring\n",
    "#     # Convert x values (fractional years) back to matplotlib dates for consistent coloring\n",
    "#     scatter = ax[2].scatter(x, y, c=x, cmap=discrete_cmap, norm=norm)\n",
    "    \n",
    "#     # Plot static outline time series\n",
    "#     ax[2].plot(mdates.date2num(geom_calcs_df['midcyc_datetime']), \n",
    "#         np.cumsum(geom_calcs_df['static_outline_dh_corr (m)']), color=SF18_color, linestyle='solid', linewidth=1)\n",
    "    \n",
    "#     # Plot bias\n",
    "#     ax[2].plot(mdates.date2num(geom_calcs_df['midcyc_datetime']),\n",
    "#         np.cumsum(geom_calcs_df['bias_outlines_dh_corr (m)']), color='red', linestyle='solid', linewidth=1)\n",
    "\n",
    "#     # Add legend\n",
    "#     bias = plt.Line2D((0, 1), (0, 0), color='red', linestyle='solid', linewidth=1)\n",
    "#     legend = ax[2].legend([bias],\n",
    "#         ['bias (evolving - static)'], \n",
    "#         loc='upper left')\n",
    "    \n",
    "#     # Format the x-axis to display years only\n",
    "#     ax[2].xaxis.set_major_locator(mdates.YearLocator(base=2))  # Major ticks every other year\n",
    "#     ax[2].xaxis.set_minor_locator(mdates.YearLocator(base=1))  # Minor ticks every year\n",
    "#     ax[2].xaxis.set_major_formatter(mdates.DateFormatter('%Y'))  # Display major ticks as years\n",
    "    \n",
    "#     # # Set x-axis limits\n",
    "#     # start_date = geom_calcs_df['midcyc_datetime'].min()\n",
    "#     # end_date = geom_calcs_df['midcyc_datetime'].max()\n",
    "#     # ax[2].set_xlim(mdates.date2num(start_date), mdates.date2num(end_date))\n",
    "    \n",
    "#     # Set title and axis label\n",
    "#     ax[2].set_title('cumulative\\nheight change [m]', size=12, pad=8)\n",
    "#     ax[2].set_xlabel('year')\n",
    "    \n",
    "#     # Panel D - dv/dt --------------------------------------------------\n",
    "#     # Plot horizontal line at zero for reference\n",
    "#     ax[3].axhline(0, color='gray', linestyle='dotted', linewidth=1)\n",
    "    \n",
    "#     # Plot static outline time series\n",
    "#     ax[3].plot(mdates.date2num(geom_calcs_df['midcyc_datetime']), \n",
    "#         np.divide(np.cumsum(geom_calcs_df['static_outline_dvol_corr (m^3)']), 1e9), \n",
    "#         color=SF18_color, linestyle='solid', linewidth=1)\n",
    "    \n",
    "#     # Plot multi-colored line and scatter for data points\n",
    "#     x=mdates.date2num(geom_calcs_df['midcyc_datetime'])\n",
    "#     y=np.cumsum(np.divide(geom_calcs_df['evolving_outlines_dvol_corr (m^3)'], 1e9))\n",
    "    \n",
    "#     # Create points and segments for LineCollection\n",
    "#     points = np.array([x, y]).T.reshape(-1, 1, 2)\n",
    "#     segments = np.concatenate([points[:-1], points[1:]], axis=1)\n",
    "    \n",
    "#     # Create a LineCollection, using the discrete colormap and norm\n",
    "#     lc = LineCollection(segments, cmap=discrete_cmap, norm=norm, linestyle=(0, (2, 1)))\n",
    "    \n",
    "#     # Set the values used for colormapping, using matplotlib dates for colors\n",
    "#     lc.set_array(x)\n",
    "#     lc.set_linewidth(2)\n",
    "#     line = ax[3].add_collection(lc)\n",
    "    \n",
    "#     # Scatter plot, using the discrete colormap and norm for coloring\n",
    "#     scatter = ax[3].scatter(x, y, c=x, cmap=discrete_cmap, norm=norm)\n",
    "    \n",
    "#     # Plot bias\n",
    "#     ax[3].plot(mdates.date2num(geom_calcs_df['midcyc_datetime']),\n",
    "#         np.cumsum(np.divide(geom_calcs_df['bias_dvol_corr (m^3)'], 1e9)), color='red', linestyle='solid', linewidth=1)\n",
    "    \n",
    "#     # Format the x-axis to display years only\n",
    "#     ax[3].xaxis.set_major_locator(mdates.YearLocator(base=2))  # Major ticks every other year\n",
    "#     ax[3].xaxis.set_minor_locator(mdates.YearLocator(base=1))  # Minor ticks every year\n",
    "#     ax[3].xaxis.set_major_formatter(mdates.DateFormatter('%Y'))  # Display major ticks as years\n",
    "    \n",
    "#     # # Set x-axis limits\n",
    "#     # start_date = geom_calcs_df['midcyc_datetime'].min()\n",
    "#     # end_date = geom_calcs_df['midcyc_datetime'].max()\n",
    "#     # ax[3].set_xlim(mdates.date2num(start_date), mdates.date2num(end_date))\n",
    "    \n",
    "#     # Set title and axis label\n",
    "#     ax[3].set_title('cumulative ice volume\\ndisplacement [km$^3$]', size=12, pad=8)\n",
    "#     ax[3].set_xlabel('year')\n",
    "    \n",
    "#     plt.tight_layout()  # Adjust layout to prevent overlap\n",
    "    \n",
    "#     # Save and close plot\n",
    "#     plt.savefig(OUTPUT_DIR + '/plot_evolving_and_static_comparison/{}.png'\n",
    "#         .format(lake_name),\n",
    "#                 dpi=300, bbox_inches='tight')\n",
    "    \n",
    "#     plt.close()"
   ]
  },
  {
   "cell_type": "code",
   "execution_count": 31,
   "id": "e7841eda-20d3-47dc-be60-8ca57228fb75",
   "metadata": {},
   "outputs": [],
   "source": [
    "def calculate_area(poly):\n",
    "    '''\n",
    "    Calculate geodesic are of polygon or multipolygon\n",
    "    '''\n",
    "    if poly is None or not poly.is_valid:\n",
    "        return None\n",
    "    if isinstance(poly, Polygon):\n",
    "        return abs(geod.polygon_area_perimeter(poly.exterior.coords.xy[0], poly.exterior.coords.xy[1])[0])\n",
    "    elif isinstance(poly, MultiPolygon):\n",
    "        total_area = 0\n",
    "        for part in poly.geoms:  # Ensure we're accessing the geometries properly\n",
    "            total_area += abs(geod.polygon_area_perimeter(part.exterior.coords.xy[0], part.exterior.coords.xy[1])[0])\n",
    "        return total_area"
   ]
  },
  {
   "cell_type": "code",
   "execution_count": 32,
   "id": "6438f1f1-ae5e-4624-80ec-2f187a70cf9a",
   "metadata": {},
   "outputs": [],
   "source": [
    "def plot_evolving_and_static_comparison(lake_gdf):\n",
    "    '''\n",
    "    Plot static and evolving outlines with dArea, dHeight, and dVolume\n",
    "    '''\n",
    "    # Define lake name and polygon and buffered polygon to use as off-lake region\n",
    "    lake_name = lake_gdf['name'].iloc[0]\n",
    "    static_outline = lake_gdf['geometry']\n",
    "    print('working on {}'.format(lake_name))\n",
    "    \n",
    "    # Open static outline(s) and evolving outlines and geometric calculation comparison geodataframes for plotting\n",
    "    # Attempt to open the evolving outlines GeoJSON file\n",
    "    try:\n",
    "        evolving_outlines_gdf = gpd.read_file(os.path.join(\n",
    "            os.getcwd(), 'output/lake_outlines/evolving_outlines/{}.geojson'.format(lake_name)))\n",
    "    except fiona.errors.DriverError:\n",
    "        print(f\"File for {lake_name} not found. Skipping...\")\n",
    "        return  # Skip the rest of the function if the file doesn't exist\n",
    "    \n",
    "    # Attempt to open the geometric calculations CSV file\n",
    "    try:\n",
    "        geom_calcs_df = pd.read_csv(os.path.join(\n",
    "            os.getcwd(), 'output/lake_outlines/compare_evolving_and_static_outlines/{}.csv'.format(lake_name)))\n",
    "    except FileNotFoundError:\n",
    "        print(f\"CSV file for {lake_name} not found. Skipping...\")\n",
    "        return  # Skip the rest of the function if the file doesn't exist\n",
    "    \n",
    "    # Convert of strings to datetime\n",
    "    geom_calcs_df['midcyc_datetime'] = pd.to_datetime(geom_calcs_df['midcyc_datetime'])\n",
    "    \n",
    "    fig, ax = plt.subplots(1,4, figsize=(12,5))\n",
    "    \n",
    "    # Define colors and linestyles that will be reused and create lines for legend\n",
    "    static_color  = 'turquoise'\n",
    "    static_linestyle=(0, (1, 1))\n",
    "    static_line = plt.Line2D((0, 1), (0, 0), color=static_color, linestyle='solid', linewidth=1)\n",
    "    \n",
    "    # Panel - evolving outlines ------------------------------------------------------\n",
    "\n",
    "    # Create buffered polygon for the area multiple search extent select for this lake\n",
    "    search_extent_poly = muliple_area_buffer(lake_gdf['geometry'].iloc[0], evolving_outlines_gdf['area_multiple_search_extent'][0])    \n",
    "\n",
    "    # Combine static outline(s) with evolving outlines in unary union to plot all within bounds of plot\n",
    "    # Use .buffer(0) to fix any invalid geometries\n",
    "    all_outlines_unary_union = unary_union([search_extent_poly, lake_gdf['geometry'].iloc[0].buffer(0)] + list(evolving_outlines_gdf.geometry.buffer(0)))\n",
    "    x_min, y_min, x_max, y_max = all_outlines_unary_union.bounds\n",
    "    buffer_frac = 0.3\n",
    "    x_buffer = abs(x_max-x_min)*buffer_frac\n",
    "    y_buffer = abs(y_max-y_min)*buffer_frac\n",
    "    mask_x = (moa_highres_da.x >= x_min-x_buffer) & (moa_highres_da.x <= x_max+x_buffer)\n",
    "    mask_y = (moa_highres_da.y >= y_min-y_buffer) & (moa_highres_da.y <= y_max+y_buffer)\n",
    "    \n",
    "    # Plot static and evolving outlines onto MOA surface imagery\n",
    "    moa_highres_da_subset = moa_highres_da.where(mask_x & mask_y, drop=True)\n",
    "    ax[0].imshow(moa_highres_da_subset[0,:,:], cmap=\"gray\", clim=[14000, 17000], extent=[x_min-x_buffer, x_max+x_buffer, y_min-y_buffer, y_max+y_buffer])\n",
    "    \n",
    "    # Pick colormap and make continuous cmap discrete for evolving outlines\n",
    "    colormap = 'plasma'\n",
    "    continuous_cmap = matplotlib.colormaps[colormap]\n",
    "    discrete_cmap = colors.ListedColormap(continuous_cmap(np.linspace(0, 1, len(cyc_dates['midcyc_dates'])-1)))\n",
    "    \n",
    "    # Norm to time variable\n",
    "    norm = plt.Normalize(mdates.date2num(cyc_dates['midcyc_dates'].iloc[0]), \n",
    "                         mdates.date2num(cyc_dates['midcyc_dates'].iloc[-1]))\n",
    "    \n",
    "    # Use for loop to store each time slice as line segment to use in legend\n",
    "    # And plot each evolving outline in the geodataframe color by date\n",
    "    lines = []  # list of lines to be used for the legend\n",
    "    for idx, dt in enumerate(cyc_dates['midcyc_dates']):\n",
    "        x = 1; y = 1\n",
    "        line, = ax[0].plot(x, y, color=discrete_cmap(norm(mdates.date2num(cyc_dates['midcyc_dates'][idx]))), linewidth=1)\n",
    "        lines.append(line)\n",
    "        \n",
    "        # Filter rows that match the current time slice\n",
    "        evolving_outlines_gdf_dt_sub = evolving_outlines_gdf[evolving_outlines_gdf['midcyc_datetime'] == dt]\n",
    "    \n",
    "        # Plotting the subset if not empty\n",
    "        if not evolving_outlines_gdf_dt_sub.empty:\n",
    "            evolving_outlines_gdf_dt_sub.boundary.plot(ax=ax[0], color=discrete_cmap(norm(mdates.date2num(cyc_dates['midcyc_dates'][idx]))), linewidth=1)\n",
    "    \n",
    "    # Plot static outline\n",
    "    lake_gdf['geometry'].boundary.plot(ax=ax[0], color=static_color, linewidth=1)\n",
    "\n",
    "    # Plot area multiple search extent\n",
    "    gpd.GeoDataFrame(geometry=[search_extent_poly]).boundary.plot(ax=ax[0], edgecolor='magenta', facecolor='none', linewidth=1)\n",
    "\n",
    "    # Create evolving outlines unary union and plot\n",
    "    evolving_outlines_unary_union = unary_union(list(evolving_outlines_gdf.geometry))\n",
    "    evolving_outlines_unary_union_gdf = gpd.GeoDataFrame(geometry=[evolving_outlines_unary_union], crs='3031')\n",
    "    evolving_outlines_unary_union_gdf.boundary.plot(ax=ax[0], color='k', linestyle='dotted', linewidth=1)\n",
    "\n",
    "    # Convert GeoDataFrame to EPSG:4326 for geodesic area calculation\n",
    "    evolving_outlines_unary_union_gdf = evolving_outlines_unary_union_gdf.to_crs('4326')\n",
    "    \n",
    "    # Calculate the geodesic area for each polygon\n",
    "    evolving_outlines_unary_union_gdf['area (m^2)'] = evolving_outlines_unary_union_gdf['geometry'].apply(calculate_area)\n",
    "\n",
    "    # Plot inset map\n",
    "    axIns = ax[0].inset_axes([0.8, -0.1, 0.3, 0.3]) # [left, bottom, width, height] (fractional axes coordinates)\n",
    "    axIns.set_aspect('equal')\n",
    "    moa_2014_coastline.plot(ax=axIns, color='gray', edgecolor='k', linewidth=0.1, zorder=3)\n",
    "    moa_2014_groundingline.plot(ax=axIns, color='ghostwhite', edgecolor='k', linewidth=0.1, zorder=3)\n",
    "    axIns.axis('off')\n",
    "    \n",
    "    # Plot red star to indicate location\n",
    "    axIns.scatter(((x_max+x_min)/2), ((y_max+y_min)/2), marker='*', \n",
    "        linewidth=1, edgecolor='k', facecolor='r', s=50, zorder=3)\n",
    "    \n",
    "    # Plot legend\n",
    "    search_extent_line = plt.Line2D((0, 1), (0, 0), color='magenta', linestyle='solid', linewidth=1)\n",
    "    unary_union_line = plt.Line2D((0, 1), (0, 0), color='k', linestyle='dotted', linewidth=1)\n",
    "    legend = ax[0].legend([search_extent_line, tuple(lines), unary_union_line, static_line], \n",
    "        ['search extent ({}x)'.format(int(evolving_outlines_gdf['area_multiple_search_extent'][0])),\n",
    "         'evolving outlines ({} m)'.format(evolving_outlines_gdf['level'][0]),\n",
    "         'evolving outlines unary union',\n",
    "         'static outline'],\n",
    "         handlelength=3, handler_map={tuple: HandlerTuple(ndivide=None, pad=0)},\n",
    "         fontsize='small', loc='upper left')\n",
    "    # legend.get_frame().set_linewidth(0.0)\n",
    "    ax[0].patch.set_alpha(1)\n",
    "    \n",
    "    # Create colorbar\n",
    "    m = plt.cm.ScalarMappable(cmap=discrete_cmap)\n",
    "    m.set_array(np.array([mdates.date2num(date) for date in cyc_dates['midcyc_dates']]))\n",
    "    cax = inset_axes(ax[0],\n",
    "                     width=\"100%\",\n",
    "                     height=\"3%\",\n",
    "                     loc=3,\n",
    "                     bbox_to_anchor=[0,-0.2,1,1],\n",
    "                     bbox_transform=ax[0].transAxes,\n",
    "                     borderpad=0,\n",
    "                     )\n",
    "    # Define years and convert to matplotlib date numbers\n",
    "    years = [2012, 2014, 2016, 2018, 2020, 2022]\n",
    "    year_dates = [mdates.date2num(datetime.datetime(year, 1, 1)) for year in years]\n",
    "    cbar=fig.colorbar(m, cax=cax, orientation='horizontal')\n",
    "    cbar.set_ticks(year_dates)  # Set ticks to the dates corresponding to the beginning of each year\n",
    "    cbar.set_ticklabels(years)  # Set tick labels as years\n",
    "    cbar.set_label('evolving outline year', size=10, labelpad=5)\n",
    "\n",
    "    # Change polar stereographic m to km\n",
    "    km_scale = 1e3\n",
    "    ticks_x = ticker.FuncFormatter(lambda x, pos: '{0:g}'.format(x/km_scale))\n",
    "    ax[0].xaxis.set_major_formatter(ticks_x)\n",
    "    ticks_y = ticker.FuncFormatter(lambda x, pos: '{0:g}'.format(x/km_scale))\n",
    "    ax[0].yaxis.set_major_formatter(ticks_y)\n",
    "    \n",
    "    # Set axes limit, title, and axis label\n",
    "    ax[0].set(xlim=(x_min-x_buffer, x_max+x_buffer), ylim=(y_min-y_buffer, y_max+y_buffer))\n",
    "    ax[0].set_title('evolving and static\\noutline comparison\\n{}'.format(lake_name), size=12, pad=5)\n",
    "    ax[0].set_xlabel('X [km]')\n",
    "    ax[0].set_ylabel('Y [km]')\n",
    "    \n",
    "    # Panel - da/dt ---------------------------------------------\n",
    "    # Plot static outline and evolving outlines unary union areas\n",
    "    ax[1].axhline(np.divide(lake_gdf['area (m^2)'], 1e6).values, color=static_color, linestyle='solid', linewidth=1)\n",
    "    ax[1].axhline(np.divide(evolving_outlines_unary_union_gdf['area (m^2)'], 1e6).values, color='k', linestyle='dotted', linewidth=1)\n",
    "\n",
    "    # Plot multi-colored line and scatter for data points\n",
    "    x=mdates.date2num(geom_calcs_df['midcyc_datetime'])\n",
    "    y=np.divide(geom_calcs_df['evolving_outlines_area (m^2)'], 1e6)\n",
    "    \n",
    "    # Create points and segments for LineCollection\n",
    "    points = np.array([x, y]).T.reshape(-1, 1, 2)\n",
    "    segments = np.concatenate([points[:-1], points[1:]], axis=1)\n",
    "    \n",
    "    # Create a LineCollection, using the discrete colormap and norm\n",
    "    lc = LineCollection(segments, cmap=discrete_cmap, norm=norm, linestyle='solid')\n",
    "    lc.set_array(x)  # Set the values used for colormapping, using matplotlib dates for colors\n",
    "    lc.set_linewidth(2)\n",
    "    line = ax[1].add_collection(lc)\n",
    "    scatter = ax[1].scatter(x, y, c=x, cmap=discrete_cmap, norm=norm, zorder=2)  # Scatter if I get legend line to work\n",
    "\n",
    "    # Add legend\n",
    "    legend = ax[1].legend([tuple(lines), unary_union_line, static_line],\n",
    "        ['evolving outlines darea', 'evolving outlines unary union area', 'static outline area'], \n",
    "        handlelength=3, handler_map={tuple: HandlerTuple(ndivide=None, pad=0)},\n",
    "        fontsize='small', loc='upper left')\n",
    "\n",
    "    # Format the x-axis to display years only\n",
    "    ax[1].xaxis.set_major_locator(mdates.YearLocator(base=2))  # Major ticks every other year\n",
    "    ax[1].xaxis.set_minor_locator(mdates.YearLocator(base=1))  # Minor ticks every year\n",
    "    ax[1].xaxis.set_major_formatter(mdates.DateFormatter('%Y'))  # Display major ticks as years\n",
    "    \n",
    "    # # Set x-axis limits\n",
    "    # start_date = geom_calcs_df['midcyc_datetime'].min()\n",
    "    # end_date = geom_calcs_df['midcyc_datetime'].max()\n",
    "    # ax[1].set_xlim(mdates.date2num(start_date), mdates.date2num(end_date))\n",
    "    \n",
    "    # Set title and axis label\n",
    "    ax[1].set_title('wetted area (darea) [km$^2$]', size=12, pad=8)\n",
    "    ax[1].set_xlabel('year')\n",
    "    \n",
    "    # Panel C - dh/dt -------------------------------------------------------\n",
    "    # Plot horizontal zero line for reference\n",
    "    ax[2].axhline(0, color='k', linestyle='dashed', linewidth=1)\n",
    "\n",
    "    # Plot static outlines off-lake region dh\n",
    "    ax[2].plot(mdates.date2num(geom_calcs_df['midcyc_datetime']), \n",
    "        np.cumsum(geom_calcs_df['static_outline_region_dh (m)']), color='lightgray', linestyle='solid', linewidth=1)\n",
    "\n",
    "    # Plot evolving outlines off-lake region dh\n",
    "    ax[2].plot(mdates.date2num(geom_calcs_df['midcyc_datetime']), \n",
    "        np.cumsum(geom_calcs_df['evolving_outlines_region_dh (m)']), color='dimgray', linestyle='solid', linewidth=1)\n",
    "\n",
    "    # Plot static outline time series\n",
    "    ax[2].plot(mdates.date2num(geom_calcs_df['midcyc_datetime']), \n",
    "        np.cumsum(geom_calcs_df['static_outline_dh_corr (m)']), color=static_color, linestyle='solid', linewidth=1)\n",
    "\n",
    "    # Plot multi-colored line and scatter for data points\n",
    "    x=mdates.date2num(geom_calcs_df['midcyc_datetime'])\n",
    "    y=np.cumsum(geom_calcs_df['evolving_outlines_dh_corr (m)'])\n",
    "    \n",
    "    # Create points and segments for LineCollection\n",
    "    points = np.array([x, y]).T.reshape(-1, 1, 2)\n",
    "    segments = np.concatenate([points[:-1], points[1:]], axis=1)\n",
    "    \n",
    "    # Create a LineCollection, using the discrete colormap and norm\n",
    "    lc = LineCollection(segments, cmap=discrete_cmap, norm=norm, linestyle='solid')\n",
    "    lc.set_array(x)\n",
    "    lc.set_linewidth(2)\n",
    "    line = ax[2].add_collection(lc)\n",
    "    scatter = ax[2].scatter(x, y, c=x, cmap=discrete_cmap, norm=norm, zorder=2)  # Scatter if I can figure out how to put in legend\n",
    "\n",
    "    # Plot bias\n",
    "    ax[2].plot(mdates.date2num(geom_calcs_df['midcyc_datetime']),\n",
    "        np.cumsum(geom_calcs_df['bias_outlines_dh_corr (m)']), color='red', linestyle='solid', linewidth=1)\n",
    "\n",
    "    # Add legend\n",
    "    evolving_region = plt.Line2D((0, 1), (0, 0), color='dimgray', linestyle='solid', linewidth=1)\n",
    "    static_region = plt.Line2D((0, 1), (0, 0), color='lightgray', linestyle='solid', linewidth=1)\n",
    "    bias = plt.Line2D((0, 1), (0, 0), color='red', linestyle='solid', linewidth=1)\n",
    "    legend = ax[2].legend(\n",
    "        [evolving_region,\n",
    "         static_region,\n",
    "         tuple(lines),\n",
    "         static_line,  \n",
    "         bias],\n",
    "        ['evolving outlines off-lake dh',\n",
    "         'static outline off-lake dh',\n",
    "         'evolving outlines dh$_{corr}$',\n",
    "         'static outline dh$_{corr}$', \n",
    "         'dh$_{corr}$ bias (evolving - static)'],\n",
    "         handlelength=3, handler_map={tuple: HandlerTuple(ndivide=None, pad=0)},\n",
    "         fontsize='small', loc='upper left')\n",
    "    \n",
    "    # Format the x-axis to display years only\n",
    "    ax[2].xaxis.set_major_locator(mdates.YearLocator(base=2))  # Major ticks every other year\n",
    "    ax[2].xaxis.set_minor_locator(mdates.YearLocator(base=1))  # Minor ticks every year\n",
    "    ax[2].xaxis.set_major_formatter(mdates.DateFormatter('%Y'))  # Display major ticks as years\n",
    "    \n",
    "    # # Set x-axis limits\n",
    "    # start_date = geom_calcs_df['midcyc_datetime'].min()\n",
    "    # end_date = geom_calcs_df['midcyc_datetime'].max()\n",
    "    # ax[2].set_xlim(mdates.date2num(start_date), mdates.date2num(end_date))\n",
    "    \n",
    "    # Set title and axis label\n",
    "    ax[2].set_title('cumulative height\\n change (dh) [m]', size=12, pad=8)\n",
    "    ax[2].set_xlabel('year')\n",
    "    \n",
    "    # Panel D - dvol/dt --------------------------------------------------\n",
    "    # Plot horizontal line at zero for reference\n",
    "    ax[3].axhline(0, color='k', linestyle='dashed', linewidth=1)\n",
    "    \n",
    "    # Plot static outline time series\n",
    "    ax[3].plot(mdates.date2num(geom_calcs_df['midcyc_datetime']), \n",
    "        np.divide(np.cumsum(geom_calcs_df['static_outline_dvol_corr (m^3)']), 1e9), \n",
    "        color=static_color, linestyle='solid', linewidth=1)\n",
    "    \n",
    "    # Plot multi-colored line and scatter for data points\n",
    "    x=mdates.date2num(geom_calcs_df['midcyc_datetime'])\n",
    "    y=np.cumsum(np.divide(geom_calcs_df['evolving_outlines_dvol_corr (m^3)'], 1e9))\n",
    "    \n",
    "    # Create points and segments for LineCollection\n",
    "    points = np.array([x, y]).T.reshape(-1, 1, 2)\n",
    "    segments = np.concatenate([points[:-1], points[1:]], axis=1)\n",
    "    \n",
    "    # Create a LineCollection, using the discrete colormap and norm\n",
    "    lc = LineCollection(segments, cmap=discrete_cmap, norm=norm, linestyle='solid')\n",
    "    lc.set_array(x)\n",
    "    lc.set_linewidth(2)\n",
    "    line = ax[3].add_collection(lc)\n",
    "    scatter = ax[3].scatter(x, y, c=x, cmap=discrete_cmap, norm=norm, zorder=2)\n",
    "    \n",
    "    # Plot bias\n",
    "    ax[3].plot(mdates.date2num(geom_calcs_df['midcyc_datetime']),\n",
    "        np.cumsum(np.divide(geom_calcs_df['bias_dvol_corr (m^3)'], 1e9)), color='red', linestyle='solid', linewidth=1)\n",
    "\n",
    "    # Add legend\n",
    "    legend = ax[3].legend([tuple(lines), static_line, bias],\n",
    "        ['evolving outlines dvol$_{corr}$', \n",
    "         'static outline  dvol$_{corr}$',\n",
    "         'dvol$_{corr}$ bias (evolving - static)'], \n",
    "        handlelength=3, handler_map={tuple: HandlerTuple(ndivide=None, pad=0)},\n",
    "        fontsize='small', loc='upper left')\n",
    "    \n",
    "    # Format the x-axis to display years only\n",
    "    ax[3].xaxis.set_major_locator(mdates.YearLocator(base=2))  # Major ticks every other year\n",
    "    ax[3].xaxis.set_minor_locator(mdates.YearLocator(base=1))  # Minor ticks every year\n",
    "    ax[3].xaxis.set_major_formatter(mdates.DateFormatter('%Y'))  # Display major ticks as years\n",
    "    \n",
    "    # # Set x-axis limits\n",
    "    # start_date = geom_calcs_df['midcyc_datetime'].min()\n",
    "    # end_date = geom_calcs_df['midcyc_datetime'].max()\n",
    "    # ax[3].set_xlim(mdates.date2num(start_date), mdates.date2num(end_date))\n",
    "    \n",
    "    # Set title and axis label\n",
    "    ax[3].set_title('cumulative volume\\ndisplacement (dvol) [km$^3$]', size=12, pad=8)\n",
    "    ax[3].set_xlabel('year')\n",
    "    \n",
    "    plt.tight_layout()  # Adjust layout to prevent overlap\n",
    "    \n",
    "    # Save and close plot\n",
    "    plt.savefig(OUTPUT_DIR + '/plot_evolving_and_static_comparison/{}.png'\n",
    "        .format(lake_name),\n",
    "                dpi=300, bbox_inches='tight')\n",
    "    \n",
    "    plt.close()"
   ]
  },
  {
   "cell_type": "code",
   "execution_count": 33,
   "id": "c6aaf623-3e84-469e-94e0-f780b13cc099",
   "metadata": {},
   "outputs": [],
   "source": [
    "def count_folders_in_directory(directory):\n",
    "    '''\n",
    "    Counts the number of folders in the given directory.\n",
    "    '''\n",
    "    folder_count = 0\n",
    "    for item in os.listdir(directory):\n",
    "        # Construct full path to the item\n",
    "        item_path = os.path.join(directory, item)\n",
    "        # Check if the item is a directory\n",
    "        if os.path.isdir(item_path):\n",
    "            folder_count += 1\n",
    "    return folder_count\n",
    "\n",
    "# # Example usage\n",
    "# directory_path = '/home/jovyan/1_outlines_candidates/output/FigS1_lake_reexamination_methods.ipynb/plot_height_changes'  # Replace this with the path to your directory\n",
    "# print(f'There are {count_folders_in_directory(directory_path)} folders in \"{directory_path}\"')"
   ]
  },
  {
   "cell_type": "code",
   "execution_count": 34,
   "id": "bc22b33f-6e94-4a5b-a8bd-1f401eefa44d",
   "metadata": {},
   "outputs": [],
   "source": [
    "# def find_evolving_outlines_unary_union(lake_gdf):\n",
    "#     '''\n",
    "#     Find the unary union of evovling outlines\n",
    "#     '''\n",
    "#     lake_name = lake_gdf['name'].iloc[0]\n",
    "#     static_outline = lake_gdf['geometry'].iloc[0]\n",
    "\n",
    "#     # Attempt to open evolving outlines geojson\n",
    "#     try:\n",
    "#         evolving_outlines_gdf = gpd.read_file(os.path.join(\n",
    "#             os.getcwd(), 'output/lake_outlines/evolving_outlines/{}.geojson'.format(lake_name)))\n",
    "#     except Exception as e:  # Using a general exception to catch all file and driver errors\n",
    "#         print(f\"File for {lake_name} not found or error reading file: {e}\")\n",
    "#         return None\n",
    "\n",
    "#     # Create evolving outlines unary union\n",
    "#     evolving_outlines_unary_union = unary_union(list(evolving_outlines_gdf.geometry))\n",
    "\n",
    "#     return evolving_outlines_unary_union"
   ]
  },
  {
   "cell_type": "code",
   "execution_count": 40,
   "id": "987cb664-0b99-4afb-91a9-f3561953a844",
   "metadata": {},
   "outputs": [],
   "source": [
    "def find_evolving_outlines_unary_union(lake_gdf):\n",
    "    '''\n",
    "    Find the unary union of evolving outlines and return as a GeoSeries.\n",
    "    \n",
    "    Args:\n",
    "    lake_gdf: GeoDataFrame containing the lake's evolving outlines.\n",
    "\n",
    "    Returns:\n",
    "    GeoSeries containing the unary union of the outlines, or None if an error occurs.\n",
    "    '''\n",
    "    lake_name = lake_gdf['name']\n",
    "\n",
    "    # Attempt to open evolving outlines geojson\n",
    "    try:\n",
    "        evolving_outlines_gdf = gpd.read_file(os.path.join(\n",
    "            os.getcwd(), 'output/lake_outlines/evolving_outlines/{}.geojson'.format(lake_name)))\n",
    "    except Exception as e:  # Using a general exception to catch all file and driver errors\n",
    "        print(f\"File for {lake_name} not found or error reading file: {e}\")\n",
    "        return None\n",
    "\n",
    "    # Create evolving outlines unary union\n",
    "    evolving_outlines_unary_union = unary_union(list(evolving_outlines_gdf.geometry))\n",
    "    \n",
    "    return gpd.GeoSeries([evolving_outlines_unary_union], index=[lake_gdf.index[0]])"
   ]
  },
  {
   "cell_type": "markdown",
   "id": "6f5e0e1c-b26e-4ee3-87eb-ceea82bc5d73",
   "metadata": {},
   "source": [
    "# Import datasets"
   ]
  },
  {
   "cell_type": "code",
   "execution_count": 38,
   "id": "48d1542f-fb79-4965-a13f-3c84a3fa69fd",
   "metadata": {
    "tags": []
   },
   "outputs": [],
   "source": [
    "# Import subglacial lake outlines \n",
    "S09_outlines = gpd.read_file('/home/jovyan/1_evolving_Ant_subglacial_hydro/Sauthoff-2025-J.Glaciol./output/lake_outlines/static_outlines/S09_outlines.geojson')\n",
    "SF18_outlines = gpd.read_file('/home/jovyan/1_evolving_Ant_subglacial_hydro/Sauthoff-2025-J.Glaciol./output/lake_outlines/static_outlines/SF18_outlines.geojson')\n",
    "static_lakes_gdf = gpd.read_file('/home/jovyan/1_evolving_Ant_subglacial_hydro/Sauthoff-2025-J.Glaciol./output/lake_outlines/static_outlines/static_lakes_gdf.geojson')\n",
    "static_lakes_gdf_postSF18 = gpd.read_file('/home/jovyan/1_evolving_Ant_subglacial_hydro/Sauthoff-2025-J.Glaciol./output/lake_outlines/static_outlines/static_lakes_gdf_postSF18.geojson')"
   ]
  },
  {
   "cell_type": "code",
   "execution_count": 29,
   "id": "c3c97b1e-bbd7-4f54-a26d-21d2aa3c9c63",
   "metadata": {
    "tags": []
   },
   "outputs": [],
   "source": [
    "# MODIS MOA 2014 coastline and grounding line\n",
    "# https://nsidc.org/data/nsidc-0730/versions/1\n",
    "shp = DATA_DIR + '/boundaries/MODIS_MOA/2014/moa2014_coastline_v01.shp' \n",
    "moa_2014_coastline = gpd.read_file(shp)\n",
    "shp = DATA_DIR + '/boundaries/MODIS_MOA/2014/moa2014_grounding_line_v01.shp' \n",
    "moa_2014_groundingline = gpd.read_file(shp, crs=3031)\n",
    "# moa_2014_groundingline['geometry'] = moa_2014_groundingline.buffer(0)"
   ]
  },
  {
   "cell_type": "code",
   "execution_count": 30,
   "id": "e44c162d-b4d2-419f-81cd-945373956006",
   "metadata": {},
   "outputs": [
    {
     "name": "stderr",
     "output_type": "stream",
     "text": [
      "Warning 1: TIFFReadDirectory:Invalid data type for tag StripByteCounts\n",
      "Warning 1: TIFFFetchNormalTag:Incorrect value for \"GeoKeyDirectory\"; tag ignored\n",
      "Warning 1: TIFFFetchNormalTag:ASCII value for tag \"GeoASCIIParams\" contains null byte in value; value incorrectly truncated during reading due to implementation limitations\n"
     ]
    }
   ],
   "source": [
    "# Import MODIS Mosaic of Antarctica (MOA) surface imagery\n",
    "# https://nsidc.org/data/nsidc-0730/versions/1\n",
    "# Relocate to data_dir\n",
    "# Open into an xarray.DataArray\n",
    "# moa_lowres = DATA_DIR + '/surface_imagery/MODIS_MOA/2014/moa750_2014_hp1_v01.tif' \n",
    "# moa_lowres_da = rioxarray.open_rasterio(moa_lowres)\n",
    "\n",
    "moa_highres = DATA_DIR + '/surface_imagery/MODIS_MOA/2014/moa125_2014_hp1_v01.tif' \n",
    "moa_highres_da = rioxarray.open_rasterio(moa_highres)"
   ]
  },
  {
   "cell_type": "code",
   "execution_count": 31,
   "id": "8d43f854-e9c7-4251-a30d-522a248383b8",
   "metadata": {},
   "outputs": [
    {
     "data": {
      "text/html": [
       "<div><svg style=\"position: absolute; width: 0; height: 0; overflow: hidden\">\n",
       "<defs>\n",
       "<symbol id=\"icon-database\" viewBox=\"0 0 32 32\">\n",
       "<path d=\"M16 0c-8.837 0-16 2.239-16 5v4c0 2.761 7.163 5 16 5s16-2.239 16-5v-4c0-2.761-7.163-5-16-5z\"></path>\n",
       "<path d=\"M16 17c-8.837 0-16-2.239-16-5v6c0 2.761 7.163 5 16 5s16-2.239 16-5v-6c0 2.761-7.163 5-16 5z\"></path>\n",
       "<path d=\"M16 26c-8.837 0-16-2.239-16-5v6c0 2.761 7.163 5 16 5s16-2.239 16-5v-6c0 2.761-7.163 5-16 5z\"></path>\n",
       "</symbol>\n",
       "<symbol id=\"icon-file-text2\" viewBox=\"0 0 32 32\">\n",
       "<path d=\"M28.681 7.159c-0.694-0.947-1.662-2.053-2.724-3.116s-2.169-2.030-3.116-2.724c-1.612-1.182-2.393-1.319-2.841-1.319h-15.5c-1.378 0-2.5 1.121-2.5 2.5v27c0 1.378 1.122 2.5 2.5 2.5h23c1.378 0 2.5-1.122 2.5-2.5v-19.5c0-0.448-0.137-1.23-1.319-2.841zM24.543 5.457c0.959 0.959 1.712 1.825 2.268 2.543h-4.811v-4.811c0.718 0.556 1.584 1.309 2.543 2.268zM28 29.5c0 0.271-0.229 0.5-0.5 0.5h-23c-0.271 0-0.5-0.229-0.5-0.5v-27c0-0.271 0.229-0.5 0.5-0.5 0 0 15.499-0 15.5 0v7c0 0.552 0.448 1 1 1h7v19.5z\"></path>\n",
       "<path d=\"M23 26h-14c-0.552 0-1-0.448-1-1s0.448-1 1-1h14c0.552 0 1 0.448 1 1s-0.448 1-1 1z\"></path>\n",
       "<path d=\"M23 22h-14c-0.552 0-1-0.448-1-1s0.448-1 1-1h14c0.552 0 1 0.448 1 1s-0.448 1-1 1z\"></path>\n",
       "<path d=\"M23 18h-14c-0.552 0-1-0.448-1-1s0.448-1 1-1h14c0.552 0 1 0.448 1 1s-0.448 1-1 1z\"></path>\n",
       "</symbol>\n",
       "</defs>\n",
       "</svg>\n",
       "<style>/* CSS stylesheet for displaying xarray objects in jupyterlab.\n",
       " *\n",
       " */\n",
       "\n",
       ":root {\n",
       "  --xr-font-color0: var(--jp-content-font-color0, rgba(0, 0, 0, 1));\n",
       "  --xr-font-color2: var(--jp-content-font-color2, rgba(0, 0, 0, 0.54));\n",
       "  --xr-font-color3: var(--jp-content-font-color3, rgba(0, 0, 0, 0.38));\n",
       "  --xr-border-color: var(--jp-border-color2, #e0e0e0);\n",
       "  --xr-disabled-color: var(--jp-layout-color3, #bdbdbd);\n",
       "  --xr-background-color: var(--jp-layout-color0, white);\n",
       "  --xr-background-color-row-even: var(--jp-layout-color1, white);\n",
       "  --xr-background-color-row-odd: var(--jp-layout-color2, #eeeeee);\n",
       "}\n",
       "\n",
       "html[theme=dark],\n",
       "body[data-theme=dark],\n",
       "body.vscode-dark {\n",
       "  --xr-font-color0: rgba(255, 255, 255, 1);\n",
       "  --xr-font-color2: rgba(255, 255, 255, 0.54);\n",
       "  --xr-font-color3: rgba(255, 255, 255, 0.38);\n",
       "  --xr-border-color: #1F1F1F;\n",
       "  --xr-disabled-color: #515151;\n",
       "  --xr-background-color: #111111;\n",
       "  --xr-background-color-row-even: #111111;\n",
       "  --xr-background-color-row-odd: #313131;\n",
       "}\n",
       "\n",
       ".xr-wrap {\n",
       "  display: block !important;\n",
       "  min-width: 300px;\n",
       "  max-width: 700px;\n",
       "}\n",
       "\n",
       ".xr-text-repr-fallback {\n",
       "  /* fallback to plain text repr when CSS is not injected (untrusted notebook) */\n",
       "  display: none;\n",
       "}\n",
       "\n",
       ".xr-header {\n",
       "  padding-top: 6px;\n",
       "  padding-bottom: 6px;\n",
       "  margin-bottom: 4px;\n",
       "  border-bottom: solid 1px var(--xr-border-color);\n",
       "}\n",
       "\n",
       ".xr-header > div,\n",
       ".xr-header > ul {\n",
       "  display: inline;\n",
       "  margin-top: 0;\n",
       "  margin-bottom: 0;\n",
       "}\n",
       "\n",
       ".xr-obj-type,\n",
       ".xr-array-name {\n",
       "  margin-left: 2px;\n",
       "  margin-right: 10px;\n",
       "}\n",
       "\n",
       ".xr-obj-type {\n",
       "  color: var(--xr-font-color2);\n",
       "}\n",
       "\n",
       ".xr-sections {\n",
       "  padding-left: 0 !important;\n",
       "  display: grid;\n",
       "  grid-template-columns: 150px auto auto 1fr 20px 20px;\n",
       "}\n",
       "\n",
       ".xr-section-item {\n",
       "  display: contents;\n",
       "}\n",
       "\n",
       ".xr-section-item input {\n",
       "  display: none;\n",
       "}\n",
       "\n",
       ".xr-section-item input + label {\n",
       "  color: var(--xr-disabled-color);\n",
       "}\n",
       "\n",
       ".xr-section-item input:enabled + label {\n",
       "  cursor: pointer;\n",
       "  color: var(--xr-font-color2);\n",
       "}\n",
       "\n",
       ".xr-section-item input:enabled + label:hover {\n",
       "  color: var(--xr-font-color0);\n",
       "}\n",
       "\n",
       ".xr-section-summary {\n",
       "  grid-column: 1;\n",
       "  color: var(--xr-font-color2);\n",
       "  font-weight: 500;\n",
       "}\n",
       "\n",
       ".xr-section-summary > span {\n",
       "  display: inline-block;\n",
       "  padding-left: 0.5em;\n",
       "}\n",
       "\n",
       ".xr-section-summary-in:disabled + label {\n",
       "  color: var(--xr-font-color2);\n",
       "}\n",
       "\n",
       ".xr-section-summary-in + label:before {\n",
       "  display: inline-block;\n",
       "  content: '►';\n",
       "  font-size: 11px;\n",
       "  width: 15px;\n",
       "  text-align: center;\n",
       "}\n",
       "\n",
       ".xr-section-summary-in:disabled + label:before {\n",
       "  color: var(--xr-disabled-color);\n",
       "}\n",
       "\n",
       ".xr-section-summary-in:checked + label:before {\n",
       "  content: '▼';\n",
       "}\n",
       "\n",
       ".xr-section-summary-in:checked + label > span {\n",
       "  display: none;\n",
       "}\n",
       "\n",
       ".xr-section-summary,\n",
       ".xr-section-inline-details {\n",
       "  padding-top: 4px;\n",
       "  padding-bottom: 4px;\n",
       "}\n",
       "\n",
       ".xr-section-inline-details {\n",
       "  grid-column: 2 / -1;\n",
       "}\n",
       "\n",
       ".xr-section-details {\n",
       "  display: none;\n",
       "  grid-column: 1 / -1;\n",
       "  margin-bottom: 5px;\n",
       "}\n",
       "\n",
       ".xr-section-summary-in:checked ~ .xr-section-details {\n",
       "  display: contents;\n",
       "}\n",
       "\n",
       ".xr-array-wrap {\n",
       "  grid-column: 1 / -1;\n",
       "  display: grid;\n",
       "  grid-template-columns: 20px auto;\n",
       "}\n",
       "\n",
       ".xr-array-wrap > label {\n",
       "  grid-column: 1;\n",
       "  vertical-align: top;\n",
       "}\n",
       "\n",
       ".xr-preview {\n",
       "  color: var(--xr-font-color3);\n",
       "}\n",
       "\n",
       ".xr-array-preview,\n",
       ".xr-array-data {\n",
       "  padding: 0 5px !important;\n",
       "  grid-column: 2;\n",
       "}\n",
       "\n",
       ".xr-array-data,\n",
       ".xr-array-in:checked ~ .xr-array-preview {\n",
       "  display: none;\n",
       "}\n",
       "\n",
       ".xr-array-in:checked ~ .xr-array-data,\n",
       ".xr-array-preview {\n",
       "  display: inline-block;\n",
       "}\n",
       "\n",
       ".xr-dim-list {\n",
       "  display: inline-block !important;\n",
       "  list-style: none;\n",
       "  padding: 0 !important;\n",
       "  margin: 0;\n",
       "}\n",
       "\n",
       ".xr-dim-list li {\n",
       "  display: inline-block;\n",
       "  padding: 0;\n",
       "  margin: 0;\n",
       "}\n",
       "\n",
       ".xr-dim-list:before {\n",
       "  content: '(';\n",
       "}\n",
       "\n",
       ".xr-dim-list:after {\n",
       "  content: ')';\n",
       "}\n",
       "\n",
       ".xr-dim-list li:not(:last-child):after {\n",
       "  content: ',';\n",
       "  padding-right: 5px;\n",
       "}\n",
       "\n",
       ".xr-has-index {\n",
       "  font-weight: bold;\n",
       "}\n",
       "\n",
       ".xr-var-list,\n",
       ".xr-var-item {\n",
       "  display: contents;\n",
       "}\n",
       "\n",
       ".xr-var-item > div,\n",
       ".xr-var-item label,\n",
       ".xr-var-item > .xr-var-name span {\n",
       "  background-color: var(--xr-background-color-row-even);\n",
       "  margin-bottom: 0;\n",
       "}\n",
       "\n",
       ".xr-var-item > .xr-var-name:hover span {\n",
       "  padding-right: 5px;\n",
       "}\n",
       "\n",
       ".xr-var-list > li:nth-child(odd) > div,\n",
       ".xr-var-list > li:nth-child(odd) > label,\n",
       ".xr-var-list > li:nth-child(odd) > .xr-var-name span {\n",
       "  background-color: var(--xr-background-color-row-odd);\n",
       "}\n",
       "\n",
       ".xr-var-name {\n",
       "  grid-column: 1;\n",
       "}\n",
       "\n",
       ".xr-var-dims {\n",
       "  grid-column: 2;\n",
       "}\n",
       "\n",
       ".xr-var-dtype {\n",
       "  grid-column: 3;\n",
       "  text-align: right;\n",
       "  color: var(--xr-font-color2);\n",
       "}\n",
       "\n",
       ".xr-var-preview {\n",
       "  grid-column: 4;\n",
       "}\n",
       "\n",
       ".xr-index-preview {\n",
       "  grid-column: 2 / 5;\n",
       "  color: var(--xr-font-color2);\n",
       "}\n",
       "\n",
       ".xr-var-name,\n",
       ".xr-var-dims,\n",
       ".xr-var-dtype,\n",
       ".xr-preview,\n",
       ".xr-attrs dt {\n",
       "  white-space: nowrap;\n",
       "  overflow: hidden;\n",
       "  text-overflow: ellipsis;\n",
       "  padding-right: 10px;\n",
       "}\n",
       "\n",
       ".xr-var-name:hover,\n",
       ".xr-var-dims:hover,\n",
       ".xr-var-dtype:hover,\n",
       ".xr-attrs dt:hover {\n",
       "  overflow: visible;\n",
       "  width: auto;\n",
       "  z-index: 1;\n",
       "}\n",
       "\n",
       ".xr-var-attrs,\n",
       ".xr-var-data,\n",
       ".xr-index-data {\n",
       "  display: none;\n",
       "  background-color: var(--xr-background-color) !important;\n",
       "  padding-bottom: 5px !important;\n",
       "}\n",
       "\n",
       ".xr-var-attrs-in:checked ~ .xr-var-attrs,\n",
       ".xr-var-data-in:checked ~ .xr-var-data,\n",
       ".xr-index-data-in:checked ~ .xr-index-data {\n",
       "  display: block;\n",
       "}\n",
       "\n",
       ".xr-var-data > table {\n",
       "  float: right;\n",
       "}\n",
       "\n",
       ".xr-var-name span,\n",
       ".xr-var-data,\n",
       ".xr-index-name div,\n",
       ".xr-index-data,\n",
       ".xr-attrs {\n",
       "  padding-left: 25px !important;\n",
       "}\n",
       "\n",
       ".xr-attrs,\n",
       ".xr-var-attrs,\n",
       ".xr-var-data,\n",
       ".xr-index-data {\n",
       "  grid-column: 1 / -1;\n",
       "}\n",
       "\n",
       "dl.xr-attrs {\n",
       "  padding: 0;\n",
       "  margin: 0;\n",
       "  display: grid;\n",
       "  grid-template-columns: 125px auto;\n",
       "}\n",
       "\n",
       ".xr-attrs dt,\n",
       ".xr-attrs dd {\n",
       "  padding: 0;\n",
       "  margin: 0;\n",
       "  float: left;\n",
       "  padding-right: 10px;\n",
       "  width: auto;\n",
       "}\n",
       "\n",
       ".xr-attrs dt {\n",
       "  font-weight: normal;\n",
       "  grid-column: 1;\n",
       "}\n",
       "\n",
       ".xr-attrs dt:hover span {\n",
       "  display: inline-block;\n",
       "  background: var(--xr-background-color);\n",
       "  padding-right: 10px;\n",
       "}\n",
       "\n",
       ".xr-attrs dd {\n",
       "  grid-column: 2;\n",
       "  white-space: pre-wrap;\n",
       "  word-break: break-all;\n",
       "}\n",
       "\n",
       ".xr-icon-database,\n",
       ".xr-icon-file-text2,\n",
       ".xr-no-icon {\n",
       "  display: inline-block;\n",
       "  vertical-align: middle;\n",
       "  width: 1em;\n",
       "  height: 1.5em !important;\n",
       "  stroke-width: 0;\n",
       "  stroke: currentColor;\n",
       "  fill: currentColor;\n",
       "}\n",
       "</style><pre class='xr-text-repr-fallback'>&lt;xarray.Dataset&gt; Size: 20GB\n",
       "Dimensions:      (y: 4451, x: 5451, time: 34)\n",
       "Coordinates:\n",
       "  * y            (y) float64 36kB -2.185e+06 -2.184e+06 ... 2.264e+06 2.265e+06\n",
       "  * x            (x) float64 44kB -2.665e+06 -2.664e+06 ... 2.784e+06 2.785e+06\n",
       "    spatial_ref  int64 8B 0\n",
       "  * time         (time) datetime64[ns] 272B 2010-07-02T15:00:00 ... 2018-10-0...\n",
       "Data variables:\n",
       "    mask         (y, x) float64 194MB ...\n",
       "    data_count   (time, y, x) float64 7GB ...\n",
       "    h            (time, y, x) float64 7GB ...\n",
       "    delta_h      (time, y, x) float64 7GB ...\n",
       "Attributes:\n",
       "    fileName:                mos_2010.5_2021.5.h5\n",
       "    shortName:               CS2-Smith-2017\n",
       "    identifier_product_DOI:  doi:10.5194/tc-11-451-2017</pre><div class='xr-wrap' style='display:none'><div class='xr-header'><div class='xr-obj-type'>xarray.Dataset</div></div><ul class='xr-sections'><li class='xr-section-item'><input id='section-bbfc39eb-e6b4-4fbe-8acf-31e41af36eec' class='xr-section-summary-in' type='checkbox' disabled ><label for='section-bbfc39eb-e6b4-4fbe-8acf-31e41af36eec' class='xr-section-summary'  title='Expand/collapse section'>Dimensions:</label><div class='xr-section-inline-details'><ul class='xr-dim-list'><li><span class='xr-has-index'>y</span>: 4451</li><li><span class='xr-has-index'>x</span>: 5451</li><li><span class='xr-has-index'>time</span>: 34</li></ul></div><div class='xr-section-details'></div></li><li class='xr-section-item'><input id='section-624fbe60-b9c1-40c8-8498-c649c1395b80' class='xr-section-summary-in' type='checkbox'  checked><label for='section-624fbe60-b9c1-40c8-8498-c649c1395b80' class='xr-section-summary' >Coordinates: <span>(4)</span></label><div class='xr-section-inline-details'></div><div class='xr-section-details'><ul class='xr-var-list'><li class='xr-var-item'><div class='xr-var-name'><span class='xr-has-index'>y</span></div><div class='xr-var-dims'>(y)</div><div class='xr-var-dtype'>float64</div><div class='xr-var-preview xr-preview'>-2.185e+06 -2.184e+06 ... 2.265e+06</div><input id='attrs-db7305a0-f12f-4590-8bd9-5bb03bd9dec3' class='xr-var-attrs-in' type='checkbox' disabled><label for='attrs-db7305a0-f12f-4590-8bd9-5bb03bd9dec3' title='Show/Hide attributes'><svg class='icon xr-icon-file-text2'><use xlink:href='#icon-file-text2'></use></svg></label><input id='data-532b2c59-1ad7-4c30-ac41-595d3164affd' class='xr-var-data-in' type='checkbox'><label for='data-532b2c59-1ad7-4c30-ac41-595d3164affd' title='Show/Hide data repr'><svg class='icon xr-icon-database'><use xlink:href='#icon-database'></use></svg></label><div class='xr-var-attrs'><dl class='xr-attrs'></dl></div><div class='xr-var-data'><pre>array([-2185000., -2184000., -2183000., ...,  2263000.,  2264000.,  2265000.])</pre></div></li><li class='xr-var-item'><div class='xr-var-name'><span class='xr-has-index'>x</span></div><div class='xr-var-dims'>(x)</div><div class='xr-var-dtype'>float64</div><div class='xr-var-preview xr-preview'>-2.665e+06 -2.664e+06 ... 2.785e+06</div><input id='attrs-0f6bef43-27d7-455f-82b6-6924ebf61e7b' class='xr-var-attrs-in' type='checkbox' disabled><label for='attrs-0f6bef43-27d7-455f-82b6-6924ebf61e7b' title='Show/Hide attributes'><svg class='icon xr-icon-file-text2'><use xlink:href='#icon-file-text2'></use></svg></label><input id='data-9e496390-9e80-46b0-b1f0-26eebb9dd9f0' class='xr-var-data-in' type='checkbox'><label for='data-9e496390-9e80-46b0-b1f0-26eebb9dd9f0' title='Show/Hide data repr'><svg class='icon xr-icon-database'><use xlink:href='#icon-database'></use></svg></label><div class='xr-var-attrs'><dl class='xr-attrs'></dl></div><div class='xr-var-data'><pre>array([-2665000., -2664000., -2663000., ...,  2783000.,  2784000.,  2785000.])</pre></div></li><li class='xr-var-item'><div class='xr-var-name'><span>spatial_ref</span></div><div class='xr-var-dims'>()</div><div class='xr-var-dtype'>int64</div><div class='xr-var-preview xr-preview'>0</div><input id='attrs-80f94135-2b18-4718-96b6-86f760939b38' class='xr-var-attrs-in' type='checkbox' ><label for='attrs-80f94135-2b18-4718-96b6-86f760939b38' title='Show/Hide attributes'><svg class='icon xr-icon-file-text2'><use xlink:href='#icon-file-text2'></use></svg></label><input id='data-06af1059-4595-48de-b167-748770e62a5c' class='xr-var-data-in' type='checkbox'><label for='data-06af1059-4595-48de-b167-748770e62a5c' title='Show/Hide data repr'><svg class='icon xr-icon-database'><use xlink:href='#icon-database'></use></svg></label><div class='xr-var-attrs'><dl class='xr-attrs'><dt><span>crs_wkt :</span></dt><dd>PROJCS[&quot;WGS 84 / Antarctic Polar Stereographic&quot;,GEOGCS[&quot;WGS 84&quot;,DATUM[&quot;WGS_1984&quot;,SPHEROID[&quot;WGS 84&quot;,6378137,298.257223563,AUTHORITY[&quot;EPSG&quot;,&quot;7030&quot;]],AUTHORITY[&quot;EPSG&quot;,&quot;6326&quot;]],PRIMEM[&quot;Greenwich&quot;,0,AUTHORITY[&quot;EPSG&quot;,&quot;8901&quot;]],UNIT[&quot;degree&quot;,0.0174532925199433,AUTHORITY[&quot;EPSG&quot;,&quot;9122&quot;]],AUTHORITY[&quot;EPSG&quot;,&quot;4326&quot;]],PROJECTION[&quot;Polar_Stereographic&quot;],PARAMETER[&quot;latitude_of_origin&quot;,-71],PARAMETER[&quot;central_meridian&quot;,0],PARAMETER[&quot;false_easting&quot;,0],PARAMETER[&quot;false_northing&quot;,0],UNIT[&quot;metre&quot;,1,AUTHORITY[&quot;EPSG&quot;,&quot;9001&quot;]],AXIS[&quot;Easting&quot;,NORTH],AXIS[&quot;Northing&quot;,NORTH],AUTHORITY[&quot;EPSG&quot;,&quot;3031&quot;]]</dd><dt><span>semi_major_axis :</span></dt><dd>6378137.0</dd><dt><span>semi_minor_axis :</span></dt><dd>6356752.314245179</dd><dt><span>inverse_flattening :</span></dt><dd>298.257223563</dd><dt><span>reference_ellipsoid_name :</span></dt><dd>WGS 84</dd><dt><span>longitude_of_prime_meridian :</span></dt><dd>0.0</dd><dt><span>prime_meridian_name :</span></dt><dd>Greenwich</dd><dt><span>geographic_crs_name :</span></dt><dd>WGS 84</dd><dt><span>horizontal_datum_name :</span></dt><dd>World Geodetic System 1984</dd><dt><span>projected_crs_name :</span></dt><dd>WGS 84 / Antarctic Polar Stereographic</dd><dt><span>grid_mapping_name :</span></dt><dd>polar_stereographic</dd><dt><span>standard_parallel :</span></dt><dd>-71.0</dd><dt><span>straight_vertical_longitude_from_pole :</span></dt><dd>0.0</dd><dt><span>false_easting :</span></dt><dd>0.0</dd><dt><span>false_northing :</span></dt><dd>0.0</dd><dt><span>spatial_ref :</span></dt><dd>PROJCS[&quot;WGS 84 / Antarctic Polar Stereographic&quot;,GEOGCS[&quot;WGS 84&quot;,DATUM[&quot;WGS_1984&quot;,SPHEROID[&quot;WGS 84&quot;,6378137,298.257223563,AUTHORITY[&quot;EPSG&quot;,&quot;7030&quot;]],AUTHORITY[&quot;EPSG&quot;,&quot;6326&quot;]],PRIMEM[&quot;Greenwich&quot;,0,AUTHORITY[&quot;EPSG&quot;,&quot;8901&quot;]],UNIT[&quot;degree&quot;,0.0174532925199433,AUTHORITY[&quot;EPSG&quot;,&quot;9122&quot;]],AUTHORITY[&quot;EPSG&quot;,&quot;4326&quot;]],PROJECTION[&quot;Polar_Stereographic&quot;],PARAMETER[&quot;latitude_of_origin&quot;,-71],PARAMETER[&quot;central_meridian&quot;,0],PARAMETER[&quot;false_easting&quot;,0],PARAMETER[&quot;false_northing&quot;,0],UNIT[&quot;metre&quot;,1,AUTHORITY[&quot;EPSG&quot;,&quot;9001&quot;]],AXIS[&quot;Easting&quot;,NORTH],AXIS[&quot;Northing&quot;,NORTH],AUTHORITY[&quot;EPSG&quot;,&quot;3031&quot;]]</dd></dl></div><div class='xr-var-data'><pre>array(0)</pre></div></li><li class='xr-var-item'><div class='xr-var-name'><span class='xr-has-index'>time</span></div><div class='xr-var-dims'>(time)</div><div class='xr-var-dtype'>datetime64[ns]</div><div class='xr-var-preview xr-preview'>2010-07-02T15:00:00 ... 2018-10-...</div><input id='attrs-15a4942d-1f11-4d3f-93fc-26f58a36a12d' class='xr-var-attrs-in' type='checkbox' ><label for='attrs-15a4942d-1f11-4d3f-93fc-26f58a36a12d' title='Show/Hide attributes'><svg class='icon xr-icon-file-text2'><use xlink:href='#icon-file-text2'></use></svg></label><input id='data-970206e2-98c6-45d3-a916-a29008daa568' class='xr-var-data-in' type='checkbox'><label for='data-970206e2-98c6-45d3-a916-a29008daa568' title='Show/Hide data repr'><svg class='icon xr-icon-database'><use xlink:href='#icon-database'></use></svg></label><div class='xr-var-attrs'><dl class='xr-attrs'><dt><span>description :</span></dt><dd>Time for each node</dd></dl></div><div class='xr-var-data'><pre>array([&#x27;2010-07-02T15:00:00.000000000&#x27;, &#x27;2010-10-01T22:30:00.000000000&#x27;,\n",
       "       &#x27;2011-01-01T00:00:00.000000000&#x27;, &#x27;2011-04-02T07:30:00.000000000&#x27;,\n",
       "       &#x27;2011-07-02T15:00:00.000000000&#x27;, &#x27;2011-10-01T22:30:00.000000000&#x27;,\n",
       "       &#x27;2012-01-01T00:00:00.000000000&#x27;, &#x27;2012-04-01T07:30:00.000000000&#x27;,\n",
       "       &#x27;2012-07-01T15:00:00.000000000&#x27;, &#x27;2012-09-30T22:30:00.000000000&#x27;,\n",
       "       &#x27;2013-01-01T00:00:00.000000000&#x27;, &#x27;2013-04-02T07:30:00.000000000&#x27;,\n",
       "       &#x27;2013-07-02T15:00:00.000000000&#x27;, &#x27;2013-10-01T22:30:00.000000000&#x27;,\n",
       "       &#x27;2014-01-01T00:00:00.000000000&#x27;, &#x27;2014-04-02T07:30:00.000000000&#x27;,\n",
       "       &#x27;2014-07-02T15:00:00.000000000&#x27;, &#x27;2014-10-01T22:30:00.000000000&#x27;,\n",
       "       &#x27;2015-01-01T00:00:00.000000000&#x27;, &#x27;2015-04-02T07:30:00.000000000&#x27;,\n",
       "       &#x27;2015-07-02T15:00:00.000000000&#x27;, &#x27;2015-10-01T22:30:00.000000000&#x27;,\n",
       "       &#x27;2016-01-01T00:00:00.000000000&#x27;, &#x27;2016-04-01T07:30:00.000000000&#x27;,\n",
       "       &#x27;2016-07-01T15:00:00.000000000&#x27;, &#x27;2016-09-30T22:30:00.000000000&#x27;,\n",
       "       &#x27;2017-01-01T00:00:00.000000000&#x27;, &#x27;2017-04-02T07:30:00.000000000&#x27;,\n",
       "       &#x27;2017-07-02T15:00:00.000000000&#x27;, &#x27;2017-10-01T22:30:00.000000000&#x27;,\n",
       "       &#x27;2018-01-01T00:00:00.000000000&#x27;, &#x27;2018-04-02T07:30:00.000000000&#x27;,\n",
       "       &#x27;2018-07-02T15:00:00.000000000&#x27;, &#x27;2018-10-01T22:30:00.000000000&#x27;],\n",
       "      dtype=&#x27;datetime64[ns]&#x27;)</pre></div></li></ul></div></li><li class='xr-section-item'><input id='section-4969259a-53ac-4e20-99a7-a43d007d5712' class='xr-section-summary-in' type='checkbox'  checked><label for='section-4969259a-53ac-4e20-99a7-a43d007d5712' class='xr-section-summary' >Data variables: <span>(4)</span></label><div class='xr-section-inline-details'></div><div class='xr-section-details'><ul class='xr-var-list'><li class='xr-var-item'><div class='xr-var-name'><span>mask</span></div><div class='xr-var-dims'>(y, x)</div><div class='xr-var-dtype'>float64</div><div class='xr-var-preview xr-preview'>...</div><input id='attrs-68672757-68fb-464b-a31b-994254023b89' class='xr-var-attrs-in' type='checkbox' ><label for='attrs-68672757-68fb-464b-a31b-994254023b89' title='Show/Hide attributes'><svg class='icon xr-icon-file-text2'><use xlink:href='#icon-file-text2'></use></svg></label><input id='data-f821cedd-cbf7-4ad7-9bcd-ff3820165e55' class='xr-var-data-in' type='checkbox'><label for='data-f821cedd-cbf7-4ad7-9bcd-ff3820165e55' title='Show/Hide data repr'><svg class='icon xr-icon-database'><use xlink:href='#icon-database'></use></svg></label><div class='xr-var-attrs'><dl class='xr-attrs'><dt><span>description: :</span></dt><dd>Data mask. 0: unknown, 1: unknown, nan: nan</dd><dt><span>grid_mapping :</span></dt><dd>spatial_ref</dd></dl></div><div class='xr-var-data'><pre>[24262401 values with dtype=float64]</pre></div></li><li class='xr-var-item'><div class='xr-var-name'><span>data_count</span></div><div class='xr-var-dims'>(time, y, x)</div><div class='xr-var-dtype'>float64</div><div class='xr-var-preview xr-preview'>...</div><input id='attrs-9a1e9b84-75a7-495a-b5e3-da4ddefcbb9d' class='xr-var-attrs-in' type='checkbox' ><label for='attrs-9a1e9b84-75a7-495a-b5e3-da4ddefcbb9d' title='Show/Hide attributes'><svg class='icon xr-icon-file-text2'><use xlink:href='#icon-file-text2'></use></svg></label><input id='data-7e010f54-0516-4668-a5a5-d70c44a9fd59' class='xr-var-data-in' type='checkbox'><label for='data-7e010f54-0516-4668-a5a5-d70c44a9fd59' title='Show/Hide data repr'><svg class='icon xr-icon-database'><use xlink:href='#icon-database'></use></svg></label><div class='xr-var-attrs'><dl class='xr-attrs'><dt><span>description: :</span></dt><dd>Data mask. 0: bare ground or ocean?, 1: ice?, nan: nan</dd><dt><span>grid_mapping :</span></dt><dd>spatial_ref</dd></dl></div><div class='xr-var-data'><pre>[824921634 values with dtype=float64]</pre></div></li><li class='xr-var-item'><div class='xr-var-name'><span>h</span></div><div class='xr-var-dims'>(time, y, x)</div><div class='xr-var-dtype'>float64</div><div class='xr-var-preview xr-preview'>...</div><input id='attrs-66d35dba-057b-4ba9-9202-9a63d218b2c0' class='xr-var-attrs-in' type='checkbox' disabled><label for='attrs-66d35dba-057b-4ba9-9202-9a63d218b2c0' title='Show/Hide attributes'><svg class='icon xr-icon-file-text2'><use xlink:href='#icon-file-text2'></use></svg></label><input id='data-3910acb8-b2d5-4caf-af32-85584dec0268' class='xr-var-data-in' type='checkbox'><label for='data-3910acb8-b2d5-4caf-af32-85584dec0268' title='Show/Hide data repr'><svg class='icon xr-icon-database'><use xlink:href='#icon-database'></use></svg></label><div class='xr-var-attrs'><dl class='xr-attrs'></dl></div><div class='xr-var-data'><pre>[824921634 values with dtype=float64]</pre></div></li><li class='xr-var-item'><div class='xr-var-name'><span>delta_h</span></div><div class='xr-var-dims'>(time, y, x)</div><div class='xr-var-dtype'>float64</div><div class='xr-var-preview xr-preview'>...</div><input id='attrs-cae533be-ec58-4b6f-8e7a-3e2aeea8b52f' class='xr-var-attrs-in' type='checkbox' ><label for='attrs-cae533be-ec58-4b6f-8e7a-3e2aeea8b52f' title='Show/Hide attributes'><svg class='icon xr-icon-file-text2'><use xlink:href='#icon-file-text2'></use></svg></label><input id='data-10a000e0-11ea-4c95-bab6-249db593c6b3' class='xr-var-data-in' type='checkbox'><label for='data-10a000e0-11ea-4c95-bab6-249db593c6b3' title='Show/Hide data repr'><svg class='icon xr-icon-database'><use xlink:href='#icon-database'></use></svg></label><div class='xr-var-attrs'><dl class='xr-attrs'><dt><span>description :</span></dt><dd>Height change relative to the ATL14 datum (Jan 1, 2020) surface</dd></dl></div><div class='xr-var-data'><pre>[824921634 values with dtype=float64]</pre></div></li></ul></div></li><li class='xr-section-item'><input id='section-1353bf2f-075d-4ca5-8e5c-3004e9ad169c' class='xr-section-summary-in' type='checkbox'  ><label for='section-1353bf2f-075d-4ca5-8e5c-3004e9ad169c' class='xr-section-summary' >Indexes: <span>(3)</span></label><div class='xr-section-inline-details'></div><div class='xr-section-details'><ul class='xr-var-list'><li class='xr-var-item'><div class='xr-index-name'><div>y</div></div><div class='xr-index-preview'>PandasIndex</div><div></div><input id='index-c1989796-33e4-4acc-9bc9-9c638eee3c54' class='xr-index-data-in' type='checkbox'/><label for='index-c1989796-33e4-4acc-9bc9-9c638eee3c54' title='Show/Hide index repr'><svg class='icon xr-icon-database'><use xlink:href='#icon-database'></use></svg></label><div class='xr-index-data'><pre>PandasIndex(Index([-2185000.0, -2184000.0, -2183000.0, -2182000.0, -2181000.0, -2180000.0,\n",
       "       -2179000.0, -2178000.0, -2177000.0, -2176000.0,\n",
       "       ...\n",
       "        2256000.0,  2257000.0,  2258000.0,  2259000.0,  2260000.0,  2261000.0,\n",
       "        2262000.0,  2263000.0,  2264000.0,  2265000.0],\n",
       "      dtype=&#x27;float64&#x27;, name=&#x27;y&#x27;, length=4451))</pre></div></li><li class='xr-var-item'><div class='xr-index-name'><div>x</div></div><div class='xr-index-preview'>PandasIndex</div><div></div><input id='index-372b77c9-47e6-46d9-93f9-dbeeb45a1f1b' class='xr-index-data-in' type='checkbox'/><label for='index-372b77c9-47e6-46d9-93f9-dbeeb45a1f1b' title='Show/Hide index repr'><svg class='icon xr-icon-database'><use xlink:href='#icon-database'></use></svg></label><div class='xr-index-data'><pre>PandasIndex(Index([-2665000.0, -2664000.0, -2663000.0, -2662000.0, -2661000.0, -2660000.0,\n",
       "       -2659000.0, -2658000.0, -2657000.0, -2656000.0,\n",
       "       ...\n",
       "        2776000.0,  2777000.0,  2778000.0,  2779000.0,  2780000.0,  2781000.0,\n",
       "        2782000.0,  2783000.0,  2784000.0,  2785000.0],\n",
       "      dtype=&#x27;float64&#x27;, name=&#x27;x&#x27;, length=5451))</pre></div></li><li class='xr-var-item'><div class='xr-index-name'><div>time</div></div><div class='xr-index-preview'>PandasIndex</div><div></div><input id='index-115312bf-36a4-4574-82e7-af830b5d9e21' class='xr-index-data-in' type='checkbox'/><label for='index-115312bf-36a4-4574-82e7-af830b5d9e21' title='Show/Hide index repr'><svg class='icon xr-icon-database'><use xlink:href='#icon-database'></use></svg></label><div class='xr-index-data'><pre>PandasIndex(DatetimeIndex([&#x27;2010-07-02 15:00:00&#x27;, &#x27;2010-10-01 22:30:00&#x27;,\n",
       "               &#x27;2011-01-01 00:00:00&#x27;, &#x27;2011-04-02 07:30:00&#x27;,\n",
       "               &#x27;2011-07-02 15:00:00&#x27;, &#x27;2011-10-01 22:30:00&#x27;,\n",
       "               &#x27;2012-01-01 00:00:00&#x27;, &#x27;2012-04-01 07:30:00&#x27;,\n",
       "               &#x27;2012-07-01 15:00:00&#x27;, &#x27;2012-09-30 22:30:00&#x27;,\n",
       "               &#x27;2013-01-01 00:00:00&#x27;, &#x27;2013-04-02 07:30:00&#x27;,\n",
       "               &#x27;2013-07-02 15:00:00&#x27;, &#x27;2013-10-01 22:30:00&#x27;,\n",
       "               &#x27;2014-01-01 00:00:00&#x27;, &#x27;2014-04-02 07:30:00&#x27;,\n",
       "               &#x27;2014-07-02 15:00:00&#x27;, &#x27;2014-10-01 22:30:00&#x27;,\n",
       "               &#x27;2015-01-01 00:00:00&#x27;, &#x27;2015-04-02 07:30:00&#x27;,\n",
       "               &#x27;2015-07-02 15:00:00&#x27;, &#x27;2015-10-01 22:30:00&#x27;,\n",
       "               &#x27;2016-01-01 00:00:00&#x27;, &#x27;2016-04-01 07:30:00&#x27;,\n",
       "               &#x27;2016-07-01 15:00:00&#x27;, &#x27;2016-09-30 22:30:00&#x27;,\n",
       "               &#x27;2017-01-01 00:00:00&#x27;, &#x27;2017-04-02 07:30:00&#x27;,\n",
       "               &#x27;2017-07-02 15:00:00&#x27;, &#x27;2017-10-01 22:30:00&#x27;,\n",
       "               &#x27;2018-01-01 00:00:00&#x27;, &#x27;2018-04-02 07:30:00&#x27;,\n",
       "               &#x27;2018-07-02 15:00:00&#x27;, &#x27;2018-10-01 22:30:00&#x27;],\n",
       "              dtype=&#x27;datetime64[ns]&#x27;, name=&#x27;time&#x27;, freq=None))</pre></div></li></ul></div></li><li class='xr-section-item'><input id='section-c7455ea9-0828-482b-a128-4021e4ca2840' class='xr-section-summary-in' type='checkbox'  checked><label for='section-c7455ea9-0828-482b-a128-4021e4ca2840' class='xr-section-summary' >Attributes: <span>(3)</span></label><div class='xr-section-inline-details'></div><div class='xr-section-details'><dl class='xr-attrs'><dt><span>fileName :</span></dt><dd>mos_2010.5_2021.5.h5</dd><dt><span>shortName :</span></dt><dd>CS2-Smith-2017</dd><dt><span>identifier_product_DOI :</span></dt><dd>doi:10.5194/tc-11-451-2017</dd></dl></div></li></ul></div></div>"
      ],
      "text/plain": [
       "<xarray.Dataset> Size: 20GB\n",
       "Dimensions:      (y: 4451, x: 5451, time: 34)\n",
       "Coordinates:\n",
       "  * y            (y) float64 36kB -2.185e+06 -2.184e+06 ... 2.264e+06 2.265e+06\n",
       "  * x            (x) float64 44kB -2.665e+06 -2.664e+06 ... 2.784e+06 2.785e+06\n",
       "    spatial_ref  int64 8B 0\n",
       "  * time         (time) datetime64[ns] 272B 2010-07-02T15:00:00 ... 2018-10-0...\n",
       "Data variables:\n",
       "    mask         (y, x) float64 194MB ...\n",
       "    data_count   (time, y, x) float64 7GB ...\n",
       "    h            (time, y, x) float64 7GB ...\n",
       "    delta_h      (time, y, x) float64 7GB ...\n",
       "Attributes:\n",
       "    fileName:                mos_2010.5_2021.5.h5\n",
       "    shortName:               CS2-Smith-2017\n",
       "    identifier_product_DOI:  doi:10.5194/tc-11-451-2017"
      ]
     },
     "execution_count": 31,
     "metadata": {},
     "output_type": "execute_result"
    }
   ],
   "source": [
    "# Import Smith and others, 2017, TC method CryoSat-2 SARIn height and dheight data (closed source aquired from Ben Smith)\n",
    "CS2_Smith2017 = xr.open_dataset(DATA_DIR + '/altimetry/CryoSat2/CS2_SARIn_Smith2017method/mos_2010.5_2019.0_relative_to_ATL14.nc')\n",
    "# Assign CRS\n",
    "CS2_Smith2017.rio.write_crs(\"EPSG:3031\", inplace=True)\n",
    "CS2_Smith2017"
   ]
  },
  {
   "cell_type": "code",
   "execution_count": 32,
   "id": "c3248a5a-3a1a-4855-a3a7-97e2050e1fd4",
   "metadata": {
    "tags": []
   },
   "outputs": [],
   "source": [
    "# CS2_Smith2017_count = CS2_Smith2017.where(CS2_Smith2017['count'] > 0.5)"
   ]
  },
  {
   "cell_type": "code",
   "execution_count": 33,
   "id": "75f6efce-7341-400e-a660-2e42bbb24d39",
   "metadata": {},
   "outputs": [],
   "source": [
    "# Experimenting with ATL11 read in"
   ]
  },
  {
   "cell_type": "code",
   "execution_count": 34,
   "id": "79b17078-d831-4b2d-a16d-214e5c79b867",
   "metadata": {},
   "outputs": [
    {
     "data": {
      "text/plain": [
       "<earthaccess.auth.Auth at 0x7f4598f805d0>"
      ]
     },
     "execution_count": 34,
     "metadata": {},
     "output_type": "execute_result"
    }
   ],
   "source": [
    "# Log into NASA Earthdata to search for datasets\n",
    "earthaccess.login()"
   ]
  },
  {
   "cell_type": "code",
   "execution_count": 35,
   "id": "3f33130e-0262-4ba9-a696-7f9bda24bf11",
   "metadata": {
    "tags": []
   },
   "outputs": [],
   "source": [
    "# # Find ICESat-2 ATL11 r003 data granules\n",
    "# results = earthaccess.search_data(\n",
    "#     doi='10.5067/ATLAS/ATL11.006',\n",
    "#     # short_name='ATL15',\n",
    "#     # version='003',\n",
    "#     bounding_box=(180, -90, -180, -60),  # (lower_left_lon, lower_left_lat , upper_right_lon, upper_right_lat))\n",
    "#     cloud_hosted=True,\n",
    "# )"
   ]
  },
  {
   "cell_type": "code",
   "execution_count": 36,
   "id": "1fc8217a-507e-4cbe-9e62-207236db2639",
   "metadata": {
    "tags": []
   },
   "outputs": [],
   "source": [
    "# # Open data granules as s3 files to stream\n",
    "# files = earthaccess.open(results)\n",
    "# # files"
   ]
  },
  {
   "cell_type": "code",
   "execution_count": 37,
   "id": "c38e74d8-78d9-44f9-8fe1-651cae14789a",
   "metadata": {
    "tags": []
   },
   "outputs": [],
   "source": [
    "# files[1]"
   ]
  },
  {
   "cell_type": "code",
   "execution_count": 38,
   "id": "0fae3032-84d5-4123-a67c-4daf2cf4643d",
   "metadata": {
    "tags": []
   },
   "outputs": [],
   "source": [
    "# import datatree as dt\n",
    "\n",
    "# # Open the HDF5 file\n",
    "# with h5py.File(files[0], 'r') as h5file:\n",
    "#     # Load the entire HDF5 file into a DataTree\n",
    "#     data_tree = dt.DataTree.from_hdf5(h5file)\n",
    "\n",
    "# # Now `data_tree` is a DataTree object containing the structure and data of the HDF5 file\n",
    "# # You can navigate and manipulate this tree structure as needed\n",
    "\n",
    "# # For example, to print the contents of the DataTree\n",
    "# print(data_tree)"
   ]
  },
  {
   "cell_type": "code",
   "execution_count": 39,
   "id": "22bb7921-a63e-48c2-8215-20ceda095180",
   "metadata": {
    "tags": []
   },
   "outputs": [],
   "source": [
    "# # create empty lists\n",
    "# lon=[]\n",
    "# lat=[]\n",
    "# h_corr=[]\n",
    "# sigma_h=[]\n",
    "\n",
    "# # fill lists\n",
    "# for file in files:\n",
    "#     print(file)\n",
    "#     try:\n",
    "#         for pair in ['pt1','pt2','pt3']:\n",
    "#             lons, lats, hh, ss=read_ATL11(file, pair)\n",
    "#             lon += [lons]\n",
    "#             lat += [lats]\n",
    "#             h_corr += [hh]\n",
    "#             sigma_h += [ss]\n",
    "#     except Exception as E:\n",
    "#         pass\n",
    "\n",
    "# # concatenate lists\n",
    "# lon=np.concatenate(lon)\n",
    "# lat=np.concatenate(lat)\n",
    "# h_corr=np.concatenate(h_corr, axis=0)\n",
    "# sigma_h=np.concatenate(sigma_h, axis=0)\n",
    "# x,y=ll2ps(lon,lat) # transform geodetic lon, lat to polar stereographic x, y"
   ]
  },
  {
   "cell_type": "code",
   "execution_count": null,
   "id": "28dd3fa5-b94f-4831-82e5-b4f889ee0b48",
   "metadata": {},
   "outputs": [],
   "source": []
  },
  {
   "cell_type": "code",
   "execution_count": 40,
   "id": "8d5dd4c7-cb4d-4e98-a6e5-2396278c2647",
   "metadata": {
    "tags": []
   },
   "outputs": [
    {
     "name": "stdout",
     "output_type": "stream",
     "text": [
      "Granules found: 16\n"
     ]
    }
   ],
   "source": [
    "# Find ICESat-2 ATL15 r003 data granules\n",
    "results = earthaccess.search_data(\n",
    "    doi='10.5067/ATLAS/ATL15.003',\n",
    "    # short_name='ATL15',\n",
    "    # version='003',\n",
    "    bounding_box=(180, -90, -180, -60),  # (lower_left_lon, lower_left_lat , upper_right_lon, upper_right_lat))\n",
    "    cloud_hosted=True,\n",
    ")"
   ]
  },
  {
   "cell_type": "code",
   "execution_count": 41,
   "id": "c6223853-0e77-4e12-8ba1-a5dcde961801",
   "metadata": {
    "tags": []
   },
   "outputs": [
    {
     "name": "stdout",
     "output_type": "stream",
     "text": [
      "Opening 16 granules, approx size: 5.05 GB\n"
     ]
    },
    {
     "data": {
      "application/vnd.jupyter.widget-view+json": {
       "model_id": "6775457a68bf44afa24827a3c293a7cf",
       "version_major": 2,
       "version_minor": 0
      },
      "text/plain": [
       "QUEUEING TASKS | :   0%|          | 0/16 [00:00<?, ?it/s]"
      ]
     },
     "metadata": {},
     "output_type": "display_data"
    },
    {
     "data": {
      "application/vnd.jupyter.widget-view+json": {
       "model_id": "299467c7a9f444c0b9cacd932cb79b55",
       "version_major": 2,
       "version_minor": 0
      },
      "text/plain": [
       "PROCESSING TASKS | :   0%|          | 0/16 [00:00<?, ?it/s]"
      ]
     },
     "metadata": {},
     "output_type": "display_data"
    },
    {
     "data": {
      "application/vnd.jupyter.widget-view+json": {
       "model_id": "bbdf32060f4040a9b383884b4af0e99d",
       "version_major": 2,
       "version_minor": 0
      },
      "text/plain": [
       "COLLECTING RESULTS | :   0%|          | 0/16 [00:00<?, ?it/s]"
      ]
     },
     "metadata": {},
     "output_type": "display_data"
    },
    {
     "data": {
      "text/plain": [
       "[<File-like object HTTPFileSystem, https://n5eil01u.ecs.nsidc.org/DP5/ATLAS/ATL15.003/2019.03.29/ATL15_A4_0318_40km_003_01.nc>,\n",
       " <File-like object HTTPFileSystem, https://n5eil01u.ecs.nsidc.org/DP5/ATLAS/ATL15.003/2019.03.29/ATL15_A4_0318_10km_003_01.nc>,\n",
       " <File-like object HTTPFileSystem, https://n5eil01u.ecs.nsidc.org/DP5/ATLAS/ATL15.003/2019.03.29/ATL15_A4_0318_20km_003_01.nc>,\n",
       " <File-like object HTTPFileSystem, https://n5eil01u.ecs.nsidc.org/DP5/ATLAS/ATL15.003/2019.03.29/ATL15_A2_0318_01km_003_01.nc>,\n",
       " <File-like object HTTPFileSystem, https://n5eil01u.ecs.nsidc.org/DP5/ATLAS/ATL15.003/2019.03.29/ATL15_A3_0318_20km_003_01.nc>,\n",
       " <File-like object HTTPFileSystem, https://n5eil01u.ecs.nsidc.org/DP5/ATLAS/ATL15.003/2019.03.29/ATL15_A2_0318_20km_003_01.nc>,\n",
       " <File-like object HTTPFileSystem, https://n5eil01u.ecs.nsidc.org/DP5/ATLAS/ATL15.003/2019.03.29/ATL15_A2_0318_40km_003_01.nc>,\n",
       " <File-like object HTTPFileSystem, https://n5eil01u.ecs.nsidc.org/DP5/ATLAS/ATL15.003/2019.03.29/ATL15_A2_0318_10km_003_01.nc>,\n",
       " <File-like object HTTPFileSystem, https://n5eil01u.ecs.nsidc.org/DP5/ATLAS/ATL15.003/2019.03.29/ATL15_A3_0318_40km_003_01.nc>,\n",
       " <File-like object HTTPFileSystem, https://n5eil01u.ecs.nsidc.org/DP5/ATLAS/ATL15.003/2019.03.29/ATL15_A3_0318_01km_003_01.nc>,\n",
       " <File-like object HTTPFileSystem, https://n5eil01u.ecs.nsidc.org/DP5/ATLAS/ATL15.003/2019.03.29/ATL15_A3_0318_10km_003_01.nc>,\n",
       " <File-like object HTTPFileSystem, https://n5eil01u.ecs.nsidc.org/DP5/ATLAS/ATL15.003/2019.03.29/ATL15_A4_0318_01km_003_01.nc>,\n",
       " <File-like object HTTPFileSystem, https://n5eil01u.ecs.nsidc.org/DP5/ATLAS/ATL15.003/2019.03.29/ATL15_A1_0318_20km_003_01.nc>,\n",
       " <File-like object HTTPFileSystem, https://n5eil01u.ecs.nsidc.org/DP5/ATLAS/ATL15.003/2019.03.29/ATL15_A1_0318_40km_003_01.nc>,\n",
       " <File-like object HTTPFileSystem, https://n5eil01u.ecs.nsidc.org/DP5/ATLAS/ATL15.003/2019.03.29/ATL15_A1_0318_10km_003_01.nc>,\n",
       " <File-like object HTTPFileSystem, https://n5eil01u.ecs.nsidc.org/DP5/ATLAS/ATL15.003/2019.03.29/ATL15_A1_0318_01km_003_01.nc>]"
      ]
     },
     "execution_count": 41,
     "metadata": {},
     "output_type": "execute_result"
    }
   ],
   "source": [
    "# Open data granules as s3 files to stream\n",
    "files = earthaccess.open(results)\n",
    "files"
   ]
  },
  {
   "cell_type": "code",
   "execution_count": 42,
   "id": "8a8acc8a-b616-446b-bd14-41e6c26c46f5",
   "metadata": {
    "tags": []
   },
   "outputs": [
    {
     "name": "stdout",
     "output_type": "stream",
     "text": [
      "<File-like object HTTPFileSystem, https://n5eil01u.ecs.nsidc.org/DP5/ATLAS/ATL15.003/2019.03.29/ATL15_A1_0318_01km_003_01.nc>\n",
      "<File-like object HTTPFileSystem, https://n5eil01u.ecs.nsidc.org/DP5/ATLAS/ATL15.003/2019.03.29/ATL15_A2_0318_01km_003_01.nc>\n",
      "<File-like object HTTPFileSystem, https://n5eil01u.ecs.nsidc.org/DP5/ATLAS/ATL15.003/2019.03.29/ATL15_A3_0318_01km_003_01.nc>\n",
      "<File-like object HTTPFileSystem, https://n5eil01u.ecs.nsidc.org/DP5/ATLAS/ATL15.003/2019.03.29/ATL15_A4_0318_01km_003_01.nc>\n"
     ]
    }
   ],
   "source": [
    "# After viewing files, index the files you wish to open\n",
    "print(files[15])\n",
    "print(files[3])\n",
    "print(files[9])\n",
    "print(files[11])"
   ]
  },
  {
   "cell_type": "code",
   "execution_count": 43,
   "id": "c0e8bdda-d8c0-415b-87b2-fae741baa41d",
   "metadata": {
    "scrolled": true,
    "tags": []
   },
   "outputs": [],
   "source": [
    "# Open each file, which are quadrants in polar stereographic coordinations around the Geographic South Pole\n",
    "ATL15_A1 = xr.open_dataset(files[15], group='delta_h')\n",
    "ATL15_A2 = xr.open_dataset(files[3], group='delta_h')\n",
    "ATL15_A3 = xr.open_dataset(files[9], group='delta_h')\n",
    "ATL15_A4 = xr.open_dataset(files[11], group='delta_h')"
   ]
  },
  {
   "cell_type": "code",
   "execution_count": 44,
   "id": "da23c068-f494-45bc-814e-e76e22b4729b",
   "metadata": {
    "tags": []
   },
   "outputs": [],
   "source": [
    "# # Open locally stored files when NSIDC cloud access isn't working\n",
    "# ATL15_A1 = xr.open_dataset(DATA_DIR + '/altimetry/ICESat2/ATL15.003-Ant/ATL15_A1_0318_01km_003_01.nc', group='delta_h')\n",
    "# ATL15_A2 = xr.open_dataset(DATA_DIR + '/altimetry/ICESat2/ATL15.003-Ant/ATL15_A2_0318_01km_003_01.nc', group='delta_h')\n",
    "# ATL15_A3 = xr.open_dataset(DATA_DIR + '/altimetry/ICESat2/ATL15.003-Ant/ATL15_A3_0318_01km_003_01.nc', group='delta_h')\n",
    "# ATL15_A4 = xr.open_dataset(DATA_DIR + '/altimetry/ICESat2/ATL15.003-Ant/ATL15_A4_0318_01km_003_01.nc', group='delta_h')"
   ]
  },
  {
   "cell_type": "code",
   "execution_count": 45,
   "id": "69c4b4f9-6096-40de-92bb-12a1d9688890",
   "metadata": {
    "tags": []
   },
   "outputs": [],
   "source": [
    "# Specify the variables to keep\n",
    "variables_to_keep = ['time', 'y', 'x', 'delta_h', 'data_count']\n",
    "\n",
    "# List of xarray datasets\n",
    "datasets = [ATL15_A1, ATL15_A2, ATL15_A3, ATL15_A4]\n",
    "\n",
    "# Function to drop variables not in variables_to_keep from a dataset\n",
    "def drop_unwanted_variables(dataset):\n",
    "    variables_to_drop = [var for var in dataset.variables if var not in variables_to_keep]\n",
    "    return dataset.drop_vars(variables_to_drop)\n",
    "\n",
    "# Apply the function to each dataset\n",
    "ATL15_A1, ATL15_A2, ATL15_A3, ATL15_A4 = [drop_unwanted_variables(ds) for ds in datasets]"
   ]
  },
  {
   "cell_type": "code",
   "execution_count": 46,
   "id": "f875fb41-ec6f-4e03-a659-e7e7273b98df",
   "metadata": {
    "scrolled": true,
    "tags": []
   },
   "outputs": [],
   "source": [
    "# Use xarray concatenation to stitch two quadrants togethers\n",
    "# Use xarray index selecting to occlude the duplicated x=0 vector of data\n",
    "ATL15_A12 = xr.concat([ATL15_A2.isel(x=slice(0,-1)), ATL15_A1], dim=\"x\")"
   ]
  },
  {
   "cell_type": "code",
   "execution_count": 47,
   "id": "372eec1e-3eb5-42d8-94ee-a2de74316803",
   "metadata": {
    "tags": []
   },
   "outputs": [],
   "source": [
    "# Use xarray concatenation to stitch two quadrants togethers\n",
    "# Use xarray index selecting to occlude the duplicated x=0 vector of data\n",
    "ATL15_A34 = xr.concat([ATL15_A3.isel(x=slice(0,-1)), ATL15_A4], dim='x')"
   ]
  },
  {
   "cell_type": "code",
   "execution_count": 48,
   "id": "0d14e491-fd5e-424b-ae91-75ba59381ec2",
   "metadata": {
    "tags": []
   },
   "outputs": [],
   "source": [
    "# Use xarray concatenation to stitch two quadrants togethers\n",
    "# Use xarray index selecting to occlude the duplicated x=0 vector of data\n",
    "ATL15_dh = xr.concat([ATL15_A34.isel(y=slice(0,-1)), ATL15_A12], dim='y')"
   ]
  },
  {
   "cell_type": "code",
   "execution_count": 49,
   "id": "7d62934f-4e13-404d-b2b3-4338f498cfd0",
   "metadata": {
    "tags": []
   },
   "outputs": [],
   "source": [
    "# Delete variables to reduce memory consumption\n",
    "del ATL15_A1, ATL15_A12, ATL15_A2, ATL15_A3, ATL15_A34, ATL15_A4"
   ]
  },
  {
   "cell_type": "code",
   "execution_count": 50,
   "id": "e80b88e5-6957-4f63-b9d9-70591d18af2b",
   "metadata": {},
   "outputs": [],
   "source": [
    "# Add datasets attributes\n",
    "ATL15_dh.attrs['identifier_product_DOI'] = '10.5067/ATLAS/ATL15.003'\n",
    "ATL15_dh.attrs['shortName'] = 'ATL15'"
   ]
  },
  {
   "cell_type": "code",
   "execution_count": 51,
   "id": "9d571618-924b-410a-a202-29c72aced243",
   "metadata": {
    "tags": []
   },
   "outputs": [
    {
     "data": {
      "text/html": [
       "<div><svg style=\"position: absolute; width: 0; height: 0; overflow: hidden\">\n",
       "<defs>\n",
       "<symbol id=\"icon-database\" viewBox=\"0 0 32 32\">\n",
       "<path d=\"M16 0c-8.837 0-16 2.239-16 5v4c0 2.761 7.163 5 16 5s16-2.239 16-5v-4c0-2.761-7.163-5-16-5z\"></path>\n",
       "<path d=\"M16 17c-8.837 0-16-2.239-16-5v6c0 2.761 7.163 5 16 5s16-2.239 16-5v-6c0 2.761-7.163 5-16 5z\"></path>\n",
       "<path d=\"M16 26c-8.837 0-16-2.239-16-5v6c0 2.761 7.163 5 16 5s16-2.239 16-5v-6c0 2.761-7.163 5-16 5z\"></path>\n",
       "</symbol>\n",
       "<symbol id=\"icon-file-text2\" viewBox=\"0 0 32 32\">\n",
       "<path d=\"M28.681 7.159c-0.694-0.947-1.662-2.053-2.724-3.116s-2.169-2.030-3.116-2.724c-1.612-1.182-2.393-1.319-2.841-1.319h-15.5c-1.378 0-2.5 1.121-2.5 2.5v27c0 1.378 1.122 2.5 2.5 2.5h23c1.378 0 2.5-1.122 2.5-2.5v-19.5c0-0.448-0.137-1.23-1.319-2.841zM24.543 5.457c0.959 0.959 1.712 1.825 2.268 2.543h-4.811v-4.811c0.718 0.556 1.584 1.309 2.543 2.268zM28 29.5c0 0.271-0.229 0.5-0.5 0.5h-23c-0.271 0-0.5-0.229-0.5-0.5v-27c0-0.271 0.229-0.5 0.5-0.5 0 0 15.499-0 15.5 0v7c0 0.552 0.448 1 1 1h7v19.5z\"></path>\n",
       "<path d=\"M23 26h-14c-0.552 0-1-0.448-1-1s0.448-1 1-1h14c0.552 0 1 0.448 1 1s-0.448 1-1 1z\"></path>\n",
       "<path d=\"M23 22h-14c-0.552 0-1-0.448-1-1s0.448-1 1-1h14c0.552 0 1 0.448 1 1s-0.448 1-1 1z\"></path>\n",
       "<path d=\"M23 18h-14c-0.552 0-1-0.448-1-1s0.448-1 1-1h14c0.552 0 1 0.448 1 1s-0.448 1-1 1z\"></path>\n",
       "</symbol>\n",
       "</defs>\n",
       "</svg>\n",
       "<style>/* CSS stylesheet for displaying xarray objects in jupyterlab.\n",
       " *\n",
       " */\n",
       "\n",
       ":root {\n",
       "  --xr-font-color0: var(--jp-content-font-color0, rgba(0, 0, 0, 1));\n",
       "  --xr-font-color2: var(--jp-content-font-color2, rgba(0, 0, 0, 0.54));\n",
       "  --xr-font-color3: var(--jp-content-font-color3, rgba(0, 0, 0, 0.38));\n",
       "  --xr-border-color: var(--jp-border-color2, #e0e0e0);\n",
       "  --xr-disabled-color: var(--jp-layout-color3, #bdbdbd);\n",
       "  --xr-background-color: var(--jp-layout-color0, white);\n",
       "  --xr-background-color-row-even: var(--jp-layout-color1, white);\n",
       "  --xr-background-color-row-odd: var(--jp-layout-color2, #eeeeee);\n",
       "}\n",
       "\n",
       "html[theme=dark],\n",
       "body[data-theme=dark],\n",
       "body.vscode-dark {\n",
       "  --xr-font-color0: rgba(255, 255, 255, 1);\n",
       "  --xr-font-color2: rgba(255, 255, 255, 0.54);\n",
       "  --xr-font-color3: rgba(255, 255, 255, 0.38);\n",
       "  --xr-border-color: #1F1F1F;\n",
       "  --xr-disabled-color: #515151;\n",
       "  --xr-background-color: #111111;\n",
       "  --xr-background-color-row-even: #111111;\n",
       "  --xr-background-color-row-odd: #313131;\n",
       "}\n",
       "\n",
       ".xr-wrap {\n",
       "  display: block !important;\n",
       "  min-width: 300px;\n",
       "  max-width: 700px;\n",
       "}\n",
       "\n",
       ".xr-text-repr-fallback {\n",
       "  /* fallback to plain text repr when CSS is not injected (untrusted notebook) */\n",
       "  display: none;\n",
       "}\n",
       "\n",
       ".xr-header {\n",
       "  padding-top: 6px;\n",
       "  padding-bottom: 6px;\n",
       "  margin-bottom: 4px;\n",
       "  border-bottom: solid 1px var(--xr-border-color);\n",
       "}\n",
       "\n",
       ".xr-header > div,\n",
       ".xr-header > ul {\n",
       "  display: inline;\n",
       "  margin-top: 0;\n",
       "  margin-bottom: 0;\n",
       "}\n",
       "\n",
       ".xr-obj-type,\n",
       ".xr-array-name {\n",
       "  margin-left: 2px;\n",
       "  margin-right: 10px;\n",
       "}\n",
       "\n",
       ".xr-obj-type {\n",
       "  color: var(--xr-font-color2);\n",
       "}\n",
       "\n",
       ".xr-sections {\n",
       "  padding-left: 0 !important;\n",
       "  display: grid;\n",
       "  grid-template-columns: 150px auto auto 1fr 20px 20px;\n",
       "}\n",
       "\n",
       ".xr-section-item {\n",
       "  display: contents;\n",
       "}\n",
       "\n",
       ".xr-section-item input {\n",
       "  display: none;\n",
       "}\n",
       "\n",
       ".xr-section-item input + label {\n",
       "  color: var(--xr-disabled-color);\n",
       "}\n",
       "\n",
       ".xr-section-item input:enabled + label {\n",
       "  cursor: pointer;\n",
       "  color: var(--xr-font-color2);\n",
       "}\n",
       "\n",
       ".xr-section-item input:enabled + label:hover {\n",
       "  color: var(--xr-font-color0);\n",
       "}\n",
       "\n",
       ".xr-section-summary {\n",
       "  grid-column: 1;\n",
       "  color: var(--xr-font-color2);\n",
       "  font-weight: 500;\n",
       "}\n",
       "\n",
       ".xr-section-summary > span {\n",
       "  display: inline-block;\n",
       "  padding-left: 0.5em;\n",
       "}\n",
       "\n",
       ".xr-section-summary-in:disabled + label {\n",
       "  color: var(--xr-font-color2);\n",
       "}\n",
       "\n",
       ".xr-section-summary-in + label:before {\n",
       "  display: inline-block;\n",
       "  content: '►';\n",
       "  font-size: 11px;\n",
       "  width: 15px;\n",
       "  text-align: center;\n",
       "}\n",
       "\n",
       ".xr-section-summary-in:disabled + label:before {\n",
       "  color: var(--xr-disabled-color);\n",
       "}\n",
       "\n",
       ".xr-section-summary-in:checked + label:before {\n",
       "  content: '▼';\n",
       "}\n",
       "\n",
       ".xr-section-summary-in:checked + label > span {\n",
       "  display: none;\n",
       "}\n",
       "\n",
       ".xr-section-summary,\n",
       ".xr-section-inline-details {\n",
       "  padding-top: 4px;\n",
       "  padding-bottom: 4px;\n",
       "}\n",
       "\n",
       ".xr-section-inline-details {\n",
       "  grid-column: 2 / -1;\n",
       "}\n",
       "\n",
       ".xr-section-details {\n",
       "  display: none;\n",
       "  grid-column: 1 / -1;\n",
       "  margin-bottom: 5px;\n",
       "}\n",
       "\n",
       ".xr-section-summary-in:checked ~ .xr-section-details {\n",
       "  display: contents;\n",
       "}\n",
       "\n",
       ".xr-array-wrap {\n",
       "  grid-column: 1 / -1;\n",
       "  display: grid;\n",
       "  grid-template-columns: 20px auto;\n",
       "}\n",
       "\n",
       ".xr-array-wrap > label {\n",
       "  grid-column: 1;\n",
       "  vertical-align: top;\n",
       "}\n",
       "\n",
       ".xr-preview {\n",
       "  color: var(--xr-font-color3);\n",
       "}\n",
       "\n",
       ".xr-array-preview,\n",
       ".xr-array-data {\n",
       "  padding: 0 5px !important;\n",
       "  grid-column: 2;\n",
       "}\n",
       "\n",
       ".xr-array-data,\n",
       ".xr-array-in:checked ~ .xr-array-preview {\n",
       "  display: none;\n",
       "}\n",
       "\n",
       ".xr-array-in:checked ~ .xr-array-data,\n",
       ".xr-array-preview {\n",
       "  display: inline-block;\n",
       "}\n",
       "\n",
       ".xr-dim-list {\n",
       "  display: inline-block !important;\n",
       "  list-style: none;\n",
       "  padding: 0 !important;\n",
       "  margin: 0;\n",
       "}\n",
       "\n",
       ".xr-dim-list li {\n",
       "  display: inline-block;\n",
       "  padding: 0;\n",
       "  margin: 0;\n",
       "}\n",
       "\n",
       ".xr-dim-list:before {\n",
       "  content: '(';\n",
       "}\n",
       "\n",
       ".xr-dim-list:after {\n",
       "  content: ')';\n",
       "}\n",
       "\n",
       ".xr-dim-list li:not(:last-child):after {\n",
       "  content: ',';\n",
       "  padding-right: 5px;\n",
       "}\n",
       "\n",
       ".xr-has-index {\n",
       "  font-weight: bold;\n",
       "}\n",
       "\n",
       ".xr-var-list,\n",
       ".xr-var-item {\n",
       "  display: contents;\n",
       "}\n",
       "\n",
       ".xr-var-item > div,\n",
       ".xr-var-item label,\n",
       ".xr-var-item > .xr-var-name span {\n",
       "  background-color: var(--xr-background-color-row-even);\n",
       "  margin-bottom: 0;\n",
       "}\n",
       "\n",
       ".xr-var-item > .xr-var-name:hover span {\n",
       "  padding-right: 5px;\n",
       "}\n",
       "\n",
       ".xr-var-list > li:nth-child(odd) > div,\n",
       ".xr-var-list > li:nth-child(odd) > label,\n",
       ".xr-var-list > li:nth-child(odd) > .xr-var-name span {\n",
       "  background-color: var(--xr-background-color-row-odd);\n",
       "}\n",
       "\n",
       ".xr-var-name {\n",
       "  grid-column: 1;\n",
       "}\n",
       "\n",
       ".xr-var-dims {\n",
       "  grid-column: 2;\n",
       "}\n",
       "\n",
       ".xr-var-dtype {\n",
       "  grid-column: 3;\n",
       "  text-align: right;\n",
       "  color: var(--xr-font-color2);\n",
       "}\n",
       "\n",
       ".xr-var-preview {\n",
       "  grid-column: 4;\n",
       "}\n",
       "\n",
       ".xr-index-preview {\n",
       "  grid-column: 2 / 5;\n",
       "  color: var(--xr-font-color2);\n",
       "}\n",
       "\n",
       ".xr-var-name,\n",
       ".xr-var-dims,\n",
       ".xr-var-dtype,\n",
       ".xr-preview,\n",
       ".xr-attrs dt {\n",
       "  white-space: nowrap;\n",
       "  overflow: hidden;\n",
       "  text-overflow: ellipsis;\n",
       "  padding-right: 10px;\n",
       "}\n",
       "\n",
       ".xr-var-name:hover,\n",
       ".xr-var-dims:hover,\n",
       ".xr-var-dtype:hover,\n",
       ".xr-attrs dt:hover {\n",
       "  overflow: visible;\n",
       "  width: auto;\n",
       "  z-index: 1;\n",
       "}\n",
       "\n",
       ".xr-var-attrs,\n",
       ".xr-var-data,\n",
       ".xr-index-data {\n",
       "  display: none;\n",
       "  background-color: var(--xr-background-color) !important;\n",
       "  padding-bottom: 5px !important;\n",
       "}\n",
       "\n",
       ".xr-var-attrs-in:checked ~ .xr-var-attrs,\n",
       ".xr-var-data-in:checked ~ .xr-var-data,\n",
       ".xr-index-data-in:checked ~ .xr-index-data {\n",
       "  display: block;\n",
       "}\n",
       "\n",
       ".xr-var-data > table {\n",
       "  float: right;\n",
       "}\n",
       "\n",
       ".xr-var-name span,\n",
       ".xr-var-data,\n",
       ".xr-index-name div,\n",
       ".xr-index-data,\n",
       ".xr-attrs {\n",
       "  padding-left: 25px !important;\n",
       "}\n",
       "\n",
       ".xr-attrs,\n",
       ".xr-var-attrs,\n",
       ".xr-var-data,\n",
       ".xr-index-data {\n",
       "  grid-column: 1 / -1;\n",
       "}\n",
       "\n",
       "dl.xr-attrs {\n",
       "  padding: 0;\n",
       "  margin: 0;\n",
       "  display: grid;\n",
       "  grid-template-columns: 125px auto;\n",
       "}\n",
       "\n",
       ".xr-attrs dt,\n",
       ".xr-attrs dd {\n",
       "  padding: 0;\n",
       "  margin: 0;\n",
       "  float: left;\n",
       "  padding-right: 10px;\n",
       "  width: auto;\n",
       "}\n",
       "\n",
       ".xr-attrs dt {\n",
       "  font-weight: normal;\n",
       "  grid-column: 1;\n",
       "}\n",
       "\n",
       ".xr-attrs dt:hover span {\n",
       "  display: inline-block;\n",
       "  background: var(--xr-background-color);\n",
       "  padding-right: 10px;\n",
       "}\n",
       "\n",
       ".xr-attrs dd {\n",
       "  grid-column: 2;\n",
       "  white-space: pre-wrap;\n",
       "  word-break: break-all;\n",
       "}\n",
       "\n",
       ".xr-icon-database,\n",
       ".xr-icon-file-text2,\n",
       ".xr-no-icon {\n",
       "  display: inline-block;\n",
       "  vertical-align: middle;\n",
       "  width: 1em;\n",
       "  height: 1.5em !important;\n",
       "  stroke-width: 0;\n",
       "  stroke: currentColor;\n",
       "  fill: currentColor;\n",
       "}\n",
       "</style><pre class='xr-text-repr-fallback'>&lt;xarray.Dataset&gt; Size: 4GB\n",
       "Dimensions:     (time: 19, x: 5461, y: 4461)\n",
       "Coordinates:\n",
       "  * time        (time) datetime64[ns] 152B 2018-10-01T22:30:00 ... 2023-04-02...\n",
       "  * x           (x) float64 44kB -2.67e+06 -2.669e+06 ... 2.789e+06 2.79e+06\n",
       "  * y           (y) float64 36kB -2.19e+06 -2.189e+06 ... 2.269e+06 2.27e+06\n",
       "Data variables:\n",
       "    delta_h     (time, y, x) float32 2GB nan nan nan nan nan ... nan nan nan nan\n",
       "    data_count  (time, y, x) float32 2GB nan nan nan nan nan ... nan nan nan nan\n",
       "Attributes:\n",
       "    description:             delta_h group includes variables describing heig...\n",
       "    identifier_product_DOI:  10.5067/ATLAS/ATL15.003\n",
       "    shortName:               ATL15</pre><div class='xr-wrap' style='display:none'><div class='xr-header'><div class='xr-obj-type'>xarray.Dataset</div></div><ul class='xr-sections'><li class='xr-section-item'><input id='section-39d25c57-4380-49f0-844c-7f34dfefcfbe' class='xr-section-summary-in' type='checkbox' disabled ><label for='section-39d25c57-4380-49f0-844c-7f34dfefcfbe' class='xr-section-summary'  title='Expand/collapse section'>Dimensions:</label><div class='xr-section-inline-details'><ul class='xr-dim-list'><li><span class='xr-has-index'>time</span>: 19</li><li><span class='xr-has-index'>x</span>: 5461</li><li><span class='xr-has-index'>y</span>: 4461</li></ul></div><div class='xr-section-details'></div></li><li class='xr-section-item'><input id='section-62edcb9a-4fbb-4fbc-afc9-928bd5729ce1' class='xr-section-summary-in' type='checkbox'  checked><label for='section-62edcb9a-4fbb-4fbc-afc9-928bd5729ce1' class='xr-section-summary' >Coordinates: <span>(3)</span></label><div class='xr-section-inline-details'></div><div class='xr-section-details'><ul class='xr-var-list'><li class='xr-var-item'><div class='xr-var-name'><span class='xr-has-index'>time</span></div><div class='xr-var-dims'>(time)</div><div class='xr-var-dtype'>datetime64[ns]</div><div class='xr-var-preview xr-preview'>2018-10-01T22:30:00 ... 2023-04-...</div><input id='attrs-0e7ea0a6-9ad4-4001-8f4b-2bffa01fdd58' class='xr-var-attrs-in' type='checkbox' ><label for='attrs-0e7ea0a6-9ad4-4001-8f4b-2bffa01fdd58' title='Show/Hide attributes'><svg class='icon xr-icon-file-text2'><use xlink:href='#icon-file-text2'></use></svg></label><input id='data-1811dd45-b789-4f61-b10f-1ec4ff46a843' class='xr-var-data-in' type='checkbox'><label for='data-1811dd45-b789-4f61-b10f-1ec4ff46a843' title='Show/Hide data repr'><svg class='icon xr-icon-database'><use xlink:href='#icon-database'></use></svg></label><div class='xr-var-attrs'><dl class='xr-attrs'><dt><span>dimensions :</span></dt><dd>time</dd><dt><span>datatype :</span></dt><dd>float64</dd><dt><span>least_significant_digit :</span></dt><dd>None</dd><dt><span>description :</span></dt><dd>Time for each node, in days since 2018-01-01:T00.00.00 UTC</dd><dt><span>long_name :</span></dt><dd>quarterly h(t) time</dd><dt><span>source :</span></dt><dd>ATBD section 4.2</dd></dl></div><div class='xr-var-data'><pre>array([&#x27;2018-10-01T22:30:00.000000000&#x27;, &#x27;2019-01-01T06:00:00.000000000&#x27;,\n",
       "       &#x27;2019-04-02T13:30:00.000000000&#x27;, &#x27;2019-07-02T21:00:00.000000000&#x27;,\n",
       "       &#x27;2019-10-02T04:30:00.000000000&#x27;, &#x27;2020-01-01T12:00:00.000000000&#x27;,\n",
       "       &#x27;2020-04-01T19:30:00.000000000&#x27;, &#x27;2020-07-02T03:00:00.000000000&#x27;,\n",
       "       &#x27;2020-10-01T10:30:00.000000000&#x27;, &#x27;2020-12-31T18:00:00.000000000&#x27;,\n",
       "       &#x27;2021-04-02T01:30:00.000000000&#x27;, &#x27;2021-07-02T09:00:00.000000000&#x27;,\n",
       "       &#x27;2021-10-01T16:30:00.000000000&#x27;, &#x27;2022-01-01T00:00:00.000000000&#x27;,\n",
       "       &#x27;2022-04-02T07:30:00.000000000&#x27;, &#x27;2022-07-02T15:00:00.000000000&#x27;,\n",
       "       &#x27;2022-10-01T22:30:00.000000000&#x27;, &#x27;2023-01-01T06:00:00.000000000&#x27;,\n",
       "       &#x27;2023-04-02T13:30:00.000000000&#x27;], dtype=&#x27;datetime64[ns]&#x27;)</pre></div></li><li class='xr-var-item'><div class='xr-var-name'><span class='xr-has-index'>x</span></div><div class='xr-var-dims'>(x)</div><div class='xr-var-dtype'>float64</div><div class='xr-var-preview xr-preview'>-2.67e+06 -2.669e+06 ... 2.79e+06</div><input id='attrs-745997cc-036e-49e9-a55a-41e47aa1894e' class='xr-var-attrs-in' type='checkbox' ><label for='attrs-745997cc-036e-49e9-a55a-41e47aa1894e' title='Show/Hide attributes'><svg class='icon xr-icon-file-text2'><use xlink:href='#icon-file-text2'></use></svg></label><input id='data-955002bb-5635-4d16-aed9-8a6dd999e615' class='xr-var-data-in' type='checkbox'><label for='data-955002bb-5635-4d16-aed9-8a6dd999e615' title='Show/Hide data repr'><svg class='icon xr-icon-database'><use xlink:href='#icon-database'></use></svg></label><div class='xr-var-attrs'><dl class='xr-attrs'><dt><span>units :</span></dt><dd>meters</dd><dt><span>dimensions :</span></dt><dd>x</dd><dt><span>datatype :</span></dt><dd>float64</dd><dt><span>least_significant_digit :</span></dt><dd>None</dd><dt><span>description :</span></dt><dd>x coordinate of the 1-km cell centers, in projected coordinates</dd><dt><span>long_name :</span></dt><dd>polar stereographic x at 1km</dd><dt><span>source :</span></dt><dd>ATBD section 3.2</dd><dt><span>grid_mapping :</span></dt><dd>Polar_Stereographic</dd><dt><span>standard_name :</span></dt><dd>projection_x_coordinate</dd></dl></div><div class='xr-var-data'><pre>array([-2670000., -2669000., -2668000., ...,  2788000.,  2789000.,  2790000.])</pre></div></li><li class='xr-var-item'><div class='xr-var-name'><span class='xr-has-index'>y</span></div><div class='xr-var-dims'>(y)</div><div class='xr-var-dtype'>float64</div><div class='xr-var-preview xr-preview'>-2.19e+06 -2.189e+06 ... 2.27e+06</div><input id='attrs-ef7f1fec-3f0e-4456-8c66-1f0b984b07bf' class='xr-var-attrs-in' type='checkbox' ><label for='attrs-ef7f1fec-3f0e-4456-8c66-1f0b984b07bf' title='Show/Hide attributes'><svg class='icon xr-icon-file-text2'><use xlink:href='#icon-file-text2'></use></svg></label><input id='data-261f823a-179e-48d7-9ca0-3f10b28b45d9' class='xr-var-data-in' type='checkbox'><label for='data-261f823a-179e-48d7-9ca0-3f10b28b45d9' title='Show/Hide data repr'><svg class='icon xr-icon-database'><use xlink:href='#icon-database'></use></svg></label><div class='xr-var-attrs'><dl class='xr-attrs'><dt><span>units :</span></dt><dd>meters</dd><dt><span>dimensions :</span></dt><dd>y</dd><dt><span>datatype :</span></dt><dd>float64</dd><dt><span>least_significant_digit :</span></dt><dd>None</dd><dt><span>description :</span></dt><dd>y coordinate of the 1-km cell centers, in projected coordinates</dd><dt><span>long_name :</span></dt><dd>polar stereographic y at 1km</dd><dt><span>source :</span></dt><dd>ATBD section 3.2</dd><dt><span>grid_mapping :</span></dt><dd>Polar_Stereographic</dd><dt><span>standard_name :</span></dt><dd>projection_y_coordinate</dd></dl></div><div class='xr-var-data'><pre>array([-2190000., -2189000., -2188000., ...,  2268000.,  2269000.,  2270000.])</pre></div></li></ul></div></li><li class='xr-section-item'><input id='section-00f1cff4-90a1-4258-90a9-669267074f2b' class='xr-section-summary-in' type='checkbox'  checked><label for='section-00f1cff4-90a1-4258-90a9-669267074f2b' class='xr-section-summary' >Data variables: <span>(2)</span></label><div class='xr-section-inline-details'></div><div class='xr-section-details'><ul class='xr-var-list'><li class='xr-var-item'><div class='xr-var-name'><span>delta_h</span></div><div class='xr-var-dims'>(time, y, x)</div><div class='xr-var-dtype'>float32</div><div class='xr-var-preview xr-preview'>nan nan nan nan ... nan nan nan nan</div><input id='attrs-f08718dc-7198-4f13-8551-718394ee3ccd' class='xr-var-attrs-in' type='checkbox' ><label for='attrs-f08718dc-7198-4f13-8551-718394ee3ccd' title='Show/Hide attributes'><svg class='icon xr-icon-file-text2'><use xlink:href='#icon-file-text2'></use></svg></label><input id='data-4065ea86-3247-4128-9290-38c143cc626e' class='xr-var-data-in' type='checkbox'><label for='data-4065ea86-3247-4128-9290-38c143cc626e' title='Show/Hide data repr'><svg class='icon xr-icon-database'><use xlink:href='#icon-database'></use></svg></label><div class='xr-var-attrs'><dl class='xr-attrs'><dt><span>least_significant_digit :</span></dt><dd>4</dd><dt><span>units :</span></dt><dd>meters</dd><dt><span>dimensions :</span></dt><dd>time,y,x</dd><dt><span>datatype :</span></dt><dd>float32</dd><dt><span>description :</span></dt><dd>Height change relative to the datum (Jan 1, 2020) surface</dd><dt><span>long_name :</span></dt><dd>height change  at 1 km</dd><dt><span>source :</span></dt><dd>ATBD section 3.4</dd><dt><span>grid_mapping :</span></dt><dd>Polar_Stereographic</dd></dl></div><div class='xr-var-data'><pre>array([[[nan, nan, nan, ..., nan, nan, nan],\n",
       "        [nan, nan, nan, ..., nan, nan, nan],\n",
       "        [nan, nan, nan, ..., nan, nan, nan],\n",
       "        ...,\n",
       "        [nan, nan, nan, ..., nan, nan, nan],\n",
       "        [nan, nan, nan, ..., nan, nan, nan],\n",
       "        [nan, nan, nan, ..., nan, nan, nan]],\n",
       "\n",
       "       [[nan, nan, nan, ..., nan, nan, nan],\n",
       "        [nan, nan, nan, ..., nan, nan, nan],\n",
       "        [nan, nan, nan, ..., nan, nan, nan],\n",
       "        ...,\n",
       "        [nan, nan, nan, ..., nan, nan, nan],\n",
       "        [nan, nan, nan, ..., nan, nan, nan],\n",
       "        [nan, nan, nan, ..., nan, nan, nan]],\n",
       "\n",
       "       [[nan, nan, nan, ..., nan, nan, nan],\n",
       "        [nan, nan, nan, ..., nan, nan, nan],\n",
       "        [nan, nan, nan, ..., nan, nan, nan],\n",
       "        ...,\n",
       "...\n",
       "        ...,\n",
       "        [nan, nan, nan, ..., nan, nan, nan],\n",
       "        [nan, nan, nan, ..., nan, nan, nan],\n",
       "        [nan, nan, nan, ..., nan, nan, nan]],\n",
       "\n",
       "       [[nan, nan, nan, ..., nan, nan, nan],\n",
       "        [nan, nan, nan, ..., nan, nan, nan],\n",
       "        [nan, nan, nan, ..., nan, nan, nan],\n",
       "        ...,\n",
       "        [nan, nan, nan, ..., nan, nan, nan],\n",
       "        [nan, nan, nan, ..., nan, nan, nan],\n",
       "        [nan, nan, nan, ..., nan, nan, nan]],\n",
       "\n",
       "       [[nan, nan, nan, ..., nan, nan, nan],\n",
       "        [nan, nan, nan, ..., nan, nan, nan],\n",
       "        [nan, nan, nan, ..., nan, nan, nan],\n",
       "        ...,\n",
       "        [nan, nan, nan, ..., nan, nan, nan],\n",
       "        [nan, nan, nan, ..., nan, nan, nan],\n",
       "        [nan, nan, nan, ..., nan, nan, nan]]], dtype=float32)</pre></div></li><li class='xr-var-item'><div class='xr-var-name'><span>data_count</span></div><div class='xr-var-dims'>(time, y, x)</div><div class='xr-var-dtype'>float32</div><div class='xr-var-preview xr-preview'>nan nan nan nan ... nan nan nan nan</div><input id='attrs-9eb009ab-1a4f-4059-ae6f-c685ceed3a2d' class='xr-var-attrs-in' type='checkbox' ><label for='attrs-9eb009ab-1a4f-4059-ae6f-c685ceed3a2d' title='Show/Hide attributes'><svg class='icon xr-icon-file-text2'><use xlink:href='#icon-file-text2'></use></svg></label><input id='data-ca892766-4b64-4bbf-b69d-37a8f9869447' class='xr-var-data-in' type='checkbox'><label for='data-ca892766-4b64-4bbf-b69d-37a8f9869447' title='Show/Hide data repr'><svg class='icon xr-icon-database'><use xlink:href='#icon-database'></use></svg></label><div class='xr-var-attrs'><dl class='xr-attrs'><dt><span>least_significant_digit :</span></dt><dd>4</dd><dt><span>units :</span></dt><dd>counts</dd><dt><span>dimensions :</span></dt><dd>time,y,x</dd><dt><span>datatype :</span></dt><dd>float32</dd><dt><span>description :</span></dt><dd>Weighted number of data contributing to each node in the 1-km height-change grid</dd><dt><span>long_name :</span></dt><dd>data count </dd><dt><span>source :</span></dt><dd>ATBD section 5.2.4.4</dd><dt><span>grid_mapping :</span></dt><dd>Polar_Stereographic</dd></dl></div><div class='xr-var-data'><pre>array([[[nan, nan, nan, ..., nan, nan, nan],\n",
       "        [nan, nan, nan, ..., nan, nan, nan],\n",
       "        [nan, nan, nan, ..., nan, nan, nan],\n",
       "        ...,\n",
       "        [nan, nan, nan, ..., nan, nan, nan],\n",
       "        [nan, nan, nan, ..., nan, nan, nan],\n",
       "        [nan, nan, nan, ..., nan, nan, nan]],\n",
       "\n",
       "       [[nan, nan, nan, ..., nan, nan, nan],\n",
       "        [nan, nan, nan, ..., nan, nan, nan],\n",
       "        [nan, nan, nan, ..., nan, nan, nan],\n",
       "        ...,\n",
       "        [nan, nan, nan, ..., nan, nan, nan],\n",
       "        [nan, nan, nan, ..., nan, nan, nan],\n",
       "        [nan, nan, nan, ..., nan, nan, nan]],\n",
       "\n",
       "       [[nan, nan, nan, ..., nan, nan, nan],\n",
       "        [nan, nan, nan, ..., nan, nan, nan],\n",
       "        [nan, nan, nan, ..., nan, nan, nan],\n",
       "        ...,\n",
       "...\n",
       "        ...,\n",
       "        [nan, nan, nan, ..., nan, nan, nan],\n",
       "        [nan, nan, nan, ..., nan, nan, nan],\n",
       "        [nan, nan, nan, ..., nan, nan, nan]],\n",
       "\n",
       "       [[nan, nan, nan, ..., nan, nan, nan],\n",
       "        [nan, nan, nan, ..., nan, nan, nan],\n",
       "        [nan, nan, nan, ..., nan, nan, nan],\n",
       "        ...,\n",
       "        [nan, nan, nan, ..., nan, nan, nan],\n",
       "        [nan, nan, nan, ..., nan, nan, nan],\n",
       "        [nan, nan, nan, ..., nan, nan, nan]],\n",
       "\n",
       "       [[nan, nan, nan, ..., nan, nan, nan],\n",
       "        [nan, nan, nan, ..., nan, nan, nan],\n",
       "        [nan, nan, nan, ..., nan, nan, nan],\n",
       "        ...,\n",
       "        [nan, nan, nan, ..., nan, nan, nan],\n",
       "        [nan, nan, nan, ..., nan, nan, nan],\n",
       "        [nan, nan, nan, ..., nan, nan, nan]]], dtype=float32)</pre></div></li></ul></div></li><li class='xr-section-item'><input id='section-0ad63a71-24e8-4f00-8253-b260b6883411' class='xr-section-summary-in' type='checkbox'  ><label for='section-0ad63a71-24e8-4f00-8253-b260b6883411' class='xr-section-summary' >Indexes: <span>(3)</span></label><div class='xr-section-inline-details'></div><div class='xr-section-details'><ul class='xr-var-list'><li class='xr-var-item'><div class='xr-index-name'><div>time</div></div><div class='xr-index-preview'>PandasIndex</div><div></div><input id='index-7820372a-2e82-47f0-88c4-f6141e43b826' class='xr-index-data-in' type='checkbox'/><label for='index-7820372a-2e82-47f0-88c4-f6141e43b826' title='Show/Hide index repr'><svg class='icon xr-icon-database'><use xlink:href='#icon-database'></use></svg></label><div class='xr-index-data'><pre>PandasIndex(DatetimeIndex([&#x27;2018-10-01 22:30:00&#x27;, &#x27;2019-01-01 06:00:00&#x27;,\n",
       "               &#x27;2019-04-02 13:30:00&#x27;, &#x27;2019-07-02 21:00:00&#x27;,\n",
       "               &#x27;2019-10-02 04:30:00&#x27;, &#x27;2020-01-01 12:00:00&#x27;,\n",
       "               &#x27;2020-04-01 19:30:00&#x27;, &#x27;2020-07-02 03:00:00&#x27;,\n",
       "               &#x27;2020-10-01 10:30:00&#x27;, &#x27;2020-12-31 18:00:00&#x27;,\n",
       "               &#x27;2021-04-02 01:30:00&#x27;, &#x27;2021-07-02 09:00:00&#x27;,\n",
       "               &#x27;2021-10-01 16:30:00&#x27;, &#x27;2022-01-01 00:00:00&#x27;,\n",
       "               &#x27;2022-04-02 07:30:00&#x27;, &#x27;2022-07-02 15:00:00&#x27;,\n",
       "               &#x27;2022-10-01 22:30:00&#x27;, &#x27;2023-01-01 06:00:00&#x27;,\n",
       "               &#x27;2023-04-02 13:30:00&#x27;],\n",
       "              dtype=&#x27;datetime64[ns]&#x27;, name=&#x27;time&#x27;, freq=None))</pre></div></li><li class='xr-var-item'><div class='xr-index-name'><div>x</div></div><div class='xr-index-preview'>PandasIndex</div><div></div><input id='index-3678c4b2-1f71-4bb4-8c97-b159dc8f8834' class='xr-index-data-in' type='checkbox'/><label for='index-3678c4b2-1f71-4bb4-8c97-b159dc8f8834' title='Show/Hide index repr'><svg class='icon xr-icon-database'><use xlink:href='#icon-database'></use></svg></label><div class='xr-index-data'><pre>PandasIndex(Index([-2670000.0, -2669000.0, -2668000.0, -2667000.0, -2666000.0, -2665000.0,\n",
       "       -2664000.0, -2663000.0, -2662000.0, -2661000.0,\n",
       "       ...\n",
       "        2781000.0,  2782000.0,  2783000.0,  2784000.0,  2785000.0,  2786000.0,\n",
       "        2787000.0,  2788000.0,  2789000.0,  2790000.0],\n",
       "      dtype=&#x27;float64&#x27;, name=&#x27;x&#x27;, length=5461))</pre></div></li><li class='xr-var-item'><div class='xr-index-name'><div>y</div></div><div class='xr-index-preview'>PandasIndex</div><div></div><input id='index-4851fb29-e887-4045-954e-99344989ed99' class='xr-index-data-in' type='checkbox'/><label for='index-4851fb29-e887-4045-954e-99344989ed99' title='Show/Hide index repr'><svg class='icon xr-icon-database'><use xlink:href='#icon-database'></use></svg></label><div class='xr-index-data'><pre>PandasIndex(Index([-2190000.0, -2189000.0, -2188000.0, -2187000.0, -2186000.0, -2185000.0,\n",
       "       -2184000.0, -2183000.0, -2182000.0, -2181000.0,\n",
       "       ...\n",
       "        2261000.0,  2262000.0,  2263000.0,  2264000.0,  2265000.0,  2266000.0,\n",
       "        2267000.0,  2268000.0,  2269000.0,  2270000.0],\n",
       "      dtype=&#x27;float64&#x27;, name=&#x27;y&#x27;, length=4461))</pre></div></li></ul></div></li><li class='xr-section-item'><input id='section-5722f21b-3369-4eab-81c0-b09daa4e3713' class='xr-section-summary-in' type='checkbox'  checked><label for='section-5722f21b-3369-4eab-81c0-b09daa4e3713' class='xr-section-summary' >Attributes: <span>(3)</span></label><div class='xr-section-inline-details'></div><div class='xr-section-details'><dl class='xr-attrs'><dt><span>description :</span></dt><dd>delta_h group includes variables describing height differences between the model surface at any time and the DEM surface at a resolution of 1 km.</dd><dt><span>identifier_product_DOI :</span></dt><dd>10.5067/ATLAS/ATL15.003</dd><dt><span>shortName :</span></dt><dd>ATL15</dd></dl></div></li></ul></div></div>"
      ],
      "text/plain": [
       "<xarray.Dataset> Size: 4GB\n",
       "Dimensions:     (time: 19, x: 5461, y: 4461)\n",
       "Coordinates:\n",
       "  * time        (time) datetime64[ns] 152B 2018-10-01T22:30:00 ... 2023-04-02...\n",
       "  * x           (x) float64 44kB -2.67e+06 -2.669e+06 ... 2.789e+06 2.79e+06\n",
       "  * y           (y) float64 36kB -2.19e+06 -2.189e+06 ... 2.269e+06 2.27e+06\n",
       "Data variables:\n",
       "    delta_h     (time, y, x) float32 2GB nan nan nan nan nan ... nan nan nan nan\n",
       "    data_count  (time, y, x) float32 2GB nan nan nan nan nan ... nan nan nan nan\n",
       "Attributes:\n",
       "    description:             delta_h group includes variables describing heig...\n",
       "    identifier_product_DOI:  10.5067/ATLAS/ATL15.003\n",
       "    shortName:               ATL15"
      ]
     },
     "execution_count": 51,
     "metadata": {},
     "output_type": "execute_result"
    }
   ],
   "source": [
    "ATL15_dh"
   ]
  },
  {
   "cell_type": "code",
   "execution_count": 52,
   "id": "1b0bae96-66b2-4c2e-8c49-5623c3fde835",
   "metadata": {},
   "outputs": [],
   "source": [
    "# Scripps Grounding Line\n",
    "# https://doi.pangaea.de/10.1594/PANGAEA.819147\n",
    "Scripps_gl = gpd.read_file(DATA_DIR + \n",
    "    '/boundaries/Depoorter2013/Antarctica_masks/scripps_antarctica_polygons_v1.shp')\n",
    "\n",
    "# Isolate only land ice\n",
    "Scripps_landice = Scripps_gl[Scripps_gl['Id_text'] == 'Grounded ice or land']"
   ]
  },
  {
   "cell_type": "code",
   "execution_count": 53,
   "id": "fe8ba0a3-7cc4-430c-ab7e-3604365c59cd",
   "metadata": {
    "tags": []
   },
   "outputs": [
    {
     "name": "stderr",
     "output_type": "stream",
     "text": [
      "Warning 1: TIFFReadDirectory:Invalid data type for tag StripByteCounts\n",
      "Warning 1: TIFFFetchNormalTag:Incorrect value for \"GeoKeyDirectory\"; tag ignored\n",
      "Warning 1: TIFFFetchNormalTag:ASCII value for tag \"GeoASCIIParams\" contains null byte in value; value incorrectly truncated during reading due to implementation limitations\n"
     ]
    }
   ],
   "source": [
    "# Import MODIS Mosaic of Antarctica surface imagery\n",
    "# https://nsidc.org/data/nsidc-0730/versions/1\n",
    "# Relocate to data_dir\n",
    "# Open into an xarray.DataArray\n",
    "# moa_lowres = DATA_DIR + '/surface_imagery/MODIS_MOA/2014/moa750_2014_hp1_v01.tif' \n",
    "# moa_lowres_da = rioxarray.open_rasterio(moa_lowres)\n",
    "\n",
    "moa_highres = DATA_DIR + '/surface_imagery/MODIS_MOA/2014/moa125_2014_hp1_v01.tif' \n",
    "moa_highres_da = rioxarray.open_rasterio(moa_highres)"
   ]
  },
  {
   "cell_type": "markdown",
   "id": "a112e9f7-d8bc-4010-b547-3b63a05a4948",
   "metadata": {
    "tags": []
   },
   "source": [
    "# Pre-process data"
   ]
  },
  {
   "cell_type": "code",
   "execution_count": 54,
   "id": "df19fcb6-5ea0-4d70-946d-53e960a9bba7",
   "metadata": {},
   "outputs": [],
   "source": [
    "# Clip altimetry datasets to grounding line to limit analysis to only below grounded ice\n",
    "CS2_Smith2017.rio.write_crs(3031, inplace=True)\n",
    "CS2_Smith2017 = CS2_Smith2017.rio.clip(Scripps_landice.geometry.values, Scripps_landice.crs, drop=False)\n",
    "ATL15_dh.rio.write_crs(3031, inplace=True)\n",
    "ATL15_dh = ATL15_dh.rio.clip(Scripps_landice.geometry.values, Scripps_landice.crs)"
   ]
  },
  {
   "cell_type": "code",
   "execution_count": 55,
   "id": "d05b1c92-b737-4461-8341-5b7dfbd39349",
   "metadata": {
    "tags": []
   },
   "outputs": [],
   "source": [
    "dataset1=CS2_Smith2017\n",
    "dataset2=ATL15_dh\n",
    "\n",
    "# Create empty lists to store data\n",
    "cyc_start_dates = []\n",
    "cyc_end_dates = []\n",
    "midcyc_dates = []\n",
    "dataset = []\n",
    "\n",
    "for idx in range(len(dataset1.delta_h[:33])):\n",
    "    # CryoSat-2 SARIn data - Smith and others, 2017 method\n",
    "    if dataset1.identifier_product_DOI == 'doi:10.5194/tc-11-451-2017':\n",
    "        cyc_start_date = dataset1.time.values[idx]\n",
    "        cyc_end_date = dataset1.time.values[idx+1]\n",
    "        midcyc_days = cyc_end_date - cyc_start_date\n",
    "        midcyc_date = cyc_start_date + midcyc_days/2\n",
    "        cyc_start_dates += [cyc_start_date]\n",
    "        cyc_end_dates += [cyc_end_date]\n",
    "        midcyc_dates += [midcyc_date]\n",
    "        dataset += ['CS2_Smith2017']\n",
    "    # CryoSat-2 SARIn data - Cryo-TEMPO-EOLIS Swath Thematic Gridded Product\n",
    "    elif dataset1.Title == 'Land Ice Elevation Thematic Gridded Product':\n",
    "        date_time_str = '70-01-01'\n",
    "        date_time_obj = datetime.datetime.strptime(date_time_str, '%y-%m-%d')\n",
    "        cyc_start_date = date_time_obj + datetime.timedelta(seconds = ds_sub.time.values[idx].astype(float))\n",
    "        cyc_end_date = date_time_obj + datetime.timedelta(seconds = ds_sub.time.values[idx+1].astype(float))\n",
    "        midcyc_days = cyc_end_date - cyc_start_date\n",
    "        midcyc_date = cyc_start_date + midcyc_days/2\n",
    "        cyc_start_dates += [cyc_start_date]\n",
    "        cyc_end_dates += [cyc_end_date]\n",
    "        midcyc_dates += [midcyc_date]\n",
    "        dataset += ['CS2_Cryo-TEMPO-EOLIS']\n",
    "for idx in range(len(dataset2.delta_h)-1):\n",
    "    # ICESat-2 ATL15 r003\n",
    "    if dataset2.identifier_product_DOI == '10.5067/ATLAS/ATL15.003':    \n",
    "        cyc_start_date = dataset2.time.values[idx]\n",
    "        cyc_end_date = dataset2.time.values[idx+1]\n",
    "        midcyc_days = cyc_end_date - cyc_start_date\n",
    "        midcyc_date = cyc_start_date + midcyc_days/2\n",
    "        cyc_start_dates += [cyc_start_date]\n",
    "        cyc_end_dates += [cyc_end_date]\n",
    "        midcyc_dates += [midcyc_date]\n",
    "        dataset += ['IS2_ATL15']\n",
    "\n",
    "# Concatenate list into pandas dataframe\n",
    "cyc_dates = pd.DataFrame({'cyc_start_dates': cyc_start_dates, 'midcyc_dates': midcyc_dates, 'cyc_end_dates': cyc_end_dates, 'dataset': dataset})\n",
    "\n",
    "# Store cycle dates list as csv for use in other notebooks\n",
    "cyc_dates.to_csv('output/cycle_dates.csv', index=False)"
   ]
  },
  {
   "cell_type": "code",
   "execution_count": 56,
   "id": "f638644a-e8ec-4dcb-97cf-726c97744575",
   "metadata": {
    "tags": []
   },
   "outputs": [],
   "source": [
    "# # Ensure dates are correct\n",
    "# for idx in range(len(midcyc_dates)):\n",
    "#     if idx <= 32:\n",
    "#         print('idx:', idx, 'CS2 era')\n",
    "#         print('cyc_start_date:', CS2_Smith2017.time[idx].values)\n",
    "#         print('mid_cyc_date:', midcyc_dates[idx])\n",
    "#         print('cyc_end_date:', CS2_Smith2017.time[idx+1].values)\n",
    "#     elif idx > 32:\n",
    "#         print('idx:', idx, 'IS2 era')\n",
    "#         # Subtract 33 (32th idx because 0th idx) from idx to start over with new dataset\n",
    "#         print('cyc_start_date:', ATL15_dh.time[idx-33].values)\n",
    "#         print('mid_start_date:', midcyc_dates[idx])\n",
    "#         print('cyc_end_date:', ATL15_dh.time[(idx+1)-33].values)"
   ]
  },
  {
   "cell_type": "markdown",
   "id": "596962e3-e1e3-47c9-b19e-62d368182982",
   "metadata": {
    "tags": []
   },
   "source": [
    "# Analysis of previously identified lakes"
   ]
  },
  {
   "cell_type": "code",
   "execution_count": 69,
   "id": "429e1ca6-74fb-4945-b353-206a57285013",
   "metadata": {
    "tags": []
   },
   "outputs": [],
   "source": [
    "# # Plot data counts for all the lakes to determine if there is adequate data coverage for analysis \n",
    "\n",
    "# # List all folders in target directory\n",
    "# folder_path = '/home/jovyan/1_outlines_candidates/output/FigS1_lake_reexamination_methods.ipynb/plot_data_counts'\n",
    "\n",
    "# # Store folder names that are non-empty (in case a folder was created, but output wasn't stored to it)\n",
    "# folders = [name for name in os.listdir(folder_path) \n",
    "#            if os.path.isdir(os.path.join(folder_path, name)) \n",
    "#            and os.listdir(os.path.join(folder_path, name))]\n",
    "\n",
    "# # Filter the GeoDataFrame to only include rows where the 'name' is not in folders\n",
    "# static_lakes_gdf_filtered = static_lakes_gdf[~static_lakes_gdf['name'].isin(folders)]\n",
    "\n",
    "# # Now, run your loop on the filtered GeoDataFrame\n",
    "# for idx, row in static_lakes_gdf_filtered.iterrows():\n",
    "\n",
    "#     # Isolate lake from static_lakes_gdf as geodataframe using slicing\n",
    "#     lake_gdf = static_lakes_gdf.iloc[idx:idx+1]\n",
    "#     print('Working on', lake_gdf['name'].values[0])\n",
    "    \n",
    "#     # Plot data counts\n",
    "#     plot_data_counts(lake_gdf=lake_gdf, dataset1=CS2_Smith2017, dataset2=ATL15_dh)\n",
    "    \n",
    "#     # Clear the output of each index\n",
    "#     clear_output(wait=True)"
   ]
  },
  {
   "cell_type": "code",
   "execution_count": null,
   "id": "9360fab0-2490-41ef-be3b-44d1e2460634",
   "metadata": {
    "tags": []
   },
   "outputs": [],
   "source": [
    "# Plot data counts for all the lakes to determine if there is adequate data coverage for analysis \n",
    "\n",
    "# List all folders in target directory\n",
    "folder_path = '/home/jovyan/1_outlines_candidates/output/FigS1_lake_reexamination_methods.ipynb/plot_data_counts'\n",
    "\n",
    "# Filter static_lakes_gdf based on folder contents\n",
    "static_lakes_gdf_filtered = filter_gdf_by_folder_contents(static_lakes_gdf, folder_path)\n",
    "\n",
    "# Now, run your loop on the filtered GeoDataFrame\n",
    "for idx, row in static_lakes_gdf_filtered.iterrows():\n",
    "\n",
    "    # Isolate lake from static_lakes_gdf as geodataframe using slicing\n",
    "    lake_gdf = static_lakes_gdf.iloc[idx:idx+1]\n",
    "    print('Working on', lake_gdf['name'].values[0])\n",
    "    \n",
    "    # Plot data counts\n",
    "    plot_data_counts(lake_gdf=lake_gdf, dataset1=CS2_Smith2017, dataset2=ATL15_dh)\n",
    "    \n",
    "    # Clear the output of each index\n",
    "    clear_output(wait=True)"
   ]
  },
  {
   "cell_type": "code",
   "execution_count": null,
   "id": "d3c95430-57cb-46cc-ac0e-7a63c6c6fa8b",
   "metadata": {
    "tags": []
   },
   "outputs": [],
   "source": [
    "# # Plot height changes at each time slice\n",
    "\n",
    "# # List all folders in target directory\n",
    "# folder_path = '/home/jovyan/1_outlines_candidates/output/FigS1_lake_reexamination_methods.ipynb/plot_height_changes'\n",
    "\n",
    "# # Store folder names that are non-empty (in case a folder was created, but output wasn't stored to it)\n",
    "# folders = [name for name in os.listdir(folder_path) \n",
    "#            if os.path.isdir(os.path.join(folder_path, name)) \n",
    "#            and os.listdir(os.path.join(folder_path, name))]\n",
    "\n",
    "# # Filter the GeoDataFrame to only include rows where the 'name' is not in folders\n",
    "# static_lakes_gdf_filtered = static_lakes_gdf[~static_lakes_gdf['name'].isin(folders)]\n",
    "\n",
    "# # Now, run your loop on the filtered GeoDataFrame\n",
    "# for idx, row in static_lakes_gdf_filtered.iterrows():\n",
    "\n",
    "#     # Isolate lake from static_lakes_gdf as geodataframe using slicing\n",
    "#     lake_gdf = static_lakes_gdf.iloc[idx:idx+1]\n",
    "#     print('Working on', lake_gdf['name'].values[0])\n",
    "    \n",
    "#     # Plot height changes\n",
    "#     plot_height_changes(lake_gdf=lake_gdf, dataset1=CS2_Smith2017, dataset2=ATL15_dh)\n",
    "    \n",
    "#     # Clear the output of each index\n",
    "#     clear_output(wait=True)"
   ]
  },
  {
   "cell_type": "code",
   "execution_count": null,
   "id": "7bd790ba-fd27-4e0f-b7f9-f37ad90b82b0",
   "metadata": {
    "tags": []
   },
   "outputs": [],
   "source": [
    "# Plot height changes at each time slice\n",
    "\n",
    "# List all folders in target directory\n",
    "folder_path = '/home/jovyan/1_outlines_candidates/output/FigS1_lake_reexamination_methods.ipynb/plot_height_changes'\n",
    "\n",
    "# Filter static_lakes_gdf based on folder contents\n",
    "static_lakes_gdf_filtered = filter_gdf_by_folder_contents(static_lakes_gdf, folder_path)\n",
    "\n",
    "# Now, run your loop on the filtered GeoDataFrame\n",
    "for idx, row in static_lakes_gdf_filtered.iterrows():\n",
    "\n",
    "    # Isolate lake from static_lakes_gdf as geodataframe using slicing\n",
    "    lake_gdf = static_lakes_gdf.iloc[idx:idx+1]\n",
    "    print('Working on', lake_gdf['name'].values[0])\n",
    "    \n",
    "    # Plot height changes\n",
    "    plot_height_changes(lake_gdf=lake_gdf, dataset1=CS2_Smith2017, dataset2=ATL15_dh)\n",
    "    \n",
    "    # Clear the output of each index\n",
    "    clear_output(wait=True)"
   ]
  },
  {
   "cell_type": "code",
   "execution_count": null,
   "id": "2bddc0e7-ff77-42f8-b001-bd008fbd2a65",
   "metadata": {},
   "outputs": [],
   "source": [
    "# Find evolving outlines at various search extents and levels for each lake\n",
    "\n",
    "# List all files in your target directory\n",
    "folder_path = '/home/jovyan/1_outlines_candidates/Sauthoff-2025-J.Glaciol./output/search_extents_levels'\n",
    "\n",
    "# Filter static_lakes_gdf based on folder contents\n",
    "static_lakes_gdf_filtered = filter_gdf_by_folder_contents(static_lakes_gdf, folder_path)\n",
    "\n",
    "# Find search extents and levels\n",
    "find_search_extents_and_levels(static_lakes_gdf_filtered)"
   ]
  },
  {
   "cell_type": "code",
   "execution_count": 64,
   "id": "4bd76a94-d4d8-40f2-9a33-116e0ab6c701",
   "metadata": {},
   "outputs": [],
   "source": [
    "# Finalize outlines for each lake and plot the outlines\n",
    "\n",
    "# List all files in your target directory\n",
    "folder_path = '/home/jovyan/1_outlines_candidates/Sauthoff-2025-J.Glaciol./output/lake_outlines/evolving_outlines'\n",
    "\n",
    "# Filter static_lakes_gdf based on folder contents\n",
    "static_lakes_gdf_filtered = filter_gdf_by_folder_contents(static_lakes_gdf, folder_path)\n",
    "\n",
    "# Finalize evolving outlines\n",
    "finalize_evolving_outlines(static_lakes_gdf_filtered)"
   ]
  },
  {
   "cell_type": "code",
   "execution_count": 75,
   "id": "e95fc51e-03fb-43cb-ae2b-d2431f91d95a",
   "metadata": {
    "scrolled": true
   },
   "outputs": [
    {
     "name": "stdout",
     "output_type": "stream",
     "text": [
      "Working on Bindschadler_1\n",
      "working on Bindschadler_1\n",
      "File for Bindschadler_1 not found. Skipping...\n",
      "Working on Bindschadler_2\n",
      "working on Bindschadler_2\n"
     ]
    },
    {
     "name": "stderr",
     "output_type": "stream",
     "text": [
      "/srv/conda/envs/notebook/lib/python3.11/site-packages/geopandas/io/file.py:383: FutureWarning: errors='ignore' is deprecated and will raise in a future version. Use to_datetime without passing `errors` and catch exceptions explicitly instead\n",
      "  as_dt = pd.to_datetime(df[k], errors=\"ignore\")\n",
      "/srv/conda/envs/notebook/lib/python3.11/site-packages/geopandas/geoseries.py:645: FutureWarning: the convert_dtype parameter is deprecated and will be removed in a future version.  Do ``ser.astype(object).apply()`` instead if you want ``convert_dtype=False``.\n",
      "  result = super().apply(func, convert_dtype=convert_dtype, args=args, **kwargs)\n",
      "/tmp/ipykernel_106/4279396429.py:310: UserWarning: This figure includes Axes that are not compatible with tight_layout, so results might be incorrect.\n",
      "  plt.tight_layout()  # Adjust layout to prevent overlap\n"
     ]
    },
    {
     "name": "stdout",
     "output_type": "stream",
     "text": [
      "Working on Bindschadler_3\n",
      "working on Bindschadler_3\n"
     ]
    },
    {
     "name": "stderr",
     "output_type": "stream",
     "text": [
      "/srv/conda/envs/notebook/lib/python3.11/site-packages/geopandas/io/file.py:383: FutureWarning: errors='ignore' is deprecated and will raise in a future version. Use to_datetime without passing `errors` and catch exceptions explicitly instead\n",
      "  as_dt = pd.to_datetime(df[k], errors=\"ignore\")\n",
      "/srv/conda/envs/notebook/lib/python3.11/site-packages/geopandas/geoseries.py:645: FutureWarning: the convert_dtype parameter is deprecated and will be removed in a future version.  Do ``ser.astype(object).apply()`` instead if you want ``convert_dtype=False``.\n",
      "  result = super().apply(func, convert_dtype=convert_dtype, args=args, **kwargs)\n",
      "/tmp/ipykernel_106/4279396429.py:310: UserWarning: This figure includes Axes that are not compatible with tight_layout, so results might be incorrect.\n",
      "  plt.tight_layout()  # Adjust layout to prevent overlap\n"
     ]
    },
    {
     "name": "stdout",
     "output_type": "stream",
     "text": [
      "Working on Bindschadler_4\n",
      "working on Bindschadler_4\n"
     ]
    },
    {
     "name": "stderr",
     "output_type": "stream",
     "text": [
      "/srv/conda/envs/notebook/lib/python3.11/site-packages/geopandas/io/file.py:383: FutureWarning: errors='ignore' is deprecated and will raise in a future version. Use to_datetime without passing `errors` and catch exceptions explicitly instead\n",
      "  as_dt = pd.to_datetime(df[k], errors=\"ignore\")\n",
      "/srv/conda/envs/notebook/lib/python3.11/site-packages/geopandas/geoseries.py:645: FutureWarning: the convert_dtype parameter is deprecated and will be removed in a future version.  Do ``ser.astype(object).apply()`` instead if you want ``convert_dtype=False``.\n",
      "  result = super().apply(func, convert_dtype=convert_dtype, args=args, **kwargs)\n",
      "/tmp/ipykernel_106/4279396429.py:310: UserWarning: This figure includes Axes that are not compatible with tight_layout, so results might be incorrect.\n",
      "  plt.tight_layout()  # Adjust layout to prevent overlap\n"
     ]
    },
    {
     "name": "stdout",
     "output_type": "stream",
     "text": [
      "Working on Bindschadler_5\n",
      "working on Bindschadler_5\n"
     ]
    },
    {
     "name": "stderr",
     "output_type": "stream",
     "text": [
      "/srv/conda/envs/notebook/lib/python3.11/site-packages/geopandas/io/file.py:383: FutureWarning: errors='ignore' is deprecated and will raise in a future version. Use to_datetime without passing `errors` and catch exceptions explicitly instead\n",
      "  as_dt = pd.to_datetime(df[k], errors=\"ignore\")\n",
      "/srv/conda/envs/notebook/lib/python3.11/site-packages/geopandas/geoseries.py:645: FutureWarning: the convert_dtype parameter is deprecated and will be removed in a future version.  Do ``ser.astype(object).apply()`` instead if you want ``convert_dtype=False``.\n",
      "  result = super().apply(func, convert_dtype=convert_dtype, args=args, **kwargs)\n",
      "/tmp/ipykernel_106/4279396429.py:310: UserWarning: This figure includes Axes that are not compatible with tight_layout, so results might be incorrect.\n",
      "  plt.tight_layout()  # Adjust layout to prevent overlap\n"
     ]
    },
    {
     "name": "stdout",
     "output_type": "stream",
     "text": [
      "Working on Bindschadler_6\n",
      "working on Bindschadler_6\n"
     ]
    },
    {
     "name": "stderr",
     "output_type": "stream",
     "text": [
      "/srv/conda/envs/notebook/lib/python3.11/site-packages/geopandas/io/file.py:383: FutureWarning: errors='ignore' is deprecated and will raise in a future version. Use to_datetime without passing `errors` and catch exceptions explicitly instead\n",
      "  as_dt = pd.to_datetime(df[k], errors=\"ignore\")\n",
      "/srv/conda/envs/notebook/lib/python3.11/site-packages/geopandas/geoseries.py:645: FutureWarning: the convert_dtype parameter is deprecated and will be removed in a future version.  Do ``ser.astype(object).apply()`` instead if you want ``convert_dtype=False``.\n",
      "  result = super().apply(func, convert_dtype=convert_dtype, args=args, **kwargs)\n",
      "/tmp/ipykernel_106/4279396429.py:310: UserWarning: This figure includes Axes that are not compatible with tight_layout, so results might be incorrect.\n",
      "  plt.tight_layout()  # Adjust layout to prevent overlap\n"
     ]
    },
    {
     "name": "stdout",
     "output_type": "stream",
     "text": [
      "Working on Byrd_1\n",
      "working on Byrd_1\n"
     ]
    },
    {
     "name": "stderr",
     "output_type": "stream",
     "text": [
      "/srv/conda/envs/notebook/lib/python3.11/site-packages/geopandas/io/file.py:383: FutureWarning: errors='ignore' is deprecated and will raise in a future version. Use to_datetime without passing `errors` and catch exceptions explicitly instead\n",
      "  as_dt = pd.to_datetime(df[k], errors=\"ignore\")\n",
      "/srv/conda/envs/notebook/lib/python3.11/site-packages/geopandas/geoseries.py:645: FutureWarning: the convert_dtype parameter is deprecated and will be removed in a future version.  Do ``ser.astype(object).apply()`` instead if you want ``convert_dtype=False``.\n",
      "  result = super().apply(func, convert_dtype=convert_dtype, args=args, **kwargs)\n",
      "/tmp/ipykernel_106/4279396429.py:310: UserWarning: This figure includes Axes that are not compatible with tight_layout, so results might be incorrect.\n",
      "  plt.tight_layout()  # Adjust layout to prevent overlap\n"
     ]
    },
    {
     "name": "stdout",
     "output_type": "stream",
     "text": [
      "Working on Byrd_2\n",
      "working on Byrd_2\n"
     ]
    },
    {
     "name": "stderr",
     "output_type": "stream",
     "text": [
      "/srv/conda/envs/notebook/lib/python3.11/site-packages/geopandas/io/file.py:383: FutureWarning: errors='ignore' is deprecated and will raise in a future version. Use to_datetime without passing `errors` and catch exceptions explicitly instead\n",
      "  as_dt = pd.to_datetime(df[k], errors=\"ignore\")\n",
      "/srv/conda/envs/notebook/lib/python3.11/site-packages/geopandas/geoseries.py:645: FutureWarning: the convert_dtype parameter is deprecated and will be removed in a future version.  Do ``ser.astype(object).apply()`` instead if you want ``convert_dtype=False``.\n",
      "  result = super().apply(func, convert_dtype=convert_dtype, args=args, **kwargs)\n",
      "/tmp/ipykernel_106/4279396429.py:310: UserWarning: This figure includes Axes that are not compatible with tight_layout, so results might be incorrect.\n",
      "  plt.tight_layout()  # Adjust layout to prevent overlap\n"
     ]
    },
    {
     "name": "stdout",
     "output_type": "stream",
     "text": [
      "Working on Byrd_s1\n",
      "working on Byrd_s1\n"
     ]
    },
    {
     "name": "stderr",
     "output_type": "stream",
     "text": [
      "/srv/conda/envs/notebook/lib/python3.11/site-packages/geopandas/io/file.py:383: FutureWarning: errors='ignore' is deprecated and will raise in a future version. Use to_datetime without passing `errors` and catch exceptions explicitly instead\n",
      "  as_dt = pd.to_datetime(df[k], errors=\"ignore\")\n",
      "/srv/conda/envs/notebook/lib/python3.11/site-packages/geopandas/geoseries.py:645: FutureWarning: the convert_dtype parameter is deprecated and will be removed in a future version.  Do ``ser.astype(object).apply()`` instead if you want ``convert_dtype=False``.\n",
      "  result = super().apply(func, convert_dtype=convert_dtype, args=args, **kwargs)\n",
      "/tmp/ipykernel_106/4279396429.py:310: UserWarning: This figure includes Axes that are not compatible with tight_layout, so results might be incorrect.\n",
      "  plt.tight_layout()  # Adjust layout to prevent overlap\n"
     ]
    },
    {
     "name": "stdout",
     "output_type": "stream",
     "text": [
      "Working on Byrd_s10\n",
      "working on Byrd_s10\n"
     ]
    },
    {
     "name": "stderr",
     "output_type": "stream",
     "text": [
      "/srv/conda/envs/notebook/lib/python3.11/site-packages/geopandas/io/file.py:383: FutureWarning: errors='ignore' is deprecated and will raise in a future version. Use to_datetime without passing `errors` and catch exceptions explicitly instead\n",
      "  as_dt = pd.to_datetime(df[k], errors=\"ignore\")\n",
      "/srv/conda/envs/notebook/lib/python3.11/site-packages/geopandas/geoseries.py:645: FutureWarning: the convert_dtype parameter is deprecated and will be removed in a future version.  Do ``ser.astype(object).apply()`` instead if you want ``convert_dtype=False``.\n",
      "  result = super().apply(func, convert_dtype=convert_dtype, args=args, **kwargs)\n",
      "/tmp/ipykernel_106/4279396429.py:310: UserWarning: This figure includes Axes that are not compatible with tight_layout, so results might be incorrect.\n",
      "  plt.tight_layout()  # Adjust layout to prevent overlap\n"
     ]
    },
    {
     "name": "stdout",
     "output_type": "stream",
     "text": [
      "Working on Byrd_s11\n",
      "working on Byrd_s11\n"
     ]
    },
    {
     "name": "stderr",
     "output_type": "stream",
     "text": [
      "/srv/conda/envs/notebook/lib/python3.11/site-packages/geopandas/io/file.py:383: FutureWarning: errors='ignore' is deprecated and will raise in a future version. Use to_datetime without passing `errors` and catch exceptions explicitly instead\n",
      "  as_dt = pd.to_datetime(df[k], errors=\"ignore\")\n",
      "/srv/conda/envs/notebook/lib/python3.11/site-packages/geopandas/geoseries.py:645: FutureWarning: the convert_dtype parameter is deprecated and will be removed in a future version.  Do ``ser.astype(object).apply()`` instead if you want ``convert_dtype=False``.\n",
      "  result = super().apply(func, convert_dtype=convert_dtype, args=args, **kwargs)\n",
      "/tmp/ipykernel_106/4279396429.py:310: UserWarning: This figure includes Axes that are not compatible with tight_layout, so results might be incorrect.\n",
      "  plt.tight_layout()  # Adjust layout to prevent overlap\n"
     ]
    },
    {
     "name": "stdout",
     "output_type": "stream",
     "text": [
      "Working on Byrd_s12\n",
      "working on Byrd_s12\n"
     ]
    },
    {
     "name": "stderr",
     "output_type": "stream",
     "text": [
      "/srv/conda/envs/notebook/lib/python3.11/site-packages/geopandas/io/file.py:383: FutureWarning: errors='ignore' is deprecated and will raise in a future version. Use to_datetime without passing `errors` and catch exceptions explicitly instead\n",
      "  as_dt = pd.to_datetime(df[k], errors=\"ignore\")\n",
      "/srv/conda/envs/notebook/lib/python3.11/site-packages/geopandas/geoseries.py:645: FutureWarning: the convert_dtype parameter is deprecated and will be removed in a future version.  Do ``ser.astype(object).apply()`` instead if you want ``convert_dtype=False``.\n",
      "  result = super().apply(func, convert_dtype=convert_dtype, args=args, **kwargs)\n",
      "/tmp/ipykernel_106/4279396429.py:310: UserWarning: This figure includes Axes that are not compatible with tight_layout, so results might be incorrect.\n",
      "  plt.tight_layout()  # Adjust layout to prevent overlap\n"
     ]
    },
    {
     "name": "stdout",
     "output_type": "stream",
     "text": [
      "Working on Byrd_s13\n",
      "working on Byrd_s13\n"
     ]
    },
    {
     "name": "stderr",
     "output_type": "stream",
     "text": [
      "/srv/conda/envs/notebook/lib/python3.11/site-packages/geopandas/io/file.py:383: FutureWarning: errors='ignore' is deprecated and will raise in a future version. Use to_datetime without passing `errors` and catch exceptions explicitly instead\n",
      "  as_dt = pd.to_datetime(df[k], errors=\"ignore\")\n",
      "/srv/conda/envs/notebook/lib/python3.11/site-packages/geopandas/geoseries.py:645: FutureWarning: the convert_dtype parameter is deprecated and will be removed in a future version.  Do ``ser.astype(object).apply()`` instead if you want ``convert_dtype=False``.\n",
      "  result = super().apply(func, convert_dtype=convert_dtype, args=args, **kwargs)\n",
      "/tmp/ipykernel_106/4279396429.py:310: UserWarning: This figure includes Axes that are not compatible with tight_layout, so results might be incorrect.\n",
      "  plt.tight_layout()  # Adjust layout to prevent overlap\n"
     ]
    },
    {
     "name": "stdout",
     "output_type": "stream",
     "text": [
      "Working on Byrd_s14\n",
      "working on Byrd_s14\n"
     ]
    },
    {
     "name": "stderr",
     "output_type": "stream",
     "text": [
      "/srv/conda/envs/notebook/lib/python3.11/site-packages/geopandas/io/file.py:383: FutureWarning: errors='ignore' is deprecated and will raise in a future version. Use to_datetime without passing `errors` and catch exceptions explicitly instead\n",
      "  as_dt = pd.to_datetime(df[k], errors=\"ignore\")\n",
      "/srv/conda/envs/notebook/lib/python3.11/site-packages/geopandas/geoseries.py:645: FutureWarning: the convert_dtype parameter is deprecated and will be removed in a future version.  Do ``ser.astype(object).apply()`` instead if you want ``convert_dtype=False``.\n",
      "  result = super().apply(func, convert_dtype=convert_dtype, args=args, **kwargs)\n",
      "/tmp/ipykernel_106/4279396429.py:310: UserWarning: This figure includes Axes that are not compatible with tight_layout, so results might be incorrect.\n",
      "  plt.tight_layout()  # Adjust layout to prevent overlap\n"
     ]
    },
    {
     "name": "stdout",
     "output_type": "stream",
     "text": [
      "Working on Byrd_s15\n",
      "working on Byrd_s15\n"
     ]
    },
    {
     "name": "stderr",
     "output_type": "stream",
     "text": [
      "/srv/conda/envs/notebook/lib/python3.11/site-packages/geopandas/io/file.py:383: FutureWarning: errors='ignore' is deprecated and will raise in a future version. Use to_datetime without passing `errors` and catch exceptions explicitly instead\n",
      "  as_dt = pd.to_datetime(df[k], errors=\"ignore\")\n",
      "/srv/conda/envs/notebook/lib/python3.11/site-packages/geopandas/geoseries.py:645: FutureWarning: the convert_dtype parameter is deprecated and will be removed in a future version.  Do ``ser.astype(object).apply()`` instead if you want ``convert_dtype=False``.\n",
      "  result = super().apply(func, convert_dtype=convert_dtype, args=args, **kwargs)\n",
      "/tmp/ipykernel_106/4279396429.py:310: UserWarning: This figure includes Axes that are not compatible with tight_layout, so results might be incorrect.\n",
      "  plt.tight_layout()  # Adjust layout to prevent overlap\n"
     ]
    },
    {
     "name": "stdout",
     "output_type": "stream",
     "text": [
      "Working on Byrd_s2\n",
      "working on Byrd_s2\n"
     ]
    },
    {
     "name": "stderr",
     "output_type": "stream",
     "text": [
      "/srv/conda/envs/notebook/lib/python3.11/site-packages/geopandas/io/file.py:383: FutureWarning: errors='ignore' is deprecated and will raise in a future version. Use to_datetime without passing `errors` and catch exceptions explicitly instead\n",
      "  as_dt = pd.to_datetime(df[k], errors=\"ignore\")\n",
      "/srv/conda/envs/notebook/lib/python3.11/site-packages/geopandas/geoseries.py:645: FutureWarning: the convert_dtype parameter is deprecated and will be removed in a future version.  Do ``ser.astype(object).apply()`` instead if you want ``convert_dtype=False``.\n",
      "  result = super().apply(func, convert_dtype=convert_dtype, args=args, **kwargs)\n",
      "/tmp/ipykernel_106/4279396429.py:310: UserWarning: This figure includes Axes that are not compatible with tight_layout, so results might be incorrect.\n",
      "  plt.tight_layout()  # Adjust layout to prevent overlap\n"
     ]
    },
    {
     "name": "stdout",
     "output_type": "stream",
     "text": [
      "Working on Byrd_s3\n",
      "working on Byrd_s3\n",
      "File for Byrd_s3 not found. Skipping...\n",
      "Working on Byrd_s4\n",
      "working on Byrd_s4\n"
     ]
    },
    {
     "name": "stderr",
     "output_type": "stream",
     "text": [
      "/srv/conda/envs/notebook/lib/python3.11/site-packages/geopandas/io/file.py:383: FutureWarning: errors='ignore' is deprecated and will raise in a future version. Use to_datetime without passing `errors` and catch exceptions explicitly instead\n",
      "  as_dt = pd.to_datetime(df[k], errors=\"ignore\")\n",
      "/srv/conda/envs/notebook/lib/python3.11/site-packages/geopandas/geoseries.py:645: FutureWarning: the convert_dtype parameter is deprecated and will be removed in a future version.  Do ``ser.astype(object).apply()`` instead if you want ``convert_dtype=False``.\n",
      "  result = super().apply(func, convert_dtype=convert_dtype, args=args, **kwargs)\n",
      "/tmp/ipykernel_106/4279396429.py:310: UserWarning: This figure includes Axes that are not compatible with tight_layout, so results might be incorrect.\n",
      "  plt.tight_layout()  # Adjust layout to prevent overlap\n"
     ]
    },
    {
     "name": "stdout",
     "output_type": "stream",
     "text": [
      "Working on Byrd_s5\n",
      "working on Byrd_s5\n"
     ]
    },
    {
     "name": "stderr",
     "output_type": "stream",
     "text": [
      "/srv/conda/envs/notebook/lib/python3.11/site-packages/geopandas/io/file.py:383: FutureWarning: errors='ignore' is deprecated and will raise in a future version. Use to_datetime without passing `errors` and catch exceptions explicitly instead\n",
      "  as_dt = pd.to_datetime(df[k], errors=\"ignore\")\n",
      "/srv/conda/envs/notebook/lib/python3.11/site-packages/geopandas/geoseries.py:645: FutureWarning: the convert_dtype parameter is deprecated and will be removed in a future version.  Do ``ser.astype(object).apply()`` instead if you want ``convert_dtype=False``.\n",
      "  result = super().apply(func, convert_dtype=convert_dtype, args=args, **kwargs)\n",
      "/tmp/ipykernel_106/4279396429.py:310: UserWarning: This figure includes Axes that are not compatible with tight_layout, so results might be incorrect.\n",
      "  plt.tight_layout()  # Adjust layout to prevent overlap\n"
     ]
    },
    {
     "name": "stdout",
     "output_type": "stream",
     "text": [
      "Working on Byrd_s6\n",
      "working on Byrd_s6\n"
     ]
    },
    {
     "name": "stderr",
     "output_type": "stream",
     "text": [
      "/srv/conda/envs/notebook/lib/python3.11/site-packages/geopandas/io/file.py:383: FutureWarning: errors='ignore' is deprecated and will raise in a future version. Use to_datetime without passing `errors` and catch exceptions explicitly instead\n",
      "  as_dt = pd.to_datetime(df[k], errors=\"ignore\")\n",
      "/srv/conda/envs/notebook/lib/python3.11/site-packages/geopandas/geoseries.py:645: FutureWarning: the convert_dtype parameter is deprecated and will be removed in a future version.  Do ``ser.astype(object).apply()`` instead if you want ``convert_dtype=False``.\n",
      "  result = super().apply(func, convert_dtype=convert_dtype, args=args, **kwargs)\n",
      "/tmp/ipykernel_106/4279396429.py:310: UserWarning: This figure includes Axes that are not compatible with tight_layout, so results might be incorrect.\n",
      "  plt.tight_layout()  # Adjust layout to prevent overlap\n"
     ]
    },
    {
     "name": "stdout",
     "output_type": "stream",
     "text": [
      "Working on Byrd_s7\n",
      "working on Byrd_s7\n"
     ]
    },
    {
     "name": "stderr",
     "output_type": "stream",
     "text": [
      "/srv/conda/envs/notebook/lib/python3.11/site-packages/geopandas/io/file.py:383: FutureWarning: errors='ignore' is deprecated and will raise in a future version. Use to_datetime without passing `errors` and catch exceptions explicitly instead\n",
      "  as_dt = pd.to_datetime(df[k], errors=\"ignore\")\n",
      "/srv/conda/envs/notebook/lib/python3.11/site-packages/geopandas/geoseries.py:645: FutureWarning: the convert_dtype parameter is deprecated and will be removed in a future version.  Do ``ser.astype(object).apply()`` instead if you want ``convert_dtype=False``.\n",
      "  result = super().apply(func, convert_dtype=convert_dtype, args=args, **kwargs)\n",
      "/tmp/ipykernel_106/4279396429.py:310: UserWarning: This figure includes Axes that are not compatible with tight_layout, so results might be incorrect.\n",
      "  plt.tight_layout()  # Adjust layout to prevent overlap\n"
     ]
    },
    {
     "name": "stdout",
     "output_type": "stream",
     "text": [
      "Working on Byrd_s8\n",
      "working on Byrd_s8\n"
     ]
    },
    {
     "name": "stderr",
     "output_type": "stream",
     "text": [
      "/srv/conda/envs/notebook/lib/python3.11/site-packages/geopandas/io/file.py:383: FutureWarning: errors='ignore' is deprecated and will raise in a future version. Use to_datetime without passing `errors` and catch exceptions explicitly instead\n",
      "  as_dt = pd.to_datetime(df[k], errors=\"ignore\")\n",
      "/srv/conda/envs/notebook/lib/python3.11/site-packages/geopandas/geoseries.py:645: FutureWarning: the convert_dtype parameter is deprecated and will be removed in a future version.  Do ``ser.astype(object).apply()`` instead if you want ``convert_dtype=False``.\n",
      "  result = super().apply(func, convert_dtype=convert_dtype, args=args, **kwargs)\n",
      "/tmp/ipykernel_106/4279396429.py:310: UserWarning: This figure includes Axes that are not compatible with tight_layout, so results might be incorrect.\n",
      "  plt.tight_layout()  # Adjust layout to prevent overlap\n"
     ]
    },
    {
     "name": "stdout",
     "output_type": "stream",
     "text": [
      "Working on Byrd_s9\n",
      "working on Byrd_s9\n"
     ]
    },
    {
     "name": "stderr",
     "output_type": "stream",
     "text": [
      "/srv/conda/envs/notebook/lib/python3.11/site-packages/geopandas/io/file.py:383: FutureWarning: errors='ignore' is deprecated and will raise in a future version. Use to_datetime without passing `errors` and catch exceptions explicitly instead\n",
      "  as_dt = pd.to_datetime(df[k], errors=\"ignore\")\n",
      "/srv/conda/envs/notebook/lib/python3.11/site-packages/geopandas/geoseries.py:645: FutureWarning: the convert_dtype parameter is deprecated and will be removed in a future version.  Do ``ser.astype(object).apply()`` instead if you want ``convert_dtype=False``.\n",
      "  result = super().apply(func, convert_dtype=convert_dtype, args=args, **kwargs)\n",
      "/tmp/ipykernel_106/4279396429.py:310: UserWarning: This figure includes Axes that are not compatible with tight_layout, so results might be incorrect.\n",
      "  plt.tight_layout()  # Adjust layout to prevent overlap\n"
     ]
    },
    {
     "name": "stdout",
     "output_type": "stream",
     "text": [
      "Working on ConwaySubglacialLake\n",
      "working on ConwaySubglacialLake\n"
     ]
    },
    {
     "name": "stderr",
     "output_type": "stream",
     "text": [
      "/srv/conda/envs/notebook/lib/python3.11/site-packages/geopandas/io/file.py:383: FutureWarning: errors='ignore' is deprecated and will raise in a future version. Use to_datetime without passing `errors` and catch exceptions explicitly instead\n",
      "  as_dt = pd.to_datetime(df[k], errors=\"ignore\")\n",
      "/srv/conda/envs/notebook/lib/python3.11/site-packages/geopandas/geoseries.py:645: FutureWarning: the convert_dtype parameter is deprecated and will be removed in a future version.  Do ``ser.astype(object).apply()`` instead if you want ``convert_dtype=False``.\n",
      "  result = super().apply(func, convert_dtype=convert_dtype, args=args, **kwargs)\n",
      "/tmp/ipykernel_106/4279396429.py:310: UserWarning: This figure includes Axes that are not compatible with tight_layout, so results might be incorrect.\n",
      "  plt.tight_layout()  # Adjust layout to prevent overlap\n"
     ]
    },
    {
     "name": "stdout",
     "output_type": "stream",
     "text": [
      "Working on Cook_E1\n",
      "working on Cook_E1\n"
     ]
    },
    {
     "name": "stderr",
     "output_type": "stream",
     "text": [
      "/srv/conda/envs/notebook/lib/python3.11/site-packages/geopandas/io/file.py:383: FutureWarning: errors='ignore' is deprecated and will raise in a future version. Use to_datetime without passing `errors` and catch exceptions explicitly instead\n",
      "  as_dt = pd.to_datetime(df[k], errors=\"ignore\")\n",
      "/srv/conda/envs/notebook/lib/python3.11/site-packages/geopandas/geoseries.py:645: FutureWarning: the convert_dtype parameter is deprecated and will be removed in a future version.  Do ``ser.astype(object).apply()`` instead if you want ``convert_dtype=False``.\n",
      "  result = super().apply(func, convert_dtype=convert_dtype, args=args, **kwargs)\n",
      "/tmp/ipykernel_106/4279396429.py:310: UserWarning: This figure includes Axes that are not compatible with tight_layout, so results might be incorrect.\n",
      "  plt.tight_layout()  # Adjust layout to prevent overlap\n"
     ]
    },
    {
     "name": "stdout",
     "output_type": "stream",
     "text": [
      "Working on Cook_E2\n",
      "working on Cook_E2\n"
     ]
    },
    {
     "name": "stderr",
     "output_type": "stream",
     "text": [
      "/srv/conda/envs/notebook/lib/python3.11/site-packages/geopandas/io/file.py:383: FutureWarning: errors='ignore' is deprecated and will raise in a future version. Use to_datetime without passing `errors` and catch exceptions explicitly instead\n",
      "  as_dt = pd.to_datetime(df[k], errors=\"ignore\")\n",
      "/srv/conda/envs/notebook/lib/python3.11/site-packages/geopandas/geoseries.py:645: FutureWarning: the convert_dtype parameter is deprecated and will be removed in a future version.  Do ``ser.astype(object).apply()`` instead if you want ``convert_dtype=False``.\n",
      "  result = super().apply(func, convert_dtype=convert_dtype, args=args, **kwargs)\n",
      "/tmp/ipykernel_106/4279396429.py:310: UserWarning: This figure includes Axes that are not compatible with tight_layout, so results might be incorrect.\n",
      "  plt.tight_layout()  # Adjust layout to prevent overlap\n"
     ]
    },
    {
     "name": "stdout",
     "output_type": "stream",
     "text": [
      "Working on David_1\n",
      "working on David_1\n"
     ]
    },
    {
     "name": "stderr",
     "output_type": "stream",
     "text": [
      "/srv/conda/envs/notebook/lib/python3.11/site-packages/geopandas/io/file.py:383: FutureWarning: errors='ignore' is deprecated and will raise in a future version. Use to_datetime without passing `errors` and catch exceptions explicitly instead\n",
      "  as_dt = pd.to_datetime(df[k], errors=\"ignore\")\n",
      "/srv/conda/envs/notebook/lib/python3.11/site-packages/geopandas/geoseries.py:645: FutureWarning: the convert_dtype parameter is deprecated and will be removed in a future version.  Do ``ser.astype(object).apply()`` instead if you want ``convert_dtype=False``.\n",
      "  result = super().apply(func, convert_dtype=convert_dtype, args=args, **kwargs)\n",
      "/tmp/ipykernel_106/4279396429.py:310: UserWarning: This figure includes Axes that are not compatible with tight_layout, so results might be incorrect.\n",
      "  plt.tight_layout()  # Adjust layout to prevent overlap\n"
     ]
    },
    {
     "name": "stdout",
     "output_type": "stream",
     "text": [
      "Working on David_s1\n",
      "working on David_s1\n"
     ]
    },
    {
     "name": "stderr",
     "output_type": "stream",
     "text": [
      "/srv/conda/envs/notebook/lib/python3.11/site-packages/geopandas/io/file.py:383: FutureWarning: errors='ignore' is deprecated and will raise in a future version. Use to_datetime without passing `errors` and catch exceptions explicitly instead\n",
      "  as_dt = pd.to_datetime(df[k], errors=\"ignore\")\n",
      "/srv/conda/envs/notebook/lib/python3.11/site-packages/geopandas/geoseries.py:645: FutureWarning: the convert_dtype parameter is deprecated and will be removed in a future version.  Do ``ser.astype(object).apply()`` instead if you want ``convert_dtype=False``.\n",
      "  result = super().apply(func, convert_dtype=convert_dtype, args=args, **kwargs)\n",
      "/tmp/ipykernel_106/4279396429.py:310: UserWarning: This figure includes Axes that are not compatible with tight_layout, so results might be incorrect.\n",
      "  plt.tight_layout()  # Adjust layout to prevent overlap\n"
     ]
    },
    {
     "name": "stdout",
     "output_type": "stream",
     "text": [
      "Working on David_s2\n",
      "working on David_s2\n"
     ]
    },
    {
     "name": "stderr",
     "output_type": "stream",
     "text": [
      "/srv/conda/envs/notebook/lib/python3.11/site-packages/geopandas/io/file.py:383: FutureWarning: errors='ignore' is deprecated and will raise in a future version. Use to_datetime without passing `errors` and catch exceptions explicitly instead\n",
      "  as_dt = pd.to_datetime(df[k], errors=\"ignore\")\n",
      "/srv/conda/envs/notebook/lib/python3.11/site-packages/geopandas/geoseries.py:645: FutureWarning: the convert_dtype parameter is deprecated and will be removed in a future version.  Do ``ser.astype(object).apply()`` instead if you want ``convert_dtype=False``.\n",
      "  result = super().apply(func, convert_dtype=convert_dtype, args=args, **kwargs)\n",
      "/tmp/ipykernel_106/4279396429.py:310: UserWarning: This figure includes Axes that are not compatible with tight_layout, so results might be incorrect.\n",
      "  plt.tight_layout()  # Adjust layout to prevent overlap\n"
     ]
    },
    {
     "name": "stdout",
     "output_type": "stream",
     "text": [
      "Working on David_s3\n",
      "working on David_s3\n"
     ]
    },
    {
     "name": "stderr",
     "output_type": "stream",
     "text": [
      "/srv/conda/envs/notebook/lib/python3.11/site-packages/geopandas/io/file.py:383: FutureWarning: errors='ignore' is deprecated and will raise in a future version. Use to_datetime without passing `errors` and catch exceptions explicitly instead\n",
      "  as_dt = pd.to_datetime(df[k], errors=\"ignore\")\n",
      "/srv/conda/envs/notebook/lib/python3.11/site-packages/geopandas/geoseries.py:645: FutureWarning: the convert_dtype parameter is deprecated and will be removed in a future version.  Do ``ser.astype(object).apply()`` instead if you want ``convert_dtype=False``.\n",
      "  result = super().apply(func, convert_dtype=convert_dtype, args=args, **kwargs)\n",
      "/tmp/ipykernel_106/4279396429.py:310: UserWarning: This figure includes Axes that are not compatible with tight_layout, so results might be incorrect.\n",
      "  plt.tight_layout()  # Adjust layout to prevent overlap\n"
     ]
    },
    {
     "name": "stdout",
     "output_type": "stream",
     "text": [
      "Working on David_s4\n",
      "working on David_s4\n"
     ]
    },
    {
     "name": "stderr",
     "output_type": "stream",
     "text": [
      "/srv/conda/envs/notebook/lib/python3.11/site-packages/geopandas/io/file.py:383: FutureWarning: errors='ignore' is deprecated and will raise in a future version. Use to_datetime without passing `errors` and catch exceptions explicitly instead\n",
      "  as_dt = pd.to_datetime(df[k], errors=\"ignore\")\n",
      "/srv/conda/envs/notebook/lib/python3.11/site-packages/geopandas/geoseries.py:645: FutureWarning: the convert_dtype parameter is deprecated and will be removed in a future version.  Do ``ser.astype(object).apply()`` instead if you want ``convert_dtype=False``.\n",
      "  result = super().apply(func, convert_dtype=convert_dtype, args=args, **kwargs)\n",
      "/tmp/ipykernel_106/4279396429.py:310: UserWarning: This figure includes Axes that are not compatible with tight_layout, so results might be incorrect.\n",
      "  plt.tight_layout()  # Adjust layout to prevent overlap\n"
     ]
    },
    {
     "name": "stdout",
     "output_type": "stream",
     "text": [
      "Working on David_s5\n",
      "working on David_s5\n"
     ]
    },
    {
     "name": "stderr",
     "output_type": "stream",
     "text": [
      "/srv/conda/envs/notebook/lib/python3.11/site-packages/geopandas/io/file.py:383: FutureWarning: errors='ignore' is deprecated and will raise in a future version. Use to_datetime without passing `errors` and catch exceptions explicitly instead\n",
      "  as_dt = pd.to_datetime(df[k], errors=\"ignore\")\n",
      "/srv/conda/envs/notebook/lib/python3.11/site-packages/geopandas/geoseries.py:645: FutureWarning: the convert_dtype parameter is deprecated and will be removed in a future version.  Do ``ser.astype(object).apply()`` instead if you want ``convert_dtype=False``.\n",
      "  result = super().apply(func, convert_dtype=convert_dtype, args=args, **kwargs)\n",
      "/tmp/ipykernel_106/4279396429.py:310: UserWarning: This figure includes Axes that are not compatible with tight_layout, so results might be incorrect.\n",
      "  plt.tight_layout()  # Adjust layout to prevent overlap\n"
     ]
    },
    {
     "name": "stdout",
     "output_type": "stream",
     "text": [
      "Working on EAP_1\n",
      "working on EAP_1\n"
     ]
    },
    {
     "name": "stderr",
     "output_type": "stream",
     "text": [
      "/srv/conda/envs/notebook/lib/python3.11/site-packages/geopandas/io/file.py:383: FutureWarning: errors='ignore' is deprecated and will raise in a future version. Use to_datetime without passing `errors` and catch exceptions explicitly instead\n",
      "  as_dt = pd.to_datetime(df[k], errors=\"ignore\")\n",
      "/srv/conda/envs/notebook/lib/python3.11/site-packages/geopandas/geoseries.py:645: FutureWarning: the convert_dtype parameter is deprecated and will be removed in a future version.  Do ``ser.astype(object).apply()`` instead if you want ``convert_dtype=False``.\n",
      "  result = super().apply(func, convert_dtype=convert_dtype, args=args, **kwargs)\n",
      "/tmp/ipykernel_106/4279396429.py:310: UserWarning: This figure includes Axes that are not compatible with tight_layout, so results might be incorrect.\n",
      "  plt.tight_layout()  # Adjust layout to prevent overlap\n"
     ]
    },
    {
     "name": "stdout",
     "output_type": "stream",
     "text": [
      "Working on EAP_2\n",
      "working on EAP_2\n"
     ]
    },
    {
     "name": "stderr",
     "output_type": "stream",
     "text": [
      "/srv/conda/envs/notebook/lib/python3.11/site-packages/geopandas/io/file.py:383: FutureWarning: errors='ignore' is deprecated and will raise in a future version. Use to_datetime without passing `errors` and catch exceptions explicitly instead\n",
      "  as_dt = pd.to_datetime(df[k], errors=\"ignore\")\n",
      "/srv/conda/envs/notebook/lib/python3.11/site-packages/geopandas/geoseries.py:645: FutureWarning: the convert_dtype parameter is deprecated and will be removed in a future version.  Do ``ser.astype(object).apply()`` instead if you want ``convert_dtype=False``.\n",
      "  result = super().apply(func, convert_dtype=convert_dtype, args=args, **kwargs)\n",
      "/tmp/ipykernel_106/4279396429.py:310: UserWarning: This figure includes Axes that are not compatible with tight_layout, so results might be incorrect.\n",
      "  plt.tight_layout()  # Adjust layout to prevent overlap\n"
     ]
    },
    {
     "name": "stdout",
     "output_type": "stream",
     "text": [
      "Working on EAP_3\n",
      "working on EAP_3\n"
     ]
    },
    {
     "name": "stderr",
     "output_type": "stream",
     "text": [
      "/srv/conda/envs/notebook/lib/python3.11/site-packages/geopandas/io/file.py:383: FutureWarning: errors='ignore' is deprecated and will raise in a future version. Use to_datetime without passing `errors` and catch exceptions explicitly instead\n",
      "  as_dt = pd.to_datetime(df[k], errors=\"ignore\")\n",
      "/srv/conda/envs/notebook/lib/python3.11/site-packages/geopandas/geoseries.py:645: FutureWarning: the convert_dtype parameter is deprecated and will be removed in a future version.  Do ``ser.astype(object).apply()`` instead if you want ``convert_dtype=False``.\n",
      "  result = super().apply(func, convert_dtype=convert_dtype, args=args, **kwargs)\n",
      "/tmp/ipykernel_106/4279396429.py:310: UserWarning: This figure includes Axes that are not compatible with tight_layout, so results might be incorrect.\n",
      "  plt.tight_layout()  # Adjust layout to prevent overlap\n"
     ]
    },
    {
     "name": "stdout",
     "output_type": "stream",
     "text": [
      "Working on EAP_4\n",
      "working on EAP_4\n",
      "File for EAP_4 not found. Skipping...\n",
      "Working on EAP_5\n",
      "working on EAP_5\n"
     ]
    },
    {
     "name": "stderr",
     "output_type": "stream",
     "text": [
      "/srv/conda/envs/notebook/lib/python3.11/site-packages/geopandas/io/file.py:383: FutureWarning: errors='ignore' is deprecated and will raise in a future version. Use to_datetime without passing `errors` and catch exceptions explicitly instead\n",
      "  as_dt = pd.to_datetime(df[k], errors=\"ignore\")\n",
      "/srv/conda/envs/notebook/lib/python3.11/site-packages/geopandas/geoseries.py:645: FutureWarning: the convert_dtype parameter is deprecated and will be removed in a future version.  Do ``ser.astype(object).apply()`` instead if you want ``convert_dtype=False``.\n",
      "  result = super().apply(func, convert_dtype=convert_dtype, args=args, **kwargs)\n",
      "/tmp/ipykernel_106/4279396429.py:310: UserWarning: This figure includes Axes that are not compatible with tight_layout, so results might be incorrect.\n",
      "  plt.tight_layout()  # Adjust layout to prevent overlap\n"
     ]
    },
    {
     "name": "stdout",
     "output_type": "stream",
     "text": [
      "Working on EAP_6\n",
      "working on EAP_6\n"
     ]
    },
    {
     "name": "stderr",
     "output_type": "stream",
     "text": [
      "/srv/conda/envs/notebook/lib/python3.11/site-packages/geopandas/io/file.py:383: FutureWarning: errors='ignore' is deprecated and will raise in a future version. Use to_datetime without passing `errors` and catch exceptions explicitly instead\n",
      "  as_dt = pd.to_datetime(df[k], errors=\"ignore\")\n",
      "/srv/conda/envs/notebook/lib/python3.11/site-packages/geopandas/geoseries.py:645: FutureWarning: the convert_dtype parameter is deprecated and will be removed in a future version.  Do ``ser.astype(object).apply()`` instead if you want ``convert_dtype=False``.\n",
      "  result = super().apply(func, convert_dtype=convert_dtype, args=args, **kwargs)\n",
      "/tmp/ipykernel_106/4279396429.py:310: UserWarning: This figure includes Axes that are not compatible with tight_layout, so results might be incorrect.\n",
      "  plt.tight_layout()  # Adjust layout to prevent overlap\n"
     ]
    },
    {
     "name": "stdout",
     "output_type": "stream",
     "text": [
      "Working on EAP_7\n",
      "working on EAP_7\n"
     ]
    },
    {
     "name": "stderr",
     "output_type": "stream",
     "text": [
      "/srv/conda/envs/notebook/lib/python3.11/site-packages/geopandas/io/file.py:383: FutureWarning: errors='ignore' is deprecated and will raise in a future version. Use to_datetime without passing `errors` and catch exceptions explicitly instead\n",
      "  as_dt = pd.to_datetime(df[k], errors=\"ignore\")\n",
      "/srv/conda/envs/notebook/lib/python3.11/site-packages/geopandas/geoseries.py:645: FutureWarning: the convert_dtype parameter is deprecated and will be removed in a future version.  Do ``ser.astype(object).apply()`` instead if you want ``convert_dtype=False``.\n",
      "  result = super().apply(func, convert_dtype=convert_dtype, args=args, **kwargs)\n",
      "/tmp/ipykernel_106/4279396429.py:310: UserWarning: This figure includes Axes that are not compatible with tight_layout, so results might be incorrect.\n",
      "  plt.tight_layout()  # Adjust layout to prevent overlap\n"
     ]
    },
    {
     "name": "stdout",
     "output_type": "stream",
     "text": [
      "Working on EAP_8\n",
      "working on EAP_8\n"
     ]
    },
    {
     "name": "stderr",
     "output_type": "stream",
     "text": [
      "/srv/conda/envs/notebook/lib/python3.11/site-packages/geopandas/io/file.py:383: FutureWarning: errors='ignore' is deprecated and will raise in a future version. Use to_datetime without passing `errors` and catch exceptions explicitly instead\n",
      "  as_dt = pd.to_datetime(df[k], errors=\"ignore\")\n",
      "/srv/conda/envs/notebook/lib/python3.11/site-packages/geopandas/geoseries.py:645: FutureWarning: the convert_dtype parameter is deprecated and will be removed in a future version.  Do ``ser.astype(object).apply()`` instead if you want ``convert_dtype=False``.\n",
      "  result = super().apply(func, convert_dtype=convert_dtype, args=args, **kwargs)\n",
      "/tmp/ipykernel_106/4279396429.py:310: UserWarning: This figure includes Axes that are not compatible with tight_layout, so results might be incorrect.\n",
      "  plt.tight_layout()  # Adjust layout to prevent overlap\n"
     ]
    },
    {
     "name": "stdout",
     "output_type": "stream",
     "text": [
      "Working on EAP_9\n",
      "working on EAP_9\n"
     ]
    },
    {
     "name": "stderr",
     "output_type": "stream",
     "text": [
      "/srv/conda/envs/notebook/lib/python3.11/site-packages/geopandas/io/file.py:383: FutureWarning: errors='ignore' is deprecated and will raise in a future version. Use to_datetime without passing `errors` and catch exceptions explicitly instead\n",
      "  as_dt = pd.to_datetime(df[k], errors=\"ignore\")\n",
      "/srv/conda/envs/notebook/lib/python3.11/site-packages/geopandas/geoseries.py:645: FutureWarning: the convert_dtype parameter is deprecated and will be removed in a future version.  Do ``ser.astype(object).apply()`` instead if you want ``convert_dtype=False``.\n",
      "  result = super().apply(func, convert_dtype=convert_dtype, args=args, **kwargs)\n",
      "/tmp/ipykernel_106/4279396429.py:310: UserWarning: This figure includes Axes that are not compatible with tight_layout, so results might be incorrect.\n",
      "  plt.tight_layout()  # Adjust layout to prevent overlap\n"
     ]
    },
    {
     "name": "stdout",
     "output_type": "stream",
     "text": [
      "Working on EngelhardtSubglacialLake\n",
      "working on EngelhardtSubglacialLake\n"
     ]
    },
    {
     "name": "stderr",
     "output_type": "stream",
     "text": [
      "/srv/conda/envs/notebook/lib/python3.11/site-packages/geopandas/io/file.py:383: FutureWarning: errors='ignore' is deprecated and will raise in a future version. Use to_datetime without passing `errors` and catch exceptions explicitly instead\n",
      "  as_dt = pd.to_datetime(df[k], errors=\"ignore\")\n",
      "/srv/conda/envs/notebook/lib/python3.11/site-packages/geopandas/geoseries.py:645: FutureWarning: the convert_dtype parameter is deprecated and will be removed in a future version.  Do ``ser.astype(object).apply()`` instead if you want ``convert_dtype=False``.\n",
      "  result = super().apply(func, convert_dtype=convert_dtype, args=args, **kwargs)\n",
      "/tmp/ipykernel_106/4279396429.py:310: UserWarning: This figure includes Axes that are not compatible with tight_layout, so results might be incorrect.\n",
      "  plt.tight_layout()  # Adjust layout to prevent overlap\n"
     ]
    },
    {
     "name": "stdout",
     "output_type": "stream",
     "text": [
      "Working on Foundation_1\n",
      "working on Foundation_1\n",
      "File for Foundation_1 not found. Skipping...\n",
      "Working on Foundation_10\n",
      "working on Foundation_10\n"
     ]
    },
    {
     "name": "stderr",
     "output_type": "stream",
     "text": [
      "/srv/conda/envs/notebook/lib/python3.11/site-packages/geopandas/io/file.py:383: FutureWarning: errors='ignore' is deprecated and will raise in a future version. Use to_datetime without passing `errors` and catch exceptions explicitly instead\n",
      "  as_dt = pd.to_datetime(df[k], errors=\"ignore\")\n",
      "/srv/conda/envs/notebook/lib/python3.11/site-packages/geopandas/geoseries.py:645: FutureWarning: the convert_dtype parameter is deprecated and will be removed in a future version.  Do ``ser.astype(object).apply()`` instead if you want ``convert_dtype=False``.\n",
      "  result = super().apply(func, convert_dtype=convert_dtype, args=args, **kwargs)\n",
      "/tmp/ipykernel_106/4279396429.py:310: UserWarning: This figure includes Axes that are not compatible with tight_layout, so results might be incorrect.\n",
      "  plt.tight_layout()  # Adjust layout to prevent overlap\n"
     ]
    },
    {
     "name": "stdout",
     "output_type": "stream",
     "text": [
      "Working on Foundation_11\n",
      "working on Foundation_11\n"
     ]
    },
    {
     "name": "stderr",
     "output_type": "stream",
     "text": [
      "/srv/conda/envs/notebook/lib/python3.11/site-packages/geopandas/io/file.py:383: FutureWarning: errors='ignore' is deprecated and will raise in a future version. Use to_datetime without passing `errors` and catch exceptions explicitly instead\n",
      "  as_dt = pd.to_datetime(df[k], errors=\"ignore\")\n",
      "/srv/conda/envs/notebook/lib/python3.11/site-packages/geopandas/geoseries.py:645: FutureWarning: the convert_dtype parameter is deprecated and will be removed in a future version.  Do ``ser.astype(object).apply()`` instead if you want ``convert_dtype=False``.\n",
      "  result = super().apply(func, convert_dtype=convert_dtype, args=args, **kwargs)\n",
      "/tmp/ipykernel_106/4279396429.py:310: UserWarning: This figure includes Axes that are not compatible with tight_layout, so results might be incorrect.\n",
      "  plt.tight_layout()  # Adjust layout to prevent overlap\n"
     ]
    },
    {
     "name": "stdout",
     "output_type": "stream",
     "text": [
      "Working on Foundation_12\n",
      "working on Foundation_12\n"
     ]
    },
    {
     "name": "stderr",
     "output_type": "stream",
     "text": [
      "/srv/conda/envs/notebook/lib/python3.11/site-packages/geopandas/io/file.py:383: FutureWarning: errors='ignore' is deprecated and will raise in a future version. Use to_datetime without passing `errors` and catch exceptions explicitly instead\n",
      "  as_dt = pd.to_datetime(df[k], errors=\"ignore\")\n",
      "/srv/conda/envs/notebook/lib/python3.11/site-packages/geopandas/geoseries.py:645: FutureWarning: the convert_dtype parameter is deprecated and will be removed in a future version.  Do ``ser.astype(object).apply()`` instead if you want ``convert_dtype=False``.\n",
      "  result = super().apply(func, convert_dtype=convert_dtype, args=args, **kwargs)\n",
      "/tmp/ipykernel_106/4279396429.py:310: UserWarning: This figure includes Axes that are not compatible with tight_layout, so results might be incorrect.\n",
      "  plt.tight_layout()  # Adjust layout to prevent overlap\n"
     ]
    },
    {
     "name": "stdout",
     "output_type": "stream",
     "text": [
      "Working on Foundation_13\n",
      "working on Foundation_13\n"
     ]
    },
    {
     "name": "stderr",
     "output_type": "stream",
     "text": [
      "/srv/conda/envs/notebook/lib/python3.11/site-packages/geopandas/io/file.py:383: FutureWarning: errors='ignore' is deprecated and will raise in a future version. Use to_datetime without passing `errors` and catch exceptions explicitly instead\n",
      "  as_dt = pd.to_datetime(df[k], errors=\"ignore\")\n",
      "/srv/conda/envs/notebook/lib/python3.11/site-packages/geopandas/geoseries.py:645: FutureWarning: the convert_dtype parameter is deprecated and will be removed in a future version.  Do ``ser.astype(object).apply()`` instead if you want ``convert_dtype=False``.\n",
      "  result = super().apply(func, convert_dtype=convert_dtype, args=args, **kwargs)\n",
      "/tmp/ipykernel_106/4279396429.py:310: UserWarning: This figure includes Axes that are not compatible with tight_layout, so results might be incorrect.\n",
      "  plt.tight_layout()  # Adjust layout to prevent overlap\n"
     ]
    },
    {
     "name": "stdout",
     "output_type": "stream",
     "text": [
      "Working on Foundation_14\n",
      "working on Foundation_14\n"
     ]
    },
    {
     "name": "stderr",
     "output_type": "stream",
     "text": [
      "/srv/conda/envs/notebook/lib/python3.11/site-packages/geopandas/io/file.py:383: FutureWarning: errors='ignore' is deprecated and will raise in a future version. Use to_datetime without passing `errors` and catch exceptions explicitly instead\n",
      "  as_dt = pd.to_datetime(df[k], errors=\"ignore\")\n",
      "/srv/conda/envs/notebook/lib/python3.11/site-packages/geopandas/geoseries.py:645: FutureWarning: the convert_dtype parameter is deprecated and will be removed in a future version.  Do ``ser.astype(object).apply()`` instead if you want ``convert_dtype=False``.\n",
      "  result = super().apply(func, convert_dtype=convert_dtype, args=args, **kwargs)\n",
      "/tmp/ipykernel_106/4279396429.py:310: UserWarning: This figure includes Axes that are not compatible with tight_layout, so results might be incorrect.\n",
      "  plt.tight_layout()  # Adjust layout to prevent overlap\n"
     ]
    },
    {
     "name": "stdout",
     "output_type": "stream",
     "text": [
      "Working on Foundation_15\n",
      "working on Foundation_15\n"
     ]
    },
    {
     "name": "stderr",
     "output_type": "stream",
     "text": [
      "/srv/conda/envs/notebook/lib/python3.11/site-packages/geopandas/io/file.py:383: FutureWarning: errors='ignore' is deprecated and will raise in a future version. Use to_datetime without passing `errors` and catch exceptions explicitly instead\n",
      "  as_dt = pd.to_datetime(df[k], errors=\"ignore\")\n",
      "/srv/conda/envs/notebook/lib/python3.11/site-packages/geopandas/geoseries.py:645: FutureWarning: the convert_dtype parameter is deprecated and will be removed in a future version.  Do ``ser.astype(object).apply()`` instead if you want ``convert_dtype=False``.\n",
      "  result = super().apply(func, convert_dtype=convert_dtype, args=args, **kwargs)\n",
      "/tmp/ipykernel_106/4279396429.py:310: UserWarning: This figure includes Axes that are not compatible with tight_layout, so results might be incorrect.\n",
      "  plt.tight_layout()  # Adjust layout to prevent overlap\n"
     ]
    },
    {
     "name": "stdout",
     "output_type": "stream",
     "text": [
      "Working on Foundation_16\n",
      "working on Foundation_16\n"
     ]
    },
    {
     "name": "stderr",
     "output_type": "stream",
     "text": [
      "/srv/conda/envs/notebook/lib/python3.11/site-packages/geopandas/io/file.py:383: FutureWarning: errors='ignore' is deprecated and will raise in a future version. Use to_datetime without passing `errors` and catch exceptions explicitly instead\n",
      "  as_dt = pd.to_datetime(df[k], errors=\"ignore\")\n",
      "/srv/conda/envs/notebook/lib/python3.11/site-packages/geopandas/geoseries.py:645: FutureWarning: the convert_dtype parameter is deprecated and will be removed in a future version.  Do ``ser.astype(object).apply()`` instead if you want ``convert_dtype=False``.\n",
      "  result = super().apply(func, convert_dtype=convert_dtype, args=args, **kwargs)\n",
      "/tmp/ipykernel_106/4279396429.py:310: UserWarning: This figure includes Axes that are not compatible with tight_layout, so results might be incorrect.\n",
      "  plt.tight_layout()  # Adjust layout to prevent overlap\n"
     ]
    },
    {
     "name": "stdout",
     "output_type": "stream",
     "text": [
      "Working on Foundation_2\n",
      "working on Foundation_2\n"
     ]
    },
    {
     "name": "stderr",
     "output_type": "stream",
     "text": [
      "/srv/conda/envs/notebook/lib/python3.11/site-packages/geopandas/io/file.py:383: FutureWarning: errors='ignore' is deprecated and will raise in a future version. Use to_datetime without passing `errors` and catch exceptions explicitly instead\n",
      "  as_dt = pd.to_datetime(df[k], errors=\"ignore\")\n",
      "/srv/conda/envs/notebook/lib/python3.11/site-packages/geopandas/geoseries.py:645: FutureWarning: the convert_dtype parameter is deprecated and will be removed in a future version.  Do ``ser.astype(object).apply()`` instead if you want ``convert_dtype=False``.\n",
      "  result = super().apply(func, convert_dtype=convert_dtype, args=args, **kwargs)\n",
      "/tmp/ipykernel_106/4279396429.py:310: UserWarning: This figure includes Axes that are not compatible with tight_layout, so results might be incorrect.\n",
      "  plt.tight_layout()  # Adjust layout to prevent overlap\n"
     ]
    },
    {
     "name": "stdout",
     "output_type": "stream",
     "text": [
      "Working on Foundation_3\n",
      "working on Foundation_3\n"
     ]
    },
    {
     "name": "stderr",
     "output_type": "stream",
     "text": [
      "/srv/conda/envs/notebook/lib/python3.11/site-packages/geopandas/io/file.py:383: FutureWarning: errors='ignore' is deprecated and will raise in a future version. Use to_datetime without passing `errors` and catch exceptions explicitly instead\n",
      "  as_dt = pd.to_datetime(df[k], errors=\"ignore\")\n",
      "/srv/conda/envs/notebook/lib/python3.11/site-packages/geopandas/geoseries.py:645: FutureWarning: the convert_dtype parameter is deprecated and will be removed in a future version.  Do ``ser.astype(object).apply()`` instead if you want ``convert_dtype=False``.\n",
      "  result = super().apply(func, convert_dtype=convert_dtype, args=args, **kwargs)\n",
      "/tmp/ipykernel_106/4279396429.py:310: UserWarning: This figure includes Axes that are not compatible with tight_layout, so results might be incorrect.\n",
      "  plt.tight_layout()  # Adjust layout to prevent overlap\n"
     ]
    },
    {
     "name": "stdout",
     "output_type": "stream",
     "text": [
      "Working on Foundation_4\n",
      "working on Foundation_4\n",
      "File for Foundation_4 not found. Skipping...\n",
      "Working on Foundation_5\n",
      "working on Foundation_5\n"
     ]
    },
    {
     "name": "stderr",
     "output_type": "stream",
     "text": [
      "/srv/conda/envs/notebook/lib/python3.11/site-packages/geopandas/io/file.py:383: FutureWarning: errors='ignore' is deprecated and will raise in a future version. Use to_datetime without passing `errors` and catch exceptions explicitly instead\n",
      "  as_dt = pd.to_datetime(df[k], errors=\"ignore\")\n",
      "/srv/conda/envs/notebook/lib/python3.11/site-packages/geopandas/geoseries.py:645: FutureWarning: the convert_dtype parameter is deprecated and will be removed in a future version.  Do ``ser.astype(object).apply()`` instead if you want ``convert_dtype=False``.\n",
      "  result = super().apply(func, convert_dtype=convert_dtype, args=args, **kwargs)\n",
      "/tmp/ipykernel_106/4279396429.py:310: UserWarning: This figure includes Axes that are not compatible with tight_layout, so results might be incorrect.\n",
      "  plt.tight_layout()  # Adjust layout to prevent overlap\n"
     ]
    },
    {
     "name": "stdout",
     "output_type": "stream",
     "text": [
      "Working on Foundation_6\n",
      "working on Foundation_6\n"
     ]
    },
    {
     "name": "stderr",
     "output_type": "stream",
     "text": [
      "/srv/conda/envs/notebook/lib/python3.11/site-packages/geopandas/io/file.py:383: FutureWarning: errors='ignore' is deprecated and will raise in a future version. Use to_datetime without passing `errors` and catch exceptions explicitly instead\n",
      "  as_dt = pd.to_datetime(df[k], errors=\"ignore\")\n",
      "/srv/conda/envs/notebook/lib/python3.11/site-packages/geopandas/geoseries.py:645: FutureWarning: the convert_dtype parameter is deprecated and will be removed in a future version.  Do ``ser.astype(object).apply()`` instead if you want ``convert_dtype=False``.\n",
      "  result = super().apply(func, convert_dtype=convert_dtype, args=args, **kwargs)\n",
      "/tmp/ipykernel_106/4279396429.py:310: UserWarning: This figure includes Axes that are not compatible with tight_layout, so results might be incorrect.\n",
      "  plt.tight_layout()  # Adjust layout to prevent overlap\n"
     ]
    },
    {
     "name": "stdout",
     "output_type": "stream",
     "text": [
      "Working on Foundation_7\n",
      "working on Foundation_7\n"
     ]
    },
    {
     "name": "stderr",
     "output_type": "stream",
     "text": [
      "/srv/conda/envs/notebook/lib/python3.11/site-packages/geopandas/io/file.py:383: FutureWarning: errors='ignore' is deprecated and will raise in a future version. Use to_datetime without passing `errors` and catch exceptions explicitly instead\n",
      "  as_dt = pd.to_datetime(df[k], errors=\"ignore\")\n",
      "/srv/conda/envs/notebook/lib/python3.11/site-packages/geopandas/geoseries.py:645: FutureWarning: the convert_dtype parameter is deprecated and will be removed in a future version.  Do ``ser.astype(object).apply()`` instead if you want ``convert_dtype=False``.\n",
      "  result = super().apply(func, convert_dtype=convert_dtype, args=args, **kwargs)\n",
      "/tmp/ipykernel_106/4279396429.py:310: UserWarning: This figure includes Axes that are not compatible with tight_layout, so results might be incorrect.\n",
      "  plt.tight_layout()  # Adjust layout to prevent overlap\n"
     ]
    },
    {
     "name": "stdout",
     "output_type": "stream",
     "text": [
      "Working on Foundation_8\n",
      "working on Foundation_8\n"
     ]
    },
    {
     "name": "stderr",
     "output_type": "stream",
     "text": [
      "/srv/conda/envs/notebook/lib/python3.11/site-packages/geopandas/io/file.py:383: FutureWarning: errors='ignore' is deprecated and will raise in a future version. Use to_datetime without passing `errors` and catch exceptions explicitly instead\n",
      "  as_dt = pd.to_datetime(df[k], errors=\"ignore\")\n",
      "/srv/conda/envs/notebook/lib/python3.11/site-packages/geopandas/geoseries.py:645: FutureWarning: the convert_dtype parameter is deprecated and will be removed in a future version.  Do ``ser.astype(object).apply()`` instead if you want ``convert_dtype=False``.\n",
      "  result = super().apply(func, convert_dtype=convert_dtype, args=args, **kwargs)\n",
      "/tmp/ipykernel_106/4279396429.py:310: UserWarning: This figure includes Axes that are not compatible with tight_layout, so results might be incorrect.\n",
      "  plt.tight_layout()  # Adjust layout to prevent overlap\n"
     ]
    },
    {
     "name": "stdout",
     "output_type": "stream",
     "text": [
      "Working on Foundation_9\n",
      "working on Foundation_9\n"
     ]
    },
    {
     "name": "stderr",
     "output_type": "stream",
     "text": [
      "/srv/conda/envs/notebook/lib/python3.11/site-packages/geopandas/io/file.py:383: FutureWarning: errors='ignore' is deprecated and will raise in a future version. Use to_datetime without passing `errors` and catch exceptions explicitly instead\n",
      "  as_dt = pd.to_datetime(df[k], errors=\"ignore\")\n",
      "/srv/conda/envs/notebook/lib/python3.11/site-packages/geopandas/geoseries.py:645: FutureWarning: the convert_dtype parameter is deprecated and will be removed in a future version.  Do ``ser.astype(object).apply()`` instead if you want ``convert_dtype=False``.\n",
      "  result = super().apply(func, convert_dtype=convert_dtype, args=args, **kwargs)\n",
      "/tmp/ipykernel_106/4279396429.py:310: UserWarning: This figure includes Axes that are not compatible with tight_layout, so results might be incorrect.\n",
      "  plt.tight_layout()  # Adjust layout to prevent overlap\n"
     ]
    },
    {
     "name": "stdout",
     "output_type": "stream",
     "text": [
      "Working on Foundation_N1\n",
      "working on Foundation_N1\n"
     ]
    },
    {
     "name": "stderr",
     "output_type": "stream",
     "text": [
      "/srv/conda/envs/notebook/lib/python3.11/site-packages/geopandas/io/file.py:383: FutureWarning: errors='ignore' is deprecated and will raise in a future version. Use to_datetime without passing `errors` and catch exceptions explicitly instead\n",
      "  as_dt = pd.to_datetime(df[k], errors=\"ignore\")\n",
      "/srv/conda/envs/notebook/lib/python3.11/site-packages/geopandas/geoseries.py:645: FutureWarning: the convert_dtype parameter is deprecated and will be removed in a future version.  Do ``ser.astype(object).apply()`` instead if you want ``convert_dtype=False``.\n",
      "  result = super().apply(func, convert_dtype=convert_dtype, args=args, **kwargs)\n",
      "/tmp/ipykernel_106/4279396429.py:310: UserWarning: This figure includes Axes that are not compatible with tight_layout, so results might be incorrect.\n",
      "  plt.tight_layout()  # Adjust layout to prevent overlap\n"
     ]
    },
    {
     "name": "stdout",
     "output_type": "stream",
     "text": [
      "Working on Foundation_N2\n",
      "working on Foundation_N2\n"
     ]
    },
    {
     "name": "stderr",
     "output_type": "stream",
     "text": [
      "/srv/conda/envs/notebook/lib/python3.11/site-packages/geopandas/io/file.py:383: FutureWarning: errors='ignore' is deprecated and will raise in a future version. Use to_datetime without passing `errors` and catch exceptions explicitly instead\n",
      "  as_dt = pd.to_datetime(df[k], errors=\"ignore\")\n",
      "/srv/conda/envs/notebook/lib/python3.11/site-packages/geopandas/geoseries.py:645: FutureWarning: the convert_dtype parameter is deprecated and will be removed in a future version.  Do ``ser.astype(object).apply()`` instead if you want ``convert_dtype=False``.\n",
      "  result = super().apply(func, convert_dtype=convert_dtype, args=args, **kwargs)\n",
      "/tmp/ipykernel_106/4279396429.py:310: UserWarning: This figure includes Axes that are not compatible with tight_layout, so results might be incorrect.\n",
      "  plt.tight_layout()  # Adjust layout to prevent overlap\n"
     ]
    },
    {
     "name": "stdout",
     "output_type": "stream",
     "text": [
      "Working on Foundation_N3\n",
      "working on Foundation_N3\n"
     ]
    },
    {
     "name": "stderr",
     "output_type": "stream",
     "text": [
      "/srv/conda/envs/notebook/lib/python3.11/site-packages/geopandas/io/file.py:383: FutureWarning: errors='ignore' is deprecated and will raise in a future version. Use to_datetime without passing `errors` and catch exceptions explicitly instead\n",
      "  as_dt = pd.to_datetime(df[k], errors=\"ignore\")\n",
      "/srv/conda/envs/notebook/lib/python3.11/site-packages/geopandas/geoseries.py:645: FutureWarning: the convert_dtype parameter is deprecated and will be removed in a future version.  Do ``ser.astype(object).apply()`` instead if you want ``convert_dtype=False``.\n",
      "  result = super().apply(func, convert_dtype=convert_dtype, args=args, **kwargs)\n",
      "/tmp/ipykernel_106/4279396429.py:310: UserWarning: This figure includes Axes that are not compatible with tight_layout, so results might be incorrect.\n",
      "  plt.tight_layout()  # Adjust layout to prevent overlap\n"
     ]
    },
    {
     "name": "stdout",
     "output_type": "stream",
     "text": [
      "Working on Institute_E1\n",
      "working on Institute_E1\n"
     ]
    },
    {
     "name": "stderr",
     "output_type": "stream",
     "text": [
      "/srv/conda/envs/notebook/lib/python3.11/site-packages/geopandas/io/file.py:383: FutureWarning: errors='ignore' is deprecated and will raise in a future version. Use to_datetime without passing `errors` and catch exceptions explicitly instead\n",
      "  as_dt = pd.to_datetime(df[k], errors=\"ignore\")\n",
      "/srv/conda/envs/notebook/lib/python3.11/site-packages/geopandas/geoseries.py:645: FutureWarning: the convert_dtype parameter is deprecated and will be removed in a future version.  Do ``ser.astype(object).apply()`` instead if you want ``convert_dtype=False``.\n",
      "  result = super().apply(func, convert_dtype=convert_dtype, args=args, **kwargs)\n",
      "/tmp/ipykernel_106/4279396429.py:310: UserWarning: This figure includes Axes that are not compatible with tight_layout, so results might be incorrect.\n",
      "  plt.tight_layout()  # Adjust layout to prevent overlap\n"
     ]
    },
    {
     "name": "stdout",
     "output_type": "stream",
     "text": [
      "Working on Institute_E2\n",
      "working on Institute_E2\n"
     ]
    },
    {
     "name": "stderr",
     "output_type": "stream",
     "text": [
      "/srv/conda/envs/notebook/lib/python3.11/site-packages/geopandas/io/file.py:383: FutureWarning: errors='ignore' is deprecated and will raise in a future version. Use to_datetime without passing `errors` and catch exceptions explicitly instead\n",
      "  as_dt = pd.to_datetime(df[k], errors=\"ignore\")\n",
      "/srv/conda/envs/notebook/lib/python3.11/site-packages/geopandas/geoseries.py:645: FutureWarning: the convert_dtype parameter is deprecated and will be removed in a future version.  Do ``ser.astype(object).apply()`` instead if you want ``convert_dtype=False``.\n",
      "  result = super().apply(func, convert_dtype=convert_dtype, args=args, **kwargs)\n",
      "/tmp/ipykernel_106/4279396429.py:310: UserWarning: This figure includes Axes that are not compatible with tight_layout, so results might be incorrect.\n",
      "  plt.tight_layout()  # Adjust layout to prevent overlap\n"
     ]
    },
    {
     "name": "stdout",
     "output_type": "stream",
     "text": [
      "Working on Institute_W1\n",
      "working on Institute_W1\n",
      "File for Institute_W1 not found. Skipping...\n",
      "Working on Institute_W2\n",
      "working on Institute_W2\n"
     ]
    },
    {
     "name": "stderr",
     "output_type": "stream",
     "text": [
      "/srv/conda/envs/notebook/lib/python3.11/site-packages/geopandas/io/file.py:383: FutureWarning: errors='ignore' is deprecated and will raise in a future version. Use to_datetime without passing `errors` and catch exceptions explicitly instead\n",
      "  as_dt = pd.to_datetime(df[k], errors=\"ignore\")\n",
      "/srv/conda/envs/notebook/lib/python3.11/site-packages/geopandas/geoseries.py:645: FutureWarning: the convert_dtype parameter is deprecated and will be removed in a future version.  Do ``ser.astype(object).apply()`` instead if you want ``convert_dtype=False``.\n",
      "  result = super().apply(func, convert_dtype=convert_dtype, args=args, **kwargs)\n",
      "/tmp/ipykernel_106/4279396429.py:310: UserWarning: This figure includes Axes that are not compatible with tight_layout, so results might be incorrect.\n",
      "  plt.tight_layout()  # Adjust layout to prevent overlap\n"
     ]
    },
    {
     "name": "stdout",
     "output_type": "stream",
     "text": [
      "Working on JG_Combined_D2_b_E1\n",
      "working on JG_Combined_D2_b_E1\n",
      "File for JG_Combined_D2_b_E1 not found. Skipping...\n",
      "Working on JG_Combined_E2_F2\n",
      "working on JG_Combined_E2_F2\n"
     ]
    },
    {
     "name": "stderr",
     "output_type": "stream",
     "text": [
      "/srv/conda/envs/notebook/lib/python3.11/site-packages/geopandas/io/file.py:383: FutureWarning: errors='ignore' is deprecated and will raise in a future version. Use to_datetime without passing `errors` and catch exceptions explicitly instead\n",
      "  as_dt = pd.to_datetime(df[k], errors=\"ignore\")\n",
      "/srv/conda/envs/notebook/lib/python3.11/site-packages/geopandas/geoseries.py:645: FutureWarning: the convert_dtype parameter is deprecated and will be removed in a future version.  Do ``ser.astype(object).apply()`` instead if you want ``convert_dtype=False``.\n",
      "  result = super().apply(func, convert_dtype=convert_dtype, args=args, **kwargs)\n",
      "/tmp/ipykernel_106/4279396429.py:310: UserWarning: This figure includes Axes that are not compatible with tight_layout, so results might be incorrect.\n",
      "  plt.tight_layout()  # Adjust layout to prevent overlap\n"
     ]
    },
    {
     "name": "stdout",
     "output_type": "stream",
     "text": [
      "Working on JG_D1_a\n",
      "working on JG_D1_a\n",
      "File for JG_D1_a not found. Skipping...\n",
      "Working on JG_D1_b\n",
      "working on JG_D1_b\n"
     ]
    },
    {
     "name": "stderr",
     "output_type": "stream",
     "text": [
      "/srv/conda/envs/notebook/lib/python3.11/site-packages/geopandas/io/file.py:383: FutureWarning: errors='ignore' is deprecated and will raise in a future version. Use to_datetime without passing `errors` and catch exceptions explicitly instead\n",
      "  as_dt = pd.to_datetime(df[k], errors=\"ignore\")\n",
      "/srv/conda/envs/notebook/lib/python3.11/site-packages/geopandas/geoseries.py:645: FutureWarning: the convert_dtype parameter is deprecated and will be removed in a future version.  Do ``ser.astype(object).apply()`` instead if you want ``convert_dtype=False``.\n",
      "  result = super().apply(func, convert_dtype=convert_dtype, args=args, **kwargs)\n",
      "/tmp/ipykernel_106/4279396429.py:310: UserWarning: This figure includes Axes that are not compatible with tight_layout, so results might be incorrect.\n",
      "  plt.tight_layout()  # Adjust layout to prevent overlap\n"
     ]
    },
    {
     "name": "stdout",
     "output_type": "stream",
     "text": [
      "Working on JG_D2_a\n",
      "working on JG_D2_a\n"
     ]
    },
    {
     "name": "stderr",
     "output_type": "stream",
     "text": [
      "/srv/conda/envs/notebook/lib/python3.11/site-packages/geopandas/io/file.py:383: FutureWarning: errors='ignore' is deprecated and will raise in a future version. Use to_datetime without passing `errors` and catch exceptions explicitly instead\n",
      "  as_dt = pd.to_datetime(df[k], errors=\"ignore\")\n",
      "/srv/conda/envs/notebook/lib/python3.11/site-packages/geopandas/geoseries.py:645: FutureWarning: the convert_dtype parameter is deprecated and will be removed in a future version.  Do ``ser.astype(object).apply()`` instead if you want ``convert_dtype=False``.\n",
      "  result = super().apply(func, convert_dtype=convert_dtype, args=args, **kwargs)\n",
      "/tmp/ipykernel_106/4279396429.py:310: UserWarning: This figure includes Axes that are not compatible with tight_layout, so results might be incorrect.\n",
      "  plt.tight_layout()  # Adjust layout to prevent overlap\n"
     ]
    },
    {
     "name": "stdout",
     "output_type": "stream",
     "text": [
      "Working on JG_F1\n",
      "working on JG_F1\n"
     ]
    },
    {
     "name": "stderr",
     "output_type": "stream",
     "text": [
      "/srv/conda/envs/notebook/lib/python3.11/site-packages/geopandas/io/file.py:383: FutureWarning: errors='ignore' is deprecated and will raise in a future version. Use to_datetime without passing `errors` and catch exceptions explicitly instead\n",
      "  as_dt = pd.to_datetime(df[k], errors=\"ignore\")\n",
      "/srv/conda/envs/notebook/lib/python3.11/site-packages/geopandas/geoseries.py:645: FutureWarning: the convert_dtype parameter is deprecated and will be removed in a future version.  Do ``ser.astype(object).apply()`` instead if you want ``convert_dtype=False``.\n",
      "  result = super().apply(func, convert_dtype=convert_dtype, args=args, **kwargs)\n",
      "/tmp/ipykernel_106/4279396429.py:310: UserWarning: This figure includes Axes that are not compatible with tight_layout, so results might be incorrect.\n",
      "  plt.tight_layout()  # Adjust layout to prevent overlap\n"
     ]
    },
    {
     "name": "stdout",
     "output_type": "stream",
     "text": [
      "Working on KT1\n",
      "working on KT1\n"
     ]
    },
    {
     "name": "stderr",
     "output_type": "stream",
     "text": [
      "/srv/conda/envs/notebook/lib/python3.11/site-packages/geopandas/io/file.py:383: FutureWarning: errors='ignore' is deprecated and will raise in a future version. Use to_datetime without passing `errors` and catch exceptions explicitly instead\n",
      "  as_dt = pd.to_datetime(df[k], errors=\"ignore\")\n",
      "/srv/conda/envs/notebook/lib/python3.11/site-packages/geopandas/geoseries.py:645: FutureWarning: the convert_dtype parameter is deprecated and will be removed in a future version.  Do ``ser.astype(object).apply()`` instead if you want ``convert_dtype=False``.\n",
      "  result = super().apply(func, convert_dtype=convert_dtype, args=args, **kwargs)\n",
      "/tmp/ipykernel_106/4279396429.py:310: UserWarning: This figure includes Axes that are not compatible with tight_layout, so results might be incorrect.\n",
      "  plt.tight_layout()  # Adjust layout to prevent overlap\n"
     ]
    },
    {
     "name": "stdout",
     "output_type": "stream",
     "text": [
      "Working on KT2\n",
      "working on KT2\n"
     ]
    },
    {
     "name": "stderr",
     "output_type": "stream",
     "text": [
      "/srv/conda/envs/notebook/lib/python3.11/site-packages/geopandas/io/file.py:383: FutureWarning: errors='ignore' is deprecated and will raise in a future version. Use to_datetime without passing `errors` and catch exceptions explicitly instead\n",
      "  as_dt = pd.to_datetime(df[k], errors=\"ignore\")\n",
      "/srv/conda/envs/notebook/lib/python3.11/site-packages/geopandas/geoseries.py:645: FutureWarning: the convert_dtype parameter is deprecated and will be removed in a future version.  Do ``ser.astype(object).apply()`` instead if you want ``convert_dtype=False``.\n",
      "  result = super().apply(func, convert_dtype=convert_dtype, args=args, **kwargs)\n",
      "/tmp/ipykernel_106/4279396429.py:310: UserWarning: This figure includes Axes that are not compatible with tight_layout, so results might be incorrect.\n",
      "  plt.tight_layout()  # Adjust layout to prevent overlap\n"
     ]
    },
    {
     "name": "stdout",
     "output_type": "stream",
     "text": [
      "Working on KT3\n",
      "working on KT3\n",
      "File for KT3 not found. Skipping...\n",
      "Working on Kamb_1\n",
      "working on Kamb_1\n"
     ]
    },
    {
     "name": "stderr",
     "output_type": "stream",
     "text": [
      "/srv/conda/envs/notebook/lib/python3.11/site-packages/geopandas/io/file.py:383: FutureWarning: errors='ignore' is deprecated and will raise in a future version. Use to_datetime without passing `errors` and catch exceptions explicitly instead\n",
      "  as_dt = pd.to_datetime(df[k], errors=\"ignore\")\n",
      "/srv/conda/envs/notebook/lib/python3.11/site-packages/geopandas/geoseries.py:645: FutureWarning: the convert_dtype parameter is deprecated and will be removed in a future version.  Do ``ser.astype(object).apply()`` instead if you want ``convert_dtype=False``.\n",
      "  result = super().apply(func, convert_dtype=convert_dtype, args=args, **kwargs)\n",
      "/tmp/ipykernel_106/4279396429.py:310: UserWarning: This figure includes Axes that are not compatible with tight_layout, so results might be incorrect.\n",
      "  plt.tight_layout()  # Adjust layout to prevent overlap\n"
     ]
    },
    {
     "name": "stdout",
     "output_type": "stream",
     "text": [
      "Working on Kamb_10\n",
      "working on Kamb_10\n"
     ]
    },
    {
     "name": "stderr",
     "output_type": "stream",
     "text": [
      "/srv/conda/envs/notebook/lib/python3.11/site-packages/geopandas/io/file.py:383: FutureWarning: errors='ignore' is deprecated and will raise in a future version. Use to_datetime without passing `errors` and catch exceptions explicitly instead\n",
      "  as_dt = pd.to_datetime(df[k], errors=\"ignore\")\n",
      "/srv/conda/envs/notebook/lib/python3.11/site-packages/geopandas/geoseries.py:645: FutureWarning: the convert_dtype parameter is deprecated and will be removed in a future version.  Do ``ser.astype(object).apply()`` instead if you want ``convert_dtype=False``.\n",
      "  result = super().apply(func, convert_dtype=convert_dtype, args=args, **kwargs)\n",
      "/tmp/ipykernel_106/4279396429.py:310: UserWarning: This figure includes Axes that are not compatible with tight_layout, so results might be incorrect.\n",
      "  plt.tight_layout()  # Adjust layout to prevent overlap\n"
     ]
    },
    {
     "name": "stdout",
     "output_type": "stream",
     "text": [
      "Working on Kamb_11\n",
      "working on Kamb_11\n"
     ]
    },
    {
     "name": "stderr",
     "output_type": "stream",
     "text": [
      "/srv/conda/envs/notebook/lib/python3.11/site-packages/geopandas/io/file.py:383: FutureWarning: errors='ignore' is deprecated and will raise in a future version. Use to_datetime without passing `errors` and catch exceptions explicitly instead\n",
      "  as_dt = pd.to_datetime(df[k], errors=\"ignore\")\n",
      "/srv/conda/envs/notebook/lib/python3.11/site-packages/geopandas/geoseries.py:645: FutureWarning: the convert_dtype parameter is deprecated and will be removed in a future version.  Do ``ser.astype(object).apply()`` instead if you want ``convert_dtype=False``.\n",
      "  result = super().apply(func, convert_dtype=convert_dtype, args=args, **kwargs)\n",
      "/tmp/ipykernel_106/4279396429.py:310: UserWarning: This figure includes Axes that are not compatible with tight_layout, so results might be incorrect.\n",
      "  plt.tight_layout()  # Adjust layout to prevent overlap\n"
     ]
    },
    {
     "name": "stdout",
     "output_type": "stream",
     "text": [
      "Working on Kamb_12\n",
      "working on Kamb_12\n"
     ]
    },
    {
     "name": "stderr",
     "output_type": "stream",
     "text": [
      "/srv/conda/envs/notebook/lib/python3.11/site-packages/geopandas/io/file.py:383: FutureWarning: errors='ignore' is deprecated and will raise in a future version. Use to_datetime without passing `errors` and catch exceptions explicitly instead\n",
      "  as_dt = pd.to_datetime(df[k], errors=\"ignore\")\n",
      "/srv/conda/envs/notebook/lib/python3.11/site-packages/geopandas/geoseries.py:645: FutureWarning: the convert_dtype parameter is deprecated and will be removed in a future version.  Do ``ser.astype(object).apply()`` instead if you want ``convert_dtype=False``.\n",
      "  result = super().apply(func, convert_dtype=convert_dtype, args=args, **kwargs)\n",
      "/tmp/ipykernel_106/4279396429.py:310: UserWarning: This figure includes Axes that are not compatible with tight_layout, so results might be incorrect.\n",
      "  plt.tight_layout()  # Adjust layout to prevent overlap\n"
     ]
    },
    {
     "name": "stdout",
     "output_type": "stream",
     "text": [
      "Working on Kamb_2\n",
      "working on Kamb_2\n"
     ]
    },
    {
     "name": "stderr",
     "output_type": "stream",
     "text": [
      "/srv/conda/envs/notebook/lib/python3.11/site-packages/geopandas/io/file.py:383: FutureWarning: errors='ignore' is deprecated and will raise in a future version. Use to_datetime without passing `errors` and catch exceptions explicitly instead\n",
      "  as_dt = pd.to_datetime(df[k], errors=\"ignore\")\n",
      "/srv/conda/envs/notebook/lib/python3.11/site-packages/geopandas/geoseries.py:645: FutureWarning: the convert_dtype parameter is deprecated and will be removed in a future version.  Do ``ser.astype(object).apply()`` instead if you want ``convert_dtype=False``.\n",
      "  result = super().apply(func, convert_dtype=convert_dtype, args=args, **kwargs)\n",
      "/tmp/ipykernel_106/4279396429.py:310: UserWarning: This figure includes Axes that are not compatible with tight_layout, so results might be incorrect.\n",
      "  plt.tight_layout()  # Adjust layout to prevent overlap\n"
     ]
    },
    {
     "name": "stdout",
     "output_type": "stream",
     "text": [
      "Working on Kamb_3\n",
      "working on Kamb_3\n"
     ]
    },
    {
     "name": "stderr",
     "output_type": "stream",
     "text": [
      "/srv/conda/envs/notebook/lib/python3.11/site-packages/geopandas/io/file.py:383: FutureWarning: errors='ignore' is deprecated and will raise in a future version. Use to_datetime without passing `errors` and catch exceptions explicitly instead\n",
      "  as_dt = pd.to_datetime(df[k], errors=\"ignore\")\n",
      "/srv/conda/envs/notebook/lib/python3.11/site-packages/geopandas/geoseries.py:645: FutureWarning: the convert_dtype parameter is deprecated and will be removed in a future version.  Do ``ser.astype(object).apply()`` instead if you want ``convert_dtype=False``.\n",
      "  result = super().apply(func, convert_dtype=convert_dtype, args=args, **kwargs)\n",
      "/tmp/ipykernel_106/4279396429.py:310: UserWarning: This figure includes Axes that are not compatible with tight_layout, so results might be incorrect.\n",
      "  plt.tight_layout()  # Adjust layout to prevent overlap\n"
     ]
    },
    {
     "name": "stdout",
     "output_type": "stream",
     "text": [
      "Working on Kamb_4\n",
      "working on Kamb_4\n",
      "File for Kamb_4 not found. Skipping...\n",
      "Working on Kamb_5\n",
      "working on Kamb_5\n"
     ]
    },
    {
     "name": "stderr",
     "output_type": "stream",
     "text": [
      "/srv/conda/envs/notebook/lib/python3.11/site-packages/geopandas/io/file.py:383: FutureWarning: errors='ignore' is deprecated and will raise in a future version. Use to_datetime without passing `errors` and catch exceptions explicitly instead\n",
      "  as_dt = pd.to_datetime(df[k], errors=\"ignore\")\n",
      "/srv/conda/envs/notebook/lib/python3.11/site-packages/geopandas/geoseries.py:645: FutureWarning: the convert_dtype parameter is deprecated and will be removed in a future version.  Do ``ser.astype(object).apply()`` instead if you want ``convert_dtype=False``.\n",
      "  result = super().apply(func, convert_dtype=convert_dtype, args=args, **kwargs)\n",
      "/tmp/ipykernel_106/4279396429.py:310: UserWarning: This figure includes Axes that are not compatible with tight_layout, so results might be incorrect.\n",
      "  plt.tight_layout()  # Adjust layout to prevent overlap\n"
     ]
    },
    {
     "name": "stdout",
     "output_type": "stream",
     "text": [
      "Working on Kamb_6\n",
      "working on Kamb_6\n"
     ]
    },
    {
     "name": "stderr",
     "output_type": "stream",
     "text": [
      "/srv/conda/envs/notebook/lib/python3.11/site-packages/geopandas/io/file.py:383: FutureWarning: errors='ignore' is deprecated and will raise in a future version. Use to_datetime without passing `errors` and catch exceptions explicitly instead\n",
      "  as_dt = pd.to_datetime(df[k], errors=\"ignore\")\n",
      "/srv/conda/envs/notebook/lib/python3.11/site-packages/geopandas/geoseries.py:645: FutureWarning: the convert_dtype parameter is deprecated and will be removed in a future version.  Do ``ser.astype(object).apply()`` instead if you want ``convert_dtype=False``.\n",
      "  result = super().apply(func, convert_dtype=convert_dtype, args=args, **kwargs)\n",
      "/tmp/ipykernel_106/4279396429.py:310: UserWarning: This figure includes Axes that are not compatible with tight_layout, so results might be incorrect.\n",
      "  plt.tight_layout()  # Adjust layout to prevent overlap\n"
     ]
    },
    {
     "name": "stdout",
     "output_type": "stream",
     "text": [
      "Working on Kamb_7\n",
      "working on Kamb_7\n"
     ]
    },
    {
     "name": "stderr",
     "output_type": "stream",
     "text": [
      "/srv/conda/envs/notebook/lib/python3.11/site-packages/geopandas/io/file.py:383: FutureWarning: errors='ignore' is deprecated and will raise in a future version. Use to_datetime without passing `errors` and catch exceptions explicitly instead\n",
      "  as_dt = pd.to_datetime(df[k], errors=\"ignore\")\n",
      "/srv/conda/envs/notebook/lib/python3.11/site-packages/geopandas/geoseries.py:645: FutureWarning: the convert_dtype parameter is deprecated and will be removed in a future version.  Do ``ser.astype(object).apply()`` instead if you want ``convert_dtype=False``.\n",
      "  result = super().apply(func, convert_dtype=convert_dtype, args=args, **kwargs)\n",
      "/tmp/ipykernel_106/4279396429.py:310: UserWarning: This figure includes Axes that are not compatible with tight_layout, so results might be incorrect.\n",
      "  plt.tight_layout()  # Adjust layout to prevent overlap\n"
     ]
    },
    {
     "name": "stdout",
     "output_type": "stream",
     "text": [
      "Working on Kamb_8\n",
      "working on Kamb_8\n"
     ]
    },
    {
     "name": "stderr",
     "output_type": "stream",
     "text": [
      "/srv/conda/envs/notebook/lib/python3.11/site-packages/geopandas/io/file.py:383: FutureWarning: errors='ignore' is deprecated and will raise in a future version. Use to_datetime without passing `errors` and catch exceptions explicitly instead\n",
      "  as_dt = pd.to_datetime(df[k], errors=\"ignore\")\n",
      "/srv/conda/envs/notebook/lib/python3.11/site-packages/geopandas/geoseries.py:645: FutureWarning: the convert_dtype parameter is deprecated and will be removed in a future version.  Do ``ser.astype(object).apply()`` instead if you want ``convert_dtype=False``.\n",
      "  result = super().apply(func, convert_dtype=convert_dtype, args=args, **kwargs)\n",
      "/tmp/ipykernel_106/4279396429.py:310: UserWarning: This figure includes Axes that are not compatible with tight_layout, so results might be incorrect.\n",
      "  plt.tight_layout()  # Adjust layout to prevent overlap\n"
     ]
    },
    {
     "name": "stdout",
     "output_type": "stream",
     "text": [
      "Working on Kamb_9\n",
      "working on Kamb_9\n"
     ]
    },
    {
     "name": "stderr",
     "output_type": "stream",
     "text": [
      "/srv/conda/envs/notebook/lib/python3.11/site-packages/geopandas/io/file.py:383: FutureWarning: errors='ignore' is deprecated and will raise in a future version. Use to_datetime without passing `errors` and catch exceptions explicitly instead\n",
      "  as_dt = pd.to_datetime(df[k], errors=\"ignore\")\n",
      "/srv/conda/envs/notebook/lib/python3.11/site-packages/geopandas/geoseries.py:645: FutureWarning: the convert_dtype parameter is deprecated and will be removed in a future version.  Do ``ser.astype(object).apply()`` instead if you want ``convert_dtype=False``.\n",
      "  result = super().apply(func, convert_dtype=convert_dtype, args=args, **kwargs)\n",
      "/tmp/ipykernel_106/4279396429.py:310: UserWarning: This figure includes Axes that are not compatible with tight_layout, so results might be incorrect.\n",
      "  plt.tight_layout()  # Adjust layout to prevent overlap\n"
     ]
    },
    {
     "name": "stdout",
     "output_type": "stream",
     "text": [
      "Working on L1\n",
      "working on L1\n"
     ]
    },
    {
     "name": "stderr",
     "output_type": "stream",
     "text": [
      "/srv/conda/envs/notebook/lib/python3.11/site-packages/geopandas/io/file.py:383: FutureWarning: errors='ignore' is deprecated and will raise in a future version. Use to_datetime without passing `errors` and catch exceptions explicitly instead\n",
      "  as_dt = pd.to_datetime(df[k], errors=\"ignore\")\n",
      "/srv/conda/envs/notebook/lib/python3.11/site-packages/geopandas/geoseries.py:645: FutureWarning: the convert_dtype parameter is deprecated and will be removed in a future version.  Do ``ser.astype(object).apply()`` instead if you want ``convert_dtype=False``.\n",
      "  result = super().apply(func, convert_dtype=convert_dtype, args=args, **kwargs)\n",
      "/tmp/ipykernel_106/4279396429.py:310: UserWarning: This figure includes Axes that are not compatible with tight_layout, so results might be incorrect.\n",
      "  plt.tight_layout()  # Adjust layout to prevent overlap\n"
     ]
    },
    {
     "name": "stdout",
     "output_type": "stream",
     "text": [
      "Working on Lake10\n",
      "working on Lake10\n"
     ]
    },
    {
     "name": "stderr",
     "output_type": "stream",
     "text": [
      "/srv/conda/envs/notebook/lib/python3.11/site-packages/geopandas/io/file.py:383: FutureWarning: errors='ignore' is deprecated and will raise in a future version. Use to_datetime without passing `errors` and catch exceptions explicitly instead\n",
      "  as_dt = pd.to_datetime(df[k], errors=\"ignore\")\n",
      "/srv/conda/envs/notebook/lib/python3.11/site-packages/geopandas/geoseries.py:645: FutureWarning: the convert_dtype parameter is deprecated and will be removed in a future version.  Do ``ser.astype(object).apply()`` instead if you want ``convert_dtype=False``.\n",
      "  result = super().apply(func, convert_dtype=convert_dtype, args=args, **kwargs)\n",
      "/tmp/ipykernel_106/4279396429.py:310: UserWarning: This figure includes Axes that are not compatible with tight_layout, so results might be incorrect.\n",
      "  plt.tight_layout()  # Adjust layout to prevent overlap\n"
     ]
    },
    {
     "name": "stdout",
     "output_type": "stream",
     "text": [
      "Working on Lake12\n",
      "working on Lake12\n"
     ]
    },
    {
     "name": "stderr",
     "output_type": "stream",
     "text": [
      "/srv/conda/envs/notebook/lib/python3.11/site-packages/geopandas/io/file.py:383: FutureWarning: errors='ignore' is deprecated and will raise in a future version. Use to_datetime without passing `errors` and catch exceptions explicitly instead\n",
      "  as_dt = pd.to_datetime(df[k], errors=\"ignore\")\n",
      "/srv/conda/envs/notebook/lib/python3.11/site-packages/geopandas/geoseries.py:645: FutureWarning: the convert_dtype parameter is deprecated and will be removed in a future version.  Do ``ser.astype(object).apply()`` instead if you want ``convert_dtype=False``.\n",
      "  result = super().apply(func, convert_dtype=convert_dtype, args=args, **kwargs)\n",
      "/tmp/ipykernel_106/4279396429.py:310: UserWarning: This figure includes Axes that are not compatible with tight_layout, so results might be incorrect.\n",
      "  plt.tight_layout()  # Adjust layout to prevent overlap\n"
     ]
    },
    {
     "name": "stdout",
     "output_type": "stream",
     "text": [
      "Working on Lake78\n",
      "working on Lake78\n"
     ]
    },
    {
     "name": "stderr",
     "output_type": "stream",
     "text": [
      "/srv/conda/envs/notebook/lib/python3.11/site-packages/geopandas/io/file.py:383: FutureWarning: errors='ignore' is deprecated and will raise in a future version. Use to_datetime without passing `errors` and catch exceptions explicitly instead\n",
      "  as_dt = pd.to_datetime(df[k], errors=\"ignore\")\n",
      "/srv/conda/envs/notebook/lib/python3.11/site-packages/geopandas/geoseries.py:645: FutureWarning: the convert_dtype parameter is deprecated and will be removed in a future version.  Do ``ser.astype(object).apply()`` instead if you want ``convert_dtype=False``.\n",
      "  result = super().apply(func, convert_dtype=convert_dtype, args=args, **kwargs)\n",
      "/tmp/ipykernel_106/4279396429.py:310: UserWarning: This figure includes Axes that are not compatible with tight_layout, so results might be incorrect.\n",
      "  plt.tight_layout()  # Adjust layout to prevent overlap\n"
     ]
    },
    {
     "name": "stdout",
     "output_type": "stream",
     "text": [
      "Working on Lambert_1\n",
      "working on Lambert_1\n"
     ]
    },
    {
     "name": "stderr",
     "output_type": "stream",
     "text": [
      "/srv/conda/envs/notebook/lib/python3.11/site-packages/geopandas/io/file.py:383: FutureWarning: errors='ignore' is deprecated and will raise in a future version. Use to_datetime without passing `errors` and catch exceptions explicitly instead\n",
      "  as_dt = pd.to_datetime(df[k], errors=\"ignore\")\n",
      "/srv/conda/envs/notebook/lib/python3.11/site-packages/geopandas/geoseries.py:645: FutureWarning: the convert_dtype parameter is deprecated and will be removed in a future version.  Do ``ser.astype(object).apply()`` instead if you want ``convert_dtype=False``.\n",
      "  result = super().apply(func, convert_dtype=convert_dtype, args=args, **kwargs)\n",
      "/tmp/ipykernel_106/4279396429.py:310: UserWarning: This figure includes Axes that are not compatible with tight_layout, so results might be incorrect.\n",
      "  plt.tight_layout()  # Adjust layout to prevent overlap\n"
     ]
    },
    {
     "name": "stdout",
     "output_type": "stream",
     "text": [
      "Working on LennoxKing_1\n",
      "working on LennoxKing_1\n"
     ]
    },
    {
     "name": "stderr",
     "output_type": "stream",
     "text": [
      "/srv/conda/envs/notebook/lib/python3.11/site-packages/geopandas/io/file.py:383: FutureWarning: errors='ignore' is deprecated and will raise in a future version. Use to_datetime without passing `errors` and catch exceptions explicitly instead\n",
      "  as_dt = pd.to_datetime(df[k], errors=\"ignore\")\n",
      "/srv/conda/envs/notebook/lib/python3.11/site-packages/geopandas/geoseries.py:645: FutureWarning: the convert_dtype parameter is deprecated and will be removed in a future version.  Do ``ser.astype(object).apply()`` instead if you want ``convert_dtype=False``.\n",
      "  result = super().apply(func, convert_dtype=convert_dtype, args=args, **kwargs)\n",
      "/tmp/ipykernel_106/4279396429.py:310: UserWarning: This figure includes Axes that are not compatible with tight_layout, so results might be incorrect.\n",
      "  plt.tight_layout()  # Adjust layout to prevent overlap\n"
     ]
    },
    {
     "name": "stdout",
     "output_type": "stream",
     "text": [
      "Working on LowerMercerSubglacialLake\n",
      "working on LowerMercerSubglacialLake\n"
     ]
    },
    {
     "name": "stderr",
     "output_type": "stream",
     "text": [
      "/srv/conda/envs/notebook/lib/python3.11/site-packages/geopandas/io/file.py:383: FutureWarning: errors='ignore' is deprecated and will raise in a future version. Use to_datetime without passing `errors` and catch exceptions explicitly instead\n",
      "  as_dt = pd.to_datetime(df[k], errors=\"ignore\")\n",
      "/srv/conda/envs/notebook/lib/python3.11/site-packages/geopandas/geoseries.py:645: FutureWarning: the convert_dtype parameter is deprecated and will be removed in a future version.  Do ``ser.astype(object).apply()`` instead if you want ``convert_dtype=False``.\n",
      "  result = super().apply(func, convert_dtype=convert_dtype, args=args, **kwargs)\n",
      "/tmp/ipykernel_106/4279396429.py:310: UserWarning: This figure includes Axes that are not compatible with tight_layout, so results might be incorrect.\n",
      "  plt.tight_layout()  # Adjust layout to prevent overlap\n"
     ]
    },
    {
     "name": "stdout",
     "output_type": "stream",
     "text": [
      "Working on LowerSubglacialLakeConway\n",
      "working on LowerSubglacialLakeConway\n"
     ]
    },
    {
     "name": "stderr",
     "output_type": "stream",
     "text": [
      "/srv/conda/envs/notebook/lib/python3.11/site-packages/geopandas/io/file.py:383: FutureWarning: errors='ignore' is deprecated and will raise in a future version. Use to_datetime without passing `errors` and catch exceptions explicitly instead\n",
      "  as_dt = pd.to_datetime(df[k], errors=\"ignore\")\n",
      "/srv/conda/envs/notebook/lib/python3.11/site-packages/geopandas/geoseries.py:645: FutureWarning: the convert_dtype parameter is deprecated and will be removed in a future version.  Do ``ser.astype(object).apply()`` instead if you want ``convert_dtype=False``.\n",
      "  result = super().apply(func, convert_dtype=convert_dtype, args=args, **kwargs)\n",
      "/tmp/ipykernel_106/4279396429.py:310: UserWarning: This figure includes Axes that are not compatible with tight_layout, so results might be incorrect.\n",
      "  plt.tight_layout()  # Adjust layout to prevent overlap\n"
     ]
    },
    {
     "name": "stdout",
     "output_type": "stream",
     "text": [
      "Working on Mac1\n",
      "working on Mac1\n"
     ]
    },
    {
     "name": "stderr",
     "output_type": "stream",
     "text": [
      "/srv/conda/envs/notebook/lib/python3.11/site-packages/geopandas/io/file.py:383: FutureWarning: errors='ignore' is deprecated and will raise in a future version. Use to_datetime without passing `errors` and catch exceptions explicitly instead\n",
      "  as_dt = pd.to_datetime(df[k], errors=\"ignore\")\n",
      "/srv/conda/envs/notebook/lib/python3.11/site-packages/geopandas/geoseries.py:645: FutureWarning: the convert_dtype parameter is deprecated and will be removed in a future version.  Do ``ser.astype(object).apply()`` instead if you want ``convert_dtype=False``.\n",
      "  result = super().apply(func, convert_dtype=convert_dtype, args=args, **kwargs)\n",
      "/tmp/ipykernel_106/4279396429.py:310: UserWarning: This figure includes Axes that are not compatible with tight_layout, so results might be incorrect.\n",
      "  plt.tight_layout()  # Adjust layout to prevent overlap\n"
     ]
    },
    {
     "name": "stdout",
     "output_type": "stream",
     "text": [
      "Working on Mac2\n",
      "working on Mac2\n"
     ]
    },
    {
     "name": "stderr",
     "output_type": "stream",
     "text": [
      "/srv/conda/envs/notebook/lib/python3.11/site-packages/geopandas/io/file.py:383: FutureWarning: errors='ignore' is deprecated and will raise in a future version. Use to_datetime without passing `errors` and catch exceptions explicitly instead\n",
      "  as_dt = pd.to_datetime(df[k], errors=\"ignore\")\n",
      "/srv/conda/envs/notebook/lib/python3.11/site-packages/geopandas/geoseries.py:645: FutureWarning: the convert_dtype parameter is deprecated and will be removed in a future version.  Do ``ser.astype(object).apply()`` instead if you want ``convert_dtype=False``.\n",
      "  result = super().apply(func, convert_dtype=convert_dtype, args=args, **kwargs)\n",
      "/tmp/ipykernel_106/4279396429.py:310: UserWarning: This figure includes Axes that are not compatible with tight_layout, so results might be incorrect.\n",
      "  plt.tight_layout()  # Adjust layout to prevent overlap\n"
     ]
    },
    {
     "name": "stdout",
     "output_type": "stream",
     "text": [
      "Working on Mac3\n",
      "working on Mac3\n"
     ]
    },
    {
     "name": "stderr",
     "output_type": "stream",
     "text": [
      "/srv/conda/envs/notebook/lib/python3.11/site-packages/geopandas/io/file.py:383: FutureWarning: errors='ignore' is deprecated and will raise in a future version. Use to_datetime without passing `errors` and catch exceptions explicitly instead\n",
      "  as_dt = pd.to_datetime(df[k], errors=\"ignore\")\n",
      "/srv/conda/envs/notebook/lib/python3.11/site-packages/geopandas/geoseries.py:645: FutureWarning: the convert_dtype parameter is deprecated and will be removed in a future version.  Do ``ser.astype(object).apply()`` instead if you want ``convert_dtype=False``.\n",
      "  result = super().apply(func, convert_dtype=convert_dtype, args=args, **kwargs)\n",
      "/tmp/ipykernel_106/4279396429.py:310: UserWarning: This figure includes Axes that are not compatible with tight_layout, so results might be incorrect.\n",
      "  plt.tight_layout()  # Adjust layout to prevent overlap\n"
     ]
    },
    {
     "name": "stdout",
     "output_type": "stream",
     "text": [
      "Working on Mac4\n",
      "working on Mac4\n"
     ]
    },
    {
     "name": "stderr",
     "output_type": "stream",
     "text": [
      "/srv/conda/envs/notebook/lib/python3.11/site-packages/geopandas/io/file.py:383: FutureWarning: errors='ignore' is deprecated and will raise in a future version. Use to_datetime without passing `errors` and catch exceptions explicitly instead\n",
      "  as_dt = pd.to_datetime(df[k], errors=\"ignore\")\n",
      "/srv/conda/envs/notebook/lib/python3.11/site-packages/geopandas/geoseries.py:645: FutureWarning: the convert_dtype parameter is deprecated and will be removed in a future version.  Do ``ser.astype(object).apply()`` instead if you want ``convert_dtype=False``.\n",
      "  result = super().apply(func, convert_dtype=convert_dtype, args=args, **kwargs)\n",
      "/tmp/ipykernel_106/4279396429.py:310: UserWarning: This figure includes Axes that are not compatible with tight_layout, so results might be incorrect.\n",
      "  plt.tight_layout()  # Adjust layout to prevent overlap\n"
     ]
    },
    {
     "name": "stdout",
     "output_type": "stream",
     "text": [
      "Working on Mac5\n",
      "working on Mac5\n"
     ]
    },
    {
     "name": "stderr",
     "output_type": "stream",
     "text": [
      "/srv/conda/envs/notebook/lib/python3.11/site-packages/geopandas/io/file.py:383: FutureWarning: errors='ignore' is deprecated and will raise in a future version. Use to_datetime without passing `errors` and catch exceptions explicitly instead\n",
      "  as_dt = pd.to_datetime(df[k], errors=\"ignore\")\n",
      "/srv/conda/envs/notebook/lib/python3.11/site-packages/geopandas/geoseries.py:645: FutureWarning: the convert_dtype parameter is deprecated and will be removed in a future version.  Do ``ser.astype(object).apply()`` instead if you want ``convert_dtype=False``.\n",
      "  result = super().apply(func, convert_dtype=convert_dtype, args=args, **kwargs)\n",
      "/tmp/ipykernel_106/4279396429.py:310: UserWarning: This figure includes Axes that are not compatible with tight_layout, so results might be incorrect.\n",
      "  plt.tight_layout()  # Adjust layout to prevent overlap\n"
     ]
    },
    {
     "name": "stdout",
     "output_type": "stream",
     "text": [
      "Working on Mac6\n",
      "working on Mac6\n"
     ]
    },
    {
     "name": "stderr",
     "output_type": "stream",
     "text": [
      "/srv/conda/envs/notebook/lib/python3.11/site-packages/geopandas/io/file.py:383: FutureWarning: errors='ignore' is deprecated and will raise in a future version. Use to_datetime without passing `errors` and catch exceptions explicitly instead\n",
      "  as_dt = pd.to_datetime(df[k], errors=\"ignore\")\n",
      "/srv/conda/envs/notebook/lib/python3.11/site-packages/geopandas/geoseries.py:645: FutureWarning: the convert_dtype parameter is deprecated and will be removed in a future version.  Do ``ser.astype(object).apply()`` instead if you want ``convert_dtype=False``.\n",
      "  result = super().apply(func, convert_dtype=convert_dtype, args=args, **kwargs)\n",
      "/tmp/ipykernel_106/4279396429.py:310: UserWarning: This figure includes Axes that are not compatible with tight_layout, so results might be incorrect.\n",
      "  plt.tight_layout()  # Adjust layout to prevent overlap\n"
     ]
    },
    {
     "name": "stdout",
     "output_type": "stream",
     "text": [
      "Working on MercerSubglacialLake\n",
      "working on MercerSubglacialLake\n"
     ]
    },
    {
     "name": "stderr",
     "output_type": "stream",
     "text": [
      "/srv/conda/envs/notebook/lib/python3.11/site-packages/geopandas/io/file.py:383: FutureWarning: errors='ignore' is deprecated and will raise in a future version. Use to_datetime without passing `errors` and catch exceptions explicitly instead\n",
      "  as_dt = pd.to_datetime(df[k], errors=\"ignore\")\n",
      "/srv/conda/envs/notebook/lib/python3.11/site-packages/geopandas/geoseries.py:645: FutureWarning: the convert_dtype parameter is deprecated and will be removed in a future version.  Do ``ser.astype(object).apply()`` instead if you want ``convert_dtype=False``.\n",
      "  result = super().apply(func, convert_dtype=convert_dtype, args=args, **kwargs)\n",
      "/tmp/ipykernel_106/4279396429.py:310: UserWarning: This figure includes Axes that are not compatible with tight_layout, so results might be incorrect.\n",
      "  plt.tight_layout()  # Adjust layout to prevent overlap\n"
     ]
    },
    {
     "name": "stdout",
     "output_type": "stream",
     "text": [
      "Working on Mertz_1\n",
      "working on Mertz_1\n",
      "File for Mertz_1 not found. Skipping...\n",
      "Working on Mulock_1\n",
      "working on Mulock_1\n",
      "File for Mulock_1 not found. Skipping...\n",
      "Working on Nimrod_1\n",
      "working on Nimrod_1\n",
      "File for Nimrod_1 not found. Skipping...\n",
      "Working on Nimrod_2\n",
      "working on Nimrod_2\n"
     ]
    },
    {
     "name": "stderr",
     "output_type": "stream",
     "text": [
      "/srv/conda/envs/notebook/lib/python3.11/site-packages/geopandas/io/file.py:383: FutureWarning: errors='ignore' is deprecated and will raise in a future version. Use to_datetime without passing `errors` and catch exceptions explicitly instead\n",
      "  as_dt = pd.to_datetime(df[k], errors=\"ignore\")\n",
      "/srv/conda/envs/notebook/lib/python3.11/site-packages/geopandas/geoseries.py:645: FutureWarning: the convert_dtype parameter is deprecated and will be removed in a future version.  Do ``ser.astype(object).apply()`` instead if you want ``convert_dtype=False``.\n",
      "  result = super().apply(func, convert_dtype=convert_dtype, args=args, **kwargs)\n",
      "/tmp/ipykernel_106/4279396429.py:310: UserWarning: This figure includes Axes that are not compatible with tight_layout, so results might be incorrect.\n",
      "  plt.tight_layout()  # Adjust layout to prevent overlap\n"
     ]
    },
    {
     "name": "stdout",
     "output_type": "stream",
     "text": [
      "Working on Ninnis_1\n",
      "working on Ninnis_1\n"
     ]
    },
    {
     "name": "stderr",
     "output_type": "stream",
     "text": [
      "/srv/conda/envs/notebook/lib/python3.11/site-packages/geopandas/io/file.py:383: FutureWarning: errors='ignore' is deprecated and will raise in a future version. Use to_datetime without passing `errors` and catch exceptions explicitly instead\n",
      "  as_dt = pd.to_datetime(df[k], errors=\"ignore\")\n",
      "/srv/conda/envs/notebook/lib/python3.11/site-packages/geopandas/geoseries.py:645: FutureWarning: the convert_dtype parameter is deprecated and will be removed in a future version.  Do ``ser.astype(object).apply()`` instead if you want ``convert_dtype=False``.\n",
      "  result = super().apply(func, convert_dtype=convert_dtype, args=args, **kwargs)\n",
      "/tmp/ipykernel_106/4279396429.py:310: UserWarning: This figure includes Axes that are not compatible with tight_layout, so results might be incorrect.\n",
      "  plt.tight_layout()  # Adjust layout to prevent overlap\n"
     ]
    },
    {
     "name": "stdout",
     "output_type": "stream",
     "text": [
      "Working on Ninnis_2\n",
      "working on Ninnis_2\n",
      "File for Ninnis_2 not found. Skipping...\n",
      "Working on Raymond_1\n",
      "working on Raymond_1\n"
     ]
    },
    {
     "name": "stderr",
     "output_type": "stream",
     "text": [
      "/srv/conda/envs/notebook/lib/python3.11/site-packages/geopandas/io/file.py:383: FutureWarning: errors='ignore' is deprecated and will raise in a future version. Use to_datetime without passing `errors` and catch exceptions explicitly instead\n",
      "  as_dt = pd.to_datetime(df[k], errors=\"ignore\")\n",
      "/srv/conda/envs/notebook/lib/python3.11/site-packages/geopandas/geoseries.py:645: FutureWarning: the convert_dtype parameter is deprecated and will be removed in a future version.  Do ``ser.astype(object).apply()`` instead if you want ``convert_dtype=False``.\n",
      "  result = super().apply(func, convert_dtype=convert_dtype, args=args, **kwargs)\n",
      "/tmp/ipykernel_106/4279396429.py:310: UserWarning: This figure includes Axes that are not compatible with tight_layout, so results might be incorrect.\n",
      "  plt.tight_layout()  # Adjust layout to prevent overlap\n"
     ]
    },
    {
     "name": "stdout",
     "output_type": "stream",
     "text": [
      "Working on Rec1\n",
      "working on Rec1\n"
     ]
    },
    {
     "name": "stderr",
     "output_type": "stream",
     "text": [
      "/srv/conda/envs/notebook/lib/python3.11/site-packages/geopandas/io/file.py:383: FutureWarning: errors='ignore' is deprecated and will raise in a future version. Use to_datetime without passing `errors` and catch exceptions explicitly instead\n",
      "  as_dt = pd.to_datetime(df[k], errors=\"ignore\")\n",
      "/srv/conda/envs/notebook/lib/python3.11/site-packages/geopandas/geoseries.py:645: FutureWarning: the convert_dtype parameter is deprecated and will be removed in a future version.  Do ``ser.astype(object).apply()`` instead if you want ``convert_dtype=False``.\n",
      "  result = super().apply(func, convert_dtype=convert_dtype, args=args, **kwargs)\n",
      "/tmp/ipykernel_106/4279396429.py:310: UserWarning: This figure includes Axes that are not compatible with tight_layout, so results might be incorrect.\n",
      "  plt.tight_layout()  # Adjust layout to prevent overlap\n"
     ]
    },
    {
     "name": "stdout",
     "output_type": "stream",
     "text": [
      "Working on Rec10\n",
      "working on Rec10\n"
     ]
    },
    {
     "name": "stderr",
     "output_type": "stream",
     "text": [
      "/srv/conda/envs/notebook/lib/python3.11/site-packages/geopandas/io/file.py:383: FutureWarning: errors='ignore' is deprecated and will raise in a future version. Use to_datetime without passing `errors` and catch exceptions explicitly instead\n",
      "  as_dt = pd.to_datetime(df[k], errors=\"ignore\")\n",
      "/srv/conda/envs/notebook/lib/python3.11/site-packages/geopandas/geoseries.py:645: FutureWarning: the convert_dtype parameter is deprecated and will be removed in a future version.  Do ``ser.astype(object).apply()`` instead if you want ``convert_dtype=False``.\n",
      "  result = super().apply(func, convert_dtype=convert_dtype, args=args, **kwargs)\n",
      "/tmp/ipykernel_106/4279396429.py:310: UserWarning: This figure includes Axes that are not compatible with tight_layout, so results might be incorrect.\n",
      "  plt.tight_layout()  # Adjust layout to prevent overlap\n"
     ]
    },
    {
     "name": "stdout",
     "output_type": "stream",
     "text": [
      "Working on Rec2\n",
      "working on Rec2\n"
     ]
    },
    {
     "name": "stderr",
     "output_type": "stream",
     "text": [
      "/srv/conda/envs/notebook/lib/python3.11/site-packages/geopandas/io/file.py:383: FutureWarning: errors='ignore' is deprecated and will raise in a future version. Use to_datetime without passing `errors` and catch exceptions explicitly instead\n",
      "  as_dt = pd.to_datetime(df[k], errors=\"ignore\")\n",
      "/srv/conda/envs/notebook/lib/python3.11/site-packages/geopandas/geoseries.py:645: FutureWarning: the convert_dtype parameter is deprecated and will be removed in a future version.  Do ``ser.astype(object).apply()`` instead if you want ``convert_dtype=False``.\n",
      "  result = super().apply(func, convert_dtype=convert_dtype, args=args, **kwargs)\n",
      "/tmp/ipykernel_106/4279396429.py:310: UserWarning: This figure includes Axes that are not compatible with tight_layout, so results might be incorrect.\n",
      "  plt.tight_layout()  # Adjust layout to prevent overlap\n"
     ]
    },
    {
     "name": "stdout",
     "output_type": "stream",
     "text": [
      "Working on Rec3\n",
      "working on Rec3\n"
     ]
    },
    {
     "name": "stderr",
     "output_type": "stream",
     "text": [
      "/srv/conda/envs/notebook/lib/python3.11/site-packages/geopandas/io/file.py:383: FutureWarning: errors='ignore' is deprecated and will raise in a future version. Use to_datetime without passing `errors` and catch exceptions explicitly instead\n",
      "  as_dt = pd.to_datetime(df[k], errors=\"ignore\")\n",
      "/srv/conda/envs/notebook/lib/python3.11/site-packages/geopandas/geoseries.py:645: FutureWarning: the convert_dtype parameter is deprecated and will be removed in a future version.  Do ``ser.astype(object).apply()`` instead if you want ``convert_dtype=False``.\n",
      "  result = super().apply(func, convert_dtype=convert_dtype, args=args, **kwargs)\n",
      "/tmp/ipykernel_106/4279396429.py:310: UserWarning: This figure includes Axes that are not compatible with tight_layout, so results might be incorrect.\n",
      "  plt.tight_layout()  # Adjust layout to prevent overlap\n"
     ]
    },
    {
     "name": "stdout",
     "output_type": "stream",
     "text": [
      "Working on Rec4\n",
      "working on Rec4\n"
     ]
    },
    {
     "name": "stderr",
     "output_type": "stream",
     "text": [
      "/srv/conda/envs/notebook/lib/python3.11/site-packages/geopandas/io/file.py:383: FutureWarning: errors='ignore' is deprecated and will raise in a future version. Use to_datetime without passing `errors` and catch exceptions explicitly instead\n",
      "  as_dt = pd.to_datetime(df[k], errors=\"ignore\")\n",
      "/srv/conda/envs/notebook/lib/python3.11/site-packages/geopandas/geoseries.py:645: FutureWarning: the convert_dtype parameter is deprecated and will be removed in a future version.  Do ``ser.astype(object).apply()`` instead if you want ``convert_dtype=False``.\n",
      "  result = super().apply(func, convert_dtype=convert_dtype, args=args, **kwargs)\n",
      "/tmp/ipykernel_106/4279396429.py:310: UserWarning: This figure includes Axes that are not compatible with tight_layout, so results might be incorrect.\n",
      "  plt.tight_layout()  # Adjust layout to prevent overlap\n"
     ]
    },
    {
     "name": "stdout",
     "output_type": "stream",
     "text": [
      "Working on Rec5\n",
      "working on Rec5\n"
     ]
    },
    {
     "name": "stderr",
     "output_type": "stream",
     "text": [
      "/srv/conda/envs/notebook/lib/python3.11/site-packages/geopandas/io/file.py:383: FutureWarning: errors='ignore' is deprecated and will raise in a future version. Use to_datetime without passing `errors` and catch exceptions explicitly instead\n",
      "  as_dt = pd.to_datetime(df[k], errors=\"ignore\")\n",
      "/srv/conda/envs/notebook/lib/python3.11/site-packages/geopandas/geoseries.py:645: FutureWarning: the convert_dtype parameter is deprecated and will be removed in a future version.  Do ``ser.astype(object).apply()`` instead if you want ``convert_dtype=False``.\n",
      "  result = super().apply(func, convert_dtype=convert_dtype, args=args, **kwargs)\n",
      "/tmp/ipykernel_106/4279396429.py:310: UserWarning: This figure includes Axes that are not compatible with tight_layout, so results might be incorrect.\n",
      "  plt.tight_layout()  # Adjust layout to prevent overlap\n"
     ]
    },
    {
     "name": "stdout",
     "output_type": "stream",
     "text": [
      "Working on Rec6\n",
      "working on Rec6\n"
     ]
    },
    {
     "name": "stderr",
     "output_type": "stream",
     "text": [
      "/srv/conda/envs/notebook/lib/python3.11/site-packages/geopandas/io/file.py:383: FutureWarning: errors='ignore' is deprecated and will raise in a future version. Use to_datetime without passing `errors` and catch exceptions explicitly instead\n",
      "  as_dt = pd.to_datetime(df[k], errors=\"ignore\")\n",
      "/srv/conda/envs/notebook/lib/python3.11/site-packages/geopandas/geoseries.py:645: FutureWarning: the convert_dtype parameter is deprecated and will be removed in a future version.  Do ``ser.astype(object).apply()`` instead if you want ``convert_dtype=False``.\n",
      "  result = super().apply(func, convert_dtype=convert_dtype, args=args, **kwargs)\n",
      "/tmp/ipykernel_106/4279396429.py:310: UserWarning: This figure includes Axes that are not compatible with tight_layout, so results might be incorrect.\n",
      "  plt.tight_layout()  # Adjust layout to prevent overlap\n"
     ]
    },
    {
     "name": "stdout",
     "output_type": "stream",
     "text": [
      "Working on Rec8\n",
      "working on Rec8\n"
     ]
    },
    {
     "name": "stderr",
     "output_type": "stream",
     "text": [
      "/srv/conda/envs/notebook/lib/python3.11/site-packages/geopandas/io/file.py:383: FutureWarning: errors='ignore' is deprecated and will raise in a future version. Use to_datetime without passing `errors` and catch exceptions explicitly instead\n",
      "  as_dt = pd.to_datetime(df[k], errors=\"ignore\")\n",
      "/srv/conda/envs/notebook/lib/python3.11/site-packages/geopandas/geoseries.py:645: FutureWarning: the convert_dtype parameter is deprecated and will be removed in a future version.  Do ``ser.astype(object).apply()`` instead if you want ``convert_dtype=False``.\n",
      "  result = super().apply(func, convert_dtype=convert_dtype, args=args, **kwargs)\n",
      "/tmp/ipykernel_106/4279396429.py:310: UserWarning: This figure includes Axes that are not compatible with tight_layout, so results might be incorrect.\n",
      "  plt.tight_layout()  # Adjust layout to prevent overlap\n"
     ]
    },
    {
     "name": "stdout",
     "output_type": "stream",
     "text": [
      "Working on Rec9\n",
      "working on Rec9\n"
     ]
    },
    {
     "name": "stderr",
     "output_type": "stream",
     "text": [
      "/srv/conda/envs/notebook/lib/python3.11/site-packages/geopandas/io/file.py:383: FutureWarning: errors='ignore' is deprecated and will raise in a future version. Use to_datetime without passing `errors` and catch exceptions explicitly instead\n",
      "  as_dt = pd.to_datetime(df[k], errors=\"ignore\")\n",
      "/srv/conda/envs/notebook/lib/python3.11/site-packages/geopandas/geoseries.py:645: FutureWarning: the convert_dtype parameter is deprecated and will be removed in a future version.  Do ``ser.astype(object).apply()`` instead if you want ``convert_dtype=False``.\n",
      "  result = super().apply(func, convert_dtype=convert_dtype, args=args, **kwargs)\n",
      "/tmp/ipykernel_106/4279396429.py:310: UserWarning: This figure includes Axes that are not compatible with tight_layout, so results might be incorrect.\n",
      "  plt.tight_layout()  # Adjust layout to prevent overlap\n"
     ]
    },
    {
     "name": "stdout",
     "output_type": "stream",
     "text": [
      "Working on Recovery_8\n",
      "working on Recovery_8\n"
     ]
    },
    {
     "name": "stderr",
     "output_type": "stream",
     "text": [
      "/srv/conda/envs/notebook/lib/python3.11/site-packages/geopandas/io/file.py:383: FutureWarning: errors='ignore' is deprecated and will raise in a future version. Use to_datetime without passing `errors` and catch exceptions explicitly instead\n",
      "  as_dt = pd.to_datetime(df[k], errors=\"ignore\")\n",
      "/srv/conda/envs/notebook/lib/python3.11/site-packages/geopandas/geoseries.py:645: FutureWarning: the convert_dtype parameter is deprecated and will be removed in a future version.  Do ``ser.astype(object).apply()`` instead if you want ``convert_dtype=False``.\n",
      "  result = super().apply(func, convert_dtype=convert_dtype, args=args, **kwargs)\n",
      "/tmp/ipykernel_106/4279396429.py:310: UserWarning: This figure includes Axes that are not compatible with tight_layout, so results might be incorrect.\n",
      "  plt.tight_layout()  # Adjust layout to prevent overlap\n"
     ]
    },
    {
     "name": "stdout",
     "output_type": "stream",
     "text": [
      "Working on Rutford_1\n",
      "working on Rutford_1\n"
     ]
    },
    {
     "name": "stderr",
     "output_type": "stream",
     "text": [
      "/srv/conda/envs/notebook/lib/python3.11/site-packages/geopandas/io/file.py:383: FutureWarning: errors='ignore' is deprecated and will raise in a future version. Use to_datetime without passing `errors` and catch exceptions explicitly instead\n",
      "  as_dt = pd.to_datetime(df[k], errors=\"ignore\")\n",
      "/srv/conda/envs/notebook/lib/python3.11/site-packages/geopandas/geoseries.py:645: FutureWarning: the convert_dtype parameter is deprecated and will be removed in a future version.  Do ``ser.astype(object).apply()`` instead if you want ``convert_dtype=False``.\n",
      "  result = super().apply(func, convert_dtype=convert_dtype, args=args, **kwargs)\n",
      "/tmp/ipykernel_106/4279396429.py:310: UserWarning: This figure includes Axes that are not compatible with tight_layout, so results might be incorrect.\n",
      "  plt.tight_layout()  # Adjust layout to prevent overlap\n"
     ]
    },
    {
     "name": "stdout",
     "output_type": "stream",
     "text": [
      "Working on Site_A\n",
      "working on Site_A\n"
     ]
    },
    {
     "name": "stderr",
     "output_type": "stream",
     "text": [
      "/srv/conda/envs/notebook/lib/python3.11/site-packages/geopandas/io/file.py:383: FutureWarning: errors='ignore' is deprecated and will raise in a future version. Use to_datetime without passing `errors` and catch exceptions explicitly instead\n",
      "  as_dt = pd.to_datetime(df[k], errors=\"ignore\")\n",
      "/srv/conda/envs/notebook/lib/python3.11/site-packages/geopandas/geoseries.py:645: FutureWarning: the convert_dtype parameter is deprecated and will be removed in a future version.  Do ``ser.astype(object).apply()`` instead if you want ``convert_dtype=False``.\n",
      "  result = super().apply(func, convert_dtype=convert_dtype, args=args, **kwargs)\n",
      "/tmp/ipykernel_106/4279396429.py:310: UserWarning: This figure includes Axes that are not compatible with tight_layout, so results might be incorrect.\n",
      "  plt.tight_layout()  # Adjust layout to prevent overlap\n"
     ]
    },
    {
     "name": "stdout",
     "output_type": "stream",
     "text": [
      "Working on Site_B\n",
      "working on Site_B\n"
     ]
    },
    {
     "name": "stderr",
     "output_type": "stream",
     "text": [
      "/srv/conda/envs/notebook/lib/python3.11/site-packages/geopandas/io/file.py:383: FutureWarning: errors='ignore' is deprecated and will raise in a future version. Use to_datetime without passing `errors` and catch exceptions explicitly instead\n",
      "  as_dt = pd.to_datetime(df[k], errors=\"ignore\")\n",
      "/srv/conda/envs/notebook/lib/python3.11/site-packages/geopandas/geoseries.py:645: FutureWarning: the convert_dtype parameter is deprecated and will be removed in a future version.  Do ``ser.astype(object).apply()`` instead if you want ``convert_dtype=False``.\n",
      "  result = super().apply(func, convert_dtype=convert_dtype, args=args, **kwargs)\n",
      "/tmp/ipykernel_106/4279396429.py:310: UserWarning: This figure includes Axes that are not compatible with tight_layout, so results might be incorrect.\n",
      "  plt.tight_layout()  # Adjust layout to prevent overlap\n"
     ]
    },
    {
     "name": "stdout",
     "output_type": "stream",
     "text": [
      "Working on Site_C\n",
      "working on Site_C\n"
     ]
    },
    {
     "name": "stderr",
     "output_type": "stream",
     "text": [
      "/srv/conda/envs/notebook/lib/python3.11/site-packages/geopandas/io/file.py:383: FutureWarning: errors='ignore' is deprecated and will raise in a future version. Use to_datetime without passing `errors` and catch exceptions explicitly instead\n",
      "  as_dt = pd.to_datetime(df[k], errors=\"ignore\")\n",
      "/srv/conda/envs/notebook/lib/python3.11/site-packages/geopandas/geoseries.py:645: FutureWarning: the convert_dtype parameter is deprecated and will be removed in a future version.  Do ``ser.astype(object).apply()`` instead if you want ``convert_dtype=False``.\n",
      "  result = super().apply(func, convert_dtype=convert_dtype, args=args, **kwargs)\n",
      "/tmp/ipykernel_106/4279396429.py:310: UserWarning: This figure includes Axes that are not compatible with tight_layout, so results might be incorrect.\n",
      "  plt.tight_layout()  # Adjust layout to prevent overlap\n"
     ]
    },
    {
     "name": "stdout",
     "output_type": "stream",
     "text": [
      "Working on Slessor_1\n",
      "working on Slessor_1\n"
     ]
    },
    {
     "name": "stderr",
     "output_type": "stream",
     "text": [
      "/srv/conda/envs/notebook/lib/python3.11/site-packages/geopandas/io/file.py:383: FutureWarning: errors='ignore' is deprecated and will raise in a future version. Use to_datetime without passing `errors` and catch exceptions explicitly instead\n",
      "  as_dt = pd.to_datetime(df[k], errors=\"ignore\")\n",
      "/srv/conda/envs/notebook/lib/python3.11/site-packages/geopandas/geoseries.py:645: FutureWarning: the convert_dtype parameter is deprecated and will be removed in a future version.  Do ``ser.astype(object).apply()`` instead if you want ``convert_dtype=False``.\n",
      "  result = super().apply(func, convert_dtype=convert_dtype, args=args, **kwargs)\n",
      "/tmp/ipykernel_106/4279396429.py:310: UserWarning: This figure includes Axes that are not compatible with tight_layout, so results might be incorrect.\n",
      "  plt.tight_layout()  # Adjust layout to prevent overlap\n"
     ]
    },
    {
     "name": "stdout",
     "output_type": "stream",
     "text": [
      "Working on Slessor_23\n",
      "working on Slessor_23\n"
     ]
    },
    {
     "name": "stderr",
     "output_type": "stream",
     "text": [
      "/srv/conda/envs/notebook/lib/python3.11/site-packages/geopandas/io/file.py:383: FutureWarning: errors='ignore' is deprecated and will raise in a future version. Use to_datetime without passing `errors` and catch exceptions explicitly instead\n",
      "  as_dt = pd.to_datetime(df[k], errors=\"ignore\")\n",
      "/srv/conda/envs/notebook/lib/python3.11/site-packages/geopandas/geoseries.py:645: FutureWarning: the convert_dtype parameter is deprecated and will be removed in a future version.  Do ``ser.astype(object).apply()`` instead if you want ``convert_dtype=False``.\n",
      "  result = super().apply(func, convert_dtype=convert_dtype, args=args, **kwargs)\n",
      "/tmp/ipykernel_106/4279396429.py:310: UserWarning: This figure includes Axes that are not compatible with tight_layout, so results might be incorrect.\n",
      "  plt.tight_layout()  # Adjust layout to prevent overlap\n"
     ]
    },
    {
     "name": "stdout",
     "output_type": "stream",
     "text": [
      "Working on Slessor_4\n",
      "working on Slessor_4\n"
     ]
    },
    {
     "name": "stderr",
     "output_type": "stream",
     "text": [
      "/srv/conda/envs/notebook/lib/python3.11/site-packages/geopandas/io/file.py:383: FutureWarning: errors='ignore' is deprecated and will raise in a future version. Use to_datetime without passing `errors` and catch exceptions explicitly instead\n",
      "  as_dt = pd.to_datetime(df[k], errors=\"ignore\")\n",
      "/srv/conda/envs/notebook/lib/python3.11/site-packages/geopandas/geoseries.py:645: FutureWarning: the convert_dtype parameter is deprecated and will be removed in a future version.  Do ``ser.astype(object).apply()`` instead if you want ``convert_dtype=False``.\n",
      "  result = super().apply(func, convert_dtype=convert_dtype, args=args, **kwargs)\n",
      "/tmp/ipykernel_106/4279396429.py:310: UserWarning: This figure includes Axes that are not compatible with tight_layout, so results might be incorrect.\n",
      "  plt.tight_layout()  # Adjust layout to prevent overlap\n"
     ]
    },
    {
     "name": "stdout",
     "output_type": "stream",
     "text": [
      "Working on Slessor_5\n",
      "working on Slessor_5\n"
     ]
    },
    {
     "name": "stderr",
     "output_type": "stream",
     "text": [
      "/srv/conda/envs/notebook/lib/python3.11/site-packages/geopandas/io/file.py:383: FutureWarning: errors='ignore' is deprecated and will raise in a future version. Use to_datetime without passing `errors` and catch exceptions explicitly instead\n",
      "  as_dt = pd.to_datetime(df[k], errors=\"ignore\")\n",
      "/srv/conda/envs/notebook/lib/python3.11/site-packages/geopandas/geoseries.py:645: FutureWarning: the convert_dtype parameter is deprecated and will be removed in a future version.  Do ``ser.astype(object).apply()`` instead if you want ``convert_dtype=False``.\n",
      "  result = super().apply(func, convert_dtype=convert_dtype, args=args, **kwargs)\n",
      "/tmp/ipykernel_106/4279396429.py:310: UserWarning: This figure includes Axes that are not compatible with tight_layout, so results might be incorrect.\n",
      "  plt.tight_layout()  # Adjust layout to prevent overlap\n"
     ]
    },
    {
     "name": "stdout",
     "output_type": "stream",
     "text": [
      "Working on Slessor_6\n",
      "working on Slessor_6\n"
     ]
    },
    {
     "name": "stderr",
     "output_type": "stream",
     "text": [
      "/srv/conda/envs/notebook/lib/python3.11/site-packages/geopandas/io/file.py:383: FutureWarning: errors='ignore' is deprecated and will raise in a future version. Use to_datetime without passing `errors` and catch exceptions explicitly instead\n",
      "  as_dt = pd.to_datetime(df[k], errors=\"ignore\")\n",
      "/srv/conda/envs/notebook/lib/python3.11/site-packages/geopandas/geoseries.py:645: FutureWarning: the convert_dtype parameter is deprecated and will be removed in a future version.  Do ``ser.astype(object).apply()`` instead if you want ``convert_dtype=False``.\n",
      "  result = super().apply(func, convert_dtype=convert_dtype, args=args, **kwargs)\n",
      "/tmp/ipykernel_106/4279396429.py:310: UserWarning: This figure includes Axes that are not compatible with tight_layout, so results might be incorrect.\n",
      "  plt.tight_layout()  # Adjust layout to prevent overlap\n"
     ]
    },
    {
     "name": "stdout",
     "output_type": "stream",
     "text": [
      "Working on Slessor_7\n",
      "working on Slessor_7\n"
     ]
    },
    {
     "name": "stderr",
     "output_type": "stream",
     "text": [
      "/srv/conda/envs/notebook/lib/python3.11/site-packages/geopandas/io/file.py:383: FutureWarning: errors='ignore' is deprecated and will raise in a future version. Use to_datetime without passing `errors` and catch exceptions explicitly instead\n",
      "  as_dt = pd.to_datetime(df[k], errors=\"ignore\")\n",
      "/srv/conda/envs/notebook/lib/python3.11/site-packages/geopandas/geoseries.py:645: FutureWarning: the convert_dtype parameter is deprecated and will be removed in a future version.  Do ``ser.astype(object).apply()`` instead if you want ``convert_dtype=False``.\n",
      "  result = super().apply(func, convert_dtype=convert_dtype, args=args, **kwargs)\n",
      "/tmp/ipykernel_106/4279396429.py:310: UserWarning: This figure includes Axes that are not compatible with tight_layout, so results might be incorrect.\n",
      "  plt.tight_layout()  # Adjust layout to prevent overlap\n"
     ]
    },
    {
     "name": "stdout",
     "output_type": "stream",
     "text": [
      "Working on TL108\n",
      "working on TL108\n"
     ]
    },
    {
     "name": "stderr",
     "output_type": "stream",
     "text": [
      "/srv/conda/envs/notebook/lib/python3.11/site-packages/geopandas/io/file.py:383: FutureWarning: errors='ignore' is deprecated and will raise in a future version. Use to_datetime without passing `errors` and catch exceptions explicitly instead\n",
      "  as_dt = pd.to_datetime(df[k], errors=\"ignore\")\n",
      "/srv/conda/envs/notebook/lib/python3.11/site-packages/geopandas/geoseries.py:645: FutureWarning: the convert_dtype parameter is deprecated and will be removed in a future version.  Do ``ser.astype(object).apply()`` instead if you want ``convert_dtype=False``.\n",
      "  result = super().apply(func, convert_dtype=convert_dtype, args=args, **kwargs)\n",
      "/tmp/ipykernel_106/4279396429.py:310: UserWarning: This figure includes Axes that are not compatible with tight_layout, so results might be incorrect.\n",
      "  plt.tight_layout()  # Adjust layout to prevent overlap\n"
     ]
    },
    {
     "name": "stdout",
     "output_type": "stream",
     "text": [
      "Working on TL115\n",
      "working on TL115\n"
     ]
    },
    {
     "name": "stderr",
     "output_type": "stream",
     "text": [
      "/srv/conda/envs/notebook/lib/python3.11/site-packages/geopandas/io/file.py:383: FutureWarning: errors='ignore' is deprecated and will raise in a future version. Use to_datetime without passing `errors` and catch exceptions explicitly instead\n",
      "  as_dt = pd.to_datetime(df[k], errors=\"ignore\")\n",
      "/srv/conda/envs/notebook/lib/python3.11/site-packages/geopandas/geoseries.py:645: FutureWarning: the convert_dtype parameter is deprecated and will be removed in a future version.  Do ``ser.astype(object).apply()`` instead if you want ``convert_dtype=False``.\n",
      "  result = super().apply(func, convert_dtype=convert_dtype, args=args, **kwargs)\n",
      "/tmp/ipykernel_106/4279396429.py:310: UserWarning: This figure includes Axes that are not compatible with tight_layout, so results might be incorrect.\n",
      "  plt.tight_layout()  # Adjust layout to prevent overlap\n"
     ]
    },
    {
     "name": "stdout",
     "output_type": "stream",
     "text": [
      "Working on TL122\n",
      "working on TL122\n"
     ]
    },
    {
     "name": "stderr",
     "output_type": "stream",
     "text": [
      "/srv/conda/envs/notebook/lib/python3.11/site-packages/geopandas/io/file.py:383: FutureWarning: errors='ignore' is deprecated and will raise in a future version. Use to_datetime without passing `errors` and catch exceptions explicitly instead\n",
      "  as_dt = pd.to_datetime(df[k], errors=\"ignore\")\n",
      "/srv/conda/envs/notebook/lib/python3.11/site-packages/geopandas/geoseries.py:645: FutureWarning: the convert_dtype parameter is deprecated and will be removed in a future version.  Do ``ser.astype(object).apply()`` instead if you want ``convert_dtype=False``.\n",
      "  result = super().apply(func, convert_dtype=convert_dtype, args=args, **kwargs)\n",
      "/tmp/ipykernel_106/4279396429.py:310: UserWarning: This figure includes Axes that are not compatible with tight_layout, so results might be incorrect.\n",
      "  plt.tight_layout()  # Adjust layout to prevent overlap\n"
     ]
    },
    {
     "name": "stdout",
     "output_type": "stream",
     "text": [
      "Working on TL96\n",
      "working on TL96\n"
     ]
    },
    {
     "name": "stderr",
     "output_type": "stream",
     "text": [
      "/srv/conda/envs/notebook/lib/python3.11/site-packages/geopandas/io/file.py:383: FutureWarning: errors='ignore' is deprecated and will raise in a future version. Use to_datetime without passing `errors` and catch exceptions explicitly instead\n",
      "  as_dt = pd.to_datetime(df[k], errors=\"ignore\")\n",
      "/srv/conda/envs/notebook/lib/python3.11/site-packages/geopandas/geoseries.py:645: FutureWarning: the convert_dtype parameter is deprecated and will be removed in a future version.  Do ``ser.astype(object).apply()`` instead if you want ``convert_dtype=False``.\n",
      "  result = super().apply(func, convert_dtype=convert_dtype, args=args, **kwargs)\n",
      "/tmp/ipykernel_106/4279396429.py:310: UserWarning: This figure includes Axes that are not compatible with tight_layout, so results might be incorrect.\n",
      "  plt.tight_layout()  # Adjust layout to prevent overlap\n"
     ]
    },
    {
     "name": "stdout",
     "output_type": "stream",
     "text": [
      "Working on Thw_124\n",
      "working on Thw_124\n"
     ]
    },
    {
     "name": "stderr",
     "output_type": "stream",
     "text": [
      "/srv/conda/envs/notebook/lib/python3.11/site-packages/geopandas/io/file.py:383: FutureWarning: errors='ignore' is deprecated and will raise in a future version. Use to_datetime without passing `errors` and catch exceptions explicitly instead\n",
      "  as_dt = pd.to_datetime(df[k], errors=\"ignore\")\n",
      "/srv/conda/envs/notebook/lib/python3.11/site-packages/geopandas/geoseries.py:645: FutureWarning: the convert_dtype parameter is deprecated and will be removed in a future version.  Do ``ser.astype(object).apply()`` instead if you want ``convert_dtype=False``.\n",
      "  result = super().apply(func, convert_dtype=convert_dtype, args=args, **kwargs)\n",
      "/tmp/ipykernel_106/4279396429.py:310: UserWarning: This figure includes Axes that are not compatible with tight_layout, so results might be incorrect.\n",
      "  plt.tight_layout()  # Adjust layout to prevent overlap\n"
     ]
    },
    {
     "name": "stdout",
     "output_type": "stream",
     "text": [
      "Working on Thw_142\n",
      "working on Thw_142\n"
     ]
    },
    {
     "name": "stderr",
     "output_type": "stream",
     "text": [
      "/srv/conda/envs/notebook/lib/python3.11/site-packages/geopandas/io/file.py:383: FutureWarning: errors='ignore' is deprecated and will raise in a future version. Use to_datetime without passing `errors` and catch exceptions explicitly instead\n",
      "  as_dt = pd.to_datetime(df[k], errors=\"ignore\")\n",
      "/srv/conda/envs/notebook/lib/python3.11/site-packages/geopandas/geoseries.py:645: FutureWarning: the convert_dtype parameter is deprecated and will be removed in a future version.  Do ``ser.astype(object).apply()`` instead if you want ``convert_dtype=False``.\n",
      "  result = super().apply(func, convert_dtype=convert_dtype, args=args, **kwargs)\n",
      "/tmp/ipykernel_106/4279396429.py:310: UserWarning: This figure includes Axes that are not compatible with tight_layout, so results might be incorrect.\n",
      "  plt.tight_layout()  # Adjust layout to prevent overlap\n"
     ]
    },
    {
     "name": "stdout",
     "output_type": "stream",
     "text": [
      "Working on Thw_170\n",
      "working on Thw_170\n"
     ]
    },
    {
     "name": "stderr",
     "output_type": "stream",
     "text": [
      "/srv/conda/envs/notebook/lib/python3.11/site-packages/geopandas/io/file.py:383: FutureWarning: errors='ignore' is deprecated and will raise in a future version. Use to_datetime without passing `errors` and catch exceptions explicitly instead\n",
      "  as_dt = pd.to_datetime(df[k], errors=\"ignore\")\n",
      "/srv/conda/envs/notebook/lib/python3.11/site-packages/geopandas/geoseries.py:645: FutureWarning: the convert_dtype parameter is deprecated and will be removed in a future version.  Do ``ser.astype(object).apply()`` instead if you want ``convert_dtype=False``.\n",
      "  result = super().apply(func, convert_dtype=convert_dtype, args=args, **kwargs)\n",
      "/tmp/ipykernel_106/4279396429.py:310: UserWarning: This figure includes Axes that are not compatible with tight_layout, so results might be incorrect.\n",
      "  plt.tight_layout()  # Adjust layout to prevent overlap\n"
     ]
    },
    {
     "name": "stdout",
     "output_type": "stream",
     "text": [
      "Working on Thw_70\n",
      "working on Thw_70\n"
     ]
    },
    {
     "name": "stderr",
     "output_type": "stream",
     "text": [
      "/srv/conda/envs/notebook/lib/python3.11/site-packages/geopandas/io/file.py:383: FutureWarning: errors='ignore' is deprecated and will raise in a future version. Use to_datetime without passing `errors` and catch exceptions explicitly instead\n",
      "  as_dt = pd.to_datetime(df[k], errors=\"ignore\")\n",
      "/srv/conda/envs/notebook/lib/python3.11/site-packages/geopandas/geoseries.py:645: FutureWarning: the convert_dtype parameter is deprecated and will be removed in a future version.  Do ``ser.astype(object).apply()`` instead if you want ``convert_dtype=False``.\n",
      "  result = super().apply(func, convert_dtype=convert_dtype, args=args, **kwargs)\n",
      "/tmp/ipykernel_106/4279396429.py:310: UserWarning: This figure includes Axes that are not compatible with tight_layout, so results might be incorrect.\n",
      "  plt.tight_layout()  # Adjust layout to prevent overlap\n"
     ]
    },
    {
     "name": "stdout",
     "output_type": "stream",
     "text": [
      "Working on Totten_1\n",
      "working on Totten_1\n"
     ]
    },
    {
     "name": "stderr",
     "output_type": "stream",
     "text": [
      "/srv/conda/envs/notebook/lib/python3.11/site-packages/geopandas/io/file.py:383: FutureWarning: errors='ignore' is deprecated and will raise in a future version. Use to_datetime without passing `errors` and catch exceptions explicitly instead\n",
      "  as_dt = pd.to_datetime(df[k], errors=\"ignore\")\n",
      "/srv/conda/envs/notebook/lib/python3.11/site-packages/geopandas/geoseries.py:645: FutureWarning: the convert_dtype parameter is deprecated and will be removed in a future version.  Do ``ser.astype(object).apply()`` instead if you want ``convert_dtype=False``.\n",
      "  result = super().apply(func, convert_dtype=convert_dtype, args=args, **kwargs)\n",
      "/tmp/ipykernel_106/4279396429.py:310: UserWarning: This figure includes Axes that are not compatible with tight_layout, so results might be incorrect.\n",
      "  plt.tight_layout()  # Adjust layout to prevent overlap\n"
     ]
    },
    {
     "name": "stdout",
     "output_type": "stream",
     "text": [
      "Working on Totten_2\n",
      "working on Totten_2\n"
     ]
    },
    {
     "name": "stderr",
     "output_type": "stream",
     "text": [
      "/srv/conda/envs/notebook/lib/python3.11/site-packages/geopandas/io/file.py:383: FutureWarning: errors='ignore' is deprecated and will raise in a future version. Use to_datetime without passing `errors` and catch exceptions explicitly instead\n",
      "  as_dt = pd.to_datetime(df[k], errors=\"ignore\")\n",
      "/srv/conda/envs/notebook/lib/python3.11/site-packages/geopandas/geoseries.py:645: FutureWarning: the convert_dtype parameter is deprecated and will be removed in a future version.  Do ``ser.astype(object).apply()`` instead if you want ``convert_dtype=False``.\n",
      "  result = super().apply(func, convert_dtype=convert_dtype, args=args, **kwargs)\n",
      "/tmp/ipykernel_106/4279396429.py:310: UserWarning: This figure includes Axes that are not compatible with tight_layout, so results might be incorrect.\n",
      "  plt.tight_layout()  # Adjust layout to prevent overlap\n"
     ]
    },
    {
     "name": "stdout",
     "output_type": "stream",
     "text": [
      "Working on U1\n",
      "working on U1\n",
      "File for U1 not found. Skipping...\n",
      "Working on U2\n",
      "working on U2\n",
      "File for U2 not found. Skipping...\n",
      "Working on U3\n",
      "working on U3\n"
     ]
    },
    {
     "name": "stderr",
     "output_type": "stream",
     "text": [
      "/srv/conda/envs/notebook/lib/python3.11/site-packages/geopandas/io/file.py:383: FutureWarning: errors='ignore' is deprecated and will raise in a future version. Use to_datetime without passing `errors` and catch exceptions explicitly instead\n",
      "  as_dt = pd.to_datetime(df[k], errors=\"ignore\")\n",
      "/srv/conda/envs/notebook/lib/python3.11/site-packages/geopandas/geoseries.py:645: FutureWarning: the convert_dtype parameter is deprecated and will be removed in a future version.  Do ``ser.astype(object).apply()`` instead if you want ``convert_dtype=False``.\n",
      "  result = super().apply(func, convert_dtype=convert_dtype, args=args, **kwargs)\n",
      "/tmp/ipykernel_106/4279396429.py:310: UserWarning: This figure includes Axes that are not compatible with tight_layout, so results might be incorrect.\n",
      "  plt.tight_layout()  # Adjust layout to prevent overlap\n"
     ]
    },
    {
     "name": "stdout",
     "output_type": "stream",
     "text": [
      "Working on UpperSubglacialLakeConway\n",
      "working on UpperSubglacialLakeConway\n"
     ]
    },
    {
     "name": "stderr",
     "output_type": "stream",
     "text": [
      "/srv/conda/envs/notebook/lib/python3.11/site-packages/geopandas/io/file.py:383: FutureWarning: errors='ignore' is deprecated and will raise in a future version. Use to_datetime without passing `errors` and catch exceptions explicitly instead\n",
      "  as_dt = pd.to_datetime(df[k], errors=\"ignore\")\n",
      "/srv/conda/envs/notebook/lib/python3.11/site-packages/geopandas/geoseries.py:645: FutureWarning: the convert_dtype parameter is deprecated and will be removed in a future version.  Do ``ser.astype(object).apply()`` instead if you want ``convert_dtype=False``.\n",
      "  result = super().apply(func, convert_dtype=convert_dtype, args=args, **kwargs)\n",
      "/tmp/ipykernel_106/4279396429.py:310: UserWarning: This figure includes Axes that are not compatible with tight_layout, so results might be incorrect.\n",
      "  plt.tight_layout()  # Adjust layout to prevent overlap\n"
     ]
    },
    {
     "name": "stdout",
     "output_type": "stream",
     "text": [
      "Working on Vostok_1\n",
      "working on Vostok_1\n"
     ]
    },
    {
     "name": "stderr",
     "output_type": "stream",
     "text": [
      "/srv/conda/envs/notebook/lib/python3.11/site-packages/geopandas/io/file.py:383: FutureWarning: errors='ignore' is deprecated and will raise in a future version. Use to_datetime without passing `errors` and catch exceptions explicitly instead\n",
      "  as_dt = pd.to_datetime(df[k], errors=\"ignore\")\n",
      "/srv/conda/envs/notebook/lib/python3.11/site-packages/geopandas/geoseries.py:645: FutureWarning: the convert_dtype parameter is deprecated and will be removed in a future version.  Do ``ser.astype(object).apply()`` instead if you want ``convert_dtype=False``.\n",
      "  result = super().apply(func, convert_dtype=convert_dtype, args=args, **kwargs)\n",
      "/tmp/ipykernel_106/4279396429.py:310: UserWarning: This figure includes Axes that are not compatible with tight_layout, so results might be incorrect.\n",
      "  plt.tight_layout()  # Adjust layout to prevent overlap\n"
     ]
    },
    {
     "name": "stdout",
     "output_type": "stream",
     "text": [
      "Working on WT\n",
      "working on WT\n"
     ]
    },
    {
     "name": "stderr",
     "output_type": "stream",
     "text": [
      "/srv/conda/envs/notebook/lib/python3.11/site-packages/geopandas/io/file.py:383: FutureWarning: errors='ignore' is deprecated and will raise in a future version. Use to_datetime without passing `errors` and catch exceptions explicitly instead\n",
      "  as_dt = pd.to_datetime(df[k], errors=\"ignore\")\n",
      "/srv/conda/envs/notebook/lib/python3.11/site-packages/geopandas/geoseries.py:645: FutureWarning: the convert_dtype parameter is deprecated and will be removed in a future version.  Do ``ser.astype(object).apply()`` instead if you want ``convert_dtype=False``.\n",
      "  result = super().apply(func, convert_dtype=convert_dtype, args=args, **kwargs)\n",
      "/tmp/ipykernel_106/4279396429.py:310: UserWarning: This figure includes Axes that are not compatible with tight_layout, so results might be incorrect.\n",
      "  plt.tight_layout()  # Adjust layout to prevent overlap\n"
     ]
    },
    {
     "name": "stdout",
     "output_type": "stream",
     "text": [
      "Working on WhillansSubglacialLake\n",
      "working on WhillansSubglacialLake\n"
     ]
    },
    {
     "name": "stderr",
     "output_type": "stream",
     "text": [
      "/srv/conda/envs/notebook/lib/python3.11/site-packages/geopandas/io/file.py:383: FutureWarning: errors='ignore' is deprecated and will raise in a future version. Use to_datetime without passing `errors` and catch exceptions explicitly instead\n",
      "  as_dt = pd.to_datetime(df[k], errors=\"ignore\")\n",
      "/srv/conda/envs/notebook/lib/python3.11/site-packages/geopandas/geoseries.py:645: FutureWarning: the convert_dtype parameter is deprecated and will be removed in a future version.  Do ``ser.astype(object).apply()`` instead if you want ``convert_dtype=False``.\n",
      "  result = super().apply(func, convert_dtype=convert_dtype, args=args, **kwargs)\n",
      "/tmp/ipykernel_106/4279396429.py:310: UserWarning: This figure includes Axes that are not compatible with tight_layout, so results might be incorrect.\n",
      "  plt.tight_layout()  # Adjust layout to prevent overlap\n"
     ]
    },
    {
     "name": "stdout",
     "output_type": "stream",
     "text": [
      "Working on Whillans_6\n",
      "working on Whillans_6\n"
     ]
    },
    {
     "name": "stderr",
     "output_type": "stream",
     "text": [
      "/srv/conda/envs/notebook/lib/python3.11/site-packages/geopandas/io/file.py:383: FutureWarning: errors='ignore' is deprecated and will raise in a future version. Use to_datetime without passing `errors` and catch exceptions explicitly instead\n",
      "  as_dt = pd.to_datetime(df[k], errors=\"ignore\")\n",
      "/srv/conda/envs/notebook/lib/python3.11/site-packages/geopandas/geoseries.py:645: FutureWarning: the convert_dtype parameter is deprecated and will be removed in a future version.  Do ``ser.astype(object).apply()`` instead if you want ``convert_dtype=False``.\n",
      "  result = super().apply(func, convert_dtype=convert_dtype, args=args, **kwargs)\n",
      "/tmp/ipykernel_106/4279396429.py:310: UserWarning: This figure includes Axes that are not compatible with tight_layout, so results might be incorrect.\n",
      "  plt.tight_layout()  # Adjust layout to prevent overlap\n"
     ]
    },
    {
     "name": "stdout",
     "output_type": "stream",
     "text": [
      "Working on Whillans_7\n",
      "working on Whillans_7\n"
     ]
    },
    {
     "name": "stderr",
     "output_type": "stream",
     "text": [
      "/srv/conda/envs/notebook/lib/python3.11/site-packages/geopandas/io/file.py:383: FutureWarning: errors='ignore' is deprecated and will raise in a future version. Use to_datetime without passing `errors` and catch exceptions explicitly instead\n",
      "  as_dt = pd.to_datetime(df[k], errors=\"ignore\")\n",
      "/srv/conda/envs/notebook/lib/python3.11/site-packages/geopandas/geoseries.py:645: FutureWarning: the convert_dtype parameter is deprecated and will be removed in a future version.  Do ``ser.astype(object).apply()`` instead if you want ``convert_dtype=False``.\n",
      "  result = super().apply(func, convert_dtype=convert_dtype, args=args, **kwargs)\n",
      "/tmp/ipykernel_106/4279396429.py:310: UserWarning: This figure includes Axes that are not compatible with tight_layout, so results might be incorrect.\n",
      "  plt.tight_layout()  # Adjust layout to prevent overlap\n"
     ]
    },
    {
     "name": "stdout",
     "output_type": "stream",
     "text": [
      "Working on Whillans_8\n",
      "working on Whillans_8\n"
     ]
    },
    {
     "name": "stderr",
     "output_type": "stream",
     "text": [
      "/srv/conda/envs/notebook/lib/python3.11/site-packages/geopandas/io/file.py:383: FutureWarning: errors='ignore' is deprecated and will raise in a future version. Use to_datetime without passing `errors` and catch exceptions explicitly instead\n",
      "  as_dt = pd.to_datetime(df[k], errors=\"ignore\")\n",
      "/srv/conda/envs/notebook/lib/python3.11/site-packages/geopandas/geoseries.py:645: FutureWarning: the convert_dtype parameter is deprecated and will be removed in a future version.  Do ``ser.astype(object).apply()`` instead if you want ``convert_dtype=False``.\n",
      "  result = super().apply(func, convert_dtype=convert_dtype, args=args, **kwargs)\n",
      "/tmp/ipykernel_106/4279396429.py:310: UserWarning: This figure includes Axes that are not compatible with tight_layout, so results might be incorrect.\n",
      "  plt.tight_layout()  # Adjust layout to prevent overlap\n"
     ]
    },
    {
     "name": "stdout",
     "output_type": "stream",
     "text": [
      "Working on Wilkes_1\n",
      "working on Wilkes_1\n",
      "File for Wilkes_1 not found. Skipping...\n",
      "Working on Wilkes_2\n",
      "working on Wilkes_2\n"
     ]
    },
    {
     "name": "stderr",
     "output_type": "stream",
     "text": [
      "/srv/conda/envs/notebook/lib/python3.11/site-packages/geopandas/io/file.py:383: FutureWarning: errors='ignore' is deprecated and will raise in a future version. Use to_datetime without passing `errors` and catch exceptions explicitly instead\n",
      "  as_dt = pd.to_datetime(df[k], errors=\"ignore\")\n",
      "/srv/conda/envs/notebook/lib/python3.11/site-packages/geopandas/geoseries.py:645: FutureWarning: the convert_dtype parameter is deprecated and will be removed in a future version.  Do ``ser.astype(object).apply()`` instead if you want ``convert_dtype=False``.\n",
      "  result = super().apply(func, convert_dtype=convert_dtype, args=args, **kwargs)\n",
      "/tmp/ipykernel_106/4279396429.py:310: UserWarning: This figure includes Axes that are not compatible with tight_layout, so results might be incorrect.\n",
      "  plt.tight_layout()  # Adjust layout to prevent overlap\n"
     ]
    }
   ],
   "source": [
    "# Run plotting and geometric calculation functions on finalized evolving outlines\n",
    "for idx in range(len(static_lakes_gdf)):\n",
    "\n",
    "    # Isolate lake from static_lakes_gdf as geodataframe using slicing\n",
    "    lake_gdf = static_lakes_gdf.loc[idx:idx]\n",
    "    print('Working on', lake_gdf['name'].iloc[0])\n",
    "\n",
    "    # Assign dataset; during CS2 era, assign based on SARIn coverage time period\n",
    "    if static_lakes_gdf['CS2_SARIn_time_period'][idx] == 'nan':\n",
    "        dataset1='none'\n",
    "    elif static_lakes_gdf['CS2_SARIn_time_period'][idx] == '2013.75-2018.75':\n",
    "        dataset1=CS2_Smith2017.sel(time=slice(np.datetime64('2013-10-01T22:30:00.000000000'), None))\n",
    "    elif static_lakes_gdf['CS2_SARIn_time_period'][idx] == '2010.5-2018.75':\n",
    "        dataset1=CS2_Smith2017\n",
    "    dataset2=ATL15_dh\n",
    "    \n",
    "    # # Load evolving outlines geodataframe from store geojson\n",
    "    # file_path = 'output/lake_outlines/evolving_outlines/{}.geojson'.format(lake_gdf['name'])\n",
    "    # if os.path.exists(file_path):  # Check if the file exists\n",
    "    #     # Read the evovling outlines into geodataframe\n",
    "    #     outlines_gdf = gpd.read_file(file_path)\n",
    "    # else:\n",
    "    #     continue\n",
    "    \n",
    "    # # Plot the outlines in aggregate\n",
    "    # plot_evolving_outlines(lake_gdf=lake_gdf)\n",
    "\n",
    "    # # Calc darea, dh, and dvol for evolving and static outlines and compare using\n",
    "    # # bias (evolving-static) for each lake\n",
    "    # compare_evolving_and_static_outlines(lake_gdf=lake_gdf, dataset1=dataset1, dataset2=dataset2)\n",
    "\n",
    "    # Plot static and evolving outlines darea, dh, dvol comparison\n",
    "    plot_evolving_and_static_comparison(lake_gdf=lake_gdf)\n",
    "\n",
    "    # # Clear the output of each index\n",
    "    # clear_output(wait=True)"
   ]
  },
  {
   "cell_type": "code",
   "execution_count": null,
   "id": "09d15fac-247c-4f78-a3b4-a0ab38517826",
   "metadata": {},
   "outputs": [],
   "source": []
  },
  {
   "cell_type": "code",
   "execution_count": 83,
   "id": "12c12712-2524-468c-9dc6-70c5e0b59427",
   "metadata": {},
   "outputs": [
    {
     "data": {
      "text/plain": [
       "0    POLYGON ((-792264.327 -691480.857, -791281.458...\n",
       "Name: geometry, dtype: geometry"
      ]
     },
     "execution_count": 83,
     "metadata": {},
     "output_type": "execute_result"
    }
   ],
   "source": [
    "idx=0\n",
    "lake_gdf = static_lakes_gdf.loc[idx:idx]\n",
    "lake_gdf['geometry']"
   ]
  },
  {
   "cell_type": "code",
   "execution_count": null,
   "id": "2e70a978-f430-4431-966f-0c06a8da92fd",
   "metadata": {},
   "outputs": [],
   "source": [
    "# Manually redo outlines for select lake and plot the outlines\n",
    "# When the algorithmically select level produced outlines with too much noise, we select the next highest level\n",
    "\n",
    "# List all files in your target directory\n",
    "folder_path = '/home/jovyan/1_outlines_candidates/Sauthoff-2024-J.Glaciol./output/lake_outlines/evolving_outlines'\n",
    "\n",
    "# List all problematic lakes\n",
    "names = {'Byrd_2', 'Byrd_s1', 'Byrd_s13', 'David_1', 'EngelhardtSubglacialLake', 'Foundation_2',\n",
    "    'Foundation_N2', 'Foundation_N3', 'JG_D1_b', 'JG_F1', 'Kamb_5', 'Kamb_7', 'Kamb_9', 'Kamb_10', \n",
    "    'KT1', 'KT2', 'Lake10', 'Lake12', 'Lambert_1', 'LennoxKing_1', 'LowerMercerSubglacialLake', \n",
    "    'LowerConwaySubglacialLake', 'Mac1', 'Mac2', 'Mac3', 'Mac4', 'Mac6', 'MercerSubglacialLake', \n",
    "    'Nimrod_1', 'Raymond_1', 'Rec1', 'Rec2', 'Rec3', 'Rec6', 'Rutford_1', 'Site_B', 'Site_C',\n",
    "    'Slessor_1', 'Slessor_4', 'Slessor_5', 'Thw_124', 'Thw_170', 'TL108', 'TL115', 'TL122', \n",
    "    'Totten_1', 'Totten_2', 'UpperSubglacialLakeConway', 'WT'}\n",
    "\n",
    "# Filter the GeoDataFrame to only include rows where the 'name' is in unique_folders_path1\n",
    "static_lakes_gdf_filtered = static_lakes_gdf[static_lakes_gdf['name'].isin(names)]\n",
    "\n",
    "# Finalize evolving outlines\n",
    "finalize_evolving_outlines(static_lakes_gdf_filtered)"
   ]
  },
  {
   "cell_type": "code",
   "execution_count": 93,
   "id": "2b801477-c029-4543-96c9-b77cb5f0d9bc",
   "metadata": {
    "scrolled": true
   },
   "outputs": [
    {
     "name": "stdout",
     "output_type": "stream",
     "text": [
      "working on Bindschadler_1\n",
      "File for Bindschadler_1 not found. Skipping...\n",
      "working on Bindschadler_2\n"
     ]
    },
    {
     "name": "stderr",
     "output_type": "stream",
     "text": [
      "/srv/conda/envs/notebook/lib/python3.11/site-packages/geopandas/io/file.py:383: FutureWarning: errors='ignore' is deprecated and will raise in a future version. Use to_datetime without passing `errors` and catch exceptions explicitly instead\n",
      "  as_dt = pd.to_datetime(df[k], errors=\"ignore\")\n",
      "/srv/conda/envs/notebook/lib/python3.11/site-packages/geopandas/geoseries.py:645: FutureWarning: the convert_dtype parameter is deprecated and will be removed in a future version.  Do ``ser.astype(object).apply()`` instead if you want ``convert_dtype=False``.\n",
      "  result = super().apply(func, convert_dtype=convert_dtype, args=args, **kwargs)\n",
      "/tmp/ipykernel_106/513827320.py:310: UserWarning: This figure includes Axes that are not compatible with tight_layout, so results might be incorrect.\n",
      "  plt.tight_layout()  # Adjust layout to prevent overlap\n"
     ]
    },
    {
     "name": "stdout",
     "output_type": "stream",
     "text": [
      "working on Bindschadler_3\n"
     ]
    },
    {
     "name": "stderr",
     "output_type": "stream",
     "text": [
      "/srv/conda/envs/notebook/lib/python3.11/site-packages/geopandas/io/file.py:383: FutureWarning: errors='ignore' is deprecated and will raise in a future version. Use to_datetime without passing `errors` and catch exceptions explicitly instead\n",
      "  as_dt = pd.to_datetime(df[k], errors=\"ignore\")\n",
      "/srv/conda/envs/notebook/lib/python3.11/site-packages/geopandas/geoseries.py:645: FutureWarning: the convert_dtype parameter is deprecated and will be removed in a future version.  Do ``ser.astype(object).apply()`` instead if you want ``convert_dtype=False``.\n",
      "  result = super().apply(func, convert_dtype=convert_dtype, args=args, **kwargs)\n",
      "/tmp/ipykernel_106/513827320.py:310: UserWarning: This figure includes Axes that are not compatible with tight_layout, so results might be incorrect.\n",
      "  plt.tight_layout()  # Adjust layout to prevent overlap\n"
     ]
    },
    {
     "name": "stdout",
     "output_type": "stream",
     "text": [
      "working on Bindschadler_4\n"
     ]
    },
    {
     "name": "stderr",
     "output_type": "stream",
     "text": [
      "/srv/conda/envs/notebook/lib/python3.11/site-packages/geopandas/io/file.py:383: FutureWarning: errors='ignore' is deprecated and will raise in a future version. Use to_datetime without passing `errors` and catch exceptions explicitly instead\n",
      "  as_dt = pd.to_datetime(df[k], errors=\"ignore\")\n",
      "/srv/conda/envs/notebook/lib/python3.11/site-packages/geopandas/geoseries.py:645: FutureWarning: the convert_dtype parameter is deprecated and will be removed in a future version.  Do ``ser.astype(object).apply()`` instead if you want ``convert_dtype=False``.\n",
      "  result = super().apply(func, convert_dtype=convert_dtype, args=args, **kwargs)\n",
      "/tmp/ipykernel_106/513827320.py:310: UserWarning: This figure includes Axes that are not compatible with tight_layout, so results might be incorrect.\n",
      "  plt.tight_layout()  # Adjust layout to prevent overlap\n"
     ]
    },
    {
     "name": "stdout",
     "output_type": "stream",
     "text": [
      "working on Bindschadler_5\n"
     ]
    },
    {
     "name": "stderr",
     "output_type": "stream",
     "text": [
      "/srv/conda/envs/notebook/lib/python3.11/site-packages/geopandas/io/file.py:383: FutureWarning: errors='ignore' is deprecated and will raise in a future version. Use to_datetime without passing `errors` and catch exceptions explicitly instead\n",
      "  as_dt = pd.to_datetime(df[k], errors=\"ignore\")\n",
      "/srv/conda/envs/notebook/lib/python3.11/site-packages/geopandas/geoseries.py:645: FutureWarning: the convert_dtype parameter is deprecated and will be removed in a future version.  Do ``ser.astype(object).apply()`` instead if you want ``convert_dtype=False``.\n",
      "  result = super().apply(func, convert_dtype=convert_dtype, args=args, **kwargs)\n",
      "/tmp/ipykernel_106/513827320.py:310: UserWarning: This figure includes Axes that are not compatible with tight_layout, so results might be incorrect.\n",
      "  plt.tight_layout()  # Adjust layout to prevent overlap\n"
     ]
    },
    {
     "name": "stdout",
     "output_type": "stream",
     "text": [
      "working on Bindschadler_6\n"
     ]
    },
    {
     "name": "stderr",
     "output_type": "stream",
     "text": [
      "/srv/conda/envs/notebook/lib/python3.11/site-packages/geopandas/io/file.py:383: FutureWarning: errors='ignore' is deprecated and will raise in a future version. Use to_datetime without passing `errors` and catch exceptions explicitly instead\n",
      "  as_dt = pd.to_datetime(df[k], errors=\"ignore\")\n",
      "/srv/conda/envs/notebook/lib/python3.11/site-packages/geopandas/geoseries.py:645: FutureWarning: the convert_dtype parameter is deprecated and will be removed in a future version.  Do ``ser.astype(object).apply()`` instead if you want ``convert_dtype=False``.\n",
      "  result = super().apply(func, convert_dtype=convert_dtype, args=args, **kwargs)\n",
      "/tmp/ipykernel_106/513827320.py:310: UserWarning: This figure includes Axes that are not compatible with tight_layout, so results might be incorrect.\n",
      "  plt.tight_layout()  # Adjust layout to prevent overlap\n"
     ]
    },
    {
     "name": "stdout",
     "output_type": "stream",
     "text": [
      "working on Byrd_1\n"
     ]
    },
    {
     "name": "stderr",
     "output_type": "stream",
     "text": [
      "/srv/conda/envs/notebook/lib/python3.11/site-packages/geopandas/io/file.py:383: FutureWarning: errors='ignore' is deprecated and will raise in a future version. Use to_datetime without passing `errors` and catch exceptions explicitly instead\n",
      "  as_dt = pd.to_datetime(df[k], errors=\"ignore\")\n",
      "/srv/conda/envs/notebook/lib/python3.11/site-packages/geopandas/geoseries.py:645: FutureWarning: the convert_dtype parameter is deprecated and will be removed in a future version.  Do ``ser.astype(object).apply()`` instead if you want ``convert_dtype=False``.\n",
      "  result = super().apply(func, convert_dtype=convert_dtype, args=args, **kwargs)\n",
      "/tmp/ipykernel_106/513827320.py:310: UserWarning: This figure includes Axes that are not compatible with tight_layout, so results might be incorrect.\n",
      "  plt.tight_layout()  # Adjust layout to prevent overlap\n"
     ]
    },
    {
     "name": "stdout",
     "output_type": "stream",
     "text": [
      "working on Byrd_2\n"
     ]
    },
    {
     "name": "stderr",
     "output_type": "stream",
     "text": [
      "/srv/conda/envs/notebook/lib/python3.11/site-packages/geopandas/io/file.py:383: FutureWarning: errors='ignore' is deprecated and will raise in a future version. Use to_datetime without passing `errors` and catch exceptions explicitly instead\n",
      "  as_dt = pd.to_datetime(df[k], errors=\"ignore\")\n",
      "/srv/conda/envs/notebook/lib/python3.11/site-packages/geopandas/geoseries.py:645: FutureWarning: the convert_dtype parameter is deprecated and will be removed in a future version.  Do ``ser.astype(object).apply()`` instead if you want ``convert_dtype=False``.\n",
      "  result = super().apply(func, convert_dtype=convert_dtype, args=args, **kwargs)\n",
      "/tmp/ipykernel_106/513827320.py:310: UserWarning: This figure includes Axes that are not compatible with tight_layout, so results might be incorrect.\n",
      "  plt.tight_layout()  # Adjust layout to prevent overlap\n"
     ]
    },
    {
     "name": "stdout",
     "output_type": "stream",
     "text": [
      "working on Byrd_s1\n"
     ]
    },
    {
     "name": "stderr",
     "output_type": "stream",
     "text": [
      "/srv/conda/envs/notebook/lib/python3.11/site-packages/geopandas/io/file.py:383: FutureWarning: errors='ignore' is deprecated and will raise in a future version. Use to_datetime without passing `errors` and catch exceptions explicitly instead\n",
      "  as_dt = pd.to_datetime(df[k], errors=\"ignore\")\n",
      "/srv/conda/envs/notebook/lib/python3.11/site-packages/geopandas/geoseries.py:645: FutureWarning: the convert_dtype parameter is deprecated and will be removed in a future version.  Do ``ser.astype(object).apply()`` instead if you want ``convert_dtype=False``.\n",
      "  result = super().apply(func, convert_dtype=convert_dtype, args=args, **kwargs)\n",
      "/tmp/ipykernel_106/513827320.py:310: UserWarning: This figure includes Axes that are not compatible with tight_layout, so results might be incorrect.\n",
      "  plt.tight_layout()  # Adjust layout to prevent overlap\n"
     ]
    },
    {
     "name": "stdout",
     "output_type": "stream",
     "text": [
      "working on Byrd_s10\n"
     ]
    },
    {
     "name": "stderr",
     "output_type": "stream",
     "text": [
      "/srv/conda/envs/notebook/lib/python3.11/site-packages/geopandas/io/file.py:383: FutureWarning: errors='ignore' is deprecated and will raise in a future version. Use to_datetime without passing `errors` and catch exceptions explicitly instead\n",
      "  as_dt = pd.to_datetime(df[k], errors=\"ignore\")\n",
      "/srv/conda/envs/notebook/lib/python3.11/site-packages/geopandas/geoseries.py:645: FutureWarning: the convert_dtype parameter is deprecated and will be removed in a future version.  Do ``ser.astype(object).apply()`` instead if you want ``convert_dtype=False``.\n",
      "  result = super().apply(func, convert_dtype=convert_dtype, args=args, **kwargs)\n",
      "/tmp/ipykernel_106/513827320.py:310: UserWarning: This figure includes Axes that are not compatible with tight_layout, so results might be incorrect.\n",
      "  plt.tight_layout()  # Adjust layout to prevent overlap\n"
     ]
    },
    {
     "name": "stdout",
     "output_type": "stream",
     "text": [
      "working on Byrd_s11\n"
     ]
    },
    {
     "name": "stderr",
     "output_type": "stream",
     "text": [
      "/srv/conda/envs/notebook/lib/python3.11/site-packages/geopandas/io/file.py:383: FutureWarning: errors='ignore' is deprecated and will raise in a future version. Use to_datetime without passing `errors` and catch exceptions explicitly instead\n",
      "  as_dt = pd.to_datetime(df[k], errors=\"ignore\")\n",
      "/srv/conda/envs/notebook/lib/python3.11/site-packages/geopandas/geoseries.py:645: FutureWarning: the convert_dtype parameter is deprecated and will be removed in a future version.  Do ``ser.astype(object).apply()`` instead if you want ``convert_dtype=False``.\n",
      "  result = super().apply(func, convert_dtype=convert_dtype, args=args, **kwargs)\n",
      "/tmp/ipykernel_106/513827320.py:310: UserWarning: This figure includes Axes that are not compatible with tight_layout, so results might be incorrect.\n",
      "  plt.tight_layout()  # Adjust layout to prevent overlap\n"
     ]
    },
    {
     "name": "stdout",
     "output_type": "stream",
     "text": [
      "working on Byrd_s12\n"
     ]
    },
    {
     "name": "stderr",
     "output_type": "stream",
     "text": [
      "/srv/conda/envs/notebook/lib/python3.11/site-packages/geopandas/io/file.py:383: FutureWarning: errors='ignore' is deprecated and will raise in a future version. Use to_datetime without passing `errors` and catch exceptions explicitly instead\n",
      "  as_dt = pd.to_datetime(df[k], errors=\"ignore\")\n",
      "/srv/conda/envs/notebook/lib/python3.11/site-packages/geopandas/geoseries.py:645: FutureWarning: the convert_dtype parameter is deprecated and will be removed in a future version.  Do ``ser.astype(object).apply()`` instead if you want ``convert_dtype=False``.\n",
      "  result = super().apply(func, convert_dtype=convert_dtype, args=args, **kwargs)\n",
      "/tmp/ipykernel_106/513827320.py:310: UserWarning: This figure includes Axes that are not compatible with tight_layout, so results might be incorrect.\n",
      "  plt.tight_layout()  # Adjust layout to prevent overlap\n"
     ]
    },
    {
     "name": "stdout",
     "output_type": "stream",
     "text": [
      "working on Byrd_s13\n"
     ]
    },
    {
     "name": "stderr",
     "output_type": "stream",
     "text": [
      "/srv/conda/envs/notebook/lib/python3.11/site-packages/geopandas/io/file.py:383: FutureWarning: errors='ignore' is deprecated and will raise in a future version. Use to_datetime without passing `errors` and catch exceptions explicitly instead\n",
      "  as_dt = pd.to_datetime(df[k], errors=\"ignore\")\n",
      "/srv/conda/envs/notebook/lib/python3.11/site-packages/geopandas/geoseries.py:645: FutureWarning: the convert_dtype parameter is deprecated and will be removed in a future version.  Do ``ser.astype(object).apply()`` instead if you want ``convert_dtype=False``.\n",
      "  result = super().apply(func, convert_dtype=convert_dtype, args=args, **kwargs)\n",
      "/tmp/ipykernel_106/513827320.py:310: UserWarning: This figure includes Axes that are not compatible with tight_layout, so results might be incorrect.\n",
      "  plt.tight_layout()  # Adjust layout to prevent overlap\n"
     ]
    },
    {
     "name": "stdout",
     "output_type": "stream",
     "text": [
      "working on Byrd_s14\n"
     ]
    },
    {
     "name": "stderr",
     "output_type": "stream",
     "text": [
      "/srv/conda/envs/notebook/lib/python3.11/site-packages/geopandas/io/file.py:383: FutureWarning: errors='ignore' is deprecated and will raise in a future version. Use to_datetime without passing `errors` and catch exceptions explicitly instead\n",
      "  as_dt = pd.to_datetime(df[k], errors=\"ignore\")\n",
      "/srv/conda/envs/notebook/lib/python3.11/site-packages/geopandas/geoseries.py:645: FutureWarning: the convert_dtype parameter is deprecated and will be removed in a future version.  Do ``ser.astype(object).apply()`` instead if you want ``convert_dtype=False``.\n",
      "  result = super().apply(func, convert_dtype=convert_dtype, args=args, **kwargs)\n",
      "/tmp/ipykernel_106/513827320.py:310: UserWarning: This figure includes Axes that are not compatible with tight_layout, so results might be incorrect.\n",
      "  plt.tight_layout()  # Adjust layout to prevent overlap\n"
     ]
    },
    {
     "name": "stdout",
     "output_type": "stream",
     "text": [
      "working on Byrd_s15\n"
     ]
    },
    {
     "name": "stderr",
     "output_type": "stream",
     "text": [
      "/srv/conda/envs/notebook/lib/python3.11/site-packages/geopandas/io/file.py:383: FutureWarning: errors='ignore' is deprecated and will raise in a future version. Use to_datetime without passing `errors` and catch exceptions explicitly instead\n",
      "  as_dt = pd.to_datetime(df[k], errors=\"ignore\")\n",
      "/srv/conda/envs/notebook/lib/python3.11/site-packages/geopandas/geoseries.py:645: FutureWarning: the convert_dtype parameter is deprecated and will be removed in a future version.  Do ``ser.astype(object).apply()`` instead if you want ``convert_dtype=False``.\n",
      "  result = super().apply(func, convert_dtype=convert_dtype, args=args, **kwargs)\n",
      "/tmp/ipykernel_106/513827320.py:310: UserWarning: This figure includes Axes that are not compatible with tight_layout, so results might be incorrect.\n",
      "  plt.tight_layout()  # Adjust layout to prevent overlap\n"
     ]
    },
    {
     "name": "stdout",
     "output_type": "stream",
     "text": [
      "working on Byrd_s2\n"
     ]
    },
    {
     "name": "stderr",
     "output_type": "stream",
     "text": [
      "/srv/conda/envs/notebook/lib/python3.11/site-packages/geopandas/io/file.py:383: FutureWarning: errors='ignore' is deprecated and will raise in a future version. Use to_datetime without passing `errors` and catch exceptions explicitly instead\n",
      "  as_dt = pd.to_datetime(df[k], errors=\"ignore\")\n",
      "/srv/conda/envs/notebook/lib/python3.11/site-packages/geopandas/geoseries.py:645: FutureWarning: the convert_dtype parameter is deprecated and will be removed in a future version.  Do ``ser.astype(object).apply()`` instead if you want ``convert_dtype=False``.\n",
      "  result = super().apply(func, convert_dtype=convert_dtype, args=args, **kwargs)\n",
      "/tmp/ipykernel_106/513827320.py:310: UserWarning: This figure includes Axes that are not compatible with tight_layout, so results might be incorrect.\n",
      "  plt.tight_layout()  # Adjust layout to prevent overlap\n"
     ]
    },
    {
     "name": "stdout",
     "output_type": "stream",
     "text": [
      "working on Byrd_s3\n",
      "File for Byrd_s3 not found. Skipping...\n",
      "working on Byrd_s4\n"
     ]
    },
    {
     "name": "stderr",
     "output_type": "stream",
     "text": [
      "/srv/conda/envs/notebook/lib/python3.11/site-packages/geopandas/io/file.py:383: FutureWarning: errors='ignore' is deprecated and will raise in a future version. Use to_datetime without passing `errors` and catch exceptions explicitly instead\n",
      "  as_dt = pd.to_datetime(df[k], errors=\"ignore\")\n",
      "/srv/conda/envs/notebook/lib/python3.11/site-packages/geopandas/geoseries.py:645: FutureWarning: the convert_dtype parameter is deprecated and will be removed in a future version.  Do ``ser.astype(object).apply()`` instead if you want ``convert_dtype=False``.\n",
      "  result = super().apply(func, convert_dtype=convert_dtype, args=args, **kwargs)\n",
      "/tmp/ipykernel_106/513827320.py:310: UserWarning: This figure includes Axes that are not compatible with tight_layout, so results might be incorrect.\n",
      "  plt.tight_layout()  # Adjust layout to prevent overlap\n"
     ]
    },
    {
     "name": "stdout",
     "output_type": "stream",
     "text": [
      "working on Byrd_s5\n"
     ]
    },
    {
     "name": "stderr",
     "output_type": "stream",
     "text": [
      "/srv/conda/envs/notebook/lib/python3.11/site-packages/geopandas/io/file.py:383: FutureWarning: errors='ignore' is deprecated and will raise in a future version. Use to_datetime without passing `errors` and catch exceptions explicitly instead\n",
      "  as_dt = pd.to_datetime(df[k], errors=\"ignore\")\n",
      "/srv/conda/envs/notebook/lib/python3.11/site-packages/geopandas/geoseries.py:645: FutureWarning: the convert_dtype parameter is deprecated and will be removed in a future version.  Do ``ser.astype(object).apply()`` instead if you want ``convert_dtype=False``.\n",
      "  result = super().apply(func, convert_dtype=convert_dtype, args=args, **kwargs)\n",
      "/tmp/ipykernel_106/513827320.py:310: UserWarning: This figure includes Axes that are not compatible with tight_layout, so results might be incorrect.\n",
      "  plt.tight_layout()  # Adjust layout to prevent overlap\n"
     ]
    },
    {
     "name": "stdout",
     "output_type": "stream",
     "text": [
      "working on Byrd_s6\n"
     ]
    },
    {
     "name": "stderr",
     "output_type": "stream",
     "text": [
      "/srv/conda/envs/notebook/lib/python3.11/site-packages/geopandas/io/file.py:383: FutureWarning: errors='ignore' is deprecated and will raise in a future version. Use to_datetime without passing `errors` and catch exceptions explicitly instead\n",
      "  as_dt = pd.to_datetime(df[k], errors=\"ignore\")\n",
      "/srv/conda/envs/notebook/lib/python3.11/site-packages/geopandas/geoseries.py:645: FutureWarning: the convert_dtype parameter is deprecated and will be removed in a future version.  Do ``ser.astype(object).apply()`` instead if you want ``convert_dtype=False``.\n",
      "  result = super().apply(func, convert_dtype=convert_dtype, args=args, **kwargs)\n",
      "/tmp/ipykernel_106/513827320.py:310: UserWarning: This figure includes Axes that are not compatible with tight_layout, so results might be incorrect.\n",
      "  plt.tight_layout()  # Adjust layout to prevent overlap\n"
     ]
    },
    {
     "name": "stdout",
     "output_type": "stream",
     "text": [
      "working on Byrd_s7\n"
     ]
    },
    {
     "name": "stderr",
     "output_type": "stream",
     "text": [
      "/srv/conda/envs/notebook/lib/python3.11/site-packages/geopandas/io/file.py:383: FutureWarning: errors='ignore' is deprecated and will raise in a future version. Use to_datetime without passing `errors` and catch exceptions explicitly instead\n",
      "  as_dt = pd.to_datetime(df[k], errors=\"ignore\")\n",
      "/srv/conda/envs/notebook/lib/python3.11/site-packages/geopandas/geoseries.py:645: FutureWarning: the convert_dtype parameter is deprecated and will be removed in a future version.  Do ``ser.astype(object).apply()`` instead if you want ``convert_dtype=False``.\n",
      "  result = super().apply(func, convert_dtype=convert_dtype, args=args, **kwargs)\n",
      "/tmp/ipykernel_106/513827320.py:310: UserWarning: This figure includes Axes that are not compatible with tight_layout, so results might be incorrect.\n",
      "  plt.tight_layout()  # Adjust layout to prevent overlap\n"
     ]
    },
    {
     "name": "stdout",
     "output_type": "stream",
     "text": [
      "working on Byrd_s8\n"
     ]
    },
    {
     "name": "stderr",
     "output_type": "stream",
     "text": [
      "/srv/conda/envs/notebook/lib/python3.11/site-packages/geopandas/io/file.py:383: FutureWarning: errors='ignore' is deprecated and will raise in a future version. Use to_datetime without passing `errors` and catch exceptions explicitly instead\n",
      "  as_dt = pd.to_datetime(df[k], errors=\"ignore\")\n",
      "/srv/conda/envs/notebook/lib/python3.11/site-packages/geopandas/geoseries.py:645: FutureWarning: the convert_dtype parameter is deprecated and will be removed in a future version.  Do ``ser.astype(object).apply()`` instead if you want ``convert_dtype=False``.\n",
      "  result = super().apply(func, convert_dtype=convert_dtype, args=args, **kwargs)\n",
      "/tmp/ipykernel_106/513827320.py:310: UserWarning: This figure includes Axes that are not compatible with tight_layout, so results might be incorrect.\n",
      "  plt.tight_layout()  # Adjust layout to prevent overlap\n"
     ]
    },
    {
     "name": "stdout",
     "output_type": "stream",
     "text": [
      "working on Byrd_s9\n"
     ]
    },
    {
     "name": "stderr",
     "output_type": "stream",
     "text": [
      "/srv/conda/envs/notebook/lib/python3.11/site-packages/geopandas/io/file.py:383: FutureWarning: errors='ignore' is deprecated and will raise in a future version. Use to_datetime without passing `errors` and catch exceptions explicitly instead\n",
      "  as_dt = pd.to_datetime(df[k], errors=\"ignore\")\n",
      "/srv/conda/envs/notebook/lib/python3.11/site-packages/geopandas/geoseries.py:645: FutureWarning: the convert_dtype parameter is deprecated and will be removed in a future version.  Do ``ser.astype(object).apply()`` instead if you want ``convert_dtype=False``.\n",
      "  result = super().apply(func, convert_dtype=convert_dtype, args=args, **kwargs)\n",
      "/tmp/ipykernel_106/513827320.py:310: UserWarning: This figure includes Axes that are not compatible with tight_layout, so results might be incorrect.\n",
      "  plt.tight_layout()  # Adjust layout to prevent overlap\n"
     ]
    },
    {
     "name": "stdout",
     "output_type": "stream",
     "text": [
      "working on ConwaySubglacialLake\n"
     ]
    },
    {
     "name": "stderr",
     "output_type": "stream",
     "text": [
      "/srv/conda/envs/notebook/lib/python3.11/site-packages/geopandas/io/file.py:383: FutureWarning: errors='ignore' is deprecated and will raise in a future version. Use to_datetime without passing `errors` and catch exceptions explicitly instead\n",
      "  as_dt = pd.to_datetime(df[k], errors=\"ignore\")\n",
      "/srv/conda/envs/notebook/lib/python3.11/site-packages/geopandas/geoseries.py:645: FutureWarning: the convert_dtype parameter is deprecated and will be removed in a future version.  Do ``ser.astype(object).apply()`` instead if you want ``convert_dtype=False``.\n",
      "  result = super().apply(func, convert_dtype=convert_dtype, args=args, **kwargs)\n",
      "/tmp/ipykernel_106/513827320.py:310: UserWarning: This figure includes Axes that are not compatible with tight_layout, so results might be incorrect.\n",
      "  plt.tight_layout()  # Adjust layout to prevent overlap\n"
     ]
    },
    {
     "name": "stdout",
     "output_type": "stream",
     "text": [
      "working on Cook_E1\n"
     ]
    },
    {
     "name": "stderr",
     "output_type": "stream",
     "text": [
      "/srv/conda/envs/notebook/lib/python3.11/site-packages/geopandas/io/file.py:383: FutureWarning: errors='ignore' is deprecated and will raise in a future version. Use to_datetime without passing `errors` and catch exceptions explicitly instead\n",
      "  as_dt = pd.to_datetime(df[k], errors=\"ignore\")\n",
      "/srv/conda/envs/notebook/lib/python3.11/site-packages/geopandas/geoseries.py:645: FutureWarning: the convert_dtype parameter is deprecated and will be removed in a future version.  Do ``ser.astype(object).apply()`` instead if you want ``convert_dtype=False``.\n",
      "  result = super().apply(func, convert_dtype=convert_dtype, args=args, **kwargs)\n",
      "/tmp/ipykernel_106/513827320.py:310: UserWarning: This figure includes Axes that are not compatible with tight_layout, so results might be incorrect.\n",
      "  plt.tight_layout()  # Adjust layout to prevent overlap\n"
     ]
    },
    {
     "name": "stdout",
     "output_type": "stream",
     "text": [
      "working on Cook_E2\n"
     ]
    },
    {
     "name": "stderr",
     "output_type": "stream",
     "text": [
      "/srv/conda/envs/notebook/lib/python3.11/site-packages/geopandas/io/file.py:383: FutureWarning: errors='ignore' is deprecated and will raise in a future version. Use to_datetime without passing `errors` and catch exceptions explicitly instead\n",
      "  as_dt = pd.to_datetime(df[k], errors=\"ignore\")\n",
      "/srv/conda/envs/notebook/lib/python3.11/site-packages/geopandas/geoseries.py:645: FutureWarning: the convert_dtype parameter is deprecated and will be removed in a future version.  Do ``ser.astype(object).apply()`` instead if you want ``convert_dtype=False``.\n",
      "  result = super().apply(func, convert_dtype=convert_dtype, args=args, **kwargs)\n",
      "/tmp/ipykernel_106/513827320.py:310: UserWarning: This figure includes Axes that are not compatible with tight_layout, so results might be incorrect.\n",
      "  plt.tight_layout()  # Adjust layout to prevent overlap\n"
     ]
    },
    {
     "name": "stdout",
     "output_type": "stream",
     "text": [
      "working on David_1\n"
     ]
    },
    {
     "name": "stderr",
     "output_type": "stream",
     "text": [
      "/srv/conda/envs/notebook/lib/python3.11/site-packages/geopandas/io/file.py:383: FutureWarning: errors='ignore' is deprecated and will raise in a future version. Use to_datetime without passing `errors` and catch exceptions explicitly instead\n",
      "  as_dt = pd.to_datetime(df[k], errors=\"ignore\")\n",
      "/srv/conda/envs/notebook/lib/python3.11/site-packages/geopandas/geoseries.py:645: FutureWarning: the convert_dtype parameter is deprecated and will be removed in a future version.  Do ``ser.astype(object).apply()`` instead if you want ``convert_dtype=False``.\n",
      "  result = super().apply(func, convert_dtype=convert_dtype, args=args, **kwargs)\n",
      "/tmp/ipykernel_106/513827320.py:310: UserWarning: This figure includes Axes that are not compatible with tight_layout, so results might be incorrect.\n",
      "  plt.tight_layout()  # Adjust layout to prevent overlap\n"
     ]
    },
    {
     "name": "stdout",
     "output_type": "stream",
     "text": [
      "working on David_s1\n"
     ]
    },
    {
     "name": "stderr",
     "output_type": "stream",
     "text": [
      "/srv/conda/envs/notebook/lib/python3.11/site-packages/geopandas/io/file.py:383: FutureWarning: errors='ignore' is deprecated and will raise in a future version. Use to_datetime without passing `errors` and catch exceptions explicitly instead\n",
      "  as_dt = pd.to_datetime(df[k], errors=\"ignore\")\n",
      "/srv/conda/envs/notebook/lib/python3.11/site-packages/geopandas/geoseries.py:645: FutureWarning: the convert_dtype parameter is deprecated and will be removed in a future version.  Do ``ser.astype(object).apply()`` instead if you want ``convert_dtype=False``.\n",
      "  result = super().apply(func, convert_dtype=convert_dtype, args=args, **kwargs)\n",
      "/tmp/ipykernel_106/513827320.py:310: UserWarning: This figure includes Axes that are not compatible with tight_layout, so results might be incorrect.\n",
      "  plt.tight_layout()  # Adjust layout to prevent overlap\n"
     ]
    },
    {
     "name": "stdout",
     "output_type": "stream",
     "text": [
      "working on David_s2\n"
     ]
    },
    {
     "name": "stderr",
     "output_type": "stream",
     "text": [
      "/srv/conda/envs/notebook/lib/python3.11/site-packages/geopandas/io/file.py:383: FutureWarning: errors='ignore' is deprecated and will raise in a future version. Use to_datetime without passing `errors` and catch exceptions explicitly instead\n",
      "  as_dt = pd.to_datetime(df[k], errors=\"ignore\")\n",
      "/srv/conda/envs/notebook/lib/python3.11/site-packages/geopandas/geoseries.py:645: FutureWarning: the convert_dtype parameter is deprecated and will be removed in a future version.  Do ``ser.astype(object).apply()`` instead if you want ``convert_dtype=False``.\n",
      "  result = super().apply(func, convert_dtype=convert_dtype, args=args, **kwargs)\n",
      "/tmp/ipykernel_106/513827320.py:310: UserWarning: This figure includes Axes that are not compatible with tight_layout, so results might be incorrect.\n",
      "  plt.tight_layout()  # Adjust layout to prevent overlap\n"
     ]
    },
    {
     "name": "stdout",
     "output_type": "stream",
     "text": [
      "working on David_s3\n"
     ]
    },
    {
     "name": "stderr",
     "output_type": "stream",
     "text": [
      "/srv/conda/envs/notebook/lib/python3.11/site-packages/geopandas/io/file.py:383: FutureWarning: errors='ignore' is deprecated and will raise in a future version. Use to_datetime without passing `errors` and catch exceptions explicitly instead\n",
      "  as_dt = pd.to_datetime(df[k], errors=\"ignore\")\n",
      "/srv/conda/envs/notebook/lib/python3.11/site-packages/geopandas/geoseries.py:645: FutureWarning: the convert_dtype parameter is deprecated and will be removed in a future version.  Do ``ser.astype(object).apply()`` instead if you want ``convert_dtype=False``.\n",
      "  result = super().apply(func, convert_dtype=convert_dtype, args=args, **kwargs)\n",
      "/tmp/ipykernel_106/513827320.py:310: UserWarning: This figure includes Axes that are not compatible with tight_layout, so results might be incorrect.\n",
      "  plt.tight_layout()  # Adjust layout to prevent overlap\n"
     ]
    },
    {
     "name": "stdout",
     "output_type": "stream",
     "text": [
      "working on David_s4\n"
     ]
    },
    {
     "name": "stderr",
     "output_type": "stream",
     "text": [
      "/srv/conda/envs/notebook/lib/python3.11/site-packages/geopandas/io/file.py:383: FutureWarning: errors='ignore' is deprecated and will raise in a future version. Use to_datetime without passing `errors` and catch exceptions explicitly instead\n",
      "  as_dt = pd.to_datetime(df[k], errors=\"ignore\")\n",
      "/srv/conda/envs/notebook/lib/python3.11/site-packages/geopandas/geoseries.py:645: FutureWarning: the convert_dtype parameter is deprecated and will be removed in a future version.  Do ``ser.astype(object).apply()`` instead if you want ``convert_dtype=False``.\n",
      "  result = super().apply(func, convert_dtype=convert_dtype, args=args, **kwargs)\n",
      "/tmp/ipykernel_106/513827320.py:310: UserWarning: This figure includes Axes that are not compatible with tight_layout, so results might be incorrect.\n",
      "  plt.tight_layout()  # Adjust layout to prevent overlap\n"
     ]
    },
    {
     "name": "stdout",
     "output_type": "stream",
     "text": [
      "working on David_s5\n"
     ]
    },
    {
     "name": "stderr",
     "output_type": "stream",
     "text": [
      "/srv/conda/envs/notebook/lib/python3.11/site-packages/geopandas/io/file.py:383: FutureWarning: errors='ignore' is deprecated and will raise in a future version. Use to_datetime without passing `errors` and catch exceptions explicitly instead\n",
      "  as_dt = pd.to_datetime(df[k], errors=\"ignore\")\n",
      "/srv/conda/envs/notebook/lib/python3.11/site-packages/geopandas/geoseries.py:645: FutureWarning: the convert_dtype parameter is deprecated and will be removed in a future version.  Do ``ser.astype(object).apply()`` instead if you want ``convert_dtype=False``.\n",
      "  result = super().apply(func, convert_dtype=convert_dtype, args=args, **kwargs)\n",
      "/tmp/ipykernel_106/513827320.py:310: UserWarning: This figure includes Axes that are not compatible with tight_layout, so results might be incorrect.\n",
      "  plt.tight_layout()  # Adjust layout to prevent overlap\n"
     ]
    },
    {
     "name": "stdout",
     "output_type": "stream",
     "text": [
      "working on EAP_1\n"
     ]
    },
    {
     "name": "stderr",
     "output_type": "stream",
     "text": [
      "/srv/conda/envs/notebook/lib/python3.11/site-packages/geopandas/io/file.py:383: FutureWarning: errors='ignore' is deprecated and will raise in a future version. Use to_datetime without passing `errors` and catch exceptions explicitly instead\n",
      "  as_dt = pd.to_datetime(df[k], errors=\"ignore\")\n",
      "/srv/conda/envs/notebook/lib/python3.11/site-packages/geopandas/geoseries.py:645: FutureWarning: the convert_dtype parameter is deprecated and will be removed in a future version.  Do ``ser.astype(object).apply()`` instead if you want ``convert_dtype=False``.\n",
      "  result = super().apply(func, convert_dtype=convert_dtype, args=args, **kwargs)\n",
      "/tmp/ipykernel_106/513827320.py:310: UserWarning: This figure includes Axes that are not compatible with tight_layout, so results might be incorrect.\n",
      "  plt.tight_layout()  # Adjust layout to prevent overlap\n"
     ]
    },
    {
     "name": "stdout",
     "output_type": "stream",
     "text": [
      "working on EAP_2\n"
     ]
    },
    {
     "name": "stderr",
     "output_type": "stream",
     "text": [
      "/srv/conda/envs/notebook/lib/python3.11/site-packages/geopandas/io/file.py:383: FutureWarning: errors='ignore' is deprecated and will raise in a future version. Use to_datetime without passing `errors` and catch exceptions explicitly instead\n",
      "  as_dt = pd.to_datetime(df[k], errors=\"ignore\")\n",
      "/srv/conda/envs/notebook/lib/python3.11/site-packages/geopandas/geoseries.py:645: FutureWarning: the convert_dtype parameter is deprecated and will be removed in a future version.  Do ``ser.astype(object).apply()`` instead if you want ``convert_dtype=False``.\n",
      "  result = super().apply(func, convert_dtype=convert_dtype, args=args, **kwargs)\n",
      "/tmp/ipykernel_106/513827320.py:310: UserWarning: This figure includes Axes that are not compatible with tight_layout, so results might be incorrect.\n",
      "  plt.tight_layout()  # Adjust layout to prevent overlap\n"
     ]
    },
    {
     "name": "stdout",
     "output_type": "stream",
     "text": [
      "working on EAP_3\n"
     ]
    },
    {
     "name": "stderr",
     "output_type": "stream",
     "text": [
      "/srv/conda/envs/notebook/lib/python3.11/site-packages/geopandas/io/file.py:383: FutureWarning: errors='ignore' is deprecated and will raise in a future version. Use to_datetime without passing `errors` and catch exceptions explicitly instead\n",
      "  as_dt = pd.to_datetime(df[k], errors=\"ignore\")\n",
      "/srv/conda/envs/notebook/lib/python3.11/site-packages/geopandas/geoseries.py:645: FutureWarning: the convert_dtype parameter is deprecated and will be removed in a future version.  Do ``ser.astype(object).apply()`` instead if you want ``convert_dtype=False``.\n",
      "  result = super().apply(func, convert_dtype=convert_dtype, args=args, **kwargs)\n",
      "/tmp/ipykernel_106/513827320.py:310: UserWarning: This figure includes Axes that are not compatible with tight_layout, so results might be incorrect.\n",
      "  plt.tight_layout()  # Adjust layout to prevent overlap\n"
     ]
    },
    {
     "name": "stdout",
     "output_type": "stream",
     "text": [
      "working on EAP_4\n",
      "File for EAP_4 not found. Skipping...\n",
      "working on EAP_5\n"
     ]
    },
    {
     "name": "stderr",
     "output_type": "stream",
     "text": [
      "/srv/conda/envs/notebook/lib/python3.11/site-packages/geopandas/io/file.py:383: FutureWarning: errors='ignore' is deprecated and will raise in a future version. Use to_datetime without passing `errors` and catch exceptions explicitly instead\n",
      "  as_dt = pd.to_datetime(df[k], errors=\"ignore\")\n",
      "/srv/conda/envs/notebook/lib/python3.11/site-packages/geopandas/geoseries.py:645: FutureWarning: the convert_dtype parameter is deprecated and will be removed in a future version.  Do ``ser.astype(object).apply()`` instead if you want ``convert_dtype=False``.\n",
      "  result = super().apply(func, convert_dtype=convert_dtype, args=args, **kwargs)\n",
      "/tmp/ipykernel_106/513827320.py:310: UserWarning: This figure includes Axes that are not compatible with tight_layout, so results might be incorrect.\n",
      "  plt.tight_layout()  # Adjust layout to prevent overlap\n"
     ]
    },
    {
     "name": "stdout",
     "output_type": "stream",
     "text": [
      "working on EAP_6\n"
     ]
    },
    {
     "name": "stderr",
     "output_type": "stream",
     "text": [
      "/srv/conda/envs/notebook/lib/python3.11/site-packages/geopandas/io/file.py:383: FutureWarning: errors='ignore' is deprecated and will raise in a future version. Use to_datetime without passing `errors` and catch exceptions explicitly instead\n",
      "  as_dt = pd.to_datetime(df[k], errors=\"ignore\")\n",
      "/srv/conda/envs/notebook/lib/python3.11/site-packages/geopandas/geoseries.py:645: FutureWarning: the convert_dtype parameter is deprecated and will be removed in a future version.  Do ``ser.astype(object).apply()`` instead if you want ``convert_dtype=False``.\n",
      "  result = super().apply(func, convert_dtype=convert_dtype, args=args, **kwargs)\n",
      "/tmp/ipykernel_106/513827320.py:310: UserWarning: This figure includes Axes that are not compatible with tight_layout, so results might be incorrect.\n",
      "  plt.tight_layout()  # Adjust layout to prevent overlap\n"
     ]
    },
    {
     "name": "stdout",
     "output_type": "stream",
     "text": [
      "working on EAP_7\n"
     ]
    },
    {
     "name": "stderr",
     "output_type": "stream",
     "text": [
      "/srv/conda/envs/notebook/lib/python3.11/site-packages/geopandas/io/file.py:383: FutureWarning: errors='ignore' is deprecated and will raise in a future version. Use to_datetime without passing `errors` and catch exceptions explicitly instead\n",
      "  as_dt = pd.to_datetime(df[k], errors=\"ignore\")\n",
      "/srv/conda/envs/notebook/lib/python3.11/site-packages/geopandas/geoseries.py:645: FutureWarning: the convert_dtype parameter is deprecated and will be removed in a future version.  Do ``ser.astype(object).apply()`` instead if you want ``convert_dtype=False``.\n",
      "  result = super().apply(func, convert_dtype=convert_dtype, args=args, **kwargs)\n",
      "/tmp/ipykernel_106/513827320.py:310: UserWarning: This figure includes Axes that are not compatible with tight_layout, so results might be incorrect.\n",
      "  plt.tight_layout()  # Adjust layout to prevent overlap\n"
     ]
    },
    {
     "name": "stdout",
     "output_type": "stream",
     "text": [
      "working on EAP_8\n"
     ]
    },
    {
     "name": "stderr",
     "output_type": "stream",
     "text": [
      "/srv/conda/envs/notebook/lib/python3.11/site-packages/geopandas/io/file.py:383: FutureWarning: errors='ignore' is deprecated and will raise in a future version. Use to_datetime without passing `errors` and catch exceptions explicitly instead\n",
      "  as_dt = pd.to_datetime(df[k], errors=\"ignore\")\n",
      "/srv/conda/envs/notebook/lib/python3.11/site-packages/geopandas/geoseries.py:645: FutureWarning: the convert_dtype parameter is deprecated and will be removed in a future version.  Do ``ser.astype(object).apply()`` instead if you want ``convert_dtype=False``.\n",
      "  result = super().apply(func, convert_dtype=convert_dtype, args=args, **kwargs)\n",
      "/tmp/ipykernel_106/513827320.py:310: UserWarning: This figure includes Axes that are not compatible with tight_layout, so results might be incorrect.\n",
      "  plt.tight_layout()  # Adjust layout to prevent overlap\n"
     ]
    },
    {
     "name": "stdout",
     "output_type": "stream",
     "text": [
      "working on EAP_9\n"
     ]
    },
    {
     "name": "stderr",
     "output_type": "stream",
     "text": [
      "/srv/conda/envs/notebook/lib/python3.11/site-packages/geopandas/io/file.py:383: FutureWarning: errors='ignore' is deprecated and will raise in a future version. Use to_datetime without passing `errors` and catch exceptions explicitly instead\n",
      "  as_dt = pd.to_datetime(df[k], errors=\"ignore\")\n",
      "/srv/conda/envs/notebook/lib/python3.11/site-packages/geopandas/geoseries.py:645: FutureWarning: the convert_dtype parameter is deprecated and will be removed in a future version.  Do ``ser.astype(object).apply()`` instead if you want ``convert_dtype=False``.\n",
      "  result = super().apply(func, convert_dtype=convert_dtype, args=args, **kwargs)\n",
      "/tmp/ipykernel_106/513827320.py:310: UserWarning: This figure includes Axes that are not compatible with tight_layout, so results might be incorrect.\n",
      "  plt.tight_layout()  # Adjust layout to prevent overlap\n"
     ]
    },
    {
     "name": "stdout",
     "output_type": "stream",
     "text": [
      "working on EngelhardtSubglacialLake\n"
     ]
    },
    {
     "name": "stderr",
     "output_type": "stream",
     "text": [
      "/srv/conda/envs/notebook/lib/python3.11/site-packages/geopandas/io/file.py:383: FutureWarning: errors='ignore' is deprecated and will raise in a future version. Use to_datetime without passing `errors` and catch exceptions explicitly instead\n",
      "  as_dt = pd.to_datetime(df[k], errors=\"ignore\")\n",
      "/srv/conda/envs/notebook/lib/python3.11/site-packages/geopandas/geoseries.py:645: FutureWarning: the convert_dtype parameter is deprecated and will be removed in a future version.  Do ``ser.astype(object).apply()`` instead if you want ``convert_dtype=False``.\n",
      "  result = super().apply(func, convert_dtype=convert_dtype, args=args, **kwargs)\n",
      "/tmp/ipykernel_106/513827320.py:310: UserWarning: This figure includes Axes that are not compatible with tight_layout, so results might be incorrect.\n",
      "  plt.tight_layout()  # Adjust layout to prevent overlap\n"
     ]
    },
    {
     "name": "stdout",
     "output_type": "stream",
     "text": [
      "working on Foundation_1\n",
      "File for Foundation_1 not found. Skipping...\n",
      "working on Foundation_10\n"
     ]
    },
    {
     "name": "stderr",
     "output_type": "stream",
     "text": [
      "/srv/conda/envs/notebook/lib/python3.11/site-packages/geopandas/io/file.py:383: FutureWarning: errors='ignore' is deprecated and will raise in a future version. Use to_datetime without passing `errors` and catch exceptions explicitly instead\n",
      "  as_dt = pd.to_datetime(df[k], errors=\"ignore\")\n",
      "/srv/conda/envs/notebook/lib/python3.11/site-packages/geopandas/geoseries.py:645: FutureWarning: the convert_dtype parameter is deprecated and will be removed in a future version.  Do ``ser.astype(object).apply()`` instead if you want ``convert_dtype=False``.\n",
      "  result = super().apply(func, convert_dtype=convert_dtype, args=args, **kwargs)\n",
      "/tmp/ipykernel_106/513827320.py:310: UserWarning: This figure includes Axes that are not compatible with tight_layout, so results might be incorrect.\n",
      "  plt.tight_layout()  # Adjust layout to prevent overlap\n"
     ]
    },
    {
     "name": "stdout",
     "output_type": "stream",
     "text": [
      "working on Foundation_11\n"
     ]
    },
    {
     "name": "stderr",
     "output_type": "stream",
     "text": [
      "/srv/conda/envs/notebook/lib/python3.11/site-packages/geopandas/io/file.py:383: FutureWarning: errors='ignore' is deprecated and will raise in a future version. Use to_datetime without passing `errors` and catch exceptions explicitly instead\n",
      "  as_dt = pd.to_datetime(df[k], errors=\"ignore\")\n",
      "/srv/conda/envs/notebook/lib/python3.11/site-packages/geopandas/geoseries.py:645: FutureWarning: the convert_dtype parameter is deprecated and will be removed in a future version.  Do ``ser.astype(object).apply()`` instead if you want ``convert_dtype=False``.\n",
      "  result = super().apply(func, convert_dtype=convert_dtype, args=args, **kwargs)\n",
      "/tmp/ipykernel_106/513827320.py:310: UserWarning: This figure includes Axes that are not compatible with tight_layout, so results might be incorrect.\n",
      "  plt.tight_layout()  # Adjust layout to prevent overlap\n"
     ]
    },
    {
     "name": "stdout",
     "output_type": "stream",
     "text": [
      "working on Foundation_12\n"
     ]
    },
    {
     "name": "stderr",
     "output_type": "stream",
     "text": [
      "/srv/conda/envs/notebook/lib/python3.11/site-packages/geopandas/io/file.py:383: FutureWarning: errors='ignore' is deprecated and will raise in a future version. Use to_datetime without passing `errors` and catch exceptions explicitly instead\n",
      "  as_dt = pd.to_datetime(df[k], errors=\"ignore\")\n",
      "/srv/conda/envs/notebook/lib/python3.11/site-packages/geopandas/geoseries.py:645: FutureWarning: the convert_dtype parameter is deprecated and will be removed in a future version.  Do ``ser.astype(object).apply()`` instead if you want ``convert_dtype=False``.\n",
      "  result = super().apply(func, convert_dtype=convert_dtype, args=args, **kwargs)\n",
      "/tmp/ipykernel_106/513827320.py:310: UserWarning: This figure includes Axes that are not compatible with tight_layout, so results might be incorrect.\n",
      "  plt.tight_layout()  # Adjust layout to prevent overlap\n"
     ]
    },
    {
     "name": "stdout",
     "output_type": "stream",
     "text": [
      "working on Foundation_13\n"
     ]
    },
    {
     "name": "stderr",
     "output_type": "stream",
     "text": [
      "/srv/conda/envs/notebook/lib/python3.11/site-packages/geopandas/io/file.py:383: FutureWarning: errors='ignore' is deprecated and will raise in a future version. Use to_datetime without passing `errors` and catch exceptions explicitly instead\n",
      "  as_dt = pd.to_datetime(df[k], errors=\"ignore\")\n",
      "/srv/conda/envs/notebook/lib/python3.11/site-packages/geopandas/geoseries.py:645: FutureWarning: the convert_dtype parameter is deprecated and will be removed in a future version.  Do ``ser.astype(object).apply()`` instead if you want ``convert_dtype=False``.\n",
      "  result = super().apply(func, convert_dtype=convert_dtype, args=args, **kwargs)\n",
      "/tmp/ipykernel_106/513827320.py:310: UserWarning: This figure includes Axes that are not compatible with tight_layout, so results might be incorrect.\n",
      "  plt.tight_layout()  # Adjust layout to prevent overlap\n"
     ]
    },
    {
     "name": "stdout",
     "output_type": "stream",
     "text": [
      "working on Foundation_14\n"
     ]
    },
    {
     "name": "stderr",
     "output_type": "stream",
     "text": [
      "/srv/conda/envs/notebook/lib/python3.11/site-packages/geopandas/io/file.py:383: FutureWarning: errors='ignore' is deprecated and will raise in a future version. Use to_datetime without passing `errors` and catch exceptions explicitly instead\n",
      "  as_dt = pd.to_datetime(df[k], errors=\"ignore\")\n",
      "/srv/conda/envs/notebook/lib/python3.11/site-packages/geopandas/geoseries.py:645: FutureWarning: the convert_dtype parameter is deprecated and will be removed in a future version.  Do ``ser.astype(object).apply()`` instead if you want ``convert_dtype=False``.\n",
      "  result = super().apply(func, convert_dtype=convert_dtype, args=args, **kwargs)\n",
      "/tmp/ipykernel_106/513827320.py:310: UserWarning: This figure includes Axes that are not compatible with tight_layout, so results might be incorrect.\n",
      "  plt.tight_layout()  # Adjust layout to prevent overlap\n"
     ]
    },
    {
     "name": "stdout",
     "output_type": "stream",
     "text": [
      "working on Foundation_15\n"
     ]
    },
    {
     "name": "stderr",
     "output_type": "stream",
     "text": [
      "/srv/conda/envs/notebook/lib/python3.11/site-packages/geopandas/io/file.py:383: FutureWarning: errors='ignore' is deprecated and will raise in a future version. Use to_datetime without passing `errors` and catch exceptions explicitly instead\n",
      "  as_dt = pd.to_datetime(df[k], errors=\"ignore\")\n",
      "/srv/conda/envs/notebook/lib/python3.11/site-packages/geopandas/geoseries.py:645: FutureWarning: the convert_dtype parameter is deprecated and will be removed in a future version.  Do ``ser.astype(object).apply()`` instead if you want ``convert_dtype=False``.\n",
      "  result = super().apply(func, convert_dtype=convert_dtype, args=args, **kwargs)\n",
      "/tmp/ipykernel_106/513827320.py:310: UserWarning: This figure includes Axes that are not compatible with tight_layout, so results might be incorrect.\n",
      "  plt.tight_layout()  # Adjust layout to prevent overlap\n"
     ]
    },
    {
     "name": "stdout",
     "output_type": "stream",
     "text": [
      "working on Foundation_16\n"
     ]
    },
    {
     "name": "stderr",
     "output_type": "stream",
     "text": [
      "/srv/conda/envs/notebook/lib/python3.11/site-packages/geopandas/io/file.py:383: FutureWarning: errors='ignore' is deprecated and will raise in a future version. Use to_datetime without passing `errors` and catch exceptions explicitly instead\n",
      "  as_dt = pd.to_datetime(df[k], errors=\"ignore\")\n",
      "/srv/conda/envs/notebook/lib/python3.11/site-packages/geopandas/geoseries.py:645: FutureWarning: the convert_dtype parameter is deprecated and will be removed in a future version.  Do ``ser.astype(object).apply()`` instead if you want ``convert_dtype=False``.\n",
      "  result = super().apply(func, convert_dtype=convert_dtype, args=args, **kwargs)\n",
      "/tmp/ipykernel_106/513827320.py:310: UserWarning: This figure includes Axes that are not compatible with tight_layout, so results might be incorrect.\n",
      "  plt.tight_layout()  # Adjust layout to prevent overlap\n"
     ]
    },
    {
     "name": "stdout",
     "output_type": "stream",
     "text": [
      "working on Foundation_2\n"
     ]
    },
    {
     "name": "stderr",
     "output_type": "stream",
     "text": [
      "/srv/conda/envs/notebook/lib/python3.11/site-packages/geopandas/io/file.py:383: FutureWarning: errors='ignore' is deprecated and will raise in a future version. Use to_datetime without passing `errors` and catch exceptions explicitly instead\n",
      "  as_dt = pd.to_datetime(df[k], errors=\"ignore\")\n",
      "/srv/conda/envs/notebook/lib/python3.11/site-packages/geopandas/geoseries.py:645: FutureWarning: the convert_dtype parameter is deprecated and will be removed in a future version.  Do ``ser.astype(object).apply()`` instead if you want ``convert_dtype=False``.\n",
      "  result = super().apply(func, convert_dtype=convert_dtype, args=args, **kwargs)\n",
      "/tmp/ipykernel_106/513827320.py:310: UserWarning: This figure includes Axes that are not compatible with tight_layout, so results might be incorrect.\n",
      "  plt.tight_layout()  # Adjust layout to prevent overlap\n"
     ]
    },
    {
     "name": "stdout",
     "output_type": "stream",
     "text": [
      "working on Foundation_3\n"
     ]
    },
    {
     "name": "stderr",
     "output_type": "stream",
     "text": [
      "/srv/conda/envs/notebook/lib/python3.11/site-packages/geopandas/io/file.py:383: FutureWarning: errors='ignore' is deprecated and will raise in a future version. Use to_datetime without passing `errors` and catch exceptions explicitly instead\n",
      "  as_dt = pd.to_datetime(df[k], errors=\"ignore\")\n",
      "/srv/conda/envs/notebook/lib/python3.11/site-packages/geopandas/geoseries.py:645: FutureWarning: the convert_dtype parameter is deprecated and will be removed in a future version.  Do ``ser.astype(object).apply()`` instead if you want ``convert_dtype=False``.\n",
      "  result = super().apply(func, convert_dtype=convert_dtype, args=args, **kwargs)\n",
      "/tmp/ipykernel_106/513827320.py:310: UserWarning: This figure includes Axes that are not compatible with tight_layout, so results might be incorrect.\n",
      "  plt.tight_layout()  # Adjust layout to prevent overlap\n"
     ]
    },
    {
     "name": "stdout",
     "output_type": "stream",
     "text": [
      "working on Foundation_4\n",
      "File for Foundation_4 not found. Skipping...\n",
      "working on Foundation_5\n"
     ]
    },
    {
     "name": "stderr",
     "output_type": "stream",
     "text": [
      "/srv/conda/envs/notebook/lib/python3.11/site-packages/geopandas/io/file.py:383: FutureWarning: errors='ignore' is deprecated and will raise in a future version. Use to_datetime without passing `errors` and catch exceptions explicitly instead\n",
      "  as_dt = pd.to_datetime(df[k], errors=\"ignore\")\n",
      "/srv/conda/envs/notebook/lib/python3.11/site-packages/geopandas/geoseries.py:645: FutureWarning: the convert_dtype parameter is deprecated and will be removed in a future version.  Do ``ser.astype(object).apply()`` instead if you want ``convert_dtype=False``.\n",
      "  result = super().apply(func, convert_dtype=convert_dtype, args=args, **kwargs)\n",
      "/tmp/ipykernel_106/513827320.py:310: UserWarning: This figure includes Axes that are not compatible with tight_layout, so results might be incorrect.\n",
      "  plt.tight_layout()  # Adjust layout to prevent overlap\n"
     ]
    },
    {
     "name": "stdout",
     "output_type": "stream",
     "text": [
      "working on Foundation_6\n"
     ]
    },
    {
     "name": "stderr",
     "output_type": "stream",
     "text": [
      "/srv/conda/envs/notebook/lib/python3.11/site-packages/geopandas/io/file.py:383: FutureWarning: errors='ignore' is deprecated and will raise in a future version. Use to_datetime without passing `errors` and catch exceptions explicitly instead\n",
      "  as_dt = pd.to_datetime(df[k], errors=\"ignore\")\n",
      "/srv/conda/envs/notebook/lib/python3.11/site-packages/geopandas/geoseries.py:645: FutureWarning: the convert_dtype parameter is deprecated and will be removed in a future version.  Do ``ser.astype(object).apply()`` instead if you want ``convert_dtype=False``.\n",
      "  result = super().apply(func, convert_dtype=convert_dtype, args=args, **kwargs)\n",
      "/tmp/ipykernel_106/513827320.py:310: UserWarning: This figure includes Axes that are not compatible with tight_layout, so results might be incorrect.\n",
      "  plt.tight_layout()  # Adjust layout to prevent overlap\n"
     ]
    },
    {
     "name": "stdout",
     "output_type": "stream",
     "text": [
      "working on Foundation_7\n"
     ]
    },
    {
     "name": "stderr",
     "output_type": "stream",
     "text": [
      "/srv/conda/envs/notebook/lib/python3.11/site-packages/geopandas/io/file.py:383: FutureWarning: errors='ignore' is deprecated and will raise in a future version. Use to_datetime without passing `errors` and catch exceptions explicitly instead\n",
      "  as_dt = pd.to_datetime(df[k], errors=\"ignore\")\n",
      "/srv/conda/envs/notebook/lib/python3.11/site-packages/geopandas/geoseries.py:645: FutureWarning: the convert_dtype parameter is deprecated and will be removed in a future version.  Do ``ser.astype(object).apply()`` instead if you want ``convert_dtype=False``.\n",
      "  result = super().apply(func, convert_dtype=convert_dtype, args=args, **kwargs)\n",
      "/tmp/ipykernel_106/513827320.py:310: UserWarning: This figure includes Axes that are not compatible with tight_layout, so results might be incorrect.\n",
      "  plt.tight_layout()  # Adjust layout to prevent overlap\n"
     ]
    },
    {
     "name": "stdout",
     "output_type": "stream",
     "text": [
      "working on Foundation_8\n"
     ]
    },
    {
     "name": "stderr",
     "output_type": "stream",
     "text": [
      "/srv/conda/envs/notebook/lib/python3.11/site-packages/geopandas/io/file.py:383: FutureWarning: errors='ignore' is deprecated and will raise in a future version. Use to_datetime without passing `errors` and catch exceptions explicitly instead\n",
      "  as_dt = pd.to_datetime(df[k], errors=\"ignore\")\n",
      "/srv/conda/envs/notebook/lib/python3.11/site-packages/geopandas/geoseries.py:645: FutureWarning: the convert_dtype parameter is deprecated and will be removed in a future version.  Do ``ser.astype(object).apply()`` instead if you want ``convert_dtype=False``.\n",
      "  result = super().apply(func, convert_dtype=convert_dtype, args=args, **kwargs)\n",
      "/tmp/ipykernel_106/513827320.py:310: UserWarning: This figure includes Axes that are not compatible with tight_layout, so results might be incorrect.\n",
      "  plt.tight_layout()  # Adjust layout to prevent overlap\n"
     ]
    },
    {
     "name": "stdout",
     "output_type": "stream",
     "text": [
      "working on Foundation_9\n"
     ]
    },
    {
     "name": "stderr",
     "output_type": "stream",
     "text": [
      "/srv/conda/envs/notebook/lib/python3.11/site-packages/geopandas/io/file.py:383: FutureWarning: errors='ignore' is deprecated and will raise in a future version. Use to_datetime without passing `errors` and catch exceptions explicitly instead\n",
      "  as_dt = pd.to_datetime(df[k], errors=\"ignore\")\n",
      "/srv/conda/envs/notebook/lib/python3.11/site-packages/geopandas/geoseries.py:645: FutureWarning: the convert_dtype parameter is deprecated and will be removed in a future version.  Do ``ser.astype(object).apply()`` instead if you want ``convert_dtype=False``.\n",
      "  result = super().apply(func, convert_dtype=convert_dtype, args=args, **kwargs)\n",
      "/tmp/ipykernel_106/513827320.py:310: UserWarning: This figure includes Axes that are not compatible with tight_layout, so results might be incorrect.\n",
      "  plt.tight_layout()  # Adjust layout to prevent overlap\n"
     ]
    },
    {
     "name": "stdout",
     "output_type": "stream",
     "text": [
      "working on Foundation_N1\n"
     ]
    },
    {
     "name": "stderr",
     "output_type": "stream",
     "text": [
      "/srv/conda/envs/notebook/lib/python3.11/site-packages/geopandas/io/file.py:383: FutureWarning: errors='ignore' is deprecated and will raise in a future version. Use to_datetime without passing `errors` and catch exceptions explicitly instead\n",
      "  as_dt = pd.to_datetime(df[k], errors=\"ignore\")\n",
      "/srv/conda/envs/notebook/lib/python3.11/site-packages/geopandas/geoseries.py:645: FutureWarning: the convert_dtype parameter is deprecated and will be removed in a future version.  Do ``ser.astype(object).apply()`` instead if you want ``convert_dtype=False``.\n",
      "  result = super().apply(func, convert_dtype=convert_dtype, args=args, **kwargs)\n",
      "/tmp/ipykernel_106/513827320.py:310: UserWarning: This figure includes Axes that are not compatible with tight_layout, so results might be incorrect.\n",
      "  plt.tight_layout()  # Adjust layout to prevent overlap\n"
     ]
    },
    {
     "name": "stdout",
     "output_type": "stream",
     "text": [
      "working on Foundation_N2\n"
     ]
    },
    {
     "name": "stderr",
     "output_type": "stream",
     "text": [
      "/srv/conda/envs/notebook/lib/python3.11/site-packages/geopandas/io/file.py:383: FutureWarning: errors='ignore' is deprecated and will raise in a future version. Use to_datetime without passing `errors` and catch exceptions explicitly instead\n",
      "  as_dt = pd.to_datetime(df[k], errors=\"ignore\")\n",
      "/srv/conda/envs/notebook/lib/python3.11/site-packages/geopandas/geoseries.py:645: FutureWarning: the convert_dtype parameter is deprecated and will be removed in a future version.  Do ``ser.astype(object).apply()`` instead if you want ``convert_dtype=False``.\n",
      "  result = super().apply(func, convert_dtype=convert_dtype, args=args, **kwargs)\n",
      "/tmp/ipykernel_106/513827320.py:310: UserWarning: This figure includes Axes that are not compatible with tight_layout, so results might be incorrect.\n",
      "  plt.tight_layout()  # Adjust layout to prevent overlap\n"
     ]
    },
    {
     "name": "stdout",
     "output_type": "stream",
     "text": [
      "working on Foundation_N3\n"
     ]
    },
    {
     "name": "stderr",
     "output_type": "stream",
     "text": [
      "/srv/conda/envs/notebook/lib/python3.11/site-packages/geopandas/io/file.py:383: FutureWarning: errors='ignore' is deprecated and will raise in a future version. Use to_datetime without passing `errors` and catch exceptions explicitly instead\n",
      "  as_dt = pd.to_datetime(df[k], errors=\"ignore\")\n",
      "/srv/conda/envs/notebook/lib/python3.11/site-packages/geopandas/geoseries.py:645: FutureWarning: the convert_dtype parameter is deprecated and will be removed in a future version.  Do ``ser.astype(object).apply()`` instead if you want ``convert_dtype=False``.\n",
      "  result = super().apply(func, convert_dtype=convert_dtype, args=args, **kwargs)\n",
      "/tmp/ipykernel_106/513827320.py:310: UserWarning: This figure includes Axes that are not compatible with tight_layout, so results might be incorrect.\n",
      "  plt.tight_layout()  # Adjust layout to prevent overlap\n"
     ]
    },
    {
     "name": "stdout",
     "output_type": "stream",
     "text": [
      "working on Institute_E1\n"
     ]
    },
    {
     "name": "stderr",
     "output_type": "stream",
     "text": [
      "/srv/conda/envs/notebook/lib/python3.11/site-packages/geopandas/io/file.py:383: FutureWarning: errors='ignore' is deprecated and will raise in a future version. Use to_datetime without passing `errors` and catch exceptions explicitly instead\n",
      "  as_dt = pd.to_datetime(df[k], errors=\"ignore\")\n",
      "/srv/conda/envs/notebook/lib/python3.11/site-packages/geopandas/geoseries.py:645: FutureWarning: the convert_dtype parameter is deprecated and will be removed in a future version.  Do ``ser.astype(object).apply()`` instead if you want ``convert_dtype=False``.\n",
      "  result = super().apply(func, convert_dtype=convert_dtype, args=args, **kwargs)\n",
      "/tmp/ipykernel_106/513827320.py:310: UserWarning: This figure includes Axes that are not compatible with tight_layout, so results might be incorrect.\n",
      "  plt.tight_layout()  # Adjust layout to prevent overlap\n"
     ]
    },
    {
     "name": "stdout",
     "output_type": "stream",
     "text": [
      "working on Institute_E2\n"
     ]
    },
    {
     "name": "stderr",
     "output_type": "stream",
     "text": [
      "/srv/conda/envs/notebook/lib/python3.11/site-packages/geopandas/io/file.py:383: FutureWarning: errors='ignore' is deprecated and will raise in a future version. Use to_datetime without passing `errors` and catch exceptions explicitly instead\n",
      "  as_dt = pd.to_datetime(df[k], errors=\"ignore\")\n",
      "/srv/conda/envs/notebook/lib/python3.11/site-packages/geopandas/geoseries.py:645: FutureWarning: the convert_dtype parameter is deprecated and will be removed in a future version.  Do ``ser.astype(object).apply()`` instead if you want ``convert_dtype=False``.\n",
      "  result = super().apply(func, convert_dtype=convert_dtype, args=args, **kwargs)\n",
      "/tmp/ipykernel_106/513827320.py:310: UserWarning: This figure includes Axes that are not compatible with tight_layout, so results might be incorrect.\n",
      "  plt.tight_layout()  # Adjust layout to prevent overlap\n"
     ]
    },
    {
     "name": "stdout",
     "output_type": "stream",
     "text": [
      "working on Institute_W1\n",
      "File for Institute_W1 not found. Skipping...\n",
      "working on Institute_W2\n"
     ]
    },
    {
     "name": "stderr",
     "output_type": "stream",
     "text": [
      "/srv/conda/envs/notebook/lib/python3.11/site-packages/geopandas/io/file.py:383: FutureWarning: errors='ignore' is deprecated and will raise in a future version. Use to_datetime without passing `errors` and catch exceptions explicitly instead\n",
      "  as_dt = pd.to_datetime(df[k], errors=\"ignore\")\n",
      "/srv/conda/envs/notebook/lib/python3.11/site-packages/geopandas/geoseries.py:645: FutureWarning: the convert_dtype parameter is deprecated and will be removed in a future version.  Do ``ser.astype(object).apply()`` instead if you want ``convert_dtype=False``.\n",
      "  result = super().apply(func, convert_dtype=convert_dtype, args=args, **kwargs)\n",
      "/tmp/ipykernel_106/513827320.py:310: UserWarning: This figure includes Axes that are not compatible with tight_layout, so results might be incorrect.\n",
      "  plt.tight_layout()  # Adjust layout to prevent overlap\n"
     ]
    },
    {
     "name": "stdout",
     "output_type": "stream",
     "text": [
      "working on JG_Combined_D2_b_E1\n",
      "File for JG_Combined_D2_b_E1 not found. Skipping...\n",
      "working on JG_Combined_E2_F2\n"
     ]
    },
    {
     "name": "stderr",
     "output_type": "stream",
     "text": [
      "/srv/conda/envs/notebook/lib/python3.11/site-packages/geopandas/io/file.py:383: FutureWarning: errors='ignore' is deprecated and will raise in a future version. Use to_datetime without passing `errors` and catch exceptions explicitly instead\n",
      "  as_dt = pd.to_datetime(df[k], errors=\"ignore\")\n",
      "/srv/conda/envs/notebook/lib/python3.11/site-packages/geopandas/geoseries.py:645: FutureWarning: the convert_dtype parameter is deprecated and will be removed in a future version.  Do ``ser.astype(object).apply()`` instead if you want ``convert_dtype=False``.\n",
      "  result = super().apply(func, convert_dtype=convert_dtype, args=args, **kwargs)\n",
      "/tmp/ipykernel_106/513827320.py:310: UserWarning: This figure includes Axes that are not compatible with tight_layout, so results might be incorrect.\n",
      "  plt.tight_layout()  # Adjust layout to prevent overlap\n"
     ]
    },
    {
     "name": "stdout",
     "output_type": "stream",
     "text": [
      "working on JG_D1_a\n",
      "File for JG_D1_a not found. Skipping...\n",
      "working on JG_D1_b\n"
     ]
    },
    {
     "name": "stderr",
     "output_type": "stream",
     "text": [
      "/srv/conda/envs/notebook/lib/python3.11/site-packages/geopandas/io/file.py:383: FutureWarning: errors='ignore' is deprecated and will raise in a future version. Use to_datetime without passing `errors` and catch exceptions explicitly instead\n",
      "  as_dt = pd.to_datetime(df[k], errors=\"ignore\")\n",
      "/srv/conda/envs/notebook/lib/python3.11/site-packages/geopandas/geoseries.py:645: FutureWarning: the convert_dtype parameter is deprecated and will be removed in a future version.  Do ``ser.astype(object).apply()`` instead if you want ``convert_dtype=False``.\n",
      "  result = super().apply(func, convert_dtype=convert_dtype, args=args, **kwargs)\n",
      "/tmp/ipykernel_106/513827320.py:310: UserWarning: This figure includes Axes that are not compatible with tight_layout, so results might be incorrect.\n",
      "  plt.tight_layout()  # Adjust layout to prevent overlap\n"
     ]
    },
    {
     "name": "stdout",
     "output_type": "stream",
     "text": [
      "working on JG_D2_a\n"
     ]
    },
    {
     "name": "stderr",
     "output_type": "stream",
     "text": [
      "/srv/conda/envs/notebook/lib/python3.11/site-packages/geopandas/io/file.py:383: FutureWarning: errors='ignore' is deprecated and will raise in a future version. Use to_datetime without passing `errors` and catch exceptions explicitly instead\n",
      "  as_dt = pd.to_datetime(df[k], errors=\"ignore\")\n",
      "/srv/conda/envs/notebook/lib/python3.11/site-packages/geopandas/geoseries.py:645: FutureWarning: the convert_dtype parameter is deprecated and will be removed in a future version.  Do ``ser.astype(object).apply()`` instead if you want ``convert_dtype=False``.\n",
      "  result = super().apply(func, convert_dtype=convert_dtype, args=args, **kwargs)\n",
      "/tmp/ipykernel_106/513827320.py:310: UserWarning: This figure includes Axes that are not compatible with tight_layout, so results might be incorrect.\n",
      "  plt.tight_layout()  # Adjust layout to prevent overlap\n"
     ]
    },
    {
     "name": "stdout",
     "output_type": "stream",
     "text": [
      "working on JG_F1\n"
     ]
    },
    {
     "name": "stderr",
     "output_type": "stream",
     "text": [
      "/srv/conda/envs/notebook/lib/python3.11/site-packages/geopandas/io/file.py:383: FutureWarning: errors='ignore' is deprecated and will raise in a future version. Use to_datetime without passing `errors` and catch exceptions explicitly instead\n",
      "  as_dt = pd.to_datetime(df[k], errors=\"ignore\")\n",
      "/srv/conda/envs/notebook/lib/python3.11/site-packages/geopandas/geoseries.py:645: FutureWarning: the convert_dtype parameter is deprecated and will be removed in a future version.  Do ``ser.astype(object).apply()`` instead if you want ``convert_dtype=False``.\n",
      "  result = super().apply(func, convert_dtype=convert_dtype, args=args, **kwargs)\n",
      "/tmp/ipykernel_106/513827320.py:310: UserWarning: This figure includes Axes that are not compatible with tight_layout, so results might be incorrect.\n",
      "  plt.tight_layout()  # Adjust layout to prevent overlap\n"
     ]
    },
    {
     "name": "stdout",
     "output_type": "stream",
     "text": [
      "working on KT1\n"
     ]
    },
    {
     "name": "stderr",
     "output_type": "stream",
     "text": [
      "/srv/conda/envs/notebook/lib/python3.11/site-packages/geopandas/io/file.py:383: FutureWarning: errors='ignore' is deprecated and will raise in a future version. Use to_datetime without passing `errors` and catch exceptions explicitly instead\n",
      "  as_dt = pd.to_datetime(df[k], errors=\"ignore\")\n",
      "/srv/conda/envs/notebook/lib/python3.11/site-packages/geopandas/geoseries.py:645: FutureWarning: the convert_dtype parameter is deprecated and will be removed in a future version.  Do ``ser.astype(object).apply()`` instead if you want ``convert_dtype=False``.\n",
      "  result = super().apply(func, convert_dtype=convert_dtype, args=args, **kwargs)\n",
      "/tmp/ipykernel_106/513827320.py:310: UserWarning: This figure includes Axes that are not compatible with tight_layout, so results might be incorrect.\n",
      "  plt.tight_layout()  # Adjust layout to prevent overlap\n"
     ]
    },
    {
     "name": "stdout",
     "output_type": "stream",
     "text": [
      "working on KT2\n"
     ]
    },
    {
     "name": "stderr",
     "output_type": "stream",
     "text": [
      "/srv/conda/envs/notebook/lib/python3.11/site-packages/geopandas/io/file.py:383: FutureWarning: errors='ignore' is deprecated and will raise in a future version. Use to_datetime without passing `errors` and catch exceptions explicitly instead\n",
      "  as_dt = pd.to_datetime(df[k], errors=\"ignore\")\n",
      "/srv/conda/envs/notebook/lib/python3.11/site-packages/geopandas/geoseries.py:645: FutureWarning: the convert_dtype parameter is deprecated and will be removed in a future version.  Do ``ser.astype(object).apply()`` instead if you want ``convert_dtype=False``.\n",
      "  result = super().apply(func, convert_dtype=convert_dtype, args=args, **kwargs)\n",
      "/tmp/ipykernel_106/513827320.py:310: UserWarning: This figure includes Axes that are not compatible with tight_layout, so results might be incorrect.\n",
      "  plt.tight_layout()  # Adjust layout to prevent overlap\n"
     ]
    },
    {
     "name": "stdout",
     "output_type": "stream",
     "text": [
      "working on KT3\n",
      "File for KT3 not found. Skipping...\n",
      "working on Kamb_1\n"
     ]
    },
    {
     "name": "stderr",
     "output_type": "stream",
     "text": [
      "/srv/conda/envs/notebook/lib/python3.11/site-packages/geopandas/io/file.py:383: FutureWarning: errors='ignore' is deprecated and will raise in a future version. Use to_datetime without passing `errors` and catch exceptions explicitly instead\n",
      "  as_dt = pd.to_datetime(df[k], errors=\"ignore\")\n",
      "/srv/conda/envs/notebook/lib/python3.11/site-packages/geopandas/geoseries.py:645: FutureWarning: the convert_dtype parameter is deprecated and will be removed in a future version.  Do ``ser.astype(object).apply()`` instead if you want ``convert_dtype=False``.\n",
      "  result = super().apply(func, convert_dtype=convert_dtype, args=args, **kwargs)\n",
      "/tmp/ipykernel_106/513827320.py:310: UserWarning: This figure includes Axes that are not compatible with tight_layout, so results might be incorrect.\n",
      "  plt.tight_layout()  # Adjust layout to prevent overlap\n"
     ]
    },
    {
     "name": "stdout",
     "output_type": "stream",
     "text": [
      "working on Kamb_10\n"
     ]
    },
    {
     "name": "stderr",
     "output_type": "stream",
     "text": [
      "/srv/conda/envs/notebook/lib/python3.11/site-packages/geopandas/io/file.py:383: FutureWarning: errors='ignore' is deprecated and will raise in a future version. Use to_datetime without passing `errors` and catch exceptions explicitly instead\n",
      "  as_dt = pd.to_datetime(df[k], errors=\"ignore\")\n",
      "/srv/conda/envs/notebook/lib/python3.11/site-packages/geopandas/geoseries.py:645: FutureWarning: the convert_dtype parameter is deprecated and will be removed in a future version.  Do ``ser.astype(object).apply()`` instead if you want ``convert_dtype=False``.\n",
      "  result = super().apply(func, convert_dtype=convert_dtype, args=args, **kwargs)\n",
      "/tmp/ipykernel_106/513827320.py:310: UserWarning: This figure includes Axes that are not compatible with tight_layout, so results might be incorrect.\n",
      "  plt.tight_layout()  # Adjust layout to prevent overlap\n"
     ]
    },
    {
     "name": "stdout",
     "output_type": "stream",
     "text": [
      "working on Kamb_11\n"
     ]
    },
    {
     "name": "stderr",
     "output_type": "stream",
     "text": [
      "/srv/conda/envs/notebook/lib/python3.11/site-packages/geopandas/io/file.py:383: FutureWarning: errors='ignore' is deprecated and will raise in a future version. Use to_datetime without passing `errors` and catch exceptions explicitly instead\n",
      "  as_dt = pd.to_datetime(df[k], errors=\"ignore\")\n",
      "/srv/conda/envs/notebook/lib/python3.11/site-packages/geopandas/geoseries.py:645: FutureWarning: the convert_dtype parameter is deprecated and will be removed in a future version.  Do ``ser.astype(object).apply()`` instead if you want ``convert_dtype=False``.\n",
      "  result = super().apply(func, convert_dtype=convert_dtype, args=args, **kwargs)\n",
      "/tmp/ipykernel_106/513827320.py:310: UserWarning: This figure includes Axes that are not compatible with tight_layout, so results might be incorrect.\n",
      "  plt.tight_layout()  # Adjust layout to prevent overlap\n"
     ]
    },
    {
     "name": "stdout",
     "output_type": "stream",
     "text": [
      "working on Kamb_12\n"
     ]
    },
    {
     "name": "stderr",
     "output_type": "stream",
     "text": [
      "/srv/conda/envs/notebook/lib/python3.11/site-packages/geopandas/io/file.py:383: FutureWarning: errors='ignore' is deprecated and will raise in a future version. Use to_datetime without passing `errors` and catch exceptions explicitly instead\n",
      "  as_dt = pd.to_datetime(df[k], errors=\"ignore\")\n",
      "/srv/conda/envs/notebook/lib/python3.11/site-packages/geopandas/geoseries.py:645: FutureWarning: the convert_dtype parameter is deprecated and will be removed in a future version.  Do ``ser.astype(object).apply()`` instead if you want ``convert_dtype=False``.\n",
      "  result = super().apply(func, convert_dtype=convert_dtype, args=args, **kwargs)\n",
      "/tmp/ipykernel_106/513827320.py:310: UserWarning: This figure includes Axes that are not compatible with tight_layout, so results might be incorrect.\n",
      "  plt.tight_layout()  # Adjust layout to prevent overlap\n"
     ]
    },
    {
     "name": "stdout",
     "output_type": "stream",
     "text": [
      "working on Kamb_2\n"
     ]
    },
    {
     "name": "stderr",
     "output_type": "stream",
     "text": [
      "/srv/conda/envs/notebook/lib/python3.11/site-packages/geopandas/io/file.py:383: FutureWarning: errors='ignore' is deprecated and will raise in a future version. Use to_datetime without passing `errors` and catch exceptions explicitly instead\n",
      "  as_dt = pd.to_datetime(df[k], errors=\"ignore\")\n",
      "/srv/conda/envs/notebook/lib/python3.11/site-packages/geopandas/geoseries.py:645: FutureWarning: the convert_dtype parameter is deprecated and will be removed in a future version.  Do ``ser.astype(object).apply()`` instead if you want ``convert_dtype=False``.\n",
      "  result = super().apply(func, convert_dtype=convert_dtype, args=args, **kwargs)\n",
      "/tmp/ipykernel_106/513827320.py:310: UserWarning: This figure includes Axes that are not compatible with tight_layout, so results might be incorrect.\n",
      "  plt.tight_layout()  # Adjust layout to prevent overlap\n"
     ]
    },
    {
     "name": "stdout",
     "output_type": "stream",
     "text": [
      "working on Kamb_3\n"
     ]
    },
    {
     "name": "stderr",
     "output_type": "stream",
     "text": [
      "/srv/conda/envs/notebook/lib/python3.11/site-packages/geopandas/io/file.py:383: FutureWarning: errors='ignore' is deprecated and will raise in a future version. Use to_datetime without passing `errors` and catch exceptions explicitly instead\n",
      "  as_dt = pd.to_datetime(df[k], errors=\"ignore\")\n",
      "/srv/conda/envs/notebook/lib/python3.11/site-packages/geopandas/geoseries.py:645: FutureWarning: the convert_dtype parameter is deprecated and will be removed in a future version.  Do ``ser.astype(object).apply()`` instead if you want ``convert_dtype=False``.\n",
      "  result = super().apply(func, convert_dtype=convert_dtype, args=args, **kwargs)\n",
      "/tmp/ipykernel_106/513827320.py:310: UserWarning: This figure includes Axes that are not compatible with tight_layout, so results might be incorrect.\n",
      "  plt.tight_layout()  # Adjust layout to prevent overlap\n"
     ]
    },
    {
     "name": "stdout",
     "output_type": "stream",
     "text": [
      "working on Kamb_4\n",
      "File for Kamb_4 not found. Skipping...\n",
      "working on Kamb_5\n"
     ]
    },
    {
     "name": "stderr",
     "output_type": "stream",
     "text": [
      "/srv/conda/envs/notebook/lib/python3.11/site-packages/geopandas/io/file.py:383: FutureWarning: errors='ignore' is deprecated and will raise in a future version. Use to_datetime without passing `errors` and catch exceptions explicitly instead\n",
      "  as_dt = pd.to_datetime(df[k], errors=\"ignore\")\n",
      "/srv/conda/envs/notebook/lib/python3.11/site-packages/geopandas/geoseries.py:645: FutureWarning: the convert_dtype parameter is deprecated and will be removed in a future version.  Do ``ser.astype(object).apply()`` instead if you want ``convert_dtype=False``.\n",
      "  result = super().apply(func, convert_dtype=convert_dtype, args=args, **kwargs)\n",
      "/tmp/ipykernel_106/513827320.py:310: UserWarning: This figure includes Axes that are not compatible with tight_layout, so results might be incorrect.\n",
      "  plt.tight_layout()  # Adjust layout to prevent overlap\n"
     ]
    },
    {
     "name": "stdout",
     "output_type": "stream",
     "text": [
      "working on Kamb_6\n"
     ]
    },
    {
     "name": "stderr",
     "output_type": "stream",
     "text": [
      "/srv/conda/envs/notebook/lib/python3.11/site-packages/geopandas/io/file.py:383: FutureWarning: errors='ignore' is deprecated and will raise in a future version. Use to_datetime without passing `errors` and catch exceptions explicitly instead\n",
      "  as_dt = pd.to_datetime(df[k], errors=\"ignore\")\n",
      "/srv/conda/envs/notebook/lib/python3.11/site-packages/geopandas/geoseries.py:645: FutureWarning: the convert_dtype parameter is deprecated and will be removed in a future version.  Do ``ser.astype(object).apply()`` instead if you want ``convert_dtype=False``.\n",
      "  result = super().apply(func, convert_dtype=convert_dtype, args=args, **kwargs)\n",
      "/tmp/ipykernel_106/513827320.py:310: UserWarning: This figure includes Axes that are not compatible with tight_layout, so results might be incorrect.\n",
      "  plt.tight_layout()  # Adjust layout to prevent overlap\n"
     ]
    },
    {
     "name": "stdout",
     "output_type": "stream",
     "text": [
      "working on Kamb_7\n"
     ]
    },
    {
     "name": "stderr",
     "output_type": "stream",
     "text": [
      "/srv/conda/envs/notebook/lib/python3.11/site-packages/geopandas/io/file.py:383: FutureWarning: errors='ignore' is deprecated and will raise in a future version. Use to_datetime without passing `errors` and catch exceptions explicitly instead\n",
      "  as_dt = pd.to_datetime(df[k], errors=\"ignore\")\n",
      "/srv/conda/envs/notebook/lib/python3.11/site-packages/geopandas/geoseries.py:645: FutureWarning: the convert_dtype parameter is deprecated and will be removed in a future version.  Do ``ser.astype(object).apply()`` instead if you want ``convert_dtype=False``.\n",
      "  result = super().apply(func, convert_dtype=convert_dtype, args=args, **kwargs)\n",
      "/tmp/ipykernel_106/513827320.py:310: UserWarning: This figure includes Axes that are not compatible with tight_layout, so results might be incorrect.\n",
      "  plt.tight_layout()  # Adjust layout to prevent overlap\n"
     ]
    },
    {
     "name": "stdout",
     "output_type": "stream",
     "text": [
      "working on Kamb_8\n"
     ]
    },
    {
     "name": "stderr",
     "output_type": "stream",
     "text": [
      "/srv/conda/envs/notebook/lib/python3.11/site-packages/geopandas/io/file.py:383: FutureWarning: errors='ignore' is deprecated and will raise in a future version. Use to_datetime without passing `errors` and catch exceptions explicitly instead\n",
      "  as_dt = pd.to_datetime(df[k], errors=\"ignore\")\n",
      "/srv/conda/envs/notebook/lib/python3.11/site-packages/geopandas/geoseries.py:645: FutureWarning: the convert_dtype parameter is deprecated and will be removed in a future version.  Do ``ser.astype(object).apply()`` instead if you want ``convert_dtype=False``.\n",
      "  result = super().apply(func, convert_dtype=convert_dtype, args=args, **kwargs)\n",
      "/tmp/ipykernel_106/513827320.py:310: UserWarning: This figure includes Axes that are not compatible with tight_layout, so results might be incorrect.\n",
      "  plt.tight_layout()  # Adjust layout to prevent overlap\n"
     ]
    },
    {
     "name": "stdout",
     "output_type": "stream",
     "text": [
      "working on Kamb_9\n"
     ]
    },
    {
     "name": "stderr",
     "output_type": "stream",
     "text": [
      "/srv/conda/envs/notebook/lib/python3.11/site-packages/geopandas/io/file.py:383: FutureWarning: errors='ignore' is deprecated and will raise in a future version. Use to_datetime without passing `errors` and catch exceptions explicitly instead\n",
      "  as_dt = pd.to_datetime(df[k], errors=\"ignore\")\n",
      "/srv/conda/envs/notebook/lib/python3.11/site-packages/geopandas/geoseries.py:645: FutureWarning: the convert_dtype parameter is deprecated and will be removed in a future version.  Do ``ser.astype(object).apply()`` instead if you want ``convert_dtype=False``.\n",
      "  result = super().apply(func, convert_dtype=convert_dtype, args=args, **kwargs)\n",
      "/tmp/ipykernel_106/513827320.py:310: UserWarning: This figure includes Axes that are not compatible with tight_layout, so results might be incorrect.\n",
      "  plt.tight_layout()  # Adjust layout to prevent overlap\n"
     ]
    },
    {
     "name": "stdout",
     "output_type": "stream",
     "text": [
      "working on L1\n"
     ]
    },
    {
     "name": "stderr",
     "output_type": "stream",
     "text": [
      "/srv/conda/envs/notebook/lib/python3.11/site-packages/geopandas/io/file.py:383: FutureWarning: errors='ignore' is deprecated and will raise in a future version. Use to_datetime without passing `errors` and catch exceptions explicitly instead\n",
      "  as_dt = pd.to_datetime(df[k], errors=\"ignore\")\n",
      "/srv/conda/envs/notebook/lib/python3.11/site-packages/geopandas/geoseries.py:645: FutureWarning: the convert_dtype parameter is deprecated and will be removed in a future version.  Do ``ser.astype(object).apply()`` instead if you want ``convert_dtype=False``.\n",
      "  result = super().apply(func, convert_dtype=convert_dtype, args=args, **kwargs)\n",
      "/tmp/ipykernel_106/513827320.py:310: UserWarning: This figure includes Axes that are not compatible with tight_layout, so results might be incorrect.\n",
      "  plt.tight_layout()  # Adjust layout to prevent overlap\n"
     ]
    },
    {
     "name": "stdout",
     "output_type": "stream",
     "text": [
      "working on Lake10\n"
     ]
    },
    {
     "name": "stderr",
     "output_type": "stream",
     "text": [
      "/srv/conda/envs/notebook/lib/python3.11/site-packages/geopandas/io/file.py:383: FutureWarning: errors='ignore' is deprecated and will raise in a future version. Use to_datetime without passing `errors` and catch exceptions explicitly instead\n",
      "  as_dt = pd.to_datetime(df[k], errors=\"ignore\")\n",
      "/srv/conda/envs/notebook/lib/python3.11/site-packages/geopandas/geoseries.py:645: FutureWarning: the convert_dtype parameter is deprecated and will be removed in a future version.  Do ``ser.astype(object).apply()`` instead if you want ``convert_dtype=False``.\n",
      "  result = super().apply(func, convert_dtype=convert_dtype, args=args, **kwargs)\n",
      "/tmp/ipykernel_106/513827320.py:310: UserWarning: This figure includes Axes that are not compatible with tight_layout, so results might be incorrect.\n",
      "  plt.tight_layout()  # Adjust layout to prevent overlap\n"
     ]
    },
    {
     "name": "stdout",
     "output_type": "stream",
     "text": [
      "working on Lake12\n"
     ]
    },
    {
     "name": "stderr",
     "output_type": "stream",
     "text": [
      "/srv/conda/envs/notebook/lib/python3.11/site-packages/geopandas/io/file.py:383: FutureWarning: errors='ignore' is deprecated and will raise in a future version. Use to_datetime without passing `errors` and catch exceptions explicitly instead\n",
      "  as_dt = pd.to_datetime(df[k], errors=\"ignore\")\n",
      "/srv/conda/envs/notebook/lib/python3.11/site-packages/geopandas/geoseries.py:645: FutureWarning: the convert_dtype parameter is deprecated and will be removed in a future version.  Do ``ser.astype(object).apply()`` instead if you want ``convert_dtype=False``.\n",
      "  result = super().apply(func, convert_dtype=convert_dtype, args=args, **kwargs)\n",
      "/tmp/ipykernel_106/513827320.py:310: UserWarning: This figure includes Axes that are not compatible with tight_layout, so results might be incorrect.\n",
      "  plt.tight_layout()  # Adjust layout to prevent overlap\n"
     ]
    },
    {
     "name": "stdout",
     "output_type": "stream",
     "text": [
      "working on Lake78\n"
     ]
    },
    {
     "name": "stderr",
     "output_type": "stream",
     "text": [
      "/srv/conda/envs/notebook/lib/python3.11/site-packages/geopandas/io/file.py:383: FutureWarning: errors='ignore' is deprecated and will raise in a future version. Use to_datetime without passing `errors` and catch exceptions explicitly instead\n",
      "  as_dt = pd.to_datetime(df[k], errors=\"ignore\")\n",
      "/srv/conda/envs/notebook/lib/python3.11/site-packages/geopandas/geoseries.py:645: FutureWarning: the convert_dtype parameter is deprecated and will be removed in a future version.  Do ``ser.astype(object).apply()`` instead if you want ``convert_dtype=False``.\n",
      "  result = super().apply(func, convert_dtype=convert_dtype, args=args, **kwargs)\n",
      "/tmp/ipykernel_106/513827320.py:310: UserWarning: This figure includes Axes that are not compatible with tight_layout, so results might be incorrect.\n",
      "  plt.tight_layout()  # Adjust layout to prevent overlap\n"
     ]
    },
    {
     "name": "stdout",
     "output_type": "stream",
     "text": [
      "working on Lambert_1\n"
     ]
    },
    {
     "name": "stderr",
     "output_type": "stream",
     "text": [
      "/srv/conda/envs/notebook/lib/python3.11/site-packages/geopandas/io/file.py:383: FutureWarning: errors='ignore' is deprecated and will raise in a future version. Use to_datetime without passing `errors` and catch exceptions explicitly instead\n",
      "  as_dt = pd.to_datetime(df[k], errors=\"ignore\")\n",
      "/srv/conda/envs/notebook/lib/python3.11/site-packages/geopandas/geoseries.py:645: FutureWarning: the convert_dtype parameter is deprecated and will be removed in a future version.  Do ``ser.astype(object).apply()`` instead if you want ``convert_dtype=False``.\n",
      "  result = super().apply(func, convert_dtype=convert_dtype, args=args, **kwargs)\n",
      "/tmp/ipykernel_106/513827320.py:310: UserWarning: This figure includes Axes that are not compatible with tight_layout, so results might be incorrect.\n",
      "  plt.tight_layout()  # Adjust layout to prevent overlap\n"
     ]
    },
    {
     "name": "stdout",
     "output_type": "stream",
     "text": [
      "working on LennoxKing_1\n"
     ]
    },
    {
     "name": "stderr",
     "output_type": "stream",
     "text": [
      "/srv/conda/envs/notebook/lib/python3.11/site-packages/geopandas/io/file.py:383: FutureWarning: errors='ignore' is deprecated and will raise in a future version. Use to_datetime without passing `errors` and catch exceptions explicitly instead\n",
      "  as_dt = pd.to_datetime(df[k], errors=\"ignore\")\n",
      "/srv/conda/envs/notebook/lib/python3.11/site-packages/geopandas/geoseries.py:645: FutureWarning: the convert_dtype parameter is deprecated and will be removed in a future version.  Do ``ser.astype(object).apply()`` instead if you want ``convert_dtype=False``.\n",
      "  result = super().apply(func, convert_dtype=convert_dtype, args=args, **kwargs)\n",
      "/tmp/ipykernel_106/513827320.py:310: UserWarning: This figure includes Axes that are not compatible with tight_layout, so results might be incorrect.\n",
      "  plt.tight_layout()  # Adjust layout to prevent overlap\n"
     ]
    },
    {
     "name": "stdout",
     "output_type": "stream",
     "text": [
      "working on LowerMercerSubglacialLake\n"
     ]
    },
    {
     "name": "stderr",
     "output_type": "stream",
     "text": [
      "/srv/conda/envs/notebook/lib/python3.11/site-packages/geopandas/io/file.py:383: FutureWarning: errors='ignore' is deprecated and will raise in a future version. Use to_datetime without passing `errors` and catch exceptions explicitly instead\n",
      "  as_dt = pd.to_datetime(df[k], errors=\"ignore\")\n",
      "/srv/conda/envs/notebook/lib/python3.11/site-packages/geopandas/geoseries.py:645: FutureWarning: the convert_dtype parameter is deprecated and will be removed in a future version.  Do ``ser.astype(object).apply()`` instead if you want ``convert_dtype=False``.\n",
      "  result = super().apply(func, convert_dtype=convert_dtype, args=args, **kwargs)\n",
      "/tmp/ipykernel_106/513827320.py:310: UserWarning: This figure includes Axes that are not compatible with tight_layout, so results might be incorrect.\n",
      "  plt.tight_layout()  # Adjust layout to prevent overlap\n"
     ]
    },
    {
     "name": "stdout",
     "output_type": "stream",
     "text": [
      "working on LowerSubglacialLakeConway\n"
     ]
    },
    {
     "name": "stderr",
     "output_type": "stream",
     "text": [
      "/srv/conda/envs/notebook/lib/python3.11/site-packages/geopandas/io/file.py:383: FutureWarning: errors='ignore' is deprecated and will raise in a future version. Use to_datetime without passing `errors` and catch exceptions explicitly instead\n",
      "  as_dt = pd.to_datetime(df[k], errors=\"ignore\")\n",
      "/srv/conda/envs/notebook/lib/python3.11/site-packages/geopandas/geoseries.py:645: FutureWarning: the convert_dtype parameter is deprecated and will be removed in a future version.  Do ``ser.astype(object).apply()`` instead if you want ``convert_dtype=False``.\n",
      "  result = super().apply(func, convert_dtype=convert_dtype, args=args, **kwargs)\n",
      "/tmp/ipykernel_106/513827320.py:310: UserWarning: This figure includes Axes that are not compatible with tight_layout, so results might be incorrect.\n",
      "  plt.tight_layout()  # Adjust layout to prevent overlap\n"
     ]
    },
    {
     "name": "stdout",
     "output_type": "stream",
     "text": [
      "working on Mac1\n"
     ]
    },
    {
     "name": "stderr",
     "output_type": "stream",
     "text": [
      "/srv/conda/envs/notebook/lib/python3.11/site-packages/geopandas/io/file.py:383: FutureWarning: errors='ignore' is deprecated and will raise in a future version. Use to_datetime without passing `errors` and catch exceptions explicitly instead\n",
      "  as_dt = pd.to_datetime(df[k], errors=\"ignore\")\n",
      "/srv/conda/envs/notebook/lib/python3.11/site-packages/geopandas/geoseries.py:645: FutureWarning: the convert_dtype parameter is deprecated and will be removed in a future version.  Do ``ser.astype(object).apply()`` instead if you want ``convert_dtype=False``.\n",
      "  result = super().apply(func, convert_dtype=convert_dtype, args=args, **kwargs)\n",
      "/tmp/ipykernel_106/513827320.py:310: UserWarning: This figure includes Axes that are not compatible with tight_layout, so results might be incorrect.\n",
      "  plt.tight_layout()  # Adjust layout to prevent overlap\n"
     ]
    },
    {
     "name": "stdout",
     "output_type": "stream",
     "text": [
      "working on Mac2\n"
     ]
    },
    {
     "name": "stderr",
     "output_type": "stream",
     "text": [
      "/srv/conda/envs/notebook/lib/python3.11/site-packages/geopandas/io/file.py:383: FutureWarning: errors='ignore' is deprecated and will raise in a future version. Use to_datetime without passing `errors` and catch exceptions explicitly instead\n",
      "  as_dt = pd.to_datetime(df[k], errors=\"ignore\")\n",
      "/srv/conda/envs/notebook/lib/python3.11/site-packages/geopandas/geoseries.py:645: FutureWarning: the convert_dtype parameter is deprecated and will be removed in a future version.  Do ``ser.astype(object).apply()`` instead if you want ``convert_dtype=False``.\n",
      "  result = super().apply(func, convert_dtype=convert_dtype, args=args, **kwargs)\n",
      "/tmp/ipykernel_106/513827320.py:310: UserWarning: This figure includes Axes that are not compatible with tight_layout, so results might be incorrect.\n",
      "  plt.tight_layout()  # Adjust layout to prevent overlap\n"
     ]
    },
    {
     "name": "stdout",
     "output_type": "stream",
     "text": [
      "working on Mac3\n"
     ]
    },
    {
     "name": "stderr",
     "output_type": "stream",
     "text": [
      "/srv/conda/envs/notebook/lib/python3.11/site-packages/geopandas/io/file.py:383: FutureWarning: errors='ignore' is deprecated and will raise in a future version. Use to_datetime without passing `errors` and catch exceptions explicitly instead\n",
      "  as_dt = pd.to_datetime(df[k], errors=\"ignore\")\n",
      "/srv/conda/envs/notebook/lib/python3.11/site-packages/geopandas/geoseries.py:645: FutureWarning: the convert_dtype parameter is deprecated and will be removed in a future version.  Do ``ser.astype(object).apply()`` instead if you want ``convert_dtype=False``.\n",
      "  result = super().apply(func, convert_dtype=convert_dtype, args=args, **kwargs)\n",
      "/tmp/ipykernel_106/513827320.py:310: UserWarning: This figure includes Axes that are not compatible with tight_layout, so results might be incorrect.\n",
      "  plt.tight_layout()  # Adjust layout to prevent overlap\n"
     ]
    },
    {
     "name": "stdout",
     "output_type": "stream",
     "text": [
      "working on Mac4\n"
     ]
    },
    {
     "name": "stderr",
     "output_type": "stream",
     "text": [
      "/srv/conda/envs/notebook/lib/python3.11/site-packages/geopandas/io/file.py:383: FutureWarning: errors='ignore' is deprecated and will raise in a future version. Use to_datetime without passing `errors` and catch exceptions explicitly instead\n",
      "  as_dt = pd.to_datetime(df[k], errors=\"ignore\")\n",
      "/srv/conda/envs/notebook/lib/python3.11/site-packages/geopandas/geoseries.py:645: FutureWarning: the convert_dtype parameter is deprecated and will be removed in a future version.  Do ``ser.astype(object).apply()`` instead if you want ``convert_dtype=False``.\n",
      "  result = super().apply(func, convert_dtype=convert_dtype, args=args, **kwargs)\n",
      "/tmp/ipykernel_106/513827320.py:310: UserWarning: This figure includes Axes that are not compatible with tight_layout, so results might be incorrect.\n",
      "  plt.tight_layout()  # Adjust layout to prevent overlap\n"
     ]
    },
    {
     "name": "stdout",
     "output_type": "stream",
     "text": [
      "working on Mac5\n"
     ]
    },
    {
     "name": "stderr",
     "output_type": "stream",
     "text": [
      "/srv/conda/envs/notebook/lib/python3.11/site-packages/geopandas/io/file.py:383: FutureWarning: errors='ignore' is deprecated and will raise in a future version. Use to_datetime without passing `errors` and catch exceptions explicitly instead\n",
      "  as_dt = pd.to_datetime(df[k], errors=\"ignore\")\n",
      "/srv/conda/envs/notebook/lib/python3.11/site-packages/geopandas/geoseries.py:645: FutureWarning: the convert_dtype parameter is deprecated and will be removed in a future version.  Do ``ser.astype(object).apply()`` instead if you want ``convert_dtype=False``.\n",
      "  result = super().apply(func, convert_dtype=convert_dtype, args=args, **kwargs)\n",
      "/tmp/ipykernel_106/513827320.py:310: UserWarning: This figure includes Axes that are not compatible with tight_layout, so results might be incorrect.\n",
      "  plt.tight_layout()  # Adjust layout to prevent overlap\n"
     ]
    },
    {
     "name": "stdout",
     "output_type": "stream",
     "text": [
      "working on Mac6\n"
     ]
    },
    {
     "name": "stderr",
     "output_type": "stream",
     "text": [
      "/srv/conda/envs/notebook/lib/python3.11/site-packages/geopandas/io/file.py:383: FutureWarning: errors='ignore' is deprecated and will raise in a future version. Use to_datetime without passing `errors` and catch exceptions explicitly instead\n",
      "  as_dt = pd.to_datetime(df[k], errors=\"ignore\")\n",
      "/srv/conda/envs/notebook/lib/python3.11/site-packages/geopandas/geoseries.py:645: FutureWarning: the convert_dtype parameter is deprecated and will be removed in a future version.  Do ``ser.astype(object).apply()`` instead if you want ``convert_dtype=False``.\n",
      "  result = super().apply(func, convert_dtype=convert_dtype, args=args, **kwargs)\n",
      "/tmp/ipykernel_106/513827320.py:310: UserWarning: This figure includes Axes that are not compatible with tight_layout, so results might be incorrect.\n",
      "  plt.tight_layout()  # Adjust layout to prevent overlap\n"
     ]
    },
    {
     "name": "stdout",
     "output_type": "stream",
     "text": [
      "working on MercerSubglacialLake\n"
     ]
    },
    {
     "name": "stderr",
     "output_type": "stream",
     "text": [
      "/srv/conda/envs/notebook/lib/python3.11/site-packages/geopandas/io/file.py:383: FutureWarning: errors='ignore' is deprecated and will raise in a future version. Use to_datetime without passing `errors` and catch exceptions explicitly instead\n",
      "  as_dt = pd.to_datetime(df[k], errors=\"ignore\")\n",
      "/srv/conda/envs/notebook/lib/python3.11/site-packages/geopandas/geoseries.py:645: FutureWarning: the convert_dtype parameter is deprecated and will be removed in a future version.  Do ``ser.astype(object).apply()`` instead if you want ``convert_dtype=False``.\n",
      "  result = super().apply(func, convert_dtype=convert_dtype, args=args, **kwargs)\n",
      "/tmp/ipykernel_106/513827320.py:310: UserWarning: This figure includes Axes that are not compatible with tight_layout, so results might be incorrect.\n",
      "  plt.tight_layout()  # Adjust layout to prevent overlap\n"
     ]
    },
    {
     "name": "stdout",
     "output_type": "stream",
     "text": [
      "working on Mertz_1\n",
      "File for Mertz_1 not found. Skipping...\n",
      "working on Mulock_1\n",
      "File for Mulock_1 not found. Skipping...\n",
      "working on Nimrod_1\n",
      "File for Nimrod_1 not found. Skipping...\n",
      "working on Nimrod_2\n"
     ]
    },
    {
     "name": "stderr",
     "output_type": "stream",
     "text": [
      "/srv/conda/envs/notebook/lib/python3.11/site-packages/geopandas/io/file.py:383: FutureWarning: errors='ignore' is deprecated and will raise in a future version. Use to_datetime without passing `errors` and catch exceptions explicitly instead\n",
      "  as_dt = pd.to_datetime(df[k], errors=\"ignore\")\n",
      "/srv/conda/envs/notebook/lib/python3.11/site-packages/geopandas/geoseries.py:645: FutureWarning: the convert_dtype parameter is deprecated and will be removed in a future version.  Do ``ser.astype(object).apply()`` instead if you want ``convert_dtype=False``.\n",
      "  result = super().apply(func, convert_dtype=convert_dtype, args=args, **kwargs)\n",
      "/tmp/ipykernel_106/513827320.py:310: UserWarning: This figure includes Axes that are not compatible with tight_layout, so results might be incorrect.\n",
      "  plt.tight_layout()  # Adjust layout to prevent overlap\n"
     ]
    },
    {
     "name": "stdout",
     "output_type": "stream",
     "text": [
      "working on Ninnis_1\n"
     ]
    },
    {
     "name": "stderr",
     "output_type": "stream",
     "text": [
      "/srv/conda/envs/notebook/lib/python3.11/site-packages/geopandas/io/file.py:383: FutureWarning: errors='ignore' is deprecated and will raise in a future version. Use to_datetime without passing `errors` and catch exceptions explicitly instead\n",
      "  as_dt = pd.to_datetime(df[k], errors=\"ignore\")\n",
      "/srv/conda/envs/notebook/lib/python3.11/site-packages/geopandas/geoseries.py:645: FutureWarning: the convert_dtype parameter is deprecated and will be removed in a future version.  Do ``ser.astype(object).apply()`` instead if you want ``convert_dtype=False``.\n",
      "  result = super().apply(func, convert_dtype=convert_dtype, args=args, **kwargs)\n",
      "/tmp/ipykernel_106/513827320.py:310: UserWarning: This figure includes Axes that are not compatible with tight_layout, so results might be incorrect.\n",
      "  plt.tight_layout()  # Adjust layout to prevent overlap\n"
     ]
    },
    {
     "name": "stdout",
     "output_type": "stream",
     "text": [
      "working on Ninnis_2\n",
      "File for Ninnis_2 not found. Skipping...\n",
      "working on Raymond_1\n"
     ]
    },
    {
     "name": "stderr",
     "output_type": "stream",
     "text": [
      "/srv/conda/envs/notebook/lib/python3.11/site-packages/geopandas/io/file.py:383: FutureWarning: errors='ignore' is deprecated and will raise in a future version. Use to_datetime without passing `errors` and catch exceptions explicitly instead\n",
      "  as_dt = pd.to_datetime(df[k], errors=\"ignore\")\n",
      "/srv/conda/envs/notebook/lib/python3.11/site-packages/geopandas/geoseries.py:645: FutureWarning: the convert_dtype parameter is deprecated and will be removed in a future version.  Do ``ser.astype(object).apply()`` instead if you want ``convert_dtype=False``.\n",
      "  result = super().apply(func, convert_dtype=convert_dtype, args=args, **kwargs)\n",
      "/tmp/ipykernel_106/513827320.py:310: UserWarning: This figure includes Axes that are not compatible with tight_layout, so results might be incorrect.\n",
      "  plt.tight_layout()  # Adjust layout to prevent overlap\n"
     ]
    },
    {
     "name": "stdout",
     "output_type": "stream",
     "text": [
      "working on Rec1\n"
     ]
    },
    {
     "name": "stderr",
     "output_type": "stream",
     "text": [
      "/srv/conda/envs/notebook/lib/python3.11/site-packages/geopandas/io/file.py:383: FutureWarning: errors='ignore' is deprecated and will raise in a future version. Use to_datetime without passing `errors` and catch exceptions explicitly instead\n",
      "  as_dt = pd.to_datetime(df[k], errors=\"ignore\")\n",
      "/srv/conda/envs/notebook/lib/python3.11/site-packages/geopandas/geoseries.py:645: FutureWarning: the convert_dtype parameter is deprecated and will be removed in a future version.  Do ``ser.astype(object).apply()`` instead if you want ``convert_dtype=False``.\n",
      "  result = super().apply(func, convert_dtype=convert_dtype, args=args, **kwargs)\n",
      "/tmp/ipykernel_106/513827320.py:310: UserWarning: This figure includes Axes that are not compatible with tight_layout, so results might be incorrect.\n",
      "  plt.tight_layout()  # Adjust layout to prevent overlap\n"
     ]
    },
    {
     "name": "stdout",
     "output_type": "stream",
     "text": [
      "working on Rec10\n"
     ]
    },
    {
     "name": "stderr",
     "output_type": "stream",
     "text": [
      "/srv/conda/envs/notebook/lib/python3.11/site-packages/geopandas/io/file.py:383: FutureWarning: errors='ignore' is deprecated and will raise in a future version. Use to_datetime without passing `errors` and catch exceptions explicitly instead\n",
      "  as_dt = pd.to_datetime(df[k], errors=\"ignore\")\n",
      "/srv/conda/envs/notebook/lib/python3.11/site-packages/geopandas/geoseries.py:645: FutureWarning: the convert_dtype parameter is deprecated and will be removed in a future version.  Do ``ser.astype(object).apply()`` instead if you want ``convert_dtype=False``.\n",
      "  result = super().apply(func, convert_dtype=convert_dtype, args=args, **kwargs)\n",
      "/tmp/ipykernel_106/513827320.py:310: UserWarning: This figure includes Axes that are not compatible with tight_layout, so results might be incorrect.\n",
      "  plt.tight_layout()  # Adjust layout to prevent overlap\n"
     ]
    },
    {
     "name": "stdout",
     "output_type": "stream",
     "text": [
      "working on Rec2\n"
     ]
    },
    {
     "name": "stderr",
     "output_type": "stream",
     "text": [
      "/srv/conda/envs/notebook/lib/python3.11/site-packages/geopandas/io/file.py:383: FutureWarning: errors='ignore' is deprecated and will raise in a future version. Use to_datetime without passing `errors` and catch exceptions explicitly instead\n",
      "  as_dt = pd.to_datetime(df[k], errors=\"ignore\")\n",
      "/srv/conda/envs/notebook/lib/python3.11/site-packages/geopandas/geoseries.py:645: FutureWarning: the convert_dtype parameter is deprecated and will be removed in a future version.  Do ``ser.astype(object).apply()`` instead if you want ``convert_dtype=False``.\n",
      "  result = super().apply(func, convert_dtype=convert_dtype, args=args, **kwargs)\n",
      "/tmp/ipykernel_106/513827320.py:310: UserWarning: This figure includes Axes that are not compatible with tight_layout, so results might be incorrect.\n",
      "  plt.tight_layout()  # Adjust layout to prevent overlap\n"
     ]
    },
    {
     "name": "stdout",
     "output_type": "stream",
     "text": [
      "working on Rec3\n"
     ]
    },
    {
     "name": "stderr",
     "output_type": "stream",
     "text": [
      "/srv/conda/envs/notebook/lib/python3.11/site-packages/geopandas/io/file.py:383: FutureWarning: errors='ignore' is deprecated and will raise in a future version. Use to_datetime without passing `errors` and catch exceptions explicitly instead\n",
      "  as_dt = pd.to_datetime(df[k], errors=\"ignore\")\n",
      "/srv/conda/envs/notebook/lib/python3.11/site-packages/geopandas/geoseries.py:645: FutureWarning: the convert_dtype parameter is deprecated and will be removed in a future version.  Do ``ser.astype(object).apply()`` instead if you want ``convert_dtype=False``.\n",
      "  result = super().apply(func, convert_dtype=convert_dtype, args=args, **kwargs)\n",
      "/tmp/ipykernel_106/513827320.py:310: UserWarning: This figure includes Axes that are not compatible with tight_layout, so results might be incorrect.\n",
      "  plt.tight_layout()  # Adjust layout to prevent overlap\n"
     ]
    },
    {
     "name": "stdout",
     "output_type": "stream",
     "text": [
      "working on Rec4\n"
     ]
    },
    {
     "name": "stderr",
     "output_type": "stream",
     "text": [
      "/srv/conda/envs/notebook/lib/python3.11/site-packages/geopandas/io/file.py:383: FutureWarning: errors='ignore' is deprecated and will raise in a future version. Use to_datetime without passing `errors` and catch exceptions explicitly instead\n",
      "  as_dt = pd.to_datetime(df[k], errors=\"ignore\")\n",
      "/srv/conda/envs/notebook/lib/python3.11/site-packages/geopandas/geoseries.py:645: FutureWarning: the convert_dtype parameter is deprecated and will be removed in a future version.  Do ``ser.astype(object).apply()`` instead if you want ``convert_dtype=False``.\n",
      "  result = super().apply(func, convert_dtype=convert_dtype, args=args, **kwargs)\n",
      "/tmp/ipykernel_106/513827320.py:310: UserWarning: This figure includes Axes that are not compatible with tight_layout, so results might be incorrect.\n",
      "  plt.tight_layout()  # Adjust layout to prevent overlap\n"
     ]
    },
    {
     "name": "stdout",
     "output_type": "stream",
     "text": [
      "working on Rec5\n"
     ]
    },
    {
     "name": "stderr",
     "output_type": "stream",
     "text": [
      "/srv/conda/envs/notebook/lib/python3.11/site-packages/geopandas/io/file.py:383: FutureWarning: errors='ignore' is deprecated and will raise in a future version. Use to_datetime without passing `errors` and catch exceptions explicitly instead\n",
      "  as_dt = pd.to_datetime(df[k], errors=\"ignore\")\n",
      "/srv/conda/envs/notebook/lib/python3.11/site-packages/geopandas/geoseries.py:645: FutureWarning: the convert_dtype parameter is deprecated and will be removed in a future version.  Do ``ser.astype(object).apply()`` instead if you want ``convert_dtype=False``.\n",
      "  result = super().apply(func, convert_dtype=convert_dtype, args=args, **kwargs)\n",
      "/tmp/ipykernel_106/513827320.py:310: UserWarning: This figure includes Axes that are not compatible with tight_layout, so results might be incorrect.\n",
      "  plt.tight_layout()  # Adjust layout to prevent overlap\n"
     ]
    },
    {
     "name": "stdout",
     "output_type": "stream",
     "text": [
      "working on Rec6\n"
     ]
    },
    {
     "name": "stderr",
     "output_type": "stream",
     "text": [
      "/srv/conda/envs/notebook/lib/python3.11/site-packages/geopandas/io/file.py:383: FutureWarning: errors='ignore' is deprecated and will raise in a future version. Use to_datetime without passing `errors` and catch exceptions explicitly instead\n",
      "  as_dt = pd.to_datetime(df[k], errors=\"ignore\")\n",
      "/srv/conda/envs/notebook/lib/python3.11/site-packages/geopandas/geoseries.py:645: FutureWarning: the convert_dtype parameter is deprecated and will be removed in a future version.  Do ``ser.astype(object).apply()`` instead if you want ``convert_dtype=False``.\n",
      "  result = super().apply(func, convert_dtype=convert_dtype, args=args, **kwargs)\n",
      "/tmp/ipykernel_106/513827320.py:310: UserWarning: This figure includes Axes that are not compatible with tight_layout, so results might be incorrect.\n",
      "  plt.tight_layout()  # Adjust layout to prevent overlap\n"
     ]
    },
    {
     "name": "stdout",
     "output_type": "stream",
     "text": [
      "working on Rec8\n"
     ]
    },
    {
     "name": "stderr",
     "output_type": "stream",
     "text": [
      "/srv/conda/envs/notebook/lib/python3.11/site-packages/geopandas/io/file.py:383: FutureWarning: errors='ignore' is deprecated and will raise in a future version. Use to_datetime without passing `errors` and catch exceptions explicitly instead\n",
      "  as_dt = pd.to_datetime(df[k], errors=\"ignore\")\n",
      "/srv/conda/envs/notebook/lib/python3.11/site-packages/geopandas/geoseries.py:645: FutureWarning: the convert_dtype parameter is deprecated and will be removed in a future version.  Do ``ser.astype(object).apply()`` instead if you want ``convert_dtype=False``.\n",
      "  result = super().apply(func, convert_dtype=convert_dtype, args=args, **kwargs)\n",
      "/tmp/ipykernel_106/513827320.py:310: UserWarning: This figure includes Axes that are not compatible with tight_layout, so results might be incorrect.\n",
      "  plt.tight_layout()  # Adjust layout to prevent overlap\n"
     ]
    },
    {
     "name": "stdout",
     "output_type": "stream",
     "text": [
      "working on Rec9\n"
     ]
    },
    {
     "name": "stderr",
     "output_type": "stream",
     "text": [
      "/srv/conda/envs/notebook/lib/python3.11/site-packages/geopandas/io/file.py:383: FutureWarning: errors='ignore' is deprecated and will raise in a future version. Use to_datetime without passing `errors` and catch exceptions explicitly instead\n",
      "  as_dt = pd.to_datetime(df[k], errors=\"ignore\")\n",
      "/srv/conda/envs/notebook/lib/python3.11/site-packages/geopandas/geoseries.py:645: FutureWarning: the convert_dtype parameter is deprecated and will be removed in a future version.  Do ``ser.astype(object).apply()`` instead if you want ``convert_dtype=False``.\n",
      "  result = super().apply(func, convert_dtype=convert_dtype, args=args, **kwargs)\n",
      "/tmp/ipykernel_106/513827320.py:310: UserWarning: This figure includes Axes that are not compatible with tight_layout, so results might be incorrect.\n",
      "  plt.tight_layout()  # Adjust layout to prevent overlap\n"
     ]
    },
    {
     "name": "stdout",
     "output_type": "stream",
     "text": [
      "working on Recovery_8\n"
     ]
    },
    {
     "name": "stderr",
     "output_type": "stream",
     "text": [
      "/srv/conda/envs/notebook/lib/python3.11/site-packages/geopandas/io/file.py:383: FutureWarning: errors='ignore' is deprecated and will raise in a future version. Use to_datetime without passing `errors` and catch exceptions explicitly instead\n",
      "  as_dt = pd.to_datetime(df[k], errors=\"ignore\")\n",
      "/srv/conda/envs/notebook/lib/python3.11/site-packages/geopandas/geoseries.py:645: FutureWarning: the convert_dtype parameter is deprecated and will be removed in a future version.  Do ``ser.astype(object).apply()`` instead if you want ``convert_dtype=False``.\n",
      "  result = super().apply(func, convert_dtype=convert_dtype, args=args, **kwargs)\n",
      "/tmp/ipykernel_106/513827320.py:310: UserWarning: This figure includes Axes that are not compatible with tight_layout, so results might be incorrect.\n",
      "  plt.tight_layout()  # Adjust layout to prevent overlap\n"
     ]
    },
    {
     "name": "stdout",
     "output_type": "stream",
     "text": [
      "working on Rutford_1\n"
     ]
    },
    {
     "name": "stderr",
     "output_type": "stream",
     "text": [
      "/srv/conda/envs/notebook/lib/python3.11/site-packages/geopandas/io/file.py:383: FutureWarning: errors='ignore' is deprecated and will raise in a future version. Use to_datetime without passing `errors` and catch exceptions explicitly instead\n",
      "  as_dt = pd.to_datetime(df[k], errors=\"ignore\")\n",
      "/srv/conda/envs/notebook/lib/python3.11/site-packages/geopandas/geoseries.py:645: FutureWarning: the convert_dtype parameter is deprecated and will be removed in a future version.  Do ``ser.astype(object).apply()`` instead if you want ``convert_dtype=False``.\n",
      "  result = super().apply(func, convert_dtype=convert_dtype, args=args, **kwargs)\n",
      "/tmp/ipykernel_106/513827320.py:310: UserWarning: This figure includes Axes that are not compatible with tight_layout, so results might be incorrect.\n",
      "  plt.tight_layout()  # Adjust layout to prevent overlap\n"
     ]
    },
    {
     "name": "stdout",
     "output_type": "stream",
     "text": [
      "working on Site_A\n"
     ]
    },
    {
     "name": "stderr",
     "output_type": "stream",
     "text": [
      "/srv/conda/envs/notebook/lib/python3.11/site-packages/geopandas/io/file.py:383: FutureWarning: errors='ignore' is deprecated and will raise in a future version. Use to_datetime without passing `errors` and catch exceptions explicitly instead\n",
      "  as_dt = pd.to_datetime(df[k], errors=\"ignore\")\n",
      "/srv/conda/envs/notebook/lib/python3.11/site-packages/geopandas/geoseries.py:645: FutureWarning: the convert_dtype parameter is deprecated and will be removed in a future version.  Do ``ser.astype(object).apply()`` instead if you want ``convert_dtype=False``.\n",
      "  result = super().apply(func, convert_dtype=convert_dtype, args=args, **kwargs)\n",
      "/tmp/ipykernel_106/513827320.py:310: UserWarning: This figure includes Axes that are not compatible with tight_layout, so results might be incorrect.\n",
      "  plt.tight_layout()  # Adjust layout to prevent overlap\n"
     ]
    },
    {
     "name": "stdout",
     "output_type": "stream",
     "text": [
      "working on Site_B\n"
     ]
    },
    {
     "name": "stderr",
     "output_type": "stream",
     "text": [
      "/srv/conda/envs/notebook/lib/python3.11/site-packages/geopandas/io/file.py:383: FutureWarning: errors='ignore' is deprecated and will raise in a future version. Use to_datetime without passing `errors` and catch exceptions explicitly instead\n",
      "  as_dt = pd.to_datetime(df[k], errors=\"ignore\")\n",
      "/srv/conda/envs/notebook/lib/python3.11/site-packages/geopandas/geoseries.py:645: FutureWarning: the convert_dtype parameter is deprecated and will be removed in a future version.  Do ``ser.astype(object).apply()`` instead if you want ``convert_dtype=False``.\n",
      "  result = super().apply(func, convert_dtype=convert_dtype, args=args, **kwargs)\n",
      "/tmp/ipykernel_106/513827320.py:310: UserWarning: This figure includes Axes that are not compatible with tight_layout, so results might be incorrect.\n",
      "  plt.tight_layout()  # Adjust layout to prevent overlap\n"
     ]
    },
    {
     "name": "stdout",
     "output_type": "stream",
     "text": [
      "working on Site_C\n"
     ]
    },
    {
     "name": "stderr",
     "output_type": "stream",
     "text": [
      "/srv/conda/envs/notebook/lib/python3.11/site-packages/geopandas/io/file.py:383: FutureWarning: errors='ignore' is deprecated and will raise in a future version. Use to_datetime without passing `errors` and catch exceptions explicitly instead\n",
      "  as_dt = pd.to_datetime(df[k], errors=\"ignore\")\n",
      "/srv/conda/envs/notebook/lib/python3.11/site-packages/geopandas/geoseries.py:645: FutureWarning: the convert_dtype parameter is deprecated and will be removed in a future version.  Do ``ser.astype(object).apply()`` instead if you want ``convert_dtype=False``.\n",
      "  result = super().apply(func, convert_dtype=convert_dtype, args=args, **kwargs)\n",
      "/tmp/ipykernel_106/513827320.py:310: UserWarning: This figure includes Axes that are not compatible with tight_layout, so results might be incorrect.\n",
      "  plt.tight_layout()  # Adjust layout to prevent overlap\n"
     ]
    },
    {
     "name": "stdout",
     "output_type": "stream",
     "text": [
      "working on Slessor_1\n"
     ]
    },
    {
     "name": "stderr",
     "output_type": "stream",
     "text": [
      "/srv/conda/envs/notebook/lib/python3.11/site-packages/geopandas/io/file.py:383: FutureWarning: errors='ignore' is deprecated and will raise in a future version. Use to_datetime without passing `errors` and catch exceptions explicitly instead\n",
      "  as_dt = pd.to_datetime(df[k], errors=\"ignore\")\n",
      "/srv/conda/envs/notebook/lib/python3.11/site-packages/geopandas/geoseries.py:645: FutureWarning: the convert_dtype parameter is deprecated and will be removed in a future version.  Do ``ser.astype(object).apply()`` instead if you want ``convert_dtype=False``.\n",
      "  result = super().apply(func, convert_dtype=convert_dtype, args=args, **kwargs)\n",
      "/tmp/ipykernel_106/513827320.py:310: UserWarning: This figure includes Axes that are not compatible with tight_layout, so results might be incorrect.\n",
      "  plt.tight_layout()  # Adjust layout to prevent overlap\n"
     ]
    },
    {
     "name": "stdout",
     "output_type": "stream",
     "text": [
      "working on Slessor_23\n"
     ]
    },
    {
     "name": "stderr",
     "output_type": "stream",
     "text": [
      "/srv/conda/envs/notebook/lib/python3.11/site-packages/geopandas/io/file.py:383: FutureWarning: errors='ignore' is deprecated and will raise in a future version. Use to_datetime without passing `errors` and catch exceptions explicitly instead\n",
      "  as_dt = pd.to_datetime(df[k], errors=\"ignore\")\n",
      "/srv/conda/envs/notebook/lib/python3.11/site-packages/geopandas/geoseries.py:645: FutureWarning: the convert_dtype parameter is deprecated and will be removed in a future version.  Do ``ser.astype(object).apply()`` instead if you want ``convert_dtype=False``.\n",
      "  result = super().apply(func, convert_dtype=convert_dtype, args=args, **kwargs)\n",
      "/tmp/ipykernel_106/513827320.py:310: UserWarning: This figure includes Axes that are not compatible with tight_layout, so results might be incorrect.\n",
      "  plt.tight_layout()  # Adjust layout to prevent overlap\n"
     ]
    },
    {
     "name": "stdout",
     "output_type": "stream",
     "text": [
      "working on Slessor_4\n"
     ]
    },
    {
     "name": "stderr",
     "output_type": "stream",
     "text": [
      "/srv/conda/envs/notebook/lib/python3.11/site-packages/geopandas/io/file.py:383: FutureWarning: errors='ignore' is deprecated and will raise in a future version. Use to_datetime without passing `errors` and catch exceptions explicitly instead\n",
      "  as_dt = pd.to_datetime(df[k], errors=\"ignore\")\n",
      "/srv/conda/envs/notebook/lib/python3.11/site-packages/geopandas/geoseries.py:645: FutureWarning: the convert_dtype parameter is deprecated and will be removed in a future version.  Do ``ser.astype(object).apply()`` instead if you want ``convert_dtype=False``.\n",
      "  result = super().apply(func, convert_dtype=convert_dtype, args=args, **kwargs)\n",
      "/tmp/ipykernel_106/513827320.py:310: UserWarning: This figure includes Axes that are not compatible with tight_layout, so results might be incorrect.\n",
      "  plt.tight_layout()  # Adjust layout to prevent overlap\n"
     ]
    },
    {
     "name": "stdout",
     "output_type": "stream",
     "text": [
      "working on Slessor_5\n"
     ]
    },
    {
     "name": "stderr",
     "output_type": "stream",
     "text": [
      "/srv/conda/envs/notebook/lib/python3.11/site-packages/geopandas/io/file.py:383: FutureWarning: errors='ignore' is deprecated and will raise in a future version. Use to_datetime without passing `errors` and catch exceptions explicitly instead\n",
      "  as_dt = pd.to_datetime(df[k], errors=\"ignore\")\n",
      "/srv/conda/envs/notebook/lib/python3.11/site-packages/geopandas/geoseries.py:645: FutureWarning: the convert_dtype parameter is deprecated and will be removed in a future version.  Do ``ser.astype(object).apply()`` instead if you want ``convert_dtype=False``.\n",
      "  result = super().apply(func, convert_dtype=convert_dtype, args=args, **kwargs)\n",
      "/tmp/ipykernel_106/513827320.py:310: UserWarning: This figure includes Axes that are not compatible with tight_layout, so results might be incorrect.\n",
      "  plt.tight_layout()  # Adjust layout to prevent overlap\n"
     ]
    },
    {
     "name": "stdout",
     "output_type": "stream",
     "text": [
      "working on Slessor_6\n"
     ]
    },
    {
     "name": "stderr",
     "output_type": "stream",
     "text": [
      "/srv/conda/envs/notebook/lib/python3.11/site-packages/geopandas/io/file.py:383: FutureWarning: errors='ignore' is deprecated and will raise in a future version. Use to_datetime without passing `errors` and catch exceptions explicitly instead\n",
      "  as_dt = pd.to_datetime(df[k], errors=\"ignore\")\n",
      "/srv/conda/envs/notebook/lib/python3.11/site-packages/geopandas/geoseries.py:645: FutureWarning: the convert_dtype parameter is deprecated and will be removed in a future version.  Do ``ser.astype(object).apply()`` instead if you want ``convert_dtype=False``.\n",
      "  result = super().apply(func, convert_dtype=convert_dtype, args=args, **kwargs)\n",
      "/tmp/ipykernel_106/513827320.py:310: UserWarning: This figure includes Axes that are not compatible with tight_layout, so results might be incorrect.\n",
      "  plt.tight_layout()  # Adjust layout to prevent overlap\n"
     ]
    },
    {
     "name": "stdout",
     "output_type": "stream",
     "text": [
      "working on Slessor_7\n"
     ]
    },
    {
     "name": "stderr",
     "output_type": "stream",
     "text": [
      "/srv/conda/envs/notebook/lib/python3.11/site-packages/geopandas/io/file.py:383: FutureWarning: errors='ignore' is deprecated and will raise in a future version. Use to_datetime without passing `errors` and catch exceptions explicitly instead\n",
      "  as_dt = pd.to_datetime(df[k], errors=\"ignore\")\n",
      "/srv/conda/envs/notebook/lib/python3.11/site-packages/geopandas/geoseries.py:645: FutureWarning: the convert_dtype parameter is deprecated and will be removed in a future version.  Do ``ser.astype(object).apply()`` instead if you want ``convert_dtype=False``.\n",
      "  result = super().apply(func, convert_dtype=convert_dtype, args=args, **kwargs)\n",
      "/tmp/ipykernel_106/513827320.py:310: UserWarning: This figure includes Axes that are not compatible with tight_layout, so results might be incorrect.\n",
      "  plt.tight_layout()  # Adjust layout to prevent overlap\n"
     ]
    },
    {
     "name": "stdout",
     "output_type": "stream",
     "text": [
      "working on TL108\n"
     ]
    },
    {
     "name": "stderr",
     "output_type": "stream",
     "text": [
      "/srv/conda/envs/notebook/lib/python3.11/site-packages/geopandas/io/file.py:383: FutureWarning: errors='ignore' is deprecated and will raise in a future version. Use to_datetime without passing `errors` and catch exceptions explicitly instead\n",
      "  as_dt = pd.to_datetime(df[k], errors=\"ignore\")\n",
      "/srv/conda/envs/notebook/lib/python3.11/site-packages/geopandas/geoseries.py:645: FutureWarning: the convert_dtype parameter is deprecated and will be removed in a future version.  Do ``ser.astype(object).apply()`` instead if you want ``convert_dtype=False``.\n",
      "  result = super().apply(func, convert_dtype=convert_dtype, args=args, **kwargs)\n",
      "/tmp/ipykernel_106/513827320.py:310: UserWarning: This figure includes Axes that are not compatible with tight_layout, so results might be incorrect.\n",
      "  plt.tight_layout()  # Adjust layout to prevent overlap\n"
     ]
    },
    {
     "name": "stdout",
     "output_type": "stream",
     "text": [
      "working on TL115\n"
     ]
    },
    {
     "name": "stderr",
     "output_type": "stream",
     "text": [
      "/srv/conda/envs/notebook/lib/python3.11/site-packages/geopandas/io/file.py:383: FutureWarning: errors='ignore' is deprecated and will raise in a future version. Use to_datetime without passing `errors` and catch exceptions explicitly instead\n",
      "  as_dt = pd.to_datetime(df[k], errors=\"ignore\")\n",
      "/srv/conda/envs/notebook/lib/python3.11/site-packages/geopandas/geoseries.py:645: FutureWarning: the convert_dtype parameter is deprecated and will be removed in a future version.  Do ``ser.astype(object).apply()`` instead if you want ``convert_dtype=False``.\n",
      "  result = super().apply(func, convert_dtype=convert_dtype, args=args, **kwargs)\n",
      "/tmp/ipykernel_106/513827320.py:310: UserWarning: This figure includes Axes that are not compatible with tight_layout, so results might be incorrect.\n",
      "  plt.tight_layout()  # Adjust layout to prevent overlap\n"
     ]
    },
    {
     "name": "stdout",
     "output_type": "stream",
     "text": [
      "working on TL122\n"
     ]
    },
    {
     "name": "stderr",
     "output_type": "stream",
     "text": [
      "/srv/conda/envs/notebook/lib/python3.11/site-packages/geopandas/io/file.py:383: FutureWarning: errors='ignore' is deprecated and will raise in a future version. Use to_datetime without passing `errors` and catch exceptions explicitly instead\n",
      "  as_dt = pd.to_datetime(df[k], errors=\"ignore\")\n",
      "/srv/conda/envs/notebook/lib/python3.11/site-packages/geopandas/geoseries.py:645: FutureWarning: the convert_dtype parameter is deprecated and will be removed in a future version.  Do ``ser.astype(object).apply()`` instead if you want ``convert_dtype=False``.\n",
      "  result = super().apply(func, convert_dtype=convert_dtype, args=args, **kwargs)\n",
      "/tmp/ipykernel_106/513827320.py:310: UserWarning: This figure includes Axes that are not compatible with tight_layout, so results might be incorrect.\n",
      "  plt.tight_layout()  # Adjust layout to prevent overlap\n"
     ]
    },
    {
     "name": "stdout",
     "output_type": "stream",
     "text": [
      "working on TL96\n"
     ]
    },
    {
     "name": "stderr",
     "output_type": "stream",
     "text": [
      "/srv/conda/envs/notebook/lib/python3.11/site-packages/geopandas/io/file.py:383: FutureWarning: errors='ignore' is deprecated and will raise in a future version. Use to_datetime without passing `errors` and catch exceptions explicitly instead\n",
      "  as_dt = pd.to_datetime(df[k], errors=\"ignore\")\n",
      "/srv/conda/envs/notebook/lib/python3.11/site-packages/geopandas/geoseries.py:645: FutureWarning: the convert_dtype parameter is deprecated and will be removed in a future version.  Do ``ser.astype(object).apply()`` instead if you want ``convert_dtype=False``.\n",
      "  result = super().apply(func, convert_dtype=convert_dtype, args=args, **kwargs)\n",
      "/tmp/ipykernel_106/513827320.py:310: UserWarning: This figure includes Axes that are not compatible with tight_layout, so results might be incorrect.\n",
      "  plt.tight_layout()  # Adjust layout to prevent overlap\n"
     ]
    },
    {
     "name": "stdout",
     "output_type": "stream",
     "text": [
      "working on Thw_124\n"
     ]
    },
    {
     "name": "stderr",
     "output_type": "stream",
     "text": [
      "/srv/conda/envs/notebook/lib/python3.11/site-packages/geopandas/io/file.py:383: FutureWarning: errors='ignore' is deprecated and will raise in a future version. Use to_datetime without passing `errors` and catch exceptions explicitly instead\n",
      "  as_dt = pd.to_datetime(df[k], errors=\"ignore\")\n",
      "/srv/conda/envs/notebook/lib/python3.11/site-packages/geopandas/geoseries.py:645: FutureWarning: the convert_dtype parameter is deprecated and will be removed in a future version.  Do ``ser.astype(object).apply()`` instead if you want ``convert_dtype=False``.\n",
      "  result = super().apply(func, convert_dtype=convert_dtype, args=args, **kwargs)\n",
      "/tmp/ipykernel_106/513827320.py:310: UserWarning: This figure includes Axes that are not compatible with tight_layout, so results might be incorrect.\n",
      "  plt.tight_layout()  # Adjust layout to prevent overlap\n"
     ]
    },
    {
     "name": "stdout",
     "output_type": "stream",
     "text": [
      "working on Thw_142\n"
     ]
    },
    {
     "name": "stderr",
     "output_type": "stream",
     "text": [
      "/srv/conda/envs/notebook/lib/python3.11/site-packages/geopandas/io/file.py:383: FutureWarning: errors='ignore' is deprecated and will raise in a future version. Use to_datetime without passing `errors` and catch exceptions explicitly instead\n",
      "  as_dt = pd.to_datetime(df[k], errors=\"ignore\")\n",
      "/srv/conda/envs/notebook/lib/python3.11/site-packages/geopandas/geoseries.py:645: FutureWarning: the convert_dtype parameter is deprecated and will be removed in a future version.  Do ``ser.astype(object).apply()`` instead if you want ``convert_dtype=False``.\n",
      "  result = super().apply(func, convert_dtype=convert_dtype, args=args, **kwargs)\n",
      "/tmp/ipykernel_106/513827320.py:310: UserWarning: This figure includes Axes that are not compatible with tight_layout, so results might be incorrect.\n",
      "  plt.tight_layout()  # Adjust layout to prevent overlap\n"
     ]
    },
    {
     "name": "stdout",
     "output_type": "stream",
     "text": [
      "working on Thw_170\n"
     ]
    },
    {
     "name": "stderr",
     "output_type": "stream",
     "text": [
      "/srv/conda/envs/notebook/lib/python3.11/site-packages/geopandas/io/file.py:383: FutureWarning: errors='ignore' is deprecated and will raise in a future version. Use to_datetime without passing `errors` and catch exceptions explicitly instead\n",
      "  as_dt = pd.to_datetime(df[k], errors=\"ignore\")\n",
      "/srv/conda/envs/notebook/lib/python3.11/site-packages/geopandas/geoseries.py:645: FutureWarning: the convert_dtype parameter is deprecated and will be removed in a future version.  Do ``ser.astype(object).apply()`` instead if you want ``convert_dtype=False``.\n",
      "  result = super().apply(func, convert_dtype=convert_dtype, args=args, **kwargs)\n",
      "/tmp/ipykernel_106/513827320.py:310: UserWarning: This figure includes Axes that are not compatible with tight_layout, so results might be incorrect.\n",
      "  plt.tight_layout()  # Adjust layout to prevent overlap\n"
     ]
    },
    {
     "name": "stdout",
     "output_type": "stream",
     "text": [
      "working on Thw_70\n"
     ]
    },
    {
     "name": "stderr",
     "output_type": "stream",
     "text": [
      "/srv/conda/envs/notebook/lib/python3.11/site-packages/geopandas/io/file.py:383: FutureWarning: errors='ignore' is deprecated and will raise in a future version. Use to_datetime without passing `errors` and catch exceptions explicitly instead\n",
      "  as_dt = pd.to_datetime(df[k], errors=\"ignore\")\n",
      "/srv/conda/envs/notebook/lib/python3.11/site-packages/geopandas/geoseries.py:645: FutureWarning: the convert_dtype parameter is deprecated and will be removed in a future version.  Do ``ser.astype(object).apply()`` instead if you want ``convert_dtype=False``.\n",
      "  result = super().apply(func, convert_dtype=convert_dtype, args=args, **kwargs)\n",
      "/tmp/ipykernel_106/513827320.py:310: UserWarning: This figure includes Axes that are not compatible with tight_layout, so results might be incorrect.\n",
      "  plt.tight_layout()  # Adjust layout to prevent overlap\n"
     ]
    },
    {
     "name": "stdout",
     "output_type": "stream",
     "text": [
      "working on Totten_1\n"
     ]
    },
    {
     "name": "stderr",
     "output_type": "stream",
     "text": [
      "/srv/conda/envs/notebook/lib/python3.11/site-packages/geopandas/io/file.py:383: FutureWarning: errors='ignore' is deprecated and will raise in a future version. Use to_datetime without passing `errors` and catch exceptions explicitly instead\n",
      "  as_dt = pd.to_datetime(df[k], errors=\"ignore\")\n",
      "/srv/conda/envs/notebook/lib/python3.11/site-packages/geopandas/geoseries.py:645: FutureWarning: the convert_dtype parameter is deprecated and will be removed in a future version.  Do ``ser.astype(object).apply()`` instead if you want ``convert_dtype=False``.\n",
      "  result = super().apply(func, convert_dtype=convert_dtype, args=args, **kwargs)\n",
      "/tmp/ipykernel_106/513827320.py:310: UserWarning: This figure includes Axes that are not compatible with tight_layout, so results might be incorrect.\n",
      "  plt.tight_layout()  # Adjust layout to prevent overlap\n"
     ]
    },
    {
     "name": "stdout",
     "output_type": "stream",
     "text": [
      "working on Totten_2\n"
     ]
    },
    {
     "name": "stderr",
     "output_type": "stream",
     "text": [
      "/srv/conda/envs/notebook/lib/python3.11/site-packages/geopandas/io/file.py:383: FutureWarning: errors='ignore' is deprecated and will raise in a future version. Use to_datetime without passing `errors` and catch exceptions explicitly instead\n",
      "  as_dt = pd.to_datetime(df[k], errors=\"ignore\")\n",
      "/srv/conda/envs/notebook/lib/python3.11/site-packages/geopandas/geoseries.py:645: FutureWarning: the convert_dtype parameter is deprecated and will be removed in a future version.  Do ``ser.astype(object).apply()`` instead if you want ``convert_dtype=False``.\n",
      "  result = super().apply(func, convert_dtype=convert_dtype, args=args, **kwargs)\n",
      "/tmp/ipykernel_106/513827320.py:310: UserWarning: This figure includes Axes that are not compatible with tight_layout, so results might be incorrect.\n",
      "  plt.tight_layout()  # Adjust layout to prevent overlap\n"
     ]
    },
    {
     "name": "stdout",
     "output_type": "stream",
     "text": [
      "working on U1\n",
      "File for U1 not found. Skipping...\n",
      "working on U2\n",
      "File for U2 not found. Skipping...\n",
      "working on U3\n"
     ]
    },
    {
     "name": "stderr",
     "output_type": "stream",
     "text": [
      "/srv/conda/envs/notebook/lib/python3.11/site-packages/geopandas/io/file.py:383: FutureWarning: errors='ignore' is deprecated and will raise in a future version. Use to_datetime without passing `errors` and catch exceptions explicitly instead\n",
      "  as_dt = pd.to_datetime(df[k], errors=\"ignore\")\n",
      "/srv/conda/envs/notebook/lib/python3.11/site-packages/geopandas/geoseries.py:645: FutureWarning: the convert_dtype parameter is deprecated and will be removed in a future version.  Do ``ser.astype(object).apply()`` instead if you want ``convert_dtype=False``.\n",
      "  result = super().apply(func, convert_dtype=convert_dtype, args=args, **kwargs)\n",
      "/tmp/ipykernel_106/513827320.py:310: UserWarning: This figure includes Axes that are not compatible with tight_layout, so results might be incorrect.\n",
      "  plt.tight_layout()  # Adjust layout to prevent overlap\n"
     ]
    },
    {
     "name": "stdout",
     "output_type": "stream",
     "text": [
      "working on UpperSubglacialLakeConway\n"
     ]
    },
    {
     "name": "stderr",
     "output_type": "stream",
     "text": [
      "/srv/conda/envs/notebook/lib/python3.11/site-packages/geopandas/io/file.py:383: FutureWarning: errors='ignore' is deprecated and will raise in a future version. Use to_datetime without passing `errors` and catch exceptions explicitly instead\n",
      "  as_dt = pd.to_datetime(df[k], errors=\"ignore\")\n",
      "/srv/conda/envs/notebook/lib/python3.11/site-packages/geopandas/geoseries.py:645: FutureWarning: the convert_dtype parameter is deprecated and will be removed in a future version.  Do ``ser.astype(object).apply()`` instead if you want ``convert_dtype=False``.\n",
      "  result = super().apply(func, convert_dtype=convert_dtype, args=args, **kwargs)\n",
      "/tmp/ipykernel_106/513827320.py:310: UserWarning: This figure includes Axes that are not compatible with tight_layout, so results might be incorrect.\n",
      "  plt.tight_layout()  # Adjust layout to prevent overlap\n"
     ]
    },
    {
     "name": "stdout",
     "output_type": "stream",
     "text": [
      "working on Vostok_1\n"
     ]
    },
    {
     "name": "stderr",
     "output_type": "stream",
     "text": [
      "/srv/conda/envs/notebook/lib/python3.11/site-packages/geopandas/io/file.py:383: FutureWarning: errors='ignore' is deprecated and will raise in a future version. Use to_datetime without passing `errors` and catch exceptions explicitly instead\n",
      "  as_dt = pd.to_datetime(df[k], errors=\"ignore\")\n",
      "/srv/conda/envs/notebook/lib/python3.11/site-packages/geopandas/geoseries.py:645: FutureWarning: the convert_dtype parameter is deprecated and will be removed in a future version.  Do ``ser.astype(object).apply()`` instead if you want ``convert_dtype=False``.\n",
      "  result = super().apply(func, convert_dtype=convert_dtype, args=args, **kwargs)\n",
      "/tmp/ipykernel_106/513827320.py:310: UserWarning: This figure includes Axes that are not compatible with tight_layout, so results might be incorrect.\n",
      "  plt.tight_layout()  # Adjust layout to prevent overlap\n"
     ]
    },
    {
     "name": "stdout",
     "output_type": "stream",
     "text": [
      "working on WT\n"
     ]
    },
    {
     "name": "stderr",
     "output_type": "stream",
     "text": [
      "/srv/conda/envs/notebook/lib/python3.11/site-packages/geopandas/io/file.py:383: FutureWarning: errors='ignore' is deprecated and will raise in a future version. Use to_datetime without passing `errors` and catch exceptions explicitly instead\n",
      "  as_dt = pd.to_datetime(df[k], errors=\"ignore\")\n",
      "/srv/conda/envs/notebook/lib/python3.11/site-packages/geopandas/geoseries.py:645: FutureWarning: the convert_dtype parameter is deprecated and will be removed in a future version.  Do ``ser.astype(object).apply()`` instead if you want ``convert_dtype=False``.\n",
      "  result = super().apply(func, convert_dtype=convert_dtype, args=args, **kwargs)\n",
      "/tmp/ipykernel_106/513827320.py:310: UserWarning: This figure includes Axes that are not compatible with tight_layout, so results might be incorrect.\n",
      "  plt.tight_layout()  # Adjust layout to prevent overlap\n"
     ]
    },
    {
     "name": "stdout",
     "output_type": "stream",
     "text": [
      "working on WhillansSubglacialLake\n"
     ]
    },
    {
     "name": "stderr",
     "output_type": "stream",
     "text": [
      "/srv/conda/envs/notebook/lib/python3.11/site-packages/geopandas/io/file.py:383: FutureWarning: errors='ignore' is deprecated and will raise in a future version. Use to_datetime without passing `errors` and catch exceptions explicitly instead\n",
      "  as_dt = pd.to_datetime(df[k], errors=\"ignore\")\n",
      "/srv/conda/envs/notebook/lib/python3.11/site-packages/geopandas/geoseries.py:645: FutureWarning: the convert_dtype parameter is deprecated and will be removed in a future version.  Do ``ser.astype(object).apply()`` instead if you want ``convert_dtype=False``.\n",
      "  result = super().apply(func, convert_dtype=convert_dtype, args=args, **kwargs)\n",
      "/tmp/ipykernel_106/513827320.py:310: UserWarning: This figure includes Axes that are not compatible with tight_layout, so results might be incorrect.\n",
      "  plt.tight_layout()  # Adjust layout to prevent overlap\n"
     ]
    },
    {
     "name": "stdout",
     "output_type": "stream",
     "text": [
      "working on Whillans_6\n"
     ]
    },
    {
     "name": "stderr",
     "output_type": "stream",
     "text": [
      "/srv/conda/envs/notebook/lib/python3.11/site-packages/geopandas/io/file.py:383: FutureWarning: errors='ignore' is deprecated and will raise in a future version. Use to_datetime without passing `errors` and catch exceptions explicitly instead\n",
      "  as_dt = pd.to_datetime(df[k], errors=\"ignore\")\n",
      "/srv/conda/envs/notebook/lib/python3.11/site-packages/geopandas/geoseries.py:645: FutureWarning: the convert_dtype parameter is deprecated and will be removed in a future version.  Do ``ser.astype(object).apply()`` instead if you want ``convert_dtype=False``.\n",
      "  result = super().apply(func, convert_dtype=convert_dtype, args=args, **kwargs)\n",
      "/tmp/ipykernel_106/513827320.py:310: UserWarning: This figure includes Axes that are not compatible with tight_layout, so results might be incorrect.\n",
      "  plt.tight_layout()  # Adjust layout to prevent overlap\n"
     ]
    },
    {
     "name": "stdout",
     "output_type": "stream",
     "text": [
      "working on Whillans_7\n"
     ]
    },
    {
     "name": "stderr",
     "output_type": "stream",
     "text": [
      "/srv/conda/envs/notebook/lib/python3.11/site-packages/geopandas/io/file.py:383: FutureWarning: errors='ignore' is deprecated and will raise in a future version. Use to_datetime without passing `errors` and catch exceptions explicitly instead\n",
      "  as_dt = pd.to_datetime(df[k], errors=\"ignore\")\n",
      "/srv/conda/envs/notebook/lib/python3.11/site-packages/geopandas/geoseries.py:645: FutureWarning: the convert_dtype parameter is deprecated and will be removed in a future version.  Do ``ser.astype(object).apply()`` instead if you want ``convert_dtype=False``.\n",
      "  result = super().apply(func, convert_dtype=convert_dtype, args=args, **kwargs)\n",
      "/tmp/ipykernel_106/513827320.py:310: UserWarning: This figure includes Axes that are not compatible with tight_layout, so results might be incorrect.\n",
      "  plt.tight_layout()  # Adjust layout to prevent overlap\n"
     ]
    },
    {
     "name": "stdout",
     "output_type": "stream",
     "text": [
      "working on Whillans_8\n"
     ]
    },
    {
     "name": "stderr",
     "output_type": "stream",
     "text": [
      "/srv/conda/envs/notebook/lib/python3.11/site-packages/geopandas/io/file.py:383: FutureWarning: errors='ignore' is deprecated and will raise in a future version. Use to_datetime without passing `errors` and catch exceptions explicitly instead\n",
      "  as_dt = pd.to_datetime(df[k], errors=\"ignore\")\n",
      "/srv/conda/envs/notebook/lib/python3.11/site-packages/geopandas/geoseries.py:645: FutureWarning: the convert_dtype parameter is deprecated and will be removed in a future version.  Do ``ser.astype(object).apply()`` instead if you want ``convert_dtype=False``.\n",
      "  result = super().apply(func, convert_dtype=convert_dtype, args=args, **kwargs)\n",
      "/tmp/ipykernel_106/513827320.py:310: UserWarning: This figure includes Axes that are not compatible with tight_layout, so results might be incorrect.\n",
      "  plt.tight_layout()  # Adjust layout to prevent overlap\n"
     ]
    },
    {
     "name": "stdout",
     "output_type": "stream",
     "text": [
      "working on Wilkes_1\n",
      "File for Wilkes_1 not found. Skipping...\n",
      "working on Wilkes_2\n"
     ]
    },
    {
     "name": "stderr",
     "output_type": "stream",
     "text": [
      "/srv/conda/envs/notebook/lib/python3.11/site-packages/geopandas/io/file.py:383: FutureWarning: errors='ignore' is deprecated and will raise in a future version. Use to_datetime without passing `errors` and catch exceptions explicitly instead\n",
      "  as_dt = pd.to_datetime(df[k], errors=\"ignore\")\n",
      "/srv/conda/envs/notebook/lib/python3.11/site-packages/geopandas/geoseries.py:645: FutureWarning: the convert_dtype parameter is deprecated and will be removed in a future version.  Do ``ser.astype(object).apply()`` instead if you want ``convert_dtype=False``.\n",
      "  result = super().apply(func, convert_dtype=convert_dtype, args=args, **kwargs)\n",
      "/tmp/ipykernel_106/513827320.py:310: UserWarning: This figure includes Axes that are not compatible with tight_layout, so results might be incorrect.\n",
      "  plt.tight_layout()  # Adjust layout to prevent overlap\n"
     ]
    }
   ],
   "source": [
    "# Plot evolving and static lakes comparison plots\n",
    "\n",
    "# List all files in your target directory\n",
    "folder_path = '/home/jovyan/1_outlines_candidates/output/FigS1_lake_reexamination_methods.ipynb/plot_evolving_and_static_comparison'\n",
    "\n",
    "# List all files in your target directory without their extensions\n",
    "file_names_without_extension = [os.path.splitext(name)[0] for name in os.listdir(folder_path) if os.path.isfile(os.path.join(folder_path, name))]\n",
    "\n",
    "# Filter the GeoDataFrame to only include rows where the 'name' is not in folders\n",
    "static_lakes_gdf_filtered = static_lakes_gdf[~static_lakes_gdf['name'].isin(file_names_without_extension)]\n",
    "\n",
    "# Now run loop on the filtered GeoDataFrame\n",
    "for idx, row in static_lakes_gdf_filtered.iterrows():\n",
    "    # plot_evolving_and_static_comparison(static_lakes_gdf_filtered.loc[idx:idx])\n",
    "    plot_evolving_and_static_comparison(static_lakes_gdf_filtered.loc[idx])"
   ]
  },
  {
   "cell_type": "code",
   "execution_count": 101,
   "id": "b4f63832-b1e7-4458-a3db-5942206f7bf0",
   "metadata": {},
   "outputs": [
    {
     "name": "stdout",
     "output_type": "stream",
     "text": [
      "151\n",
      "150\n",
      "134\n",
      "133\n",
      "0\n"
     ]
    }
   ],
   "source": [
    "# Ensure all lakes complete\n",
    "print(len(os.listdir('/home/jovyan/1_outlines_candidates/output/FigS1_lake_reexamination_methods.ipynb/find_evolving_outlines')))\n",
    "print(len(os.listdir('/home/jovyan/1_outlines_candidates/Sauthoff-2025-J.Glaciol./output/lake_outlines/evolving_outlines')))\n",
    "print(len(os.listdir('/home/jovyan/1_outlines_candidates/output/FigS1_lake_reexamination_methods.ipynb/plot_evolving_outlines/')))\n",
    "print(len(os.listdir('/home/jovyan/1_outlines_candidates/Sauthoff-2025-J.Glaciol./output/lake_outlines/compare_evolving_and_static_outlines')))\n",
    "print(len(os.listdir('/home/jovyan/1_outlines_candidates/output/FigS1_lake_reexamination_methods.ipynb/plot_evolving_and_static_comparison/')))"
   ]
  },
  {
   "cell_type": "code",
   "execution_count": null,
   "id": "bb81064d-3d23-4e9a-a5f0-fe770d92ead0",
   "metadata": {},
   "outputs": [],
   "source": []
  },
  {
   "cell_type": "code",
   "execution_count": null,
   "id": "e547383c-e6a7-4656-83f7-8102a19afd5d",
   "metadata": {},
   "outputs": [],
   "source": [
    "# Foundation_5 has outlines during CS2 but geometric variables just during IS2"
   ]
  },
  {
   "cell_type": "code",
   "execution_count": null,
   "id": "cd15fec2-d1a6-4415-801f-4e2e122f52ff",
   "metadata": {},
   "outputs": [],
   "source": [
    "# Investigate and resolve\n",
    "# Institute_W1 has strange gap in geometric variable calc's\n",
    "# Nimrod_1 has CS2 era data despite partial coverage"
   ]
  },
  {
   "cell_type": "code",
   "execution_count": null,
   "id": "c59c5f54-ffce-459a-9360-3e244f5a6fde",
   "metadata": {},
   "outputs": [],
   "source": [
    "# Some lake may behave as a complex of interconnected lakes that are sometimes separate but other times lobes of one lake\n",
    "# We'll investigate those here\n",
    "# Mac1-2\n",
    "# Slessor4-5\n",
    "# Sites B-C"
   ]
  },
  {
   "cell_type": "code",
   "execution_count": null,
   "id": "ed6af699-cd85-4583-82ea-8b5e3396c018",
   "metadata": {},
   "outputs": [],
   "source": []
  },
  {
   "cell_type": "code",
   "execution_count": null,
   "id": "0d7ce093-8427-4dd8-8cb3-c39ba331cdb0",
   "metadata": {
    "scrolled": true
   },
   "outputs": [],
   "source": [
    "# # Calc darea, dh, and dvol for evolving and static outlines and compare using\n",
    "# # bias (evolving-static) for each lake\n",
    "\n",
    "# for idx in range(len(static_lakes_gdf)):\n",
    "\n",
    "#     # Assign dataset; during CS2 era, assign based on SARIn coverage time period\n",
    "#     if static_lakes_gdf_filtered['CS2_SARIn_time_period'][idx] == 'nan':\n",
    "#         dataset1='none'\n",
    "#     elif static_lakes_gdf_filtered['CS2_SARIn_time_period'][idx] == '2013.75-2018.75':\n",
    "#         dataset1=CS2_Smith2017.sel(time=slice(np.datetime64('2013-10-01T22:30:00.000000000'), None))\n",
    "#     elif static_lakes_gdf_filtered['CS2_SARIn_time_period'][idx] == '2010.5-2018.75':\n",
    "#         dataset1=CS2_Smith2017\n",
    "#     dataset2=ATL15_dh\n",
    "    \n",
    "#     # Isolate lake from static_lakes_gdf as geodataframe using slicing\n",
    "#     lake_gdf = static_lakes_gdf_filtered.loc[idx:idx]\n",
    "#     print('Working on', lake_gdf['name'].values[0])\n",
    "    \n",
    "#     # Load evolving outlines geodataframe from store geojson\n",
    "#     file_path = 'output/lake_outlines/evolving_outlines/{}.geojson'.format(lake_gdf['name'].values[0])\n",
    "#     if os.path.exists(file_path):  # Check if the file exists\n",
    "#         outlines_gdf = gpd.read_file(file_path)\n",
    "#     else:\n",
    "#         continue\n",
    "    \n",
    "#     # Compare static and evolving outlines\n",
    "#     compare_evolving_and_static_outlines(lake_gdf=lake_gdf, outlines_gdf=outlines_gdf, \n",
    "#         dataset1=dataset1, dataset2=dataset2)\n",
    "    \n",
    "#     # Clear the output of each index\n",
    "#     clear_output(wait=True)"
   ]
  },
  {
   "cell_type": "code",
   "execution_count": 33,
   "id": "e827cad2-3dd4-41bd-ad48-6db295419f64",
   "metadata": {},
   "outputs": [],
   "source": [
    "# Create a dataframe that combines all the evolving/static lake geometric calc's\n",
    "# and bias comparisons into one dataframe for continentally integrated numbers\n",
    "\n",
    "# Define your directory\n",
    "directory = 'output/lake_outlines/compare_evolving_and_static_outlines'\n",
    "dataframes_CS2_IS2 = []\n",
    "dataframes_IS2 = []\n",
    "\n",
    "# List and read each CSV file\n",
    "for file in os.listdir(directory):\n",
    "    if file.endswith('.csv'):\n",
    "        file_path = os.path.join(directory, file)\n",
    "        df = pd.read_csv(file_path)\n",
    "        \n",
    "        # Check conditions to append to specific lists\n",
    "        lake_name = os.path.splitext(file)[0]  # Remove '.csv' from filename to create the lake name\n",
    "        lake_row = static_lakes_gdf[static_lakes_gdf['name'] == lake_name]\n",
    "        if not lake_row.empty:\n",
    "            time_period = lake_row['CS2_SARIn_time_period'].values[0]\n",
    "            if time_period in ['2010.5-2018.75', '2013.75-2018.75']:\n",
    "                dataframes_CS2_IS2.append(df)\n",
    "            elif pd.isna(time_period):# or time_period == 'nan':\n",
    "                dataframes_IS2.append(df)\n",
    "            else:\n",
    "                print('Cryosat-2 time period not one of expected values')\n",
    "\n",
    "# Concatenate DataFrames in the list\n",
    "combined_CS2_IS2_df = pd.concat(dataframes_CS2_IS2, ignore_index=True)\n",
    "combined_IS2_df = pd.concat(dataframes_IS2, ignore_index=True)\n",
    "\n",
    "# Group by 'midcyc_datetime' to make spatially integrated along time axis\n",
    "combined_CS2_IS2_df = combined_CS2_IS2_df.groupby('midcyc_datetime').sum().reset_index()\n",
    "combined_IS2_df = combined_IS2_df.groupby('midcyc_datetime').sum().reset_index()\n",
    "\n",
    "# Save the combined DataFrame to csv file\n",
    "combined_CS2_IS2_df.to_csv('output/lake_outlines/compare_evolving_and_static_outlines/all_CS2_IS2_lakes_spatially_integrated.csv', index=False) \n",
    "combined_IS2_df.to_csv('output/lake_outlines/compare_evolving_and_static_outlines/all_IS2_lakes_spatially_integrated.csv', index=False)"
   ]
  },
  {
   "cell_type": "code",
   "execution_count": 34,
   "id": "d9db0a48-4d67-40fb-a334-1b62e77104a9",
   "metadata": {},
   "outputs": [
    {
     "data": {
      "text/plain": [
       "45"
      ]
     },
     "execution_count": 34,
     "metadata": {},
     "output_type": "execute_result"
    }
   ],
   "source": [
    "len(dataframes_CS2_IS2)"
   ]
  },
  {
   "cell_type": "code",
   "execution_count": 35,
   "id": "3d7ea092-15aa-4732-8c7b-cf442bd98ba5",
   "metadata": {},
   "outputs": [
    {
     "data": {
      "text/plain": [
       "88"
      ]
     },
     "execution_count": 35,
     "metadata": {},
     "output_type": "execute_result"
    }
   ],
   "source": [
    "len(dataframes_IS2)"
   ]
  },
  {
   "cell_type": "code",
   "execution_count": null,
   "id": "f56039d9-e24e-4314-97b4-0b63450eb810",
   "metadata": {},
   "outputs": [],
   "source": []
  },
  {
   "cell_type": "code",
   "execution_count": 57,
   "id": "a293cb9a-251f-4973-b31e-d168fd652c6a",
   "metadata": {},
   "outputs": [
    {
     "name": "stdout",
     "output_type": "stream",
     "text": [
      "Working on Bindschadler_2\n",
      "Working on Bindschadler_3\n",
      "Working on Bindschadler_4\n",
      "Working on Bindschadler_5\n",
      "Working on Bindschadler_6\n",
      "Working on Byrd_1\n",
      "Working on Byrd_2\n",
      "Working on Byrd_s1\n",
      "Working on Byrd_s10\n",
      "Working on Byrd_s11\n",
      "Working on Byrd_s12\n",
      "Working on Byrd_s13\n",
      "Working on Byrd_s14\n",
      "Working on Byrd_s15\n",
      "Working on Byrd_s2\n",
      "Working on Byrd_s4\n"
     ]
    },
    {
     "name": "stderr",
     "output_type": "stream",
     "text": [
      "/srv/conda/envs/notebook/lib/python3.11/site-packages/geopandas/io/file.py:383: FutureWarning: errors='ignore' is deprecated and will raise in a future version. Use to_datetime without passing `errors` and catch exceptions explicitly instead\n",
      "  as_dt = pd.to_datetime(df[k], errors=\"ignore\")\n",
      "/srv/conda/envs/notebook/lib/python3.11/site-packages/geopandas/geoseries.py:622: FutureWarning: Series.__getitem__ treating keys as positions is deprecated. In a future version, integer keys will always be treated as labels (consistent with DataFrame behavior). To access a value by position, use `ser.iloc[pos]`\n",
      "  val = getattr(super(), mtd)(*args, **kwargs)\n",
      "/srv/conda/envs/notebook/lib/python3.11/site-packages/geopandas/io/file.py:383: FutureWarning: errors='ignore' is deprecated and will raise in a future version. Use to_datetime without passing `errors` and catch exceptions explicitly instead\n",
      "  as_dt = pd.to_datetime(df[k], errors=\"ignore\")\n",
      "/srv/conda/envs/notebook/lib/python3.11/site-packages/geopandas/geoseries.py:622: FutureWarning: Series.__getitem__ treating keys as positions is deprecated. In a future version, integer keys will always be treated as labels (consistent with DataFrame behavior). To access a value by position, use `ser.iloc[pos]`\n",
      "  val = getattr(super(), mtd)(*args, **kwargs)\n",
      "/srv/conda/envs/notebook/lib/python3.11/site-packages/geopandas/io/file.py:383: FutureWarning: errors='ignore' is deprecated and will raise in a future version. Use to_datetime without passing `errors` and catch exceptions explicitly instead\n",
      "  as_dt = pd.to_datetime(df[k], errors=\"ignore\")\n",
      "/srv/conda/envs/notebook/lib/python3.11/site-packages/geopandas/geoseries.py:622: FutureWarning: Series.__getitem__ treating keys as positions is deprecated. In a future version, integer keys will always be treated as labels (consistent with DataFrame behavior). To access a value by position, use `ser.iloc[pos]`\n",
      "  val = getattr(super(), mtd)(*args, **kwargs)\n",
      "/srv/conda/envs/notebook/lib/python3.11/site-packages/geopandas/io/file.py:383: FutureWarning: errors='ignore' is deprecated and will raise in a future version. Use to_datetime without passing `errors` and catch exceptions explicitly instead\n",
      "  as_dt = pd.to_datetime(df[k], errors=\"ignore\")\n",
      "/srv/conda/envs/notebook/lib/python3.11/site-packages/geopandas/geoseries.py:622: FutureWarning: Series.__getitem__ treating keys as positions is deprecated. In a future version, integer keys will always be treated as labels (consistent with DataFrame behavior). To access a value by position, use `ser.iloc[pos]`\n",
      "  val = getattr(super(), mtd)(*args, **kwargs)\n",
      "/srv/conda/envs/notebook/lib/python3.11/site-packages/geopandas/io/file.py:383: FutureWarning: errors='ignore' is deprecated and will raise in a future version. Use to_datetime without passing `errors` and catch exceptions explicitly instead\n",
      "  as_dt = pd.to_datetime(df[k], errors=\"ignore\")\n",
      "/srv/conda/envs/notebook/lib/python3.11/site-packages/geopandas/geoseries.py:622: FutureWarning: Series.__getitem__ treating keys as positions is deprecated. In a future version, integer keys will always be treated as labels (consistent with DataFrame behavior). To access a value by position, use `ser.iloc[pos]`\n",
      "  val = getattr(super(), mtd)(*args, **kwargs)\n",
      "/srv/conda/envs/notebook/lib/python3.11/site-packages/geopandas/io/file.py:383: FutureWarning: errors='ignore' is deprecated and will raise in a future version. Use to_datetime without passing `errors` and catch exceptions explicitly instead\n",
      "  as_dt = pd.to_datetime(df[k], errors=\"ignore\")\n",
      "/srv/conda/envs/notebook/lib/python3.11/site-packages/geopandas/geoseries.py:622: FutureWarning: Series.__getitem__ treating keys as positions is deprecated. In a future version, integer keys will always be treated as labels (consistent with DataFrame behavior). To access a value by position, use `ser.iloc[pos]`\n",
      "  val = getattr(super(), mtd)(*args, **kwargs)\n",
      "/srv/conda/envs/notebook/lib/python3.11/site-packages/geopandas/io/file.py:383: FutureWarning: errors='ignore' is deprecated and will raise in a future version. Use to_datetime without passing `errors` and catch exceptions explicitly instead\n",
      "  as_dt = pd.to_datetime(df[k], errors=\"ignore\")\n",
      "/srv/conda/envs/notebook/lib/python3.11/site-packages/geopandas/geoseries.py:622: FutureWarning: Series.__getitem__ treating keys as positions is deprecated. In a future version, integer keys will always be treated as labels (consistent with DataFrame behavior). To access a value by position, use `ser.iloc[pos]`\n",
      "  val = getattr(super(), mtd)(*args, **kwargs)\n",
      "/srv/conda/envs/notebook/lib/python3.11/site-packages/geopandas/io/file.py:383: FutureWarning: errors='ignore' is deprecated and will raise in a future version. Use to_datetime without passing `errors` and catch exceptions explicitly instead\n",
      "  as_dt = pd.to_datetime(df[k], errors=\"ignore\")\n",
      "/srv/conda/envs/notebook/lib/python3.11/site-packages/geopandas/geoseries.py:622: FutureWarning: Series.__getitem__ treating keys as positions is deprecated. In a future version, integer keys will always be treated as labels (consistent with DataFrame behavior). To access a value by position, use `ser.iloc[pos]`\n",
      "  val = getattr(super(), mtd)(*args, **kwargs)\n",
      "/srv/conda/envs/notebook/lib/python3.11/site-packages/geopandas/io/file.py:383: FutureWarning: errors='ignore' is deprecated and will raise in a future version. Use to_datetime without passing `errors` and catch exceptions explicitly instead\n",
      "  as_dt = pd.to_datetime(df[k], errors=\"ignore\")\n",
      "/srv/conda/envs/notebook/lib/python3.11/site-packages/geopandas/geoseries.py:622: FutureWarning: Series.__getitem__ treating keys as positions is deprecated. In a future version, integer keys will always be treated as labels (consistent with DataFrame behavior). To access a value by position, use `ser.iloc[pos]`\n",
      "  val = getattr(super(), mtd)(*args, **kwargs)\n",
      "/srv/conda/envs/notebook/lib/python3.11/site-packages/geopandas/io/file.py:383: FutureWarning: errors='ignore' is deprecated and will raise in a future version. Use to_datetime without passing `errors` and catch exceptions explicitly instead\n",
      "  as_dt = pd.to_datetime(df[k], errors=\"ignore\")\n",
      "/srv/conda/envs/notebook/lib/python3.11/site-packages/geopandas/geoseries.py:622: FutureWarning: Series.__getitem__ treating keys as positions is deprecated. In a future version, integer keys will always be treated as labels (consistent with DataFrame behavior). To access a value by position, use `ser.iloc[pos]`\n",
      "  val = getattr(super(), mtd)(*args, **kwargs)\n",
      "/srv/conda/envs/notebook/lib/python3.11/site-packages/geopandas/io/file.py:383: FutureWarning: errors='ignore' is deprecated and will raise in a future version. Use to_datetime without passing `errors` and catch exceptions explicitly instead\n",
      "  as_dt = pd.to_datetime(df[k], errors=\"ignore\")\n",
      "/srv/conda/envs/notebook/lib/python3.11/site-packages/geopandas/geoseries.py:622: FutureWarning: Series.__getitem__ treating keys as positions is deprecated. In a future version, integer keys will always be treated as labels (consistent with DataFrame behavior). To access a value by position, use `ser.iloc[pos]`\n",
      "  val = getattr(super(), mtd)(*args, **kwargs)\n",
      "/srv/conda/envs/notebook/lib/python3.11/site-packages/geopandas/io/file.py:383: FutureWarning: errors='ignore' is deprecated and will raise in a future version. Use to_datetime without passing `errors` and catch exceptions explicitly instead\n",
      "  as_dt = pd.to_datetime(df[k], errors=\"ignore\")\n",
      "/srv/conda/envs/notebook/lib/python3.11/site-packages/geopandas/geoseries.py:622: FutureWarning: Series.__getitem__ treating keys as positions is deprecated. In a future version, integer keys will always be treated as labels (consistent with DataFrame behavior). To access a value by position, use `ser.iloc[pos]`\n",
      "  val = getattr(super(), mtd)(*args, **kwargs)\n",
      "/srv/conda/envs/notebook/lib/python3.11/site-packages/geopandas/io/file.py:383: FutureWarning: errors='ignore' is deprecated and will raise in a future version. Use to_datetime without passing `errors` and catch exceptions explicitly instead\n",
      "  as_dt = pd.to_datetime(df[k], errors=\"ignore\")\n",
      "/srv/conda/envs/notebook/lib/python3.11/site-packages/geopandas/geoseries.py:622: FutureWarning: Series.__getitem__ treating keys as positions is deprecated. In a future version, integer keys will always be treated as labels (consistent with DataFrame behavior). To access a value by position, use `ser.iloc[pos]`\n",
      "  val = getattr(super(), mtd)(*args, **kwargs)\n",
      "/srv/conda/envs/notebook/lib/python3.11/site-packages/geopandas/io/file.py:383: FutureWarning: errors='ignore' is deprecated and will raise in a future version. Use to_datetime without passing `errors` and catch exceptions explicitly instead\n",
      "  as_dt = pd.to_datetime(df[k], errors=\"ignore\")\n",
      "/srv/conda/envs/notebook/lib/python3.11/site-packages/geopandas/geoseries.py:622: FutureWarning: Series.__getitem__ treating keys as positions is deprecated. In a future version, integer keys will always be treated as labels (consistent with DataFrame behavior). To access a value by position, use `ser.iloc[pos]`\n",
      "  val = getattr(super(), mtd)(*args, **kwargs)\n",
      "/srv/conda/envs/notebook/lib/python3.11/site-packages/geopandas/io/file.py:383: FutureWarning: errors='ignore' is deprecated and will raise in a future version. Use to_datetime without passing `errors` and catch exceptions explicitly instead\n",
      "  as_dt = pd.to_datetime(df[k], errors=\"ignore\")\n",
      "/srv/conda/envs/notebook/lib/python3.11/site-packages/geopandas/geoseries.py:622: FutureWarning: Series.__getitem__ treating keys as positions is deprecated. In a future version, integer keys will always be treated as labels (consistent with DataFrame behavior). To access a value by position, use `ser.iloc[pos]`\n",
      "  val = getattr(super(), mtd)(*args, **kwargs)\n",
      "/srv/conda/envs/notebook/lib/python3.11/site-packages/geopandas/io/file.py:383: FutureWarning: errors='ignore' is deprecated and will raise in a future version. Use to_datetime without passing `errors` and catch exceptions explicitly instead\n",
      "  as_dt = pd.to_datetime(df[k], errors=\"ignore\")\n",
      "/srv/conda/envs/notebook/lib/python3.11/site-packages/geopandas/geoseries.py:622: FutureWarning: Series.__getitem__ treating keys as positions is deprecated. In a future version, integer keys will always be treated as labels (consistent with DataFrame behavior). To access a value by position, use `ser.iloc[pos]`\n",
      "  val = getattr(super(), mtd)(*args, **kwargs)\n"
     ]
    },
    {
     "name": "stdout",
     "output_type": "stream",
     "text": [
      "Working on Byrd_s5\n",
      "Working on Byrd_s6\n",
      "Working on Byrd_s7\n",
      "Working on Byrd_s8\n",
      "Working on Byrd_s9\n",
      "Working on ConwaySubglacialLake\n",
      "Working on Cook_E1\n",
      "Working on Cook_E2\n",
      "Working on David_1\n"
     ]
    },
    {
     "name": "stderr",
     "output_type": "stream",
     "text": [
      "/srv/conda/envs/notebook/lib/python3.11/site-packages/geopandas/io/file.py:383: FutureWarning: errors='ignore' is deprecated and will raise in a future version. Use to_datetime without passing `errors` and catch exceptions explicitly instead\n",
      "  as_dt = pd.to_datetime(df[k], errors=\"ignore\")\n",
      "/srv/conda/envs/notebook/lib/python3.11/site-packages/geopandas/geoseries.py:622: FutureWarning: Series.__getitem__ treating keys as positions is deprecated. In a future version, integer keys will always be treated as labels (consistent with DataFrame behavior). To access a value by position, use `ser.iloc[pos]`\n",
      "  val = getattr(super(), mtd)(*args, **kwargs)\n",
      "/srv/conda/envs/notebook/lib/python3.11/site-packages/geopandas/io/file.py:383: FutureWarning: errors='ignore' is deprecated and will raise in a future version. Use to_datetime without passing `errors` and catch exceptions explicitly instead\n",
      "  as_dt = pd.to_datetime(df[k], errors=\"ignore\")\n",
      "/srv/conda/envs/notebook/lib/python3.11/site-packages/geopandas/geoseries.py:622: FutureWarning: Series.__getitem__ treating keys as positions is deprecated. In a future version, integer keys will always be treated as labels (consistent with DataFrame behavior). To access a value by position, use `ser.iloc[pos]`\n",
      "  val = getattr(super(), mtd)(*args, **kwargs)\n",
      "/srv/conda/envs/notebook/lib/python3.11/site-packages/geopandas/io/file.py:383: FutureWarning: errors='ignore' is deprecated and will raise in a future version. Use to_datetime without passing `errors` and catch exceptions explicitly instead\n",
      "  as_dt = pd.to_datetime(df[k], errors=\"ignore\")\n",
      "/srv/conda/envs/notebook/lib/python3.11/site-packages/geopandas/geoseries.py:622: FutureWarning: Series.__getitem__ treating keys as positions is deprecated. In a future version, integer keys will always be treated as labels (consistent with DataFrame behavior). To access a value by position, use `ser.iloc[pos]`\n",
      "  val = getattr(super(), mtd)(*args, **kwargs)\n",
      "/srv/conda/envs/notebook/lib/python3.11/site-packages/geopandas/io/file.py:383: FutureWarning: errors='ignore' is deprecated and will raise in a future version. Use to_datetime without passing `errors` and catch exceptions explicitly instead\n",
      "  as_dt = pd.to_datetime(df[k], errors=\"ignore\")\n",
      "/srv/conda/envs/notebook/lib/python3.11/site-packages/geopandas/geoseries.py:622: FutureWarning: Series.__getitem__ treating keys as positions is deprecated. In a future version, integer keys will always be treated as labels (consistent with DataFrame behavior). To access a value by position, use `ser.iloc[pos]`\n",
      "  val = getattr(super(), mtd)(*args, **kwargs)\n",
      "/srv/conda/envs/notebook/lib/python3.11/site-packages/geopandas/io/file.py:383: FutureWarning: errors='ignore' is deprecated and will raise in a future version. Use to_datetime without passing `errors` and catch exceptions explicitly instead\n",
      "  as_dt = pd.to_datetime(df[k], errors=\"ignore\")\n",
      "/srv/conda/envs/notebook/lib/python3.11/site-packages/geopandas/geoseries.py:622: FutureWarning: Series.__getitem__ treating keys as positions is deprecated. In a future version, integer keys will always be treated as labels (consistent with DataFrame behavior). To access a value by position, use `ser.iloc[pos]`\n",
      "  val = getattr(super(), mtd)(*args, **kwargs)\n",
      "/srv/conda/envs/notebook/lib/python3.11/site-packages/geopandas/io/file.py:383: FutureWarning: errors='ignore' is deprecated and will raise in a future version. Use to_datetime without passing `errors` and catch exceptions explicitly instead\n",
      "  as_dt = pd.to_datetime(df[k], errors=\"ignore\")\n",
      "/srv/conda/envs/notebook/lib/python3.11/site-packages/geopandas/geoseries.py:622: FutureWarning: Series.__getitem__ treating keys as positions is deprecated. In a future version, integer keys will always be treated as labels (consistent with DataFrame behavior). To access a value by position, use `ser.iloc[pos]`\n",
      "  val = getattr(super(), mtd)(*args, **kwargs)\n",
      "/srv/conda/envs/notebook/lib/python3.11/site-packages/geopandas/io/file.py:383: FutureWarning: errors='ignore' is deprecated and will raise in a future version. Use to_datetime without passing `errors` and catch exceptions explicitly instead\n",
      "  as_dt = pd.to_datetime(df[k], errors=\"ignore\")\n",
      "/srv/conda/envs/notebook/lib/python3.11/site-packages/geopandas/geoseries.py:622: FutureWarning: Series.__getitem__ treating keys as positions is deprecated. In a future version, integer keys will always be treated as labels (consistent with DataFrame behavior). To access a value by position, use `ser.iloc[pos]`\n",
      "  val = getattr(super(), mtd)(*args, **kwargs)\n",
      "/srv/conda/envs/notebook/lib/python3.11/site-packages/geopandas/io/file.py:383: FutureWarning: errors='ignore' is deprecated and will raise in a future version. Use to_datetime without passing `errors` and catch exceptions explicitly instead\n",
      "  as_dt = pd.to_datetime(df[k], errors=\"ignore\")\n",
      "/srv/conda/envs/notebook/lib/python3.11/site-packages/geopandas/geoseries.py:622: FutureWarning: Series.__getitem__ treating keys as positions is deprecated. In a future version, integer keys will always be treated as labels (consistent with DataFrame behavior). To access a value by position, use `ser.iloc[pos]`\n",
      "  val = getattr(super(), mtd)(*args, **kwargs)\n",
      "/srv/conda/envs/notebook/lib/python3.11/site-packages/geopandas/io/file.py:383: FutureWarning: errors='ignore' is deprecated and will raise in a future version. Use to_datetime without passing `errors` and catch exceptions explicitly instead\n",
      "  as_dt = pd.to_datetime(df[k], errors=\"ignore\")\n",
      "/srv/conda/envs/notebook/lib/python3.11/site-packages/geopandas/geoseries.py:622: FutureWarning: Series.__getitem__ treating keys as positions is deprecated. In a future version, integer keys will always be treated as labels (consistent with DataFrame behavior). To access a value by position, use `ser.iloc[pos]`\n",
      "  val = getattr(super(), mtd)(*args, **kwargs)\n"
     ]
    },
    {
     "name": "stdout",
     "output_type": "stream",
     "text": [
      "Working on David_s1\n",
      "Working on David_s2\n",
      "Working on David_s3\n",
      "Working on David_s4\n",
      "Working on David_s5\n",
      "Working on EAP_1\n",
      "Working on EAP_2\n",
      "Working on EAP_3\n",
      "Working on EAP_5\n",
      "Working on EAP_6\n",
      "Working on EAP_7\n",
      "Working on EAP_8\n",
      "Working on EAP_9\n",
      "Working on EngelhardtSubglacialLake\n",
      "Working on Foundation_10\n",
      "Working on Foundation_11\n",
      "Working on Foundation_12\n",
      "Working on Foundation_13\n"
     ]
    },
    {
     "name": "stderr",
     "output_type": "stream",
     "text": [
      "/srv/conda/envs/notebook/lib/python3.11/site-packages/geopandas/io/file.py:383: FutureWarning: errors='ignore' is deprecated and will raise in a future version. Use to_datetime without passing `errors` and catch exceptions explicitly instead\n",
      "  as_dt = pd.to_datetime(df[k], errors=\"ignore\")\n",
      "/srv/conda/envs/notebook/lib/python3.11/site-packages/geopandas/geoseries.py:622: FutureWarning: Series.__getitem__ treating keys as positions is deprecated. In a future version, integer keys will always be treated as labels (consistent with DataFrame behavior). To access a value by position, use `ser.iloc[pos]`\n",
      "  val = getattr(super(), mtd)(*args, **kwargs)\n",
      "/srv/conda/envs/notebook/lib/python3.11/site-packages/geopandas/io/file.py:383: FutureWarning: errors='ignore' is deprecated and will raise in a future version. Use to_datetime without passing `errors` and catch exceptions explicitly instead\n",
      "  as_dt = pd.to_datetime(df[k], errors=\"ignore\")\n",
      "/srv/conda/envs/notebook/lib/python3.11/site-packages/geopandas/geoseries.py:622: FutureWarning: Series.__getitem__ treating keys as positions is deprecated. In a future version, integer keys will always be treated as labels (consistent with DataFrame behavior). To access a value by position, use `ser.iloc[pos]`\n",
      "  val = getattr(super(), mtd)(*args, **kwargs)\n",
      "/srv/conda/envs/notebook/lib/python3.11/site-packages/geopandas/io/file.py:383: FutureWarning: errors='ignore' is deprecated and will raise in a future version. Use to_datetime without passing `errors` and catch exceptions explicitly instead\n",
      "  as_dt = pd.to_datetime(df[k], errors=\"ignore\")\n",
      "/srv/conda/envs/notebook/lib/python3.11/site-packages/geopandas/geoseries.py:622: FutureWarning: Series.__getitem__ treating keys as positions is deprecated. In a future version, integer keys will always be treated as labels (consistent with DataFrame behavior). To access a value by position, use `ser.iloc[pos]`\n",
      "  val = getattr(super(), mtd)(*args, **kwargs)\n",
      "/srv/conda/envs/notebook/lib/python3.11/site-packages/geopandas/io/file.py:383: FutureWarning: errors='ignore' is deprecated and will raise in a future version. Use to_datetime without passing `errors` and catch exceptions explicitly instead\n",
      "  as_dt = pd.to_datetime(df[k], errors=\"ignore\")\n",
      "/srv/conda/envs/notebook/lib/python3.11/site-packages/geopandas/geoseries.py:622: FutureWarning: Series.__getitem__ treating keys as positions is deprecated. In a future version, integer keys will always be treated as labels (consistent with DataFrame behavior). To access a value by position, use `ser.iloc[pos]`\n",
      "  val = getattr(super(), mtd)(*args, **kwargs)\n",
      "/srv/conda/envs/notebook/lib/python3.11/site-packages/geopandas/io/file.py:383: FutureWarning: errors='ignore' is deprecated and will raise in a future version. Use to_datetime without passing `errors` and catch exceptions explicitly instead\n",
      "  as_dt = pd.to_datetime(df[k], errors=\"ignore\")\n",
      "/srv/conda/envs/notebook/lib/python3.11/site-packages/geopandas/geoseries.py:622: FutureWarning: Series.__getitem__ treating keys as positions is deprecated. In a future version, integer keys will always be treated as labels (consistent with DataFrame behavior). To access a value by position, use `ser.iloc[pos]`\n",
      "  val = getattr(super(), mtd)(*args, **kwargs)\n",
      "/srv/conda/envs/notebook/lib/python3.11/site-packages/geopandas/io/file.py:383: FutureWarning: errors='ignore' is deprecated and will raise in a future version. Use to_datetime without passing `errors` and catch exceptions explicitly instead\n",
      "  as_dt = pd.to_datetime(df[k], errors=\"ignore\")\n",
      "/srv/conda/envs/notebook/lib/python3.11/site-packages/geopandas/geoseries.py:622: FutureWarning: Series.__getitem__ treating keys as positions is deprecated. In a future version, integer keys will always be treated as labels (consistent with DataFrame behavior). To access a value by position, use `ser.iloc[pos]`\n",
      "  val = getattr(super(), mtd)(*args, **kwargs)\n",
      "/srv/conda/envs/notebook/lib/python3.11/site-packages/geopandas/io/file.py:383: FutureWarning: errors='ignore' is deprecated and will raise in a future version. Use to_datetime without passing `errors` and catch exceptions explicitly instead\n",
      "  as_dt = pd.to_datetime(df[k], errors=\"ignore\")\n",
      "/srv/conda/envs/notebook/lib/python3.11/site-packages/geopandas/geoseries.py:622: FutureWarning: Series.__getitem__ treating keys as positions is deprecated. In a future version, integer keys will always be treated as labels (consistent with DataFrame behavior). To access a value by position, use `ser.iloc[pos]`\n",
      "  val = getattr(super(), mtd)(*args, **kwargs)\n",
      "/srv/conda/envs/notebook/lib/python3.11/site-packages/geopandas/io/file.py:383: FutureWarning: errors='ignore' is deprecated and will raise in a future version. Use to_datetime without passing `errors` and catch exceptions explicitly instead\n",
      "  as_dt = pd.to_datetime(df[k], errors=\"ignore\")\n",
      "/srv/conda/envs/notebook/lib/python3.11/site-packages/geopandas/geoseries.py:622: FutureWarning: Series.__getitem__ treating keys as positions is deprecated. In a future version, integer keys will always be treated as labels (consistent with DataFrame behavior). To access a value by position, use `ser.iloc[pos]`\n",
      "  val = getattr(super(), mtd)(*args, **kwargs)\n",
      "/srv/conda/envs/notebook/lib/python3.11/site-packages/geopandas/io/file.py:383: FutureWarning: errors='ignore' is deprecated and will raise in a future version. Use to_datetime without passing `errors` and catch exceptions explicitly instead\n",
      "  as_dt = pd.to_datetime(df[k], errors=\"ignore\")\n",
      "/srv/conda/envs/notebook/lib/python3.11/site-packages/geopandas/geoseries.py:622: FutureWarning: Series.__getitem__ treating keys as positions is deprecated. In a future version, integer keys will always be treated as labels (consistent with DataFrame behavior). To access a value by position, use `ser.iloc[pos]`\n",
      "  val = getattr(super(), mtd)(*args, **kwargs)\n",
      "/srv/conda/envs/notebook/lib/python3.11/site-packages/geopandas/io/file.py:383: FutureWarning: errors='ignore' is deprecated and will raise in a future version. Use to_datetime without passing `errors` and catch exceptions explicitly instead\n",
      "  as_dt = pd.to_datetime(df[k], errors=\"ignore\")\n",
      "/srv/conda/envs/notebook/lib/python3.11/site-packages/geopandas/geoseries.py:622: FutureWarning: Series.__getitem__ treating keys as positions is deprecated. In a future version, integer keys will always be treated as labels (consistent with DataFrame behavior). To access a value by position, use `ser.iloc[pos]`\n",
      "  val = getattr(super(), mtd)(*args, **kwargs)\n",
      "/srv/conda/envs/notebook/lib/python3.11/site-packages/geopandas/io/file.py:383: FutureWarning: errors='ignore' is deprecated and will raise in a future version. Use to_datetime without passing `errors` and catch exceptions explicitly instead\n",
      "  as_dt = pd.to_datetime(df[k], errors=\"ignore\")\n",
      "/srv/conda/envs/notebook/lib/python3.11/site-packages/geopandas/geoseries.py:622: FutureWarning: Series.__getitem__ treating keys as positions is deprecated. In a future version, integer keys will always be treated as labels (consistent with DataFrame behavior). To access a value by position, use `ser.iloc[pos]`\n",
      "  val = getattr(super(), mtd)(*args, **kwargs)\n",
      "/srv/conda/envs/notebook/lib/python3.11/site-packages/geopandas/io/file.py:383: FutureWarning: errors='ignore' is deprecated and will raise in a future version. Use to_datetime without passing `errors` and catch exceptions explicitly instead\n",
      "  as_dt = pd.to_datetime(df[k], errors=\"ignore\")\n",
      "/srv/conda/envs/notebook/lib/python3.11/site-packages/geopandas/geoseries.py:622: FutureWarning: Series.__getitem__ treating keys as positions is deprecated. In a future version, integer keys will always be treated as labels (consistent with DataFrame behavior). To access a value by position, use `ser.iloc[pos]`\n",
      "  val = getattr(super(), mtd)(*args, **kwargs)\n",
      "/srv/conda/envs/notebook/lib/python3.11/site-packages/geopandas/io/file.py:383: FutureWarning: errors='ignore' is deprecated and will raise in a future version. Use to_datetime without passing `errors` and catch exceptions explicitly instead\n",
      "  as_dt = pd.to_datetime(df[k], errors=\"ignore\")\n",
      "/srv/conda/envs/notebook/lib/python3.11/site-packages/geopandas/geoseries.py:622: FutureWarning: Series.__getitem__ treating keys as positions is deprecated. In a future version, integer keys will always be treated as labels (consistent with DataFrame behavior). To access a value by position, use `ser.iloc[pos]`\n",
      "  val = getattr(super(), mtd)(*args, **kwargs)\n",
      "/srv/conda/envs/notebook/lib/python3.11/site-packages/geopandas/io/file.py:383: FutureWarning: errors='ignore' is deprecated and will raise in a future version. Use to_datetime without passing `errors` and catch exceptions explicitly instead\n",
      "  as_dt = pd.to_datetime(df[k], errors=\"ignore\")\n",
      "/srv/conda/envs/notebook/lib/python3.11/site-packages/geopandas/geoseries.py:622: FutureWarning: Series.__getitem__ treating keys as positions is deprecated. In a future version, integer keys will always be treated as labels (consistent with DataFrame behavior). To access a value by position, use `ser.iloc[pos]`\n",
      "  val = getattr(super(), mtd)(*args, **kwargs)\n",
      "/srv/conda/envs/notebook/lib/python3.11/site-packages/geopandas/io/file.py:383: FutureWarning: errors='ignore' is deprecated and will raise in a future version. Use to_datetime without passing `errors` and catch exceptions explicitly instead\n",
      "  as_dt = pd.to_datetime(df[k], errors=\"ignore\")\n",
      "/srv/conda/envs/notebook/lib/python3.11/site-packages/geopandas/geoseries.py:622: FutureWarning: Series.__getitem__ treating keys as positions is deprecated. In a future version, integer keys will always be treated as labels (consistent with DataFrame behavior). To access a value by position, use `ser.iloc[pos]`\n",
      "  val = getattr(super(), mtd)(*args, **kwargs)\n",
      "/srv/conda/envs/notebook/lib/python3.11/site-packages/geopandas/io/file.py:383: FutureWarning: errors='ignore' is deprecated and will raise in a future version. Use to_datetime without passing `errors` and catch exceptions explicitly instead\n",
      "  as_dt = pd.to_datetime(df[k], errors=\"ignore\")\n",
      "/srv/conda/envs/notebook/lib/python3.11/site-packages/geopandas/geoseries.py:622: FutureWarning: Series.__getitem__ treating keys as positions is deprecated. In a future version, integer keys will always be treated as labels (consistent with DataFrame behavior). To access a value by position, use `ser.iloc[pos]`\n",
      "  val = getattr(super(), mtd)(*args, **kwargs)\n",
      "/srv/conda/envs/notebook/lib/python3.11/site-packages/geopandas/io/file.py:383: FutureWarning: errors='ignore' is deprecated and will raise in a future version. Use to_datetime without passing `errors` and catch exceptions explicitly instead\n",
      "  as_dt = pd.to_datetime(df[k], errors=\"ignore\")\n",
      "/srv/conda/envs/notebook/lib/python3.11/site-packages/geopandas/geoseries.py:622: FutureWarning: Series.__getitem__ treating keys as positions is deprecated. In a future version, integer keys will always be treated as labels (consistent with DataFrame behavior). To access a value by position, use `ser.iloc[pos]`\n",
      "  val = getattr(super(), mtd)(*args, **kwargs)\n",
      "/srv/conda/envs/notebook/lib/python3.11/site-packages/geopandas/io/file.py:383: FutureWarning: errors='ignore' is deprecated and will raise in a future version. Use to_datetime without passing `errors` and catch exceptions explicitly instead\n",
      "  as_dt = pd.to_datetime(df[k], errors=\"ignore\")\n",
      "/srv/conda/envs/notebook/lib/python3.11/site-packages/geopandas/geoseries.py:622: FutureWarning: Series.__getitem__ treating keys as positions is deprecated. In a future version, integer keys will always be treated as labels (consistent with DataFrame behavior). To access a value by position, use `ser.iloc[pos]`\n",
      "  val = getattr(super(), mtd)(*args, **kwargs)\n",
      "/srv/conda/envs/notebook/lib/python3.11/site-packages/geopandas/io/file.py:383: FutureWarning: errors='ignore' is deprecated and will raise in a future version. Use to_datetime without passing `errors` and catch exceptions explicitly instead\n",
      "  as_dt = pd.to_datetime(df[k], errors=\"ignore\")\n",
      "/srv/conda/envs/notebook/lib/python3.11/site-packages/geopandas/geoseries.py:622: FutureWarning: Series.__getitem__ treating keys as positions is deprecated. In a future version, integer keys will always be treated as labels (consistent with DataFrame behavior). To access a value by position, use `ser.iloc[pos]`\n",
      "  val = getattr(super(), mtd)(*args, **kwargs)\n",
      "/srv/conda/envs/notebook/lib/python3.11/site-packages/geopandas/io/file.py:383: FutureWarning: errors='ignore' is deprecated and will raise in a future version. Use to_datetime without passing `errors` and catch exceptions explicitly instead\n",
      "  as_dt = pd.to_datetime(df[k], errors=\"ignore\")\n",
      "/srv/conda/envs/notebook/lib/python3.11/site-packages/geopandas/geoseries.py:622: FutureWarning: Series.__getitem__ treating keys as positions is deprecated. In a future version, integer keys will always be treated as labels (consistent with DataFrame behavior). To access a value by position, use `ser.iloc[pos]`\n",
      "  val = getattr(super(), mtd)(*args, **kwargs)\n"
     ]
    },
    {
     "name": "stdout",
     "output_type": "stream",
     "text": [
      "Working on Foundation_14\n",
      "Working on Foundation_15\n",
      "Working on Foundation_16\n",
      "Working on Foundation_2\n",
      "Working on Foundation_3\n",
      "Working on Foundation_5\n",
      "Working on Foundation_6\n",
      "Working on Foundation_7\n",
      "Working on Foundation_8\n",
      "Working on Foundation_9\n",
      "Working on Foundation_N1\n",
      "Working on Foundation_N2\n",
      "Working on Foundation_N3\n",
      "Working on Institute_E1\n",
      "Working on Institute_E2\n",
      "Working on Institute_W2\n",
      "Working on JG_Combined_E2_F2\n",
      "Working on JG_D1_b\n",
      "Working on JG_D2_a\n"
     ]
    },
    {
     "name": "stderr",
     "output_type": "stream",
     "text": [
      "/srv/conda/envs/notebook/lib/python3.11/site-packages/geopandas/io/file.py:383: FutureWarning: errors='ignore' is deprecated and will raise in a future version. Use to_datetime without passing `errors` and catch exceptions explicitly instead\n",
      "  as_dt = pd.to_datetime(df[k], errors=\"ignore\")\n",
      "/srv/conda/envs/notebook/lib/python3.11/site-packages/geopandas/geoseries.py:622: FutureWarning: Series.__getitem__ treating keys as positions is deprecated. In a future version, integer keys will always be treated as labels (consistent with DataFrame behavior). To access a value by position, use `ser.iloc[pos]`\n",
      "  val = getattr(super(), mtd)(*args, **kwargs)\n",
      "/srv/conda/envs/notebook/lib/python3.11/site-packages/geopandas/io/file.py:383: FutureWarning: errors='ignore' is deprecated and will raise in a future version. Use to_datetime without passing `errors` and catch exceptions explicitly instead\n",
      "  as_dt = pd.to_datetime(df[k], errors=\"ignore\")\n",
      "/srv/conda/envs/notebook/lib/python3.11/site-packages/geopandas/geoseries.py:622: FutureWarning: Series.__getitem__ treating keys as positions is deprecated. In a future version, integer keys will always be treated as labels (consistent with DataFrame behavior). To access a value by position, use `ser.iloc[pos]`\n",
      "  val = getattr(super(), mtd)(*args, **kwargs)\n",
      "/srv/conda/envs/notebook/lib/python3.11/site-packages/geopandas/io/file.py:383: FutureWarning: errors='ignore' is deprecated and will raise in a future version. Use to_datetime without passing `errors` and catch exceptions explicitly instead\n",
      "  as_dt = pd.to_datetime(df[k], errors=\"ignore\")\n",
      "/srv/conda/envs/notebook/lib/python3.11/site-packages/geopandas/geoseries.py:622: FutureWarning: Series.__getitem__ treating keys as positions is deprecated. In a future version, integer keys will always be treated as labels (consistent with DataFrame behavior). To access a value by position, use `ser.iloc[pos]`\n",
      "  val = getattr(super(), mtd)(*args, **kwargs)\n",
      "/srv/conda/envs/notebook/lib/python3.11/site-packages/geopandas/io/file.py:383: FutureWarning: errors='ignore' is deprecated and will raise in a future version. Use to_datetime without passing `errors` and catch exceptions explicitly instead\n",
      "  as_dt = pd.to_datetime(df[k], errors=\"ignore\")\n",
      "/srv/conda/envs/notebook/lib/python3.11/site-packages/geopandas/geoseries.py:622: FutureWarning: Series.__getitem__ treating keys as positions is deprecated. In a future version, integer keys will always be treated as labels (consistent with DataFrame behavior). To access a value by position, use `ser.iloc[pos]`\n",
      "  val = getattr(super(), mtd)(*args, **kwargs)\n",
      "/srv/conda/envs/notebook/lib/python3.11/site-packages/geopandas/io/file.py:383: FutureWarning: errors='ignore' is deprecated and will raise in a future version. Use to_datetime without passing `errors` and catch exceptions explicitly instead\n",
      "  as_dt = pd.to_datetime(df[k], errors=\"ignore\")\n",
      "/srv/conda/envs/notebook/lib/python3.11/site-packages/geopandas/geoseries.py:622: FutureWarning: Series.__getitem__ treating keys as positions is deprecated. In a future version, integer keys will always be treated as labels (consistent with DataFrame behavior). To access a value by position, use `ser.iloc[pos]`\n",
      "  val = getattr(super(), mtd)(*args, **kwargs)\n",
      "/srv/conda/envs/notebook/lib/python3.11/site-packages/geopandas/io/file.py:383: FutureWarning: errors='ignore' is deprecated and will raise in a future version. Use to_datetime without passing `errors` and catch exceptions explicitly instead\n",
      "  as_dt = pd.to_datetime(df[k], errors=\"ignore\")\n",
      "/srv/conda/envs/notebook/lib/python3.11/site-packages/geopandas/geoseries.py:622: FutureWarning: Series.__getitem__ treating keys as positions is deprecated. In a future version, integer keys will always be treated as labels (consistent with DataFrame behavior). To access a value by position, use `ser.iloc[pos]`\n",
      "  val = getattr(super(), mtd)(*args, **kwargs)\n",
      "/srv/conda/envs/notebook/lib/python3.11/site-packages/geopandas/io/file.py:383: FutureWarning: errors='ignore' is deprecated and will raise in a future version. Use to_datetime without passing `errors` and catch exceptions explicitly instead\n",
      "  as_dt = pd.to_datetime(df[k], errors=\"ignore\")\n",
      "/srv/conda/envs/notebook/lib/python3.11/site-packages/geopandas/geoseries.py:622: FutureWarning: Series.__getitem__ treating keys as positions is deprecated. In a future version, integer keys will always be treated as labels (consistent with DataFrame behavior). To access a value by position, use `ser.iloc[pos]`\n",
      "  val = getattr(super(), mtd)(*args, **kwargs)\n",
      "/srv/conda/envs/notebook/lib/python3.11/site-packages/geopandas/io/file.py:383: FutureWarning: errors='ignore' is deprecated and will raise in a future version. Use to_datetime without passing `errors` and catch exceptions explicitly instead\n",
      "  as_dt = pd.to_datetime(df[k], errors=\"ignore\")\n",
      "/srv/conda/envs/notebook/lib/python3.11/site-packages/geopandas/geoseries.py:622: FutureWarning: Series.__getitem__ treating keys as positions is deprecated. In a future version, integer keys will always be treated as labels (consistent with DataFrame behavior). To access a value by position, use `ser.iloc[pos]`\n",
      "  val = getattr(super(), mtd)(*args, **kwargs)\n",
      "/srv/conda/envs/notebook/lib/python3.11/site-packages/geopandas/io/file.py:383: FutureWarning: errors='ignore' is deprecated and will raise in a future version. Use to_datetime without passing `errors` and catch exceptions explicitly instead\n",
      "  as_dt = pd.to_datetime(df[k], errors=\"ignore\")\n",
      "/srv/conda/envs/notebook/lib/python3.11/site-packages/geopandas/geoseries.py:622: FutureWarning: Series.__getitem__ treating keys as positions is deprecated. In a future version, integer keys will always be treated as labels (consistent with DataFrame behavior). To access a value by position, use `ser.iloc[pos]`\n",
      "  val = getattr(super(), mtd)(*args, **kwargs)\n",
      "/srv/conda/envs/notebook/lib/python3.11/site-packages/geopandas/io/file.py:383: FutureWarning: errors='ignore' is deprecated and will raise in a future version. Use to_datetime without passing `errors` and catch exceptions explicitly instead\n",
      "  as_dt = pd.to_datetime(df[k], errors=\"ignore\")\n",
      "/srv/conda/envs/notebook/lib/python3.11/site-packages/geopandas/geoseries.py:622: FutureWarning: Series.__getitem__ treating keys as positions is deprecated. In a future version, integer keys will always be treated as labels (consistent with DataFrame behavior). To access a value by position, use `ser.iloc[pos]`\n",
      "  val = getattr(super(), mtd)(*args, **kwargs)\n",
      "/srv/conda/envs/notebook/lib/python3.11/site-packages/geopandas/io/file.py:383: FutureWarning: errors='ignore' is deprecated and will raise in a future version. Use to_datetime without passing `errors` and catch exceptions explicitly instead\n",
      "  as_dt = pd.to_datetime(df[k], errors=\"ignore\")\n",
      "/srv/conda/envs/notebook/lib/python3.11/site-packages/geopandas/geoseries.py:622: FutureWarning: Series.__getitem__ treating keys as positions is deprecated. In a future version, integer keys will always be treated as labels (consistent with DataFrame behavior). To access a value by position, use `ser.iloc[pos]`\n",
      "  val = getattr(super(), mtd)(*args, **kwargs)\n",
      "/srv/conda/envs/notebook/lib/python3.11/site-packages/geopandas/io/file.py:383: FutureWarning: errors='ignore' is deprecated and will raise in a future version. Use to_datetime without passing `errors` and catch exceptions explicitly instead\n",
      "  as_dt = pd.to_datetime(df[k], errors=\"ignore\")\n",
      "/srv/conda/envs/notebook/lib/python3.11/site-packages/geopandas/geoseries.py:622: FutureWarning: Series.__getitem__ treating keys as positions is deprecated. In a future version, integer keys will always be treated as labels (consistent with DataFrame behavior). To access a value by position, use `ser.iloc[pos]`\n",
      "  val = getattr(super(), mtd)(*args, **kwargs)\n",
      "/srv/conda/envs/notebook/lib/python3.11/site-packages/geopandas/io/file.py:383: FutureWarning: errors='ignore' is deprecated and will raise in a future version. Use to_datetime without passing `errors` and catch exceptions explicitly instead\n",
      "  as_dt = pd.to_datetime(df[k], errors=\"ignore\")\n",
      "/srv/conda/envs/notebook/lib/python3.11/site-packages/geopandas/geoseries.py:622: FutureWarning: Series.__getitem__ treating keys as positions is deprecated. In a future version, integer keys will always be treated as labels (consistent with DataFrame behavior). To access a value by position, use `ser.iloc[pos]`\n",
      "  val = getattr(super(), mtd)(*args, **kwargs)\n",
      "/srv/conda/envs/notebook/lib/python3.11/site-packages/geopandas/io/file.py:383: FutureWarning: errors='ignore' is deprecated and will raise in a future version. Use to_datetime without passing `errors` and catch exceptions explicitly instead\n",
      "  as_dt = pd.to_datetime(df[k], errors=\"ignore\")\n",
      "/srv/conda/envs/notebook/lib/python3.11/site-packages/geopandas/geoseries.py:622: FutureWarning: Series.__getitem__ treating keys as positions is deprecated. In a future version, integer keys will always be treated as labels (consistent with DataFrame behavior). To access a value by position, use `ser.iloc[pos]`\n",
      "  val = getattr(super(), mtd)(*args, **kwargs)\n",
      "/srv/conda/envs/notebook/lib/python3.11/site-packages/geopandas/io/file.py:383: FutureWarning: errors='ignore' is deprecated and will raise in a future version. Use to_datetime without passing `errors` and catch exceptions explicitly instead\n",
      "  as_dt = pd.to_datetime(df[k], errors=\"ignore\")\n",
      "/srv/conda/envs/notebook/lib/python3.11/site-packages/geopandas/geoseries.py:622: FutureWarning: Series.__getitem__ treating keys as positions is deprecated. In a future version, integer keys will always be treated as labels (consistent with DataFrame behavior). To access a value by position, use `ser.iloc[pos]`\n",
      "  val = getattr(super(), mtd)(*args, **kwargs)\n",
      "/srv/conda/envs/notebook/lib/python3.11/site-packages/geopandas/io/file.py:383: FutureWarning: errors='ignore' is deprecated and will raise in a future version. Use to_datetime without passing `errors` and catch exceptions explicitly instead\n",
      "  as_dt = pd.to_datetime(df[k], errors=\"ignore\")\n",
      "/srv/conda/envs/notebook/lib/python3.11/site-packages/geopandas/geoseries.py:622: FutureWarning: Series.__getitem__ treating keys as positions is deprecated. In a future version, integer keys will always be treated as labels (consistent with DataFrame behavior). To access a value by position, use `ser.iloc[pos]`\n",
      "  val = getattr(super(), mtd)(*args, **kwargs)\n",
      "/srv/conda/envs/notebook/lib/python3.11/site-packages/geopandas/io/file.py:383: FutureWarning: errors='ignore' is deprecated and will raise in a future version. Use to_datetime without passing `errors` and catch exceptions explicitly instead\n",
      "  as_dt = pd.to_datetime(df[k], errors=\"ignore\")\n",
      "/srv/conda/envs/notebook/lib/python3.11/site-packages/geopandas/geoseries.py:622: FutureWarning: Series.__getitem__ treating keys as positions is deprecated. In a future version, integer keys will always be treated as labels (consistent with DataFrame behavior). To access a value by position, use `ser.iloc[pos]`\n",
      "  val = getattr(super(), mtd)(*args, **kwargs)\n",
      "/srv/conda/envs/notebook/lib/python3.11/site-packages/geopandas/io/file.py:383: FutureWarning: errors='ignore' is deprecated and will raise in a future version. Use to_datetime without passing `errors` and catch exceptions explicitly instead\n",
      "  as_dt = pd.to_datetime(df[k], errors=\"ignore\")\n",
      "/srv/conda/envs/notebook/lib/python3.11/site-packages/geopandas/geoseries.py:622: FutureWarning: Series.__getitem__ treating keys as positions is deprecated. In a future version, integer keys will always be treated as labels (consistent with DataFrame behavior). To access a value by position, use `ser.iloc[pos]`\n",
      "  val = getattr(super(), mtd)(*args, **kwargs)\n",
      "/srv/conda/envs/notebook/lib/python3.11/site-packages/geopandas/io/file.py:383: FutureWarning: errors='ignore' is deprecated and will raise in a future version. Use to_datetime without passing `errors` and catch exceptions explicitly instead\n",
      "  as_dt = pd.to_datetime(df[k], errors=\"ignore\")\n"
     ]
    },
    {
     "name": "stdout",
     "output_type": "stream",
     "text": [
      "Working on JG_F1\n",
      "Working on KT1\n",
      "Working on KT2\n",
      "Working on Kamb_1\n",
      "Working on Kamb_10\n",
      "Working on Kamb_11\n",
      "Working on Kamb_12\n",
      "Working on Kamb_2\n",
      "Working on Kamb_3\n",
      "Working on Kamb_5\n",
      "Working on Kamb_6\n",
      "Working on Kamb_7\n",
      "Working on Kamb_8\n",
      "Working on Kamb_9\n",
      "Working on L1\n",
      "Working on Lake10\n",
      "Working on Lake12\n",
      "Working on Lake78\n",
      "Working on Lambert_1\n"
     ]
    },
    {
     "name": "stderr",
     "output_type": "stream",
     "text": [
      "/srv/conda/envs/notebook/lib/python3.11/site-packages/geopandas/geoseries.py:622: FutureWarning: Series.__getitem__ treating keys as positions is deprecated. In a future version, integer keys will always be treated as labels (consistent with DataFrame behavior). To access a value by position, use `ser.iloc[pos]`\n",
      "  val = getattr(super(), mtd)(*args, **kwargs)\n",
      "/srv/conda/envs/notebook/lib/python3.11/site-packages/geopandas/io/file.py:383: FutureWarning: errors='ignore' is deprecated and will raise in a future version. Use to_datetime without passing `errors` and catch exceptions explicitly instead\n",
      "  as_dt = pd.to_datetime(df[k], errors=\"ignore\")\n",
      "/srv/conda/envs/notebook/lib/python3.11/site-packages/geopandas/geoseries.py:622: FutureWarning: Series.__getitem__ treating keys as positions is deprecated. In a future version, integer keys will always be treated as labels (consistent with DataFrame behavior). To access a value by position, use `ser.iloc[pos]`\n",
      "  val = getattr(super(), mtd)(*args, **kwargs)\n",
      "/srv/conda/envs/notebook/lib/python3.11/site-packages/geopandas/io/file.py:383: FutureWarning: errors='ignore' is deprecated and will raise in a future version. Use to_datetime without passing `errors` and catch exceptions explicitly instead\n",
      "  as_dt = pd.to_datetime(df[k], errors=\"ignore\")\n",
      "/srv/conda/envs/notebook/lib/python3.11/site-packages/geopandas/geoseries.py:622: FutureWarning: Series.__getitem__ treating keys as positions is deprecated. In a future version, integer keys will always be treated as labels (consistent with DataFrame behavior). To access a value by position, use `ser.iloc[pos]`\n",
      "  val = getattr(super(), mtd)(*args, **kwargs)\n",
      "/srv/conda/envs/notebook/lib/python3.11/site-packages/geopandas/io/file.py:383: FutureWarning: errors='ignore' is deprecated and will raise in a future version. Use to_datetime without passing `errors` and catch exceptions explicitly instead\n",
      "  as_dt = pd.to_datetime(df[k], errors=\"ignore\")\n",
      "/srv/conda/envs/notebook/lib/python3.11/site-packages/geopandas/geoseries.py:622: FutureWarning: Series.__getitem__ treating keys as positions is deprecated. In a future version, integer keys will always be treated as labels (consistent with DataFrame behavior). To access a value by position, use `ser.iloc[pos]`\n",
      "  val = getattr(super(), mtd)(*args, **kwargs)\n",
      "/srv/conda/envs/notebook/lib/python3.11/site-packages/geopandas/io/file.py:383: FutureWarning: errors='ignore' is deprecated and will raise in a future version. Use to_datetime without passing `errors` and catch exceptions explicitly instead\n",
      "  as_dt = pd.to_datetime(df[k], errors=\"ignore\")\n",
      "/srv/conda/envs/notebook/lib/python3.11/site-packages/geopandas/geoseries.py:622: FutureWarning: Series.__getitem__ treating keys as positions is deprecated. In a future version, integer keys will always be treated as labels (consistent with DataFrame behavior). To access a value by position, use `ser.iloc[pos]`\n",
      "  val = getattr(super(), mtd)(*args, **kwargs)\n",
      "/srv/conda/envs/notebook/lib/python3.11/site-packages/geopandas/io/file.py:383: FutureWarning: errors='ignore' is deprecated and will raise in a future version. Use to_datetime without passing `errors` and catch exceptions explicitly instead\n",
      "  as_dt = pd.to_datetime(df[k], errors=\"ignore\")\n",
      "/srv/conda/envs/notebook/lib/python3.11/site-packages/geopandas/geoseries.py:622: FutureWarning: Series.__getitem__ treating keys as positions is deprecated. In a future version, integer keys will always be treated as labels (consistent with DataFrame behavior). To access a value by position, use `ser.iloc[pos]`\n",
      "  val = getattr(super(), mtd)(*args, **kwargs)\n",
      "/srv/conda/envs/notebook/lib/python3.11/site-packages/geopandas/io/file.py:383: FutureWarning: errors='ignore' is deprecated and will raise in a future version. Use to_datetime without passing `errors` and catch exceptions explicitly instead\n",
      "  as_dt = pd.to_datetime(df[k], errors=\"ignore\")\n",
      "/srv/conda/envs/notebook/lib/python3.11/site-packages/geopandas/geoseries.py:622: FutureWarning: Series.__getitem__ treating keys as positions is deprecated. In a future version, integer keys will always be treated as labels (consistent with DataFrame behavior). To access a value by position, use `ser.iloc[pos]`\n",
      "  val = getattr(super(), mtd)(*args, **kwargs)\n",
      "/srv/conda/envs/notebook/lib/python3.11/site-packages/geopandas/io/file.py:383: FutureWarning: errors='ignore' is deprecated and will raise in a future version. Use to_datetime without passing `errors` and catch exceptions explicitly instead\n",
      "  as_dt = pd.to_datetime(df[k], errors=\"ignore\")\n",
      "/srv/conda/envs/notebook/lib/python3.11/site-packages/geopandas/geoseries.py:622: FutureWarning: Series.__getitem__ treating keys as positions is deprecated. In a future version, integer keys will always be treated as labels (consistent with DataFrame behavior). To access a value by position, use `ser.iloc[pos]`\n",
      "  val = getattr(super(), mtd)(*args, **kwargs)\n",
      "/srv/conda/envs/notebook/lib/python3.11/site-packages/geopandas/io/file.py:383: FutureWarning: errors='ignore' is deprecated and will raise in a future version. Use to_datetime without passing `errors` and catch exceptions explicitly instead\n",
      "  as_dt = pd.to_datetime(df[k], errors=\"ignore\")\n",
      "/srv/conda/envs/notebook/lib/python3.11/site-packages/geopandas/geoseries.py:622: FutureWarning: Series.__getitem__ treating keys as positions is deprecated. In a future version, integer keys will always be treated as labels (consistent with DataFrame behavior). To access a value by position, use `ser.iloc[pos]`\n",
      "  val = getattr(super(), mtd)(*args, **kwargs)\n",
      "/srv/conda/envs/notebook/lib/python3.11/site-packages/geopandas/io/file.py:383: FutureWarning: errors='ignore' is deprecated and will raise in a future version. Use to_datetime without passing `errors` and catch exceptions explicitly instead\n",
      "  as_dt = pd.to_datetime(df[k], errors=\"ignore\")\n",
      "/srv/conda/envs/notebook/lib/python3.11/site-packages/geopandas/geoseries.py:622: FutureWarning: Series.__getitem__ treating keys as positions is deprecated. In a future version, integer keys will always be treated as labels (consistent with DataFrame behavior). To access a value by position, use `ser.iloc[pos]`\n",
      "  val = getattr(super(), mtd)(*args, **kwargs)\n",
      "/srv/conda/envs/notebook/lib/python3.11/site-packages/geopandas/io/file.py:383: FutureWarning: errors='ignore' is deprecated and will raise in a future version. Use to_datetime without passing `errors` and catch exceptions explicitly instead\n",
      "  as_dt = pd.to_datetime(df[k], errors=\"ignore\")\n",
      "/srv/conda/envs/notebook/lib/python3.11/site-packages/geopandas/geoseries.py:622: FutureWarning: Series.__getitem__ treating keys as positions is deprecated. In a future version, integer keys will always be treated as labels (consistent with DataFrame behavior). To access a value by position, use `ser.iloc[pos]`\n",
      "  val = getattr(super(), mtd)(*args, **kwargs)\n",
      "/srv/conda/envs/notebook/lib/python3.11/site-packages/geopandas/io/file.py:383: FutureWarning: errors='ignore' is deprecated and will raise in a future version. Use to_datetime without passing `errors` and catch exceptions explicitly instead\n",
      "  as_dt = pd.to_datetime(df[k], errors=\"ignore\")\n",
      "/srv/conda/envs/notebook/lib/python3.11/site-packages/geopandas/geoseries.py:622: FutureWarning: Series.__getitem__ treating keys as positions is deprecated. In a future version, integer keys will always be treated as labels (consistent with DataFrame behavior). To access a value by position, use `ser.iloc[pos]`\n",
      "  val = getattr(super(), mtd)(*args, **kwargs)\n",
      "/srv/conda/envs/notebook/lib/python3.11/site-packages/geopandas/io/file.py:383: FutureWarning: errors='ignore' is deprecated and will raise in a future version. Use to_datetime without passing `errors` and catch exceptions explicitly instead\n",
      "  as_dt = pd.to_datetime(df[k], errors=\"ignore\")\n",
      "/srv/conda/envs/notebook/lib/python3.11/site-packages/geopandas/geoseries.py:622: FutureWarning: Series.__getitem__ treating keys as positions is deprecated. In a future version, integer keys will always be treated as labels (consistent with DataFrame behavior). To access a value by position, use `ser.iloc[pos]`\n",
      "  val = getattr(super(), mtd)(*args, **kwargs)\n",
      "/srv/conda/envs/notebook/lib/python3.11/site-packages/geopandas/io/file.py:383: FutureWarning: errors='ignore' is deprecated and will raise in a future version. Use to_datetime without passing `errors` and catch exceptions explicitly instead\n",
      "  as_dt = pd.to_datetime(df[k], errors=\"ignore\")\n",
      "/srv/conda/envs/notebook/lib/python3.11/site-packages/geopandas/geoseries.py:622: FutureWarning: Series.__getitem__ treating keys as positions is deprecated. In a future version, integer keys will always be treated as labels (consistent with DataFrame behavior). To access a value by position, use `ser.iloc[pos]`\n",
      "  val = getattr(super(), mtd)(*args, **kwargs)\n",
      "/srv/conda/envs/notebook/lib/python3.11/site-packages/geopandas/io/file.py:383: FutureWarning: errors='ignore' is deprecated and will raise in a future version. Use to_datetime without passing `errors` and catch exceptions explicitly instead\n",
      "  as_dt = pd.to_datetime(df[k], errors=\"ignore\")\n",
      "/srv/conda/envs/notebook/lib/python3.11/site-packages/geopandas/geoseries.py:622: FutureWarning: Series.__getitem__ treating keys as positions is deprecated. In a future version, integer keys will always be treated as labels (consistent with DataFrame behavior). To access a value by position, use `ser.iloc[pos]`\n",
      "  val = getattr(super(), mtd)(*args, **kwargs)\n",
      "/srv/conda/envs/notebook/lib/python3.11/site-packages/geopandas/io/file.py:383: FutureWarning: errors='ignore' is deprecated and will raise in a future version. Use to_datetime without passing `errors` and catch exceptions explicitly instead\n",
      "  as_dt = pd.to_datetime(df[k], errors=\"ignore\")\n",
      "/srv/conda/envs/notebook/lib/python3.11/site-packages/geopandas/geoseries.py:622: FutureWarning: Series.__getitem__ treating keys as positions is deprecated. In a future version, integer keys will always be treated as labels (consistent with DataFrame behavior). To access a value by position, use `ser.iloc[pos]`\n",
      "  val = getattr(super(), mtd)(*args, **kwargs)\n",
      "/srv/conda/envs/notebook/lib/python3.11/site-packages/geopandas/io/file.py:383: FutureWarning: errors='ignore' is deprecated and will raise in a future version. Use to_datetime without passing `errors` and catch exceptions explicitly instead\n",
      "  as_dt = pd.to_datetime(df[k], errors=\"ignore\")\n",
      "/srv/conda/envs/notebook/lib/python3.11/site-packages/geopandas/geoseries.py:622: FutureWarning: Series.__getitem__ treating keys as positions is deprecated. In a future version, integer keys will always be treated as labels (consistent with DataFrame behavior). To access a value by position, use `ser.iloc[pos]`\n",
      "  val = getattr(super(), mtd)(*args, **kwargs)\n",
      "/srv/conda/envs/notebook/lib/python3.11/site-packages/geopandas/io/file.py:383: FutureWarning: errors='ignore' is deprecated and will raise in a future version. Use to_datetime without passing `errors` and catch exceptions explicitly instead\n",
      "  as_dt = pd.to_datetime(df[k], errors=\"ignore\")\n",
      "/srv/conda/envs/notebook/lib/python3.11/site-packages/geopandas/geoseries.py:622: FutureWarning: Series.__getitem__ treating keys as positions is deprecated. In a future version, integer keys will always be treated as labels (consistent with DataFrame behavior). To access a value by position, use `ser.iloc[pos]`\n",
      "  val = getattr(super(), mtd)(*args, **kwargs)\n",
      "/srv/conda/envs/notebook/lib/python3.11/site-packages/geopandas/io/file.py:383: FutureWarning: errors='ignore' is deprecated and will raise in a future version. Use to_datetime without passing `errors` and catch exceptions explicitly instead\n",
      "  as_dt = pd.to_datetime(df[k], errors=\"ignore\")\n",
      "/srv/conda/envs/notebook/lib/python3.11/site-packages/geopandas/geoseries.py:622: FutureWarning: Series.__getitem__ treating keys as positions is deprecated. In a future version, integer keys will always be treated as labels (consistent with DataFrame behavior). To access a value by position, use `ser.iloc[pos]`\n",
      "  val = getattr(super(), mtd)(*args, **kwargs)\n"
     ]
    },
    {
     "name": "stdout",
     "output_type": "stream",
     "text": [
      "Working on LennoxKing_1\n",
      "Working on LowerMercerSubglacialLake\n",
      "Working on LowerSubglacialLakeConway\n",
      "Working on Mac1\n",
      "Working on Mac2\n",
      "Working on Mac3\n",
      "Working on Mac4\n",
      "Working on Mac5\n",
      "Working on Mac6\n",
      "Working on MercerSubglacialLake\n",
      "Working on Nimrod_2\n",
      "Working on Ninnis_1\n",
      "Working on Raymond_1\n",
      "Working on Rec1\n"
     ]
    },
    {
     "name": "stderr",
     "output_type": "stream",
     "text": [
      "/srv/conda/envs/notebook/lib/python3.11/site-packages/geopandas/io/file.py:383: FutureWarning: errors='ignore' is deprecated and will raise in a future version. Use to_datetime without passing `errors` and catch exceptions explicitly instead\n",
      "  as_dt = pd.to_datetime(df[k], errors=\"ignore\")\n",
      "/srv/conda/envs/notebook/lib/python3.11/site-packages/geopandas/geoseries.py:622: FutureWarning: Series.__getitem__ treating keys as positions is deprecated. In a future version, integer keys will always be treated as labels (consistent with DataFrame behavior). To access a value by position, use `ser.iloc[pos]`\n",
      "  val = getattr(super(), mtd)(*args, **kwargs)\n",
      "/srv/conda/envs/notebook/lib/python3.11/site-packages/geopandas/io/file.py:383: FutureWarning: errors='ignore' is deprecated and will raise in a future version. Use to_datetime without passing `errors` and catch exceptions explicitly instead\n",
      "  as_dt = pd.to_datetime(df[k], errors=\"ignore\")\n",
      "/srv/conda/envs/notebook/lib/python3.11/site-packages/geopandas/geoseries.py:622: FutureWarning: Series.__getitem__ treating keys as positions is deprecated. In a future version, integer keys will always be treated as labels (consistent with DataFrame behavior). To access a value by position, use `ser.iloc[pos]`\n",
      "  val = getattr(super(), mtd)(*args, **kwargs)\n",
      "/srv/conda/envs/notebook/lib/python3.11/site-packages/geopandas/io/file.py:383: FutureWarning: errors='ignore' is deprecated and will raise in a future version. Use to_datetime without passing `errors` and catch exceptions explicitly instead\n",
      "  as_dt = pd.to_datetime(df[k], errors=\"ignore\")\n",
      "/srv/conda/envs/notebook/lib/python3.11/site-packages/geopandas/geoseries.py:622: FutureWarning: Series.__getitem__ treating keys as positions is deprecated. In a future version, integer keys will always be treated as labels (consistent with DataFrame behavior). To access a value by position, use `ser.iloc[pos]`\n",
      "  val = getattr(super(), mtd)(*args, **kwargs)\n",
      "/srv/conda/envs/notebook/lib/python3.11/site-packages/geopandas/io/file.py:383: FutureWarning: errors='ignore' is deprecated and will raise in a future version. Use to_datetime without passing `errors` and catch exceptions explicitly instead\n",
      "  as_dt = pd.to_datetime(df[k], errors=\"ignore\")\n",
      "/srv/conda/envs/notebook/lib/python3.11/site-packages/geopandas/geoseries.py:622: FutureWarning: Series.__getitem__ treating keys as positions is deprecated. In a future version, integer keys will always be treated as labels (consistent with DataFrame behavior). To access a value by position, use `ser.iloc[pos]`\n",
      "  val = getattr(super(), mtd)(*args, **kwargs)\n",
      "/srv/conda/envs/notebook/lib/python3.11/site-packages/geopandas/io/file.py:383: FutureWarning: errors='ignore' is deprecated and will raise in a future version. Use to_datetime without passing `errors` and catch exceptions explicitly instead\n",
      "  as_dt = pd.to_datetime(df[k], errors=\"ignore\")\n",
      "/srv/conda/envs/notebook/lib/python3.11/site-packages/geopandas/geoseries.py:622: FutureWarning: Series.__getitem__ treating keys as positions is deprecated. In a future version, integer keys will always be treated as labels (consistent with DataFrame behavior). To access a value by position, use `ser.iloc[pos]`\n",
      "  val = getattr(super(), mtd)(*args, **kwargs)\n",
      "/srv/conda/envs/notebook/lib/python3.11/site-packages/geopandas/io/file.py:383: FutureWarning: errors='ignore' is deprecated and will raise in a future version. Use to_datetime without passing `errors` and catch exceptions explicitly instead\n",
      "  as_dt = pd.to_datetime(df[k], errors=\"ignore\")\n",
      "/srv/conda/envs/notebook/lib/python3.11/site-packages/geopandas/geoseries.py:622: FutureWarning: Series.__getitem__ treating keys as positions is deprecated. In a future version, integer keys will always be treated as labels (consistent with DataFrame behavior). To access a value by position, use `ser.iloc[pos]`\n",
      "  val = getattr(super(), mtd)(*args, **kwargs)\n",
      "/srv/conda/envs/notebook/lib/python3.11/site-packages/geopandas/io/file.py:383: FutureWarning: errors='ignore' is deprecated and will raise in a future version. Use to_datetime without passing `errors` and catch exceptions explicitly instead\n",
      "  as_dt = pd.to_datetime(df[k], errors=\"ignore\")\n",
      "/srv/conda/envs/notebook/lib/python3.11/site-packages/geopandas/geoseries.py:622: FutureWarning: Series.__getitem__ treating keys as positions is deprecated. In a future version, integer keys will always be treated as labels (consistent with DataFrame behavior). To access a value by position, use `ser.iloc[pos]`\n",
      "  val = getattr(super(), mtd)(*args, **kwargs)\n",
      "/srv/conda/envs/notebook/lib/python3.11/site-packages/geopandas/io/file.py:383: FutureWarning: errors='ignore' is deprecated and will raise in a future version. Use to_datetime without passing `errors` and catch exceptions explicitly instead\n",
      "  as_dt = pd.to_datetime(df[k], errors=\"ignore\")\n",
      "/srv/conda/envs/notebook/lib/python3.11/site-packages/geopandas/geoseries.py:622: FutureWarning: Series.__getitem__ treating keys as positions is deprecated. In a future version, integer keys will always be treated as labels (consistent with DataFrame behavior). To access a value by position, use `ser.iloc[pos]`\n",
      "  val = getattr(super(), mtd)(*args, **kwargs)\n",
      "/srv/conda/envs/notebook/lib/python3.11/site-packages/geopandas/io/file.py:383: FutureWarning: errors='ignore' is deprecated and will raise in a future version. Use to_datetime without passing `errors` and catch exceptions explicitly instead\n",
      "  as_dt = pd.to_datetime(df[k], errors=\"ignore\")\n",
      "/srv/conda/envs/notebook/lib/python3.11/site-packages/geopandas/geoseries.py:622: FutureWarning: Series.__getitem__ treating keys as positions is deprecated. In a future version, integer keys will always be treated as labels (consistent with DataFrame behavior). To access a value by position, use `ser.iloc[pos]`\n",
      "  val = getattr(super(), mtd)(*args, **kwargs)\n",
      "/srv/conda/envs/notebook/lib/python3.11/site-packages/geopandas/io/file.py:383: FutureWarning: errors='ignore' is deprecated and will raise in a future version. Use to_datetime without passing `errors` and catch exceptions explicitly instead\n",
      "  as_dt = pd.to_datetime(df[k], errors=\"ignore\")\n",
      "/srv/conda/envs/notebook/lib/python3.11/site-packages/geopandas/geoseries.py:622: FutureWarning: Series.__getitem__ treating keys as positions is deprecated. In a future version, integer keys will always be treated as labels (consistent with DataFrame behavior). To access a value by position, use `ser.iloc[pos]`\n",
      "  val = getattr(super(), mtd)(*args, **kwargs)\n",
      "/srv/conda/envs/notebook/lib/python3.11/site-packages/geopandas/io/file.py:383: FutureWarning: errors='ignore' is deprecated and will raise in a future version. Use to_datetime without passing `errors` and catch exceptions explicitly instead\n",
      "  as_dt = pd.to_datetime(df[k], errors=\"ignore\")\n",
      "/srv/conda/envs/notebook/lib/python3.11/site-packages/geopandas/geoseries.py:622: FutureWarning: Series.__getitem__ treating keys as positions is deprecated. In a future version, integer keys will always be treated as labels (consistent with DataFrame behavior). To access a value by position, use `ser.iloc[pos]`\n",
      "  val = getattr(super(), mtd)(*args, **kwargs)\n",
      "/srv/conda/envs/notebook/lib/python3.11/site-packages/geopandas/io/file.py:383: FutureWarning: errors='ignore' is deprecated and will raise in a future version. Use to_datetime without passing `errors` and catch exceptions explicitly instead\n",
      "  as_dt = pd.to_datetime(df[k], errors=\"ignore\")\n",
      "/srv/conda/envs/notebook/lib/python3.11/site-packages/geopandas/geoseries.py:622: FutureWarning: Series.__getitem__ treating keys as positions is deprecated. In a future version, integer keys will always be treated as labels (consistent with DataFrame behavior). To access a value by position, use `ser.iloc[pos]`\n",
      "  val = getattr(super(), mtd)(*args, **kwargs)\n",
      "/srv/conda/envs/notebook/lib/python3.11/site-packages/geopandas/io/file.py:383: FutureWarning: errors='ignore' is deprecated and will raise in a future version. Use to_datetime without passing `errors` and catch exceptions explicitly instead\n",
      "  as_dt = pd.to_datetime(df[k], errors=\"ignore\")\n",
      "/srv/conda/envs/notebook/lib/python3.11/site-packages/geopandas/geoseries.py:622: FutureWarning: Series.__getitem__ treating keys as positions is deprecated. In a future version, integer keys will always be treated as labels (consistent with DataFrame behavior). To access a value by position, use `ser.iloc[pos]`\n",
      "  val = getattr(super(), mtd)(*args, **kwargs)\n",
      "/srv/conda/envs/notebook/lib/python3.11/site-packages/geopandas/io/file.py:383: FutureWarning: errors='ignore' is deprecated and will raise in a future version. Use to_datetime without passing `errors` and catch exceptions explicitly instead\n",
      "  as_dt = pd.to_datetime(df[k], errors=\"ignore\")\n",
      "/srv/conda/envs/notebook/lib/python3.11/site-packages/geopandas/geoseries.py:622: FutureWarning: Series.__getitem__ treating keys as positions is deprecated. In a future version, integer keys will always be treated as labels (consistent with DataFrame behavior). To access a value by position, use `ser.iloc[pos]`\n",
      "  val = getattr(super(), mtd)(*args, **kwargs)\n",
      "/srv/conda/envs/notebook/lib/python3.11/site-packages/geopandas/io/file.py:383: FutureWarning: errors='ignore' is deprecated and will raise in a future version. Use to_datetime without passing `errors` and catch exceptions explicitly instead\n",
      "  as_dt = pd.to_datetime(df[k], errors=\"ignore\")\n",
      "/srv/conda/envs/notebook/lib/python3.11/site-packages/geopandas/geoseries.py:622: FutureWarning: Series.__getitem__ treating keys as positions is deprecated. In a future version, integer keys will always be treated as labels (consistent with DataFrame behavior). To access a value by position, use `ser.iloc[pos]`\n",
      "  val = getattr(super(), mtd)(*args, **kwargs)\n",
      "/srv/conda/envs/notebook/lib/python3.11/site-packages/geopandas/io/file.py:383: FutureWarning: errors='ignore' is deprecated and will raise in a future version. Use to_datetime without passing `errors` and catch exceptions explicitly instead\n",
      "  as_dt = pd.to_datetime(df[k], errors=\"ignore\")\n",
      "/srv/conda/envs/notebook/lib/python3.11/site-packages/geopandas/geoseries.py:622: FutureWarning: Series.__getitem__ treating keys as positions is deprecated. In a future version, integer keys will always be treated as labels (consistent with DataFrame behavior). To access a value by position, use `ser.iloc[pos]`\n",
      "  val = getattr(super(), mtd)(*args, **kwargs)\n",
      "/srv/conda/envs/notebook/lib/python3.11/site-packages/geopandas/io/file.py:383: FutureWarning: errors='ignore' is deprecated and will raise in a future version. Use to_datetime without passing `errors` and catch exceptions explicitly instead\n",
      "  as_dt = pd.to_datetime(df[k], errors=\"ignore\")\n",
      "/srv/conda/envs/notebook/lib/python3.11/site-packages/geopandas/geoseries.py:622: FutureWarning: Series.__getitem__ treating keys as positions is deprecated. In a future version, integer keys will always be treated as labels (consistent with DataFrame behavior). To access a value by position, use `ser.iloc[pos]`\n",
      "  val = getattr(super(), mtd)(*args, **kwargs)\n",
      "/srv/conda/envs/notebook/lib/python3.11/site-packages/geopandas/io/file.py:383: FutureWarning: errors='ignore' is deprecated and will raise in a future version. Use to_datetime without passing `errors` and catch exceptions explicitly instead\n",
      "  as_dt = pd.to_datetime(df[k], errors=\"ignore\")\n",
      "/srv/conda/envs/notebook/lib/python3.11/site-packages/geopandas/geoseries.py:622: FutureWarning: Series.__getitem__ treating keys as positions is deprecated. In a future version, integer keys will always be treated as labels (consistent with DataFrame behavior). To access a value by position, use `ser.iloc[pos]`\n",
      "  val = getattr(super(), mtd)(*args, **kwargs)\n",
      "/srv/conda/envs/notebook/lib/python3.11/site-packages/geopandas/io/file.py:383: FutureWarning: errors='ignore' is deprecated and will raise in a future version. Use to_datetime without passing `errors` and catch exceptions explicitly instead\n",
      "  as_dt = pd.to_datetime(df[k], errors=\"ignore\")\n",
      "/srv/conda/envs/notebook/lib/python3.11/site-packages/geopandas/geoseries.py:622: FutureWarning: Series.__getitem__ treating keys as positions is deprecated. In a future version, integer keys will always be treated as labels (consistent with DataFrame behavior). To access a value by position, use `ser.iloc[pos]`\n",
      "  val = getattr(super(), mtd)(*args, **kwargs)\n",
      "/srv/conda/envs/notebook/lib/python3.11/site-packages/geopandas/io/file.py:383: FutureWarning: errors='ignore' is deprecated and will raise in a future version. Use to_datetime without passing `errors` and catch exceptions explicitly instead\n",
      "  as_dt = pd.to_datetime(df[k], errors=\"ignore\")\n",
      "/srv/conda/envs/notebook/lib/python3.11/site-packages/geopandas/geoseries.py:622: FutureWarning: Series.__getitem__ treating keys as positions is deprecated. In a future version, integer keys will always be treated as labels (consistent with DataFrame behavior). To access a value by position, use `ser.iloc[pos]`\n",
      "  val = getattr(super(), mtd)(*args, **kwargs)\n",
      "/srv/conda/envs/notebook/lib/python3.11/site-packages/geopandas/io/file.py:383: FutureWarning: errors='ignore' is deprecated and will raise in a future version. Use to_datetime without passing `errors` and catch exceptions explicitly instead\n",
      "  as_dt = pd.to_datetime(df[k], errors=\"ignore\")\n",
      "/srv/conda/envs/notebook/lib/python3.11/site-packages/geopandas/geoseries.py:622: FutureWarning: Series.__getitem__ treating keys as positions is deprecated. In a future version, integer keys will always be treated as labels (consistent with DataFrame behavior). To access a value by position, use `ser.iloc[pos]`\n",
      "  val = getattr(super(), mtd)(*args, **kwargs)\n",
      "/srv/conda/envs/notebook/lib/python3.11/site-packages/geopandas/io/file.py:383: FutureWarning: errors='ignore' is deprecated and will raise in a future version. Use to_datetime without passing `errors` and catch exceptions explicitly instead\n",
      "  as_dt = pd.to_datetime(df[k], errors=\"ignore\")\n",
      "/srv/conda/envs/notebook/lib/python3.11/site-packages/geopandas/geoseries.py:622: FutureWarning: Series.__getitem__ treating keys as positions is deprecated. In a future version, integer keys will always be treated as labels (consistent with DataFrame behavior). To access a value by position, use `ser.iloc[pos]`\n",
      "  val = getattr(super(), mtd)(*args, **kwargs)\n",
      "/srv/conda/envs/notebook/lib/python3.11/site-packages/geopandas/io/file.py:383: FutureWarning: errors='ignore' is deprecated and will raise in a future version. Use to_datetime without passing `errors` and catch exceptions explicitly instead\n",
      "  as_dt = pd.to_datetime(df[k], errors=\"ignore\")\n",
      "/srv/conda/envs/notebook/lib/python3.11/site-packages/geopandas/geoseries.py:622: FutureWarning: Series.__getitem__ treating keys as positions is deprecated. In a future version, integer keys will always be treated as labels (consistent with DataFrame behavior). To access a value by position, use `ser.iloc[pos]`\n",
      "  val = getattr(super(), mtd)(*args, **kwargs)\n",
      "/srv/conda/envs/notebook/lib/python3.11/site-packages/geopandas/io/file.py:383: FutureWarning: errors='ignore' is deprecated and will raise in a future version. Use to_datetime without passing `errors` and catch exceptions explicitly instead\n",
      "  as_dt = pd.to_datetime(df[k], errors=\"ignore\")\n",
      "/srv/conda/envs/notebook/lib/python3.11/site-packages/geopandas/geoseries.py:622: FutureWarning: Series.__getitem__ treating keys as positions is deprecated. In a future version, integer keys will always be treated as labels (consistent with DataFrame behavior). To access a value by position, use `ser.iloc[pos]`\n",
      "  val = getattr(super(), mtd)(*args, **kwargs)\n",
      "/srv/conda/envs/notebook/lib/python3.11/site-packages/geopandas/io/file.py:383: FutureWarning: errors='ignore' is deprecated and will raise in a future version. Use to_datetime without passing `errors` and catch exceptions explicitly instead\n",
      "  as_dt = pd.to_datetime(df[k], errors=\"ignore\")\n",
      "/srv/conda/envs/notebook/lib/python3.11/site-packages/geopandas/geoseries.py:622: FutureWarning: Series.__getitem__ treating keys as positions is deprecated. In a future version, integer keys will always be treated as labels (consistent with DataFrame behavior). To access a value by position, use `ser.iloc[pos]`\n",
      "  val = getattr(super(), mtd)(*args, **kwargs)\n",
      "/srv/conda/envs/notebook/lib/python3.11/site-packages/geopandas/io/file.py:383: FutureWarning: errors='ignore' is deprecated and will raise in a future version. Use to_datetime without passing `errors` and catch exceptions explicitly instead\n",
      "  as_dt = pd.to_datetime(df[k], errors=\"ignore\")\n",
      "/srv/conda/envs/notebook/lib/python3.11/site-packages/geopandas/geoseries.py:622: FutureWarning: Series.__getitem__ treating keys as positions is deprecated. In a future version, integer keys will always be treated as labels (consistent with DataFrame behavior). To access a value by position, use `ser.iloc[pos]`\n",
      "  val = getattr(super(), mtd)(*args, **kwargs)\n",
      "/srv/conda/envs/notebook/lib/python3.11/site-packages/geopandas/io/file.py:383: FutureWarning: errors='ignore' is deprecated and will raise in a future version. Use to_datetime without passing `errors` and catch exceptions explicitly instead\n",
      "  as_dt = pd.to_datetime(df[k], errors=\"ignore\")\n",
      "/srv/conda/envs/notebook/lib/python3.11/site-packages/geopandas/geoseries.py:622: FutureWarning: Series.__getitem__ treating keys as positions is deprecated. In a future version, integer keys will always be treated as labels (consistent with DataFrame behavior). To access a value by position, use `ser.iloc[pos]`\n",
      "  val = getattr(super(), mtd)(*args, **kwargs)\n",
      "/srv/conda/envs/notebook/lib/python3.11/site-packages/geopandas/io/file.py:383: FutureWarning: errors='ignore' is deprecated and will raise in a future version. Use to_datetime without passing `errors` and catch exceptions explicitly instead\n",
      "  as_dt = pd.to_datetime(df[k], errors=\"ignore\")\n"
     ]
    },
    {
     "name": "stdout",
     "output_type": "stream",
     "text": [
      "Working on Rec10\n",
      "Working on Rec2\n",
      "Working on Rec3\n",
      "Working on Rec4\n",
      "Working on Rec5\n",
      "Working on Rec6\n",
      "Working on Rec8\n",
      "Working on Rec9\n",
      "Working on Recovery_8\n",
      "Working on Rutford_1\n",
      "Working on Site_A\n",
      "Working on Site_B\n",
      "Working on Site_C\n",
      "Working on Slessor_1\n",
      "Working on Slessor_23\n"
     ]
    },
    {
     "name": "stderr",
     "output_type": "stream",
     "text": [
      "/srv/conda/envs/notebook/lib/python3.11/site-packages/geopandas/geoseries.py:622: FutureWarning: Series.__getitem__ treating keys as positions is deprecated. In a future version, integer keys will always be treated as labels (consistent with DataFrame behavior). To access a value by position, use `ser.iloc[pos]`\n",
      "  val = getattr(super(), mtd)(*args, **kwargs)\n",
      "/srv/conda/envs/notebook/lib/python3.11/site-packages/geopandas/io/file.py:383: FutureWarning: errors='ignore' is deprecated and will raise in a future version. Use to_datetime without passing `errors` and catch exceptions explicitly instead\n",
      "  as_dt = pd.to_datetime(df[k], errors=\"ignore\")\n",
      "/srv/conda/envs/notebook/lib/python3.11/site-packages/geopandas/geoseries.py:622: FutureWarning: Series.__getitem__ treating keys as positions is deprecated. In a future version, integer keys will always be treated as labels (consistent with DataFrame behavior). To access a value by position, use `ser.iloc[pos]`\n",
      "  val = getattr(super(), mtd)(*args, **kwargs)\n",
      "/srv/conda/envs/notebook/lib/python3.11/site-packages/geopandas/io/file.py:383: FutureWarning: errors='ignore' is deprecated and will raise in a future version. Use to_datetime without passing `errors` and catch exceptions explicitly instead\n",
      "  as_dt = pd.to_datetime(df[k], errors=\"ignore\")\n",
      "/srv/conda/envs/notebook/lib/python3.11/site-packages/geopandas/geoseries.py:622: FutureWarning: Series.__getitem__ treating keys as positions is deprecated. In a future version, integer keys will always be treated as labels (consistent with DataFrame behavior). To access a value by position, use `ser.iloc[pos]`\n",
      "  val = getattr(super(), mtd)(*args, **kwargs)\n",
      "/srv/conda/envs/notebook/lib/python3.11/site-packages/geopandas/io/file.py:383: FutureWarning: errors='ignore' is deprecated and will raise in a future version. Use to_datetime without passing `errors` and catch exceptions explicitly instead\n",
      "  as_dt = pd.to_datetime(df[k], errors=\"ignore\")\n",
      "/srv/conda/envs/notebook/lib/python3.11/site-packages/geopandas/geoseries.py:622: FutureWarning: Series.__getitem__ treating keys as positions is deprecated. In a future version, integer keys will always be treated as labels (consistent with DataFrame behavior). To access a value by position, use `ser.iloc[pos]`\n",
      "  val = getattr(super(), mtd)(*args, **kwargs)\n",
      "/srv/conda/envs/notebook/lib/python3.11/site-packages/geopandas/io/file.py:383: FutureWarning: errors='ignore' is deprecated and will raise in a future version. Use to_datetime without passing `errors` and catch exceptions explicitly instead\n",
      "  as_dt = pd.to_datetime(df[k], errors=\"ignore\")\n",
      "/srv/conda/envs/notebook/lib/python3.11/site-packages/geopandas/geoseries.py:622: FutureWarning: Series.__getitem__ treating keys as positions is deprecated. In a future version, integer keys will always be treated as labels (consistent with DataFrame behavior). To access a value by position, use `ser.iloc[pos]`\n",
      "  val = getattr(super(), mtd)(*args, **kwargs)\n",
      "/srv/conda/envs/notebook/lib/python3.11/site-packages/geopandas/io/file.py:383: FutureWarning: errors='ignore' is deprecated and will raise in a future version. Use to_datetime without passing `errors` and catch exceptions explicitly instead\n",
      "  as_dt = pd.to_datetime(df[k], errors=\"ignore\")\n",
      "/srv/conda/envs/notebook/lib/python3.11/site-packages/geopandas/geoseries.py:622: FutureWarning: Series.__getitem__ treating keys as positions is deprecated. In a future version, integer keys will always be treated as labels (consistent with DataFrame behavior). To access a value by position, use `ser.iloc[pos]`\n",
      "  val = getattr(super(), mtd)(*args, **kwargs)\n",
      "/srv/conda/envs/notebook/lib/python3.11/site-packages/geopandas/io/file.py:383: FutureWarning: errors='ignore' is deprecated and will raise in a future version. Use to_datetime without passing `errors` and catch exceptions explicitly instead\n",
      "  as_dt = pd.to_datetime(df[k], errors=\"ignore\")\n",
      "/srv/conda/envs/notebook/lib/python3.11/site-packages/geopandas/geoseries.py:622: FutureWarning: Series.__getitem__ treating keys as positions is deprecated. In a future version, integer keys will always be treated as labels (consistent with DataFrame behavior). To access a value by position, use `ser.iloc[pos]`\n",
      "  val = getattr(super(), mtd)(*args, **kwargs)\n",
      "/srv/conda/envs/notebook/lib/python3.11/site-packages/geopandas/io/file.py:383: FutureWarning: errors='ignore' is deprecated and will raise in a future version. Use to_datetime without passing `errors` and catch exceptions explicitly instead\n",
      "  as_dt = pd.to_datetime(df[k], errors=\"ignore\")\n",
      "/srv/conda/envs/notebook/lib/python3.11/site-packages/geopandas/geoseries.py:622: FutureWarning: Series.__getitem__ treating keys as positions is deprecated. In a future version, integer keys will always be treated as labels (consistent with DataFrame behavior). To access a value by position, use `ser.iloc[pos]`\n",
      "  val = getattr(super(), mtd)(*args, **kwargs)\n",
      "/srv/conda/envs/notebook/lib/python3.11/site-packages/geopandas/io/file.py:383: FutureWarning: errors='ignore' is deprecated and will raise in a future version. Use to_datetime without passing `errors` and catch exceptions explicitly instead\n",
      "  as_dt = pd.to_datetime(df[k], errors=\"ignore\")\n",
      "/srv/conda/envs/notebook/lib/python3.11/site-packages/geopandas/geoseries.py:622: FutureWarning: Series.__getitem__ treating keys as positions is deprecated. In a future version, integer keys will always be treated as labels (consistent with DataFrame behavior). To access a value by position, use `ser.iloc[pos]`\n",
      "  val = getattr(super(), mtd)(*args, **kwargs)\n",
      "/srv/conda/envs/notebook/lib/python3.11/site-packages/geopandas/io/file.py:383: FutureWarning: errors='ignore' is deprecated and will raise in a future version. Use to_datetime without passing `errors` and catch exceptions explicitly instead\n",
      "  as_dt = pd.to_datetime(df[k], errors=\"ignore\")\n",
      "/srv/conda/envs/notebook/lib/python3.11/site-packages/geopandas/geoseries.py:622: FutureWarning: Series.__getitem__ treating keys as positions is deprecated. In a future version, integer keys will always be treated as labels (consistent with DataFrame behavior). To access a value by position, use `ser.iloc[pos]`\n",
      "  val = getattr(super(), mtd)(*args, **kwargs)\n",
      "/srv/conda/envs/notebook/lib/python3.11/site-packages/geopandas/io/file.py:383: FutureWarning: errors='ignore' is deprecated and will raise in a future version. Use to_datetime without passing `errors` and catch exceptions explicitly instead\n",
      "  as_dt = pd.to_datetime(df[k], errors=\"ignore\")\n",
      "/srv/conda/envs/notebook/lib/python3.11/site-packages/geopandas/geoseries.py:622: FutureWarning: Series.__getitem__ treating keys as positions is deprecated. In a future version, integer keys will always be treated as labels (consistent with DataFrame behavior). To access a value by position, use `ser.iloc[pos]`\n",
      "  val = getattr(super(), mtd)(*args, **kwargs)\n",
      "/srv/conda/envs/notebook/lib/python3.11/site-packages/geopandas/io/file.py:383: FutureWarning: errors='ignore' is deprecated and will raise in a future version. Use to_datetime without passing `errors` and catch exceptions explicitly instead\n",
      "  as_dt = pd.to_datetime(df[k], errors=\"ignore\")\n",
      "/srv/conda/envs/notebook/lib/python3.11/site-packages/geopandas/geoseries.py:622: FutureWarning: Series.__getitem__ treating keys as positions is deprecated. In a future version, integer keys will always be treated as labels (consistent with DataFrame behavior). To access a value by position, use `ser.iloc[pos]`\n",
      "  val = getattr(super(), mtd)(*args, **kwargs)\n",
      "/srv/conda/envs/notebook/lib/python3.11/site-packages/geopandas/io/file.py:383: FutureWarning: errors='ignore' is deprecated and will raise in a future version. Use to_datetime without passing `errors` and catch exceptions explicitly instead\n",
      "  as_dt = pd.to_datetime(df[k], errors=\"ignore\")\n",
      "/srv/conda/envs/notebook/lib/python3.11/site-packages/geopandas/geoseries.py:622: FutureWarning: Series.__getitem__ treating keys as positions is deprecated. In a future version, integer keys will always be treated as labels (consistent with DataFrame behavior). To access a value by position, use `ser.iloc[pos]`\n",
      "  val = getattr(super(), mtd)(*args, **kwargs)\n",
      "/srv/conda/envs/notebook/lib/python3.11/site-packages/geopandas/io/file.py:383: FutureWarning: errors='ignore' is deprecated and will raise in a future version. Use to_datetime without passing `errors` and catch exceptions explicitly instead\n",
      "  as_dt = pd.to_datetime(df[k], errors=\"ignore\")\n",
      "/srv/conda/envs/notebook/lib/python3.11/site-packages/geopandas/geoseries.py:622: FutureWarning: Series.__getitem__ treating keys as positions is deprecated. In a future version, integer keys will always be treated as labels (consistent with DataFrame behavior). To access a value by position, use `ser.iloc[pos]`\n",
      "  val = getattr(super(), mtd)(*args, **kwargs)\n",
      "/srv/conda/envs/notebook/lib/python3.11/site-packages/geopandas/io/file.py:383: FutureWarning: errors='ignore' is deprecated and will raise in a future version. Use to_datetime without passing `errors` and catch exceptions explicitly instead\n",
      "  as_dt = pd.to_datetime(df[k], errors=\"ignore\")\n",
      "/srv/conda/envs/notebook/lib/python3.11/site-packages/geopandas/geoseries.py:622: FutureWarning: Series.__getitem__ treating keys as positions is deprecated. In a future version, integer keys will always be treated as labels (consistent with DataFrame behavior). To access a value by position, use `ser.iloc[pos]`\n",
      "  val = getattr(super(), mtd)(*args, **kwargs)\n",
      "/srv/conda/envs/notebook/lib/python3.11/site-packages/geopandas/io/file.py:383: FutureWarning: errors='ignore' is deprecated and will raise in a future version. Use to_datetime without passing `errors` and catch exceptions explicitly instead\n",
      "  as_dt = pd.to_datetime(df[k], errors=\"ignore\")\n",
      "/srv/conda/envs/notebook/lib/python3.11/site-packages/geopandas/geoseries.py:622: FutureWarning: Series.__getitem__ treating keys as positions is deprecated. In a future version, integer keys will always be treated as labels (consistent with DataFrame behavior). To access a value by position, use `ser.iloc[pos]`\n",
      "  val = getattr(super(), mtd)(*args, **kwargs)\n",
      "/srv/conda/envs/notebook/lib/python3.11/site-packages/geopandas/io/file.py:383: FutureWarning: errors='ignore' is deprecated and will raise in a future version. Use to_datetime without passing `errors` and catch exceptions explicitly instead\n",
      "  as_dt = pd.to_datetime(df[k], errors=\"ignore\")\n",
      "/srv/conda/envs/notebook/lib/python3.11/site-packages/geopandas/geoseries.py:622: FutureWarning: Series.__getitem__ treating keys as positions is deprecated. In a future version, integer keys will always be treated as labels (consistent with DataFrame behavior). To access a value by position, use `ser.iloc[pos]`\n",
      "  val = getattr(super(), mtd)(*args, **kwargs)\n",
      "/srv/conda/envs/notebook/lib/python3.11/site-packages/geopandas/io/file.py:383: FutureWarning: errors='ignore' is deprecated and will raise in a future version. Use to_datetime without passing `errors` and catch exceptions explicitly instead\n",
      "  as_dt = pd.to_datetime(df[k], errors=\"ignore\")\n",
      "/srv/conda/envs/notebook/lib/python3.11/site-packages/geopandas/geoseries.py:622: FutureWarning: Series.__getitem__ treating keys as positions is deprecated. In a future version, integer keys will always be treated as labels (consistent with DataFrame behavior). To access a value by position, use `ser.iloc[pos]`\n",
      "  val = getattr(super(), mtd)(*args, **kwargs)\n",
      "/srv/conda/envs/notebook/lib/python3.11/site-packages/geopandas/io/file.py:383: FutureWarning: errors='ignore' is deprecated and will raise in a future version. Use to_datetime without passing `errors` and catch exceptions explicitly instead\n",
      "  as_dt = pd.to_datetime(df[k], errors=\"ignore\")\n"
     ]
    },
    {
     "name": "stdout",
     "output_type": "stream",
     "text": [
      "Working on Slessor_4\n",
      "Working on Slessor_5\n",
      "Working on Slessor_6\n",
      "Working on Slessor_7\n",
      "Working on TL108\n",
      "Working on TL115\n",
      "Working on TL122\n",
      "Working on TL96\n",
      "Working on Thw_124\n",
      "Working on Thw_142\n",
      "Working on Thw_170\n",
      "Working on Thw_70\n",
      "Working on Totten_1\n",
      "Working on Totten_2\n",
      "Working on U3\n",
      "Working on UpperSubglacialLakeConway\n",
      "Working on Vostok_1\n",
      "Working on WT\n",
      "Working on WhillansSubglacialLake\n",
      "Working on Whillans_6\n",
      "Working on Whillans_7\n",
      "Working on Whillans_8\n",
      "Working on Wilkes_2\n"
     ]
    },
    {
     "name": "stderr",
     "output_type": "stream",
     "text": [
      "/srv/conda/envs/notebook/lib/python3.11/site-packages/geopandas/geoseries.py:622: FutureWarning: Series.__getitem__ treating keys as positions is deprecated. In a future version, integer keys will always be treated as labels (consistent with DataFrame behavior). To access a value by position, use `ser.iloc[pos]`\n",
      "  val = getattr(super(), mtd)(*args, **kwargs)\n",
      "/srv/conda/envs/notebook/lib/python3.11/site-packages/geopandas/io/file.py:383: FutureWarning: errors='ignore' is deprecated and will raise in a future version. Use to_datetime without passing `errors` and catch exceptions explicitly instead\n",
      "  as_dt = pd.to_datetime(df[k], errors=\"ignore\")\n",
      "/srv/conda/envs/notebook/lib/python3.11/site-packages/geopandas/geoseries.py:622: FutureWarning: Series.__getitem__ treating keys as positions is deprecated. In a future version, integer keys will always be treated as labels (consistent with DataFrame behavior). To access a value by position, use `ser.iloc[pos]`\n",
      "  val = getattr(super(), mtd)(*args, **kwargs)\n",
      "/srv/conda/envs/notebook/lib/python3.11/site-packages/geopandas/io/file.py:383: FutureWarning: errors='ignore' is deprecated and will raise in a future version. Use to_datetime without passing `errors` and catch exceptions explicitly instead\n",
      "  as_dt = pd.to_datetime(df[k], errors=\"ignore\")\n",
      "/srv/conda/envs/notebook/lib/python3.11/site-packages/geopandas/geoseries.py:622: FutureWarning: Series.__getitem__ treating keys as positions is deprecated. In a future version, integer keys will always be treated as labels (consistent with DataFrame behavior). To access a value by position, use `ser.iloc[pos]`\n",
      "  val = getattr(super(), mtd)(*args, **kwargs)\n",
      "/srv/conda/envs/notebook/lib/python3.11/site-packages/geopandas/io/file.py:383: FutureWarning: errors='ignore' is deprecated and will raise in a future version. Use to_datetime without passing `errors` and catch exceptions explicitly instead\n",
      "  as_dt = pd.to_datetime(df[k], errors=\"ignore\")\n",
      "/srv/conda/envs/notebook/lib/python3.11/site-packages/geopandas/geoseries.py:622: FutureWarning: Series.__getitem__ treating keys as positions is deprecated. In a future version, integer keys will always be treated as labels (consistent with DataFrame behavior). To access a value by position, use `ser.iloc[pos]`\n",
      "  val = getattr(super(), mtd)(*args, **kwargs)\n",
      "/srv/conda/envs/notebook/lib/python3.11/site-packages/geopandas/io/file.py:383: FutureWarning: errors='ignore' is deprecated and will raise in a future version. Use to_datetime without passing `errors` and catch exceptions explicitly instead\n",
      "  as_dt = pd.to_datetime(df[k], errors=\"ignore\")\n",
      "/srv/conda/envs/notebook/lib/python3.11/site-packages/geopandas/geoseries.py:622: FutureWarning: Series.__getitem__ treating keys as positions is deprecated. In a future version, integer keys will always be treated as labels (consistent with DataFrame behavior). To access a value by position, use `ser.iloc[pos]`\n",
      "  val = getattr(super(), mtd)(*args, **kwargs)\n",
      "/srv/conda/envs/notebook/lib/python3.11/site-packages/geopandas/io/file.py:383: FutureWarning: errors='ignore' is deprecated and will raise in a future version. Use to_datetime without passing `errors` and catch exceptions explicitly instead\n",
      "  as_dt = pd.to_datetime(df[k], errors=\"ignore\")\n",
      "/srv/conda/envs/notebook/lib/python3.11/site-packages/geopandas/geoseries.py:622: FutureWarning: Series.__getitem__ treating keys as positions is deprecated. In a future version, integer keys will always be treated as labels (consistent with DataFrame behavior). To access a value by position, use `ser.iloc[pos]`\n",
      "  val = getattr(super(), mtd)(*args, **kwargs)\n"
     ]
    }
   ],
   "source": [
    "# Create new lakes geodataframe that has the unary union of the evolving outlines\n",
    "\n",
    "# Copy static_static_lakes_gdf to create evolving_static_lakes_gdf \n",
    "# that will contain the evolving outlines unary unions as their geometry\n",
    "evolving_lakes_gdf = static_lakes_gdf.copy(deep=True)\n",
    "\n",
    "# List all folders in target directory\n",
    "folder_path = '/home/jovyan/1_evolving_Ant_subglacial_hydro/Sauthoff-2025-J.Glaciol./output/lake_outlines/evolving_outlines'\n",
    "\n",
    "# Filter static_lakes_gdf based on folder contents\n",
    "static_lakes_gdf_filtered = filter_gdf_by_folder_contents(static_lakes_gdf, folder_path, exclude=False)\n",
    "\n",
    "for idx, row in static_lakes_gdf_filtered.iterrows():\n",
    "    # Select lake\n",
    "    lake_gdf = static_lakes_gdf_filtered.loc[idx]\n",
    "    print('Working on', lake_gdf['name'])\n",
    "    \n",
    "    union_geo_series = find_evolving_outlines_unary_union(lake_gdf)\n",
    "    if union_geo_series is not None:\n",
    "        evolving_lakes_gdf.at[idx, 'geometry'] = union_geo_series[0]"
   ]
  },
  {
   "cell_type": "code",
   "execution_count": 58,
   "id": "86835b9e-64dc-441e-b049-a46e928be65d",
   "metadata": {},
   "outputs": [
    {
     "data": {
      "text/plain": [
       "<Axes: >"
      ]
     },
     "execution_count": 58,
     "metadata": {},
     "output_type": "execute_result"
    },
    {
     "data": {
      "application/vnd.jupyter.widget-view+json": {
       "model_id": "900d89b3584848d5ac1f78d62a844abd",
       "version_major": 2,
       "version_minor": 0
      },
      "image/png": "[encoded data removed]",
      "text/html": [
       "\n",
       "            <div style=\"display: inline-block;\">\n",
       "                <div class=\"jupyter-widgets widget-label\" style=\"text-align: center;\">\n",
       "                    Figure\n",
       "                </div>\n",
       "                <img src='data:image/png;base64,iVBORw0KGgoAAAANSUhEUgAAAoAAAAHgCAYAAAA10dzkAAAAOXRFWHRTb2Z0d2FyZQBNYXRwbG90bGliIHZlcnNpb24zLjguNCwgaHR0cHM6Ly9tYXRwbG90bGliLm9yZy8fJSN1AAAACXBIWXMAAA9hAAAPYQGoP6dpAABL2klEQVR4nO3dd3gUdeLH8c+mbUhIQkloKQQCoQlJaFIEQcACp4IogsKdiAIHHio20LNgAxU9CyKoYAFFVERAbFhAlKJIUYpAJCEJvSYhPdn5/cHPaEwCgWwyuzvv1/Ps82Rmvjv7yXo3fDLVZhiGIQAAAFiGl9kBAAAAUL0ogAAAABZDAQQAALAYCiAAAIDFUAABAAAshgIIAABgMRRAAAAAi6EAAgAAWAwFEAAAwGIogAAAABZDAQQAALAYCiAAAIDFUAABAAAshgIIAABgMRRAAAAAi6EAAgAAWAwFEAAAwGIogAAAABZDAQQAALAYCiAAAIDFUAABAAAshgIIAABgMRRAAAAAi6EAAgAAWAwFEAAAwGIogAAAABZDAQQAALAYCiAAAIDFUAABAAAshgIIAABgMRRAAAAAi6EAAgAAWAwFEAAAwGIogAAAABZDAQQAALAYCiAAAIDFUAABAAAshgIIAABgMRRAAAAAi6EAAgAAWAwFEAAAwGIogAAAABZDAQQAALAYCiAAAIDFUADhFBMmTFB0dLRsNpu2bt1aoffk5eXptttuU/PmzdWmTRsNHz68ilMCAABJ8jE7ADzDtddeq3vvvVcXXXRRhd8zadIkeXl5adeuXbLZbDpw4EAVJgQAAH+gAMIpevbsWeb83bt364477tDhw4eVn5+vMWPGaNy4ccrKytIbb7yhtLQ02Ww2SVLDhg2rMzIAAJZFAUSVKSoq0g033KB58+apZcuWys7OVpcuXdSlSxf5+Piobt26evzxx/XVV1+pRo0aeuSRR9SnTx+zYwMA4PEogKgyO3fu1LZt2zR06NDieZmZmdq+fbtatWqlPXv2qHXr1po2bZq2bNmivn37avv27QoLCzMxNQAAno8CiCpjGIZCQ0O1efPmUsuOHj0qLy8v3XjjjZKkuLg4NWnSRNu2bVOvXr2qNygAABbDVcCoMi1atFBAQIDefvvt4nmJiYk6fvy4QkND1adPH33xxReSpL179yopKUktWrQwKy4AAJZhMwzDMDsE3N/48eO1ZMkSHTx4UKGhoapZs6YSExO1e/du3XnnnUpJSVFRUZHCwsL0zjvvKDw8XHv27NHNN9+sY8eOydvbWw8//LAGDRpk9q8CAIDHowACAABYDIeAAQAALIYCCAAAYDEUQAAAAIvhNjAeLDc3V0OHDtX27dsVEBCgBg0aaNasWYqOji41ds6cOZo2bZocDof69OmjmTNnysfn7P/zcDgc2r9/v4KCgoqf6AEAcF2GYSgzM1ONGjWSlxf7gayKi0A8WG5urr755htdccUVstlsmjFjhpYuXaovv/yyxLikpCR1795dmzZtUr169XT11VdrwIABGjNmzFk/Iy0tTZGRkVX1KwAAqkhqaqoiIiLMjgGTUAAtZMOGDRo6dKgSExNLzH/mmWeUnJysl19+WZL06aef6umnn9bKlSvPus709HTVqlVLqampCg4OrorYAAAnysjIUGRkpE6ePKmQkBCz48AkHAK2kBdffFFXXnllqfkpKSlq3Lhx8XR0dLRSUlLKXEdeXp7y8vKKpzMzMyVJwcHBFEAAcCOctmNtHPy3iCeffFK7d+/WE088Uebyv24IzrRTeOrUqQoJCSl+cfgXAAD3QwG0gOnTp+ujjz7SZ599poCAgFLLo6KilJycXDy9d+9eRUVFlbmuyZMnKz09vfiVmppaVbEBAEAVoQB6uOeee04LFizQihUrVKtWrTLHDB48WIsXL9ahQ4dkGIZmzZqloUOHljnWbrcXH+7lsC8AAO6JAujB0tLSdNddd+nkyZPq3bu34uPjdeGFF0qSbrnlFi1dulSS1LRpU02ZMkXdu3dXTEyM6tWrp1GjRpkZHQAAVCGuAkalZGRkKCQkROnp6ewNBAA3wHYbEnsAAQAALIcCCAAAYDEUQAAAAIuhAAIAAFgMBRAAAMBiKIAAAAAWQwEEAACwGAogAJeVdypbs6fO0z23z9SR3clmxwEAj0EBBOCSTu47pJn3z9TUk7VVO9hfj8z4TIV5+WbHAgCP4GN2AAAoy9fzluuFgFaSpFfz6ynUJ1sFsrHRAgAnYA8gAJcU+svP6pSZppr5ORrepo4a2aXfU46aHQsAPAIFEIBLCh4xTJnyUcuco1q9ea8CCvLUokk9s2MBgEewGYZhmB0C7ouHiqNaGIZks5mdAvAIbLchsQcQgDug/AGAU1EAAQAALIYCCAAAYDEUQAAAAIuhAAIAAFgMBRAAAMBiKIAAAAAWQwEEAACwGAogAACAxVAAAQAALIYCCAAAYDEUQAAAAIuhAAIAAFgMBRAAAMBiKIAAAAAWQwEEAACwGAogAACAxVAAAQAALIYCCAAAYDEUQAAAAIuhAAIAAFgMBRAAAMBiKIAebMKECYqOjpbNZtPWrVvLHLNy5UoFBAQoPj6++JWTk1PNSQEAQHXyMTsAqs61116re++9VxdddNEZx7Vu3VobNmyoplQAAMBsFEAP1rNnT7MjAAAAF8QhYGjnzp1q3769OnXqpJkzZ55xbF5enjIyMkq8AACAe2EPoMW1b99eaWlpCgkJUVpamvr376/Q0FANGTKkzPFTp07VlClTqjklAABwJvYAWlxwcLBCQkIkSRERERo2bJhWr15d7vjJkycrPT29+JWamlpdUQEAgJNQAC3uwIEDcjgckqTMzEx98sknSkhIKHe83W5XcHBwiRcAAHAvFEAPNn78eEVERCgtLU19+/ZVs2bNJEm33HKLli5dKklatGiR2rZtq7i4OHXp0kX9+vXTyJEjzYwNAACqmM0wDMPsEHBfGRkZCgkJUXp6OnsDAcANsN2GxB5AAAAAy6EAAgAAWAwFEAAAwGIogAAAABZDAQQAALAYCiAAAIDFUAABAAAshgIIAABgMRRAAAAAi6EAAgAAWAwFEAAAwGIogAAAABZDAQQAALAYCiAAAIDFUAABAAAshgIIAABgMRRAAAAAi6EAAgAAWAwFEAAAwGIogAAAABZDAQQAALAYCiCA8h09qp8fflaHl3xmdhIAgBNRAAGU69Nn3tDgvJbqvNahZx6aa3YcAICTUAABlGtro9jin1/Ory/DMExMAwBwFgoggHKNuvmy4p/f7FJTNpvt9IRhKP/lV3TNA++r+eTl+mHbPpMSAgDOh83gT3pUQkZGhkJCQpSenq7g4GCz46CaLPxgte77OUOSFJSbpSx7De157DLJz8/kZADOhu02JPYAAvibo6fytHLHQRUUOcod8+XRP5cZki777Qft/HFrNaQDADgDBRBAsSMZObrwsS9101s/69pHFpc77pHrO6me8hSUk6nXP3hE8SdSVLtZdPUFBQBUio/ZAQC4jh9WblGR7fTfhVsK/PXgx7/qsYFtS42LrBOgH6ddo52JB3S02WSN6Z0gNahT3XEBAOeJPYAAiu0/nl1iet66lDOOb9Gsobr/Z4R0wQVVGQsA4GQUQADFunduZnYEAEA1oAACKBbXOkpbbm4lmwzVsRVq0709zY4EAKgCnAMIoISQ2KZKmtbU7BgAgCrEHkAAAACLoQACVpWeLj32mPTVV2YnAQBUMwogYFEbnpyhu9cd01v3vSBHdvbZ3wAA8BgUQA82YcIERUdHy2azaevW8p/SMGfOHDVv3lwxMTEaPXq0CgsLqzElzLBn805da4vXh2376eF+Y7Xio1VmRwIAVCMKoAe79tpr9f3336tx48bljklKStKDDz6o77//XomJiTp48KDmzJlTjSlhhk9+TCoxnXqK0g8AVkIB9GA9e/ZURETEGcd8+OGHGjRokOrXry+bzaaxY8dqwYIF1ZQQ1S3lWLaaP/CpvsgNVF3lS5Lq5mSof+/ST/sAAHgubgNjcSkpKSX2EEZHRyslpfynP+Tl5SkvL694OiMjo0rzwXnS96So56u/SpK27c/Qk4M66IaWIZKPjxQYaHI6AEB1ogBCNput+GfDMM44durUqZoyZUpVR4ITLfnsZ92+6mCp+a0bBUshISYkAgCYjUPAFhcVFaXk5OTi6b179yoqKqrc8ZMnT1Z6enrxKzU1tRpSojLKKn/f3X2x4iNrVX8YAIBLoABa3ODBg7V48WIdOnRIhmFo1qxZGjp0aLnj7Xa7goODS7zg2rxtJaeXJ0hRoTXNCQMAcAkcAvZg48eP15IlS3Tw4EH17dtXNWvWVGJiom655RZdddVVuuqqq9S0aVNNmTJF3bt3l8Ph0CWXXKJRo0aZHR1OtOOxK3QwPVf+fl4KDbTLy8t29jedr6wsFXzwoX6NaKX99SLUr3V92Y8dlWrVkuz2qvtcAMA5sRlnO+kLOIOMjAyFhIQoPT2dvYFQ9KTlpeb9emCRgt5+Q1q7VurSxYRUAP6K7TYkDgEDkORwGGe9AKgiYgNL711c8ssBPXbJLVp6833SqVPSTz9V+nMAAJXDIWDAghxZWZo9+1Pl5+Qp61SOXjUaSZL6RdTQq+N7l7gy/Fy8N7Gvuj/6uXJs3sXz9geFaU6ngZKkCY+vUpuDiXqhyw41Gz1c8uJvUAAwAwUQsBhj1y79Z/JbWt68m6QASbWLl61Iy9EX2w7p8gsaqMhhyMumcyqDdQL9tOOpq1Rw6LCyAoNVq6a/PnwsTcr6c8yOek3UN9lbt18xVne8MFG2li3P+3eZMfcrzdydo3vDC3TTbdec93oAwGr48xuwmG0rN/x/+Sub3cdL6dkFirn/UzWZ/Kkmvr76nD/Dt3491arpL0kafENf1c3584bhDq/TewdfiL9S8ya/dM7r/sPcafM0fVeesg0vPZJm19FDx897XQBgNRRAwGIiB12hqMzDxdNX79ushY1Pav6lDbVkfHf1bllPP29KLF7+UWJGpc4PtMXE6PWJl5WxwEsvhneRkZl5TuvLLShS7AOf6tGTdYrn+RYVyNeXAxoAUFFsMQGLCQmrrRWPDdKBT1aocYCXbI/dK/n6lhjT5oJoadme4unMvEIF+/vqfCU0rqMXE2po3cbfNbRtPU1ekaSQ3FPy8vHWrkyHWgRVfF3Lfzmg/KKShfT7G5orpA5XMwJARVEAAQ/kcBha8FOKfko6rqnXtFMNP2/lPve8rtpbR4E2hzb5h6lH8yjNu/bCMt9fP6SGXhjSTre//4uu7xhZqfL3h6uuv0RXXX+JJGl+8jQ9tClbkS2bK7reud2UunWjP4veSL+jeuj+62Xz9690PgCwEu4DiErhflKu6YWvdut/X+0qnq6feUwDt36jJW16KcO/prL9akiSvr/tQkVEhJoV87zlFhQpv8jhlGIKWA3bbUicAwh4pFdWJZaYPhRUV9817aCLkjcXlz9JOvLt99UdzSn8fb0pfwBQCRRAwAPlFjhKzWu/f4f+s3ahbth4+mkdNQtz1fzyntUdDQDgAjgHEPBwdjk0/cAqdU//VXUm3aEnxo7VXVt3qm73zmZHAwCYhHMAUSmcS+KasvIKtXLnEbWLCFFknQCz4wBwIWy3IbEHEPBIgXYfDWjX0OwYlVdYKPmwmQIAZ+McQACu54sv5OjeXbr6amnzZrPTAIDHoQACcC15eRo96ztdH3219q/+UVq3zuxEAOBxKIAAXErmD+uV4+evAb+tVmLdCKlvX7MjAYDHoQACcClBndurub1Q38Zfoq6vTJOaNTM7EgB4HK4CRqVwNRkAuBe225DYAwjAXfC3KgA4DQUQgMvLfn2unrvzf9pw6bVSdrbZcQDA7VEAAbi2xES99PYqLcyvq29yA6RNm8xOBABujwIIwLUlJ2tLw+ZqcmK/3ou/TOra1exEAOD2KIAAXFvv3uoXXKB1jdvpgY6hkhebLQCoLK4CRqVwNRkAl3HokHTkiNS6NX8onAHbbUjsAQQAeIL//U8bOvVR7xfXaOjoGcrescvsRIBLowACANzbqVM6/MwLumnww0qqE651oTFa8egMs1MBLo0CCABwbydP6seQSJ2yBxTPMmQzMRDg+iiAAAC3ZjRqpHn9/lViXueH7zAnDOAmfMwOAABAZWTmF+mnwIbS/1/SOPemjmrUsr65oQAXRwEEALi1YH9fzRreQcnHsnRdh0jVDvQzOxLg8iiAAAC3d2mbBmZHANwK5wACAABYDAUQAADAYiiAAAAAFkMBBAAAsBgKoAfbvXu3unXrptjYWHXu3Fnbt28vNWblypUKCAhQfHx88SsnJ8eEtAAAoLpwFbAHGzNmjEaPHq2bbrpJH374oUaNGqW1a9eWGte6dWtt2LDBhIQAAMAM7AH0UIcPH9bGjRs1fPhwSdLgwYOVlJSk5ORkc4MBAADTUQA9VGpqqho1aiQfn9M7eW02m6KiopSSklJq7M6dO9W+fXt16tRJM2fOPON68/LylJGRUeIFAADcC4eAPZjNVvJh6IZhlBrTvn17paWlKSQkRGlpaerfv79CQ0M1ZMiQMtc5depUTZkypUryAgCA6sEeQA8VGRmptLQ0FRYWSjpd/lJTUxUVFVViXHBwsEJCQiRJERERGjZsmFavXl3ueidPnqz09PTiV2pqatX9EgAAoEpQAD1UvXr1lJCQoPnz50uSFi1apOjoaEVHR5cYd+DAATkcDklSZmamPvnkEyUkJJS7XrvdruDg4BIvAADgXiiAHmz27NmaPXu2YmNjNW3aNM2ZM0eSdMstt2jp0qWSThfDtm3bKi4uTl26dFG/fv00cuRIM2MDAIAqZjPKOjEMqKCMjAyFhIQoPT2dvYEA4AbYbkNiDyAAAIDlUAABAAAshgIIAABgMRRAAAAAi6EAAgAAWAwFEAAAwGIogADK9NO2VCV+sVoqKlL+suUy3lsoORzKPnRUS+d9rvzcfLMjAgDOE88CBizkRFa+DmfmKbZ+zVLPiv6rDdtSdf3bmxVzNFXTnnxKhxo0lvbv1xUOh1r/cvq+YSHbPtOWaVdXV3QAgBNRAAGL+OaXNN387hZJ0l39YvWfPs3LHbvpoxXyKaqtvbUb6sdcu2xHTynDK1hLvj0g1Q1WSH6W0v0Cqys6AMDJOAQMeKCvth9S9KTl6vbfZVJ6ugrz8rX49aXFy1f/drDc9xqGoWafLVK+j58MSRcf/10DurfQLWMGKDg/R5Lk8PLRD//uWNW/BgCgirAHEPAA6QeO6NfvNqlFp9YKaxqhW97eIEnaX+ilR+58SSn+tfVNcHTx+Lr+3mWuZ/zbP2n59sPy73KzBm79Rr2Sflbr99+QEhIkSU9f+LuuPVGk+LZNZLf7VvnvBQCoGuwBBNzct/OXq9OzP2j4pgJd8cJ3yjqerriIkOLlG+1h2u1VU9c3/POcv44tGpZaT2GRQyt2HJYk5fr567ewaMVE1y8uf5Jki4nRhR1jKX8A4OYogICbe29tsvJ9TheyE/aayjqRoVf/2VEXZ6cprDBbDWsF6MmLGujwzmQ9Fpmr1/7ZUdd4H9OjIx/XkrumSceP68QLM7V3xut6OGtL8Xp/q99UBWP/bdavBQCoQhwCBtzcv3rF6tfvDsrLcOi/8SGqFxOp3IIiBdkc6nBot8YM762Ey7qqx9A/3/P8qFnaVTdac31CFd/xIl085BlJkrdvmHyKClTofbpQXvNDlpKvNOO3AgBUJQog4Oa6XddPa64rOc/f11tPP3OrsnLyFRYSUOo9vbq10vO7T1/Fe8xx+nxAm+FQka+f/Aq5vx8AeDoKIOChAvx8FOBX9v/F40cN0ZZde2QPrSO/9g9p2Oe/aEG9dvLPz1WQl0P+OVkKjW2i6ztFVnNqAEB1sBmGYZgdAu4rIyNDISEhSk9PV3BwsNlxcJ4Mw9DvR7IU/sM3Orb+Z4WOu1X+URFmxwJQBdhuQ6IAopLYkFRM/utz9PLHP8uel6tbRw+Q73WDzY4EwKLYbkPiEDBQ5Y6mHVLHxAbSBQNUM/eUOr+2QB0pgAAAE3EbGKAK7TqUqY4zNhRPn/KvqTotmpqYCAAACiDgFPu2JWrU+Jc1dNwryj6RUTx/494TJca1SN+vqAfvqe54AACUwCFgwAleeu0LtQ+1642TAfr5i7XqMfQySdLAhHBl5hZK+/cr9kCiut0zWD5165icFgBgdRRAwAkuaBSspw74q2nBCXW47B/F8/19vXVrz6aSmkq6qEo+O+VYtmr7OORTo4Zq+JX9jF8AAP6Kq4BRKVxN9qcje9JUN6qhvHyqr4TNfu97Td2cXjz9xR09tODHVPn72HRHj8byDwqstiwA3APbbUicAwg4TVjTiAqVv2Xr96jFpGW6Yeonys4rqNRn/rX8SdK6Pcf15ppkzfouSZ92vVJq2FD6+GOpsLBSnwMA8CwUQKCa/WfxDuXJS2vSbXrqf0uctt5w5ergof+/6MQwtLtupHTwoDRokArs/jp8530qzMpy2ucBANwXBRBuL+tkhuZNf0evPfyqMlP2mR3nrPoE5hX/XLOGb6XWtW5yHw2O9NUdbYL03ZPX6D8XN5F/Qa7aHk9Rlv+fh38f6jdW33yzWUMeX1apzwMAeAbOAUSluMK5JGMfeEf5+/bpu7BYJRSe0Af/G2lKjorKKyzSd8vXKtDHpm4Dujt9/b/Neltf/7RHN93aX4FBgdL8+Xr2hzQdqB+l39p11ScP/uPsKwHgsVxhuw3zcRUw3N4+n0D5GD4q9PZVHS+bqVlyC4rkZbPJz6f8net2H2/1u7pqrgiWpJZj/6mWY/8yY+pU3SUp8XCm6gf7V9nnAgDcB3sAUSmu8Jdk0pFTemfxOjXzK9DQEZdK3ubcCmXWvS/qaUXL4eWtkd2j9dA/WstmM7eQAsDfucJ2G+ZjDyDcXpOwmvrv6L7mhjAMrfAKk0Ony+cbPyTrzn6xCvav3Dl+AABUBS4CAZzBZlNErRrFk9d2iKD8AQBcFnsAASd57t6rdf2eY2oaVlMNQjjXDgDguiiAgJN4e9nUrVmo2TEAADgrDgEDAABYDAXQg+3evVvdunVTbGysOnfurO3bt5c5bs6cOWrevLliYmI0evRoFfLYMAAAPBoF0IONGTNGo0eP1q5du3Tvvfdq1KhRpcYkJSXpwQcf1Pfff6/ExEQdPHhQc+bMMSEtAACoLhRAD3X48GFt3LhRw4cPlyQNHjxYSUlJSk5OLjHuww8/1KBBg1S/fn3ZbDaNHTtWCxYsMCExAACoLlwE4qFSU1PVqFEj+fic/k9ss9kUFRWllJQURUdHF49LSUlR48aNi6ejo6OVkpJS7nrz8vKUl/fns2wzMjKcHx4AAFQp9gB6sL8/haK8h778ddzZHgwzdepUhYSEFL8iIyMrHxQAAFQrCqCHioyMVFpaWvEFHYZhKDU1VVFRUSXGRUVFlTgsvHfv3lJj/mry5MlKT08vfqWmplZJfgAAUHUogB6qXr16SkhI0Pz58yVJixYtUnR0dInDv9LpcwMXL16sQ4cOyTAMzZo1S0OHDi13vXa7XcHBwSVeAADAvVAAPdjs2bM1e/ZsxcbGatq0acVX995yyy1aunSpJKlp06aaMmWKunfvrpiYGNWrV6/Mq4UBAIDnsBlnO+kLOIOMjAyFhIQoPT2dvYEA4AbYbkNiDyAAAIDlUAABAAAshgIIAABgMRRAAAAAi6EAAsC5MAxp+nSpb1/p3XfNTgMA54UCCADnYtEi/fy/OSrIytaWB6adLoQA4GYogABwLvLylOFfUw/X66qcoBCz0wDAefExOwAAuJWrr1bvb79Vx6zDCnp+ivS3Z24DgDugAALAuahZU3r9dQWZnQMAKoFDwAAAABZDAQQAALAYCiAAAIDFUAABAAAshgIIAABgMRRAAAAAi6EAAgAAWAwFEAAAwGIogADwd8eOKf+NN6VffjE7CQBUCZ4EAsDyCnLz9MQDc1QnwFe33T9Cb/1jtA7ZgxQy53P9++u3JLvd7IgA4FTsAQRcXX6+Hh/5qJa3uVjrbvuv2Wk80htPv6Nt2V5acNJf37y1VP45WWqUk64dDZpJ3t5mxwMAp6MAAq7u+++1Nc9XG6+4Xkmrf5Jx/LjZiTyGI79AHz2/QOsO5ijf5iVDNvnXrqW+D/xbBdFNNOW6BMmHAyUAPA9bNsDVJSTo+Q23KzW7UA0j68sWEmJ2Io+xcMYHenVHpoLyCxQTIg1sUKTu1/WVzctLo6672ux4AFBlKICAq6tdWw02r1eDzZul+HgOSTpRQo1CnfSvKUOGfOvX1cj7rzM7EgBUCwog4A4CAqRu3cxO4XFajrhGky6+XkGZJ9SozwNmxwGAakMBBGBZd73+nRb1GydJmrDhd8UPNTkQAFQTCiAA6zAMjf/vfP2Y5aMxDQq1IytQ0ulbvERs3+SUj8jdlaij055TxF3jpTZtnLJOAHA2rgIGYBn5+/ZreVEd3bJ5uR4/WUevjr5I/fP2afSe73TZjZdX/gPWr9fj76zRgogO2vDim5VfHwBUEfYAArAMv4hw3Ra0Ui93HKQnA/crIrKeZv5vtPM+oFEjha16WQl7t2rHXQ+oo/PWDABOZTMMwzA7BNxXRkaGQkJClJ6eruDg4Kr5kAMHpJ07pYsu4p5scHn7Dp7UD78d1MCLYuXnw0EWuJ5q2W7D5fGvKVxSTn6RXnlnlZJO5urTA4WqmZet5+berT5vP292NOCMwhvU0pAGtcyO4VIMw9CuQ6cUWaeGAvz4ZwdwBfx5CtdTVKS5j76uF3fmaNkhQ0Ve3kqvEaRRjfop9du1ZqcDcI6yduzWR7c/oadHPS6dPGl2HACiAMIFFT05VVu2pZS57FhWfjWnAVBZjy7bqtlNemh9nWhp+XKz4wAQBRCuIjdXWrtWys/Xou3H9GWLkjc9HlYrV1NjHIob0NOkgNWnIL9A4tRceJD7r2ipyb99ptlbP5D69zc7DgBxEQgqyVknE2+85iY95d9Cw2uc1OqGbfR+Yd3iZXd7p+q2J8Y6I26VczgM2WySzWY7r/c/MuMzvZnmkCT9MPEihdfjub9m+WPTeL7/LQFXxUUgkNgDCBdgfPqpJtTrod11o7Ru3yndfP1FJZb71K9nUrJzcyA9R52e+EpNJn+qW0ZM1Y+vvnfO6/gwNe/0D4ahoU8sVd6q1U5OiYr4+fX31XTSJ7rh9tflOHrU7DgA4HQUQJhr3Tp9/eRspdVqoOOBtXQsvKmatY6Wn6OweEho43ATA1bciayC4nMUvwpvpyF7grTzYGbx8l/T0hU9abmiJy3XiNfWKju/sNQ6nmrte/oHm02pNero0vd/r5bs+JNx5IgGJwbKsHlpbUAjNZ2+Xq+s5L8DAM9CAfRQ2dnZGjZsmJo1a6bY2Fh99NFH5Y612Wxq166d4uPjFR8fr9Wrq3GvU9OmCsk4pksSf1S/Xev07JA4+Xh7qWW9wOIhSf7ucRi0daNgda7pKDEvI7dAkpS6Y4+unPF98fzVvx9X64e+KLmCvDwNGHGFtvTyK57lzNvIGYah3IIi563QQ334/qpS8576/Dcd5wIkAB6EGzJ5qOnTp8tutysxMVFJSUnq2rWrevfurdq1a5c5fs2aNapZs2Y1p5RUr546rflc4W+8q5oRDRV4WV9J0tK7+2rSol90MCNX/+oaXf25ztN7kwfom7eXaZu9rjp1bqFO0XUkSTfMXiv51yox1tf7z3PLdi/+Qv3WF+rWbV/o3lNb9daVI7TWCNGA4b2dlm3g1M+0JcPQi5dG6apL2jptvZ5m5tEaZc6vHeBbzUkAoOpwEYiHatOmjd5880116tRJkjRkyBD1799fN910U6mxNptNmZmZ51UAOZm4Ytrds0gBhQU6aA8qnvfrI5cqyP90qRg77iWtD4nSCcNHXU7t0xVrl6nFwrnq0ixM+YWOCj1RorDIoQ2f/aAwR65i/tFH8vrzPb9sS9FV834tnk6eNqDC2a8Y+aJSQxpo3Nr39a8v31RgiAl/KFSTdz9er/vXlT7n791bLlS3ZqEmJAKcj+02JA4Be6yUlBQ1bty4eDo6OlopKWXfW0+SevXqpbi4OE2cOFFZWVnljsvLy1NGRkaJF85u7k2dFV7DS680yVPytAFKnjaguPxJ0rAG0gnj9A758GP7dCo8SknHstVi0jLF/vcz3XnnLKmo/MO3v6alq9kDn2no9xnqsyZfnz/0QonlPjX8zyv3G8t+1o76MTrlH6ine49Um6mrVJSbp4zcAt31/ha9/1Pqea3XVf2ceKjM+d1i6pY5HwDcFYeA3VSPHj20Y8eOMpdt2rRJUsnbV5xpR+/evXsVFRWlrKwsjR07Vvfcc49mzpxZ5tipU6dqypQplUhuTR3bRGrRk5HlLr/4of8o+ehRyeHQxx9mK79FK7WOqKW8//8bbbE9UqPe/1QXDLuyzPev+b3kXqvU7JLnIrZuWk83ta6lN7ef1DVxDc6YtchhqN+0FdqTUVDm8pz8As1Zt0+LNqZp0cY0hQXb1buF612p/fPuQ9rywy+68apOstepVaH3PD7qYm24/0PtDfnbd8StYAB4GA4Be6hzOQT8V2vXrtXo0aP166+/lrk8Ly9PeXl5xdMZGRmKjIx06qGEnxMPafDrG9S9ljTv3v7y8rLeP76fz/tUMzYf01bfOsXzbor01iPjLy9zfFZeoR5fvkP7dyWrkzI0ZtxV8g0OKnNseWY+OFvvHvFRzfxs/VavaZlj/hXtp70Z+Vp5vOT8q+Mb6YWhCef0eVUp9Xi2Bj73jWqrUNek/Khxbz9Z4fcWbfhZ3y38Qj+FNdPnjjp66voEdWrCHkB4Dg4BQ2IPoMe67rrr9PLLL+vNN99UUlKSVq1apVmzZpUad+LECdntdgUEBMjhcGjhwoVKSCj/H3K73S673V41oQsK9PZ/X9ZDtuaSpB9OSjsPpKtVeK2zvnXJ5n26/b3N+mfXxnr06guqJt85KixyKCO3UHUC/c4++C8yj6Vr7DZD+v/y1yDnpA7WqKVLc9JOPyGkjL1RgXYfTb2mraTzv7jjmfxGMmqVf1bIyrt7yZaZoYtnbyy1bMnm/eratK6Gdo467893JptN8snPVV5hgbb8pURXhHfHDurdsYN6S7q3auLhPOxbv1lLdqfruqs6Kyy47At1AFQc5wB6qHvuuUc5OTlq1qyZLrvsMr388suqU+f0P4SzZs3SQw89JEn67bff1KVLF8XFxalt27Y6duyYnn/+eVMyJ3/ytb7cW/L8wyb1zrwXq6DIoehJy3X7e5slSW+v3atVu45UVcQKMw4d0j9vf03tH1uhqa+uOKf3Fv2t4DX2LtC/vA7pte0ndXjhYmfGLKFmXk65y3ZMuUyh3kWKbFRH92RtK3PMpI/K3mtshojaAZp7W2+NjA/T9MdGmB0HlZSxcJFufP1HPb31lDo9+Y0OpueaHQlwe+wB9FCBgYFauHBhmcvGjv3zsWpdu3bVL7/8Ul2xzqh2144qWvabbIZDhs1LkxNC5O/rfcb3rNtzrNS8X9NO6uLYsKqKWSF3v7NBm+ynM7y1M1OXvrtcHW6o2JW3teoEq4FdOpgn1c7J1CX5adp2yKHQnCzlR/aqssyfXd9c70x6QYGX99U1/7xMDRuF6mR2gWoH+umrT9Zqwjf7lO1XQ4s+ekP9n56vT389WOL99YOraM/weWoTVVdt/tnX7Bhwgr2/JavNkSPyCqghIy9XR0/lqUHI+V3YBOA0CiBcRkiDUL3z1I3KT0mTf/v4Cp14X9bNeTs0PrdDflUht9ChHN/ThSjX167Bv0gXbnhTwzpFauCwPqXGn8or1Ps/peqi5qGKrR+kL+67VO99tlGtN+1UeFKyPvdqqRG7Vyk8/eIqyxzRNUH3rXqzxLza/3/4+sOUXGX7nT7s9lrnQZoxNEGOpMX6/NSf/wivv5+yhaoRM2qYBj84XSkpa9VswCW6INw9bg4PuDIuAkGlmH0ycX6hQze8tk5b9xxS1PH9usY/Q2NfnlztOcpy638XaEVhye/EvyBX4yKlCXcMLjH/uknvKOfIce0Li9SmaQNLLHtg9NPaVFhDQblZeqip1ObxSVUdvZRDJ7I04/G3dShpn0Z1jVLnu29VzKRPFJN3UkHZGZrzv1uLyyIA12b2dhuugT2AcGt+Pl76YGxXKSNDBd//IL9LnPfkjMqa/eA1avrwVyXm5fr6a+aBQk0oMTNXhWkHVNCilYL3HZAcjhI3ce4aU1cfHKmjhvmZajSyV3VEL6V+7UA99uy/S8y7L76WZm/MU8uEcNXiKRkA4FYogHB7NptNCgmR34D+ZkcpodC7ZCmKOrZPPnLorbDDkq7+c4HdruktbPpy4xfq0LFFifInSf+4b5R65xXKkFTTbu7/ZYvyC7R/yw5FdGyr1xJzddy7hpbtzVHwm9/riZE9TM1WWVu+WCNvXx9dcElns6MAQJWjAAJVxM/HS7UCfHUyu0A3xtfXE19/fPq8xnueKjnQZlPMg3fp32Wu5bRAk4vfH2Ie+vL0D4tKPgHknZ0Z6p94VN3d9HFphxNTNHHpb8qzeevfP+/SjfcMNzsSAFQp1/hXBfBQmx+69M+JoR3NC+IEiXMWSPrzfKG4BoHacvDP2/bM+CbRbQtg0tZE1Xbk66i3v7bvTzc7DgBUOe4DCFSBw9sTNe/R17Tvmx/MjuI0R+o2LDEdt+zdEtPzRrnvodMLB16ikQn1dGVwnu668xqz4wBAleMqYFQKV5OV4dgxDf/PbG0NjVajzKN6/e7+atSmmdmpKs3hMHT/gNv1XtxlkqRev2/Qmx88bHIq1/Rj0nENmb1WnZvU0cLRXUo8lxsWdPSoNGGC1qVl6r2ITiq02/VP+3F1Gn6lbBdddNa3Zx45Lm8fHwXUds42lu02JPYAAs536JBqZxxXgIrUIOOITmWXvlehO/LysumRBY/r2l9XyNtRpH6715kdyWUNmb1W0uki2GTypyoscpicCKZaulR67z3d3vY6fRzVQZ/Uv0A3BXTSDyPvlI6Vvpn9H47t3a+rx72qts+uVeunVuuGca8o/YD5TzqCZ6AAAs7WurVevKGD7m0brP/88xLFdmpd5R+5Z/AILWx3qU49Nb1KP8e/VrCmL39eu6ddqRs3f1aln+XOJvRpXmL6qpdWm5QELuHqq6WWLXXDX/4/k+1XQ3UKsiX/8p9osnjeF9oSHF48vSY4Ssvf+aJKo8I6KIBAFbDdMEwDb71aCVeXvi+h4XDo2/mf6rPXFquooLDSn2UUFurzfblq2yNeW2e8Wen1VYSXF4c0z2Riv1jFFPx5Mcn2g6e0cN6XcmRnm5gKpqlbV9q6Vbe/9Zi2xB7TB45N+vrAMrV+Y4YUGFju2+rVLfksdJvhULuE5uWMBs4NBRCoakVF0rp10vHjkqRXHn1DI7ca+vfvfprx6BuVX7+3t/bUCde7aUWyt4+r/PrgFPde2bbE9LPrD6rb/R+rMIsSaEleXlKzZgq5+Z/q9PR/FfPWLKn3mW9cf+WYazTBK0024/QpBHf6HdQFfS6sjrSwAG4DA1SxJWMf1HfHDUXmnNQdi5/X9mO5auo4rFPefkpW5c8PtNlsmrbsOdkKC+VtP/Pj2Pbc/5iipj2inwf+U53ef13P/Pc1Hc4p0lNP3yqfs7wX5+ayXm31St26+vc7m+TlcMjH4VC2YVPO2vUK6us6T6xB5WXmFuiDdcnqGBmsdjH1nbZem5eXJj45RoM37VDm8Qxd0GeA09YNsAcQqGJvBbXQuNqndMjhLWVmauTlbZUaUFsn/QI04vJ2TvkMH2+vs5Y/Sfr+8/Vau+JHFW7cpG/e+VRv5Yfp9wIf/e8RJ+yJhCSpyGFoQ/Jx5RYU6Yq2jZQ8tb+219yi7gd/0+Op3yqoSyezI8LJ2j7ypR79fJeuem2Dnn3tS6evv3FCK/b8wenYAwhUsWsi7Zr1Yx2N6VFLCg1VhwE99UOLFBkOQ/VjG1drloFP363XnnlNvS/vp8YdWip7xy6F5RXK24tn+TrLiwt+0I6v1mhN3Rh90b2Gwgf1l/9D/9UzfxlT+M67mv3dHtWKa6Mbxw0yLSsqr+BvV3i/9HuBRmTmql5Q+Rd3AK6A+wCiUriflHvLz87Vvu2/K7p9K9m8OCDgDA899JYWZAerwOf0HtmvLq6pZldcXLx854btuuzDpOLp6dF5unYsN592Vxm5BWr3SMm9fnNv6qhLWjrvULCzsd2GxCFgwNL8AvzVpGMbyp8TPXxbf7VIP1A8ve/YqRLL/1r+JOnQ8SzBfQXm5ZSat+cI/03h+tjqA0AF5GfnasWbS/Xs/bOVn51b7jjvemH65MWR+ijqhN6JzVPPG64od2yICjTq9murIi6qifehg7p019oS8974IdmcMMA54BxAAKiAL95erh9+O6g9ed5qOPND3XD38PIH16ih9uPKXv7LI5fq570nlHjolLo3C5V/YI0qSoxq0ayZLq2Rpb8eBA4LspsWB6goCiAAVEDD8FBt/OWkkmrW1X8izr+0Bfv7qneLeurdop4T08E0Xl4aPO9Z5a3cqTmbDqlNoxDdfWms2amAs+IiEFQKJxPDSnZ+v1HePj5q1uUcbt9z7JgUFCT5cZ9FuAa225DYAwgAFdbiovalZ2ZlSd7eZT7TdcnCb/Xlgi80+MAWXfLOS1KzZtWQEgDOjgIIAOcpbflXumXxLuX7+On1K5uq6YBLipftPpSp2zdlSy17aHnLHur6yEe6vW9zdbmJ+/4BMB8FEHCSE7Ne16DkWnLUCNCye/opJICbK3u6zz/+Xr+Fnn6yxyWrc/T66qf1sGLUuX4NtevUssTYtRFt9NsvWdpkRlAA+BtuAwM4w5YtuuoXbyWrhlJyDG3dn35Ob3/rk5/V9e73tfzpuVUUEFWhU9uoEtNTj9TUPvlr8SFDSxZ/X3KwYeiEb4BOrPmxGhMCQNkogIAz1KmjLim/Fk92bVq3wm9967tEPfz9QR3wCdT44/X127qtxcuMU6f03vjH9F2TMs49g+m8rrlGjY1syTAUkJet/cGhxcs2+9bVqBY19e9eMbq2ZW3JZpNsNvV9f49mfPmblv5vvlYv+MzE9ACsjAIIOENkpIbcd5MmNPXR6rsvlpeXrcJvXbclucT0oE9Sin/eOGKcJgW11z+vf0zz2g9wVlo4yexvdmmvLUCy2ZTj56/IvIwSyy/+fYPuu7ylJlz65+HgY/5Bmv7N75pwqLZGbHHoxPqfqzs2AFAAAWfp1KOdJo6+TJGhNc/pfZOHXSib/rwb06v/7FT8c+jAP0vfg5eO06udBim/sOTD52GeTnlHin8OLMrXCxMuK7H8p/zTVwZHNaqjOR3sshml/9sV7DtQah4AVDXuA4hK4X5SVW9xm96688q7S8xbMChGXS9sWc47UF0K0zPUbOpqSdKd9XJ0+8RrdeXzK/XrwdPPgl09pr0imzQsHv/q6Ef1ZJ0OxdMPeSXp5kfHSj5cj4fqw3YbElcBAy4vLaR+qXmj392iVRc0VZ1Abi5sJp+QYG18oI+SDmeqQ0yYJGnakAR98ssBXdchQpFhJfcGX3fHUD359m5J0vLLwtSmN4f1AZiDPYCoFP6SrHrt7lioDP+yDyt/MLarOkXXqeZEkKR1e45p2/4MDescqQC/iv8tfSQzT3mFRYqoHXBuH/jrr6dfQ4dKXpy9g/PHdhsS5wACLm/x5CvKXfbi17urMQn+YBiGRs5dr8c+2a7WD32hc/k7OizIfm7lb9Mm5Y8eo0emvq+N9zyq3HffO4/E8Ah5edLhw2angIegAAIuLqZ+sPY82V+f3n6ROkfXLrFsXC8eLWYG2/HjSkj6pXj6xKo1VfNBDofUvbs++WG3vg2K0taGzbV/++9V81lwabk7d2v0yKcV/dxPeva+mef0RwdQFs4BBNyAl5dNrRuG6P2x3cyOAknat0++BXmSJN/CAtkPH3TKajNzC/RD4lH1aB6mQPvpzfO6hF6aeNG/JZuXHuo7Vu+2cqipUz4N7uSnhZ/rp9BmqluQrZd8G6tXygl1aMzpHzh/7AEEgHPVtq26xoQpoChf3WoWKvC6a5yy2pse/kBzn12oR59YcHqGl5dqPv6IZPtzU33fgUCnfBbcywXd2umUvYaO+QbI11Gk+sH+ZkeCm6MAeqi5c+eqbdu28vHx0YwZM844dv369YqPj1dsbKz69OmjAwe4LxlwRjabbn3i33phZDdNv+vK00/5qKTZK3boZ1uIfqzfXAvz66jzI59p5c7DuqB3Zw2Ja1A87o4+sZX+LLiPw9t2acrQ+5Xx7/9odFCGbq5XoJ8nX3zuFxEBf8NVwB5qy5Yt8vPz09SpU9W5c2fddtttZY4zDEPNmzfX66+/rl69emn69On6+eeftWDBggp9DleTAc7xxPLtem11Uqn5ydO4VYyV9bz3A6V4lSx7Ey5ppomXtjjvdbLdhsQeQI8VFxenVq1ayesst4vYsGGD7Ha7evXqJUkaM2aMPv74YxUUFFRDSgB/uLMfe/ZQUkFhUanyJ0lf7eBKYFQeBdDiUlJS1Lhx4+LpoKAgBQUFlXsYOC8vTxkZGSVeACqvhq+3ujatW2LeTw/0NSkNXIHvyRNlzo+LDKnmJPBEXAXspnr06KEdO3aUuWzTpk2KjIys8Lpsfzt/6UxnBUydOlVTpkyp8LoBVIzNZtP8Wy7U3mNZyikoUuuGwaX+vwmLqVVLT214V/d1vKHE7McHtjUpEDwJBdBNrV692inriYqKUnJycvF0ZmamMjMz1bBhwzLHT548WRMnTiyezsjIOKeyCaB83l42NQ0r+6kvsCAfH13/znMavHiJJqmZWraJ1i09uAkQnIMCaHEdOnRQbm6uVq5cqV69emn27NkaOHCgfH19yxxvt9tlt9urOSUAp3n/fWnmTKlpU2n6dKkO95JzafXry2fsaE03Owc8DlcBe6j58+dr0qRJOnHihPz8/BQYGKhly5YpISFBs2bN0v79+/Xoo49KktauXauxY8cqJydH4eHhmj9/vsLDwyv0OVxNBriRxESpRQutaNpRDTKPqW3/ntLcuWanQjVjuw2JAohKYkMCuJGvvlLKtcOVXLuR7IX58o+7QPuuGqKe1/RWzdDaZ38/PALbbUhcBQwA1nHRRWrYNFzZfv5a0byLrm05VOP22HXjQx/IcDjMTgegGnEOIABYhb+/fNf8oMu//17HVu1SQYGvLslI1jr/Bjp17KSenvqeNuT6aWRsoIbcMczstACqEHsAAcBK/P2lvn3V71//UHjWMX0THK0BRQf1w5LvNM+vsQxJj+31VvYJ7vEJeDL2AAJANSsqKNSnc5YorF5tdbnmElMy1GsWpW+fGqLjqQdUP7a/npz5uSSHUvxrqdDLW3kOQzxtFvBc7AEEgGq2eOaHmpDkp6E/5ui9Z98xLYdfgL8atGii9UnH9VqqQyG5p1Rk89L4nxZpzb5s03IBqHoUQACoZltTj8uwnd78Tk01/0BMg2B/+XlJ2T5+Cs84or1N2qhzE+4PCHgyCiAAVLNB/eLlX5AnSepeeNTkNFJ0aKCWTuihtzsH6JtG+/Xc4yMUFsQN3wFPxn0AUSncTwo4P4d27dXeHXvUoX8PefuavxcQ1sF2GxIXgQCAKerHNlb92MZmxwBgURwCBgAAsBgKIADAebZulX78UeLJIoBLowACAJzi5O13aW+PftKFF0qXXy4VFpodCUA5KIAAgMpLS9NTO/P1UL+xeqPjVcpZuVpaudLsVADKQQEEADjFhalbdTjw9P0DM+01TE5jAsNQ1lffauNHX8lRxCFwuDYKIACg8iIiNLBPW73/zn265tevVa9LB6lXL7NTVa9lyzT7sbmKHj5Ycx993ew0wBlxGxgAgHO8+KKCbr1Vys6WOnWSvCy2j+GVVxRUGKQrRr6kfvv2m50GOCMKIADAedq2NTuBeZ59Vv/qP0AXHEzUBdOnmJ0GOCMKIAAAztC6tfwSd6trfr4UEGB2GuCMKIAAADiLj8/pF+DiLHaCBgAAACiAAAAAFkMBBAAPkX/kqHJ795FWrTI7CgAXRwEEAA/gcBgaf8ds7diZpiXjH5G++87sSABcGAUQADxESN0QzUsYoKRaDaUVK8yOA8CFcakSAHgALy+b/jvlJv0y8211zfCT7rrL7EgAXBgFEAA8RK3aNdXzgXFmxwDgBjgEDAAAYDEUQABwBVlZ2rH4Cx3872PS8eNmpwHg4SiAAOACti5bqSvWF6pLYXvdMvF1ZWXnmR0JgAejAAKAC/i9XpQkqd2+nUryCdaBg+wFBFB1KIAA4AIuvai1RrWppV/CW6hX6wZq1rSh2ZEAeDCbYRiG2SHgvjIyMhQSEqL09HQFBwebHQcAcBZstyGxBxAAXEb+L1u1qufVOvLAFCkjw+w4ADwYBRAAqtnc75N08TPfau3vx0rMn/TKCv2r22h1Kuqog4OHmZQOgBVQAAGgmj36yXbtPZatYa+tU0rK4eL5x+tHFP+8NMMubdvGLWEAVAkKIABUsczcAl03a42a3f+ppi7fVmLZiJnfFf/81MQrJUmhuZm6okmQrnvyE0285Rnp0KFqzQvA81EAPdTcuXPVtm1b+fj4aMaMGWcca7PZ1K5dO8XHxys+Pl6rV6+uppSA5ytKz1DbR77UT8knVOgwNHt1conle1VDRY7T1+LVD/ZX8rQB2vD8UL0a2EJH6tTXIb+aOvr51yYkB+DJeBawh+rQoYPef/99TZ06tULj16xZo5o1a1ZxKsB6Rj/xkeQVdsYxWfmFCvb3LTEv1t+hzRkn1PDUMdXtfE1VRgRgQRRADxUXFydJ8vJiJy9gpn2FPgoqzFRmQFCZy++5rEWp8idJI56ZqCHvvCt7h+FSq1ZVHROAxdAOIEnq1auX4uLiNHHiRGVlZZU7Li8vTxkZGSVeAMrXJyGq3PJ3QXiwxvduVvYbAwJkv/UWqX37KkwHwKoogG6qR48eCg0NLfOVmpp6Tuvau3evNmzYoDVr1ujIkSO65557yh07depUhYSEFL8iIyMr+6sAHu2eET218a5uZS7buo8/oACYgwLoplavXq2jR4+W+TrXUhYVdfoZpIGBgRo3btwZLwKZPHmy0tPTi1/nWjYBK6oTVlu/PHKp2TEAoBgF0OJOnDih7OxsSZLD4dDChQuVkJBQ7ni73a7g4OASLwBnF+zvq+RpA3Rp6/rF816+gcO7AMzBs4A91Pz58zVp0iSdOHFCfn5+CgwM1LJly5SQkKBZs2Zp//79evTRR7V27VqNGTNGNptNhYWFat++vV544QXVqVOnQp/DMyWBc/fHZtdms5mcBFbEdhsSBRCVxIYEANwL221IHAIGAACwHAogAACAxVAAAQAALIYCCAAAYDEUQAAAAIuhAAIAAFgMBRAAAMBiKIAAAAAWQwEEAACwGAogAACAxVAAAQDn5eS+Q/p2/qc6ue+Q2VEAnCMKIAC4qvffV7avv3J8/SWHw+w0JeRn5+o/TyzSyK2Gej2zUrt+2GR2JADngAIIAC7qhec/Urs73lOPMa9pS6MWZscpYePna/RDzQhJ0kn/mnr/43UmJwJwLiiAAOCKPvtMr114jQq9fXW0Zh3N6TTQ7EQltL+8mxrkpBdPt4qsbWIaAOeKAggArujSS5Xn5VM8ebJGkIlhSvML8Nfsq5vr8lPJmlTjoK65bYjZkQCcA5thGIbZIeC+MjIyFBISovT0dAUHB5sdB/AoWxs004N9x+qUPUAPTbpOPZqHmR0JHoDtNiTJ5+xDAABmuOBgohabHQKAR+IQMAAAgMVQAAHAjaSdyFaRgzN3AFQOh4ABwE1ET1pe/POvD/ZVUKDdxDQA3Bl7AAHADSQePlViuu1jX+nY8UznrHvdL7p53Mu65/aXlXU8/exvAOD2KIAA4AZqBfiWmjd3yQanrHvyW2v0XWCEFtkjNf3Jd5yyTgCujQIIAG4gtKZdt7UrebPlWlGNnLLuQJtDPo4i+TiKtD3b5pR1AnBtFEAAcBO3D7mwxHSW4ZyyNnXC5YrPOaSonBO667KWTlknANfGjaBRKdxQFKhehmEo/tEVigkL1ILRXWT38TY7EtwM221IXAUMAG7FZrNpy8OXmh0DgJvjEDAAAIDFUAABAAAshgIIAABgMRRAAAAAi6EAAgAAWAxXAQMASil4e56ab68j/6IC3de1gUZe08XsSACciD2AAIBSMl+eLUlqcXSvpvx4TAVFDpMTAXAmCiAAoJQ6l/fRg1+/qp11InT/8Z/l680/F4An4UkgqBTuKA94KIdDWrJEOn5cGjJECgoyOxGchO02JPYAeqz7779frVq1UlxcnDp37qxvvvmm3LHr169XfHy8YmNj1adPHx04cKAakwJwSV5e0qBB0qhRlD/AA1EAPVSPHj20ceNGbdmyRa+99poGDx6s3NzcUuMMw9CNN96o559/Xrt27dIVV1yhiRMnmpAYAABUF64C9lBXXHFF8c9t27ZVUVGRjh49qoiIiBLjNmzYILvdrl69ekmSxowZo3r16qmgoEC+vr7VGRkAAFQTCqAFvPHGG4qJiSlV/iQpJSVFjRs3Lp4OCgpSUFCQDhw4oKioqFLj8/LylJeXVzydkZFRNaEBAECV4RCwm+rRo4dCQ0PLfKWmphaP+/rrrzVlyhS999575a7LZrOVmD7TdUFTp05VSEhI8SsyMrLyvwwAAKhWXAXswVatWqURI0Zo2bJliouLK3PMTz/9pJtuuknbtm2TJGVmZiosLEyZmZllHgIuaw9gZGQkV5MBgJvgKmBI7AH0WN99951GjBihJUuWlFv+JKlDhw7Kzc3VypUrJUmzZ8/WwIEDyz3/z263Kzg4uMQLAAC4F/YAeqjmzZsrIyNDDRs2LJ43b948tW3bVrNmzdL+/fv16KOPSpLWrl2rsWPHKicnR+Hh4Zo/f77Cw8Mr9Dn8JQkA7oXtNiQKICqJDQkAuBe225A4BAwAAGA5FEAAAACLoQACAABYDAUQAADAYiiAAAAAFsOj4FApf1xEziPhAMA9/LG95iYg1kYBRKVkZmZKEo+EAwA3k5mZqZCQELNjwCTcBxCV4nA4tH//fgUFBZV6pvDZ/PEYudTUVLe4F5W75ZXcLzN5q567ZXa3vJLrZzYMQ5mZmWrUqJG8vDgTzKrYA4hK8fLyUkRERKXW4W6PlHO3vJL7ZSZv1XO3zO6WV3LtzOz5A9UfAADAYiiAAAAAFkMBhGnsdrsefvhh2e12s6NUiLvlldwvM3mrnrtldre8kntmhvVwEQgAAIDFsAcQAADAYiiAAAAAFkMBBAAAsBgKIKrN3Llz1bZtW/n4+GjGjBlnHGuz2dSuXTvFx8crPj5eq1evrqaUJZ1L5vXr1ys+Pl6xsbHq06ePDhw4UE0p/5Sdna1hw4apWbNmio2N1UcffVTuWDO/4927d6tbt26KjY1V586dtX379jLHzZkzR82bN1dMTIxGjx6twsLCasv4VxXJu3LlSgUEBBR/n/Hx8crJyTEhrTRhwgRFR0fLZrNp69at5Y5zle+3Inld6fuVpNzcXA0cOFCxsbGKj4/X5ZdfruTk5DLHusr3DJRgANVk8+bNxvbt240RI0YYL7300hnHSjIyMzOrKVn5KprZ4XAYMTExxrfffmsYhmE888wzxtChQ6sp5Z+mTJli/Otf/zIMwzD27Nlj1K9f3zh+/HiZY838jnv37m288cYbhmEYxgcffGB06dKl1Jg9e/YYDRs2NA4ePGg4HA7jyiuvNGbNmlXNSU+rSN5vv/3W6NChQzUnK9uqVauM1NRUo3Hjxsavv/5a5hhX+n4rkteVvl/DMIycnBxj+fLlhsPhMAzDMF566SWjX79+pca50vcM/BV7AFFt4uLi1KpVK7d69FBFM2/YsEF2u129evWSJI0ZM0Yff/yxCgoKqiHlnxYuXKjx48dLkpo0aaKePXtqyZIl1ZrhbA4fPqyNGzdq+PDhkqTBgwcrKSmp1N6TDz/8UIMGDVL9+vVls9k0duxYLViwwGXzupKePXue9Qk9rvL9ShXL62r8/f3Vv3//4kdgdunSRXv27Ck1zpW+Z+Cv3OdfYlhOr169FBcXp4kTJyorK8vsOGeUkpKixo0bF08HBQUpKCio2g8D/z1HdHS0UlJSyh1vxnecmpqqRo0aycfn9JMobTaboqKiSuU819+lqlQ0ryTt3LlT7du3V6dOnTRz5szqjnpOXOX7PReu/P2++OKLuvLKK0vNd8fvGdbAs4DhND169NCOHTvKXLZp0yZFRkZWeF179+5VVFSUsrKyNHbsWN1zzz1VssF3ZuY/9gT8waiCW2yeLe/fc5wpQ3V9x2Wp6HdV0d+lqlUkb/v27ZWWlqaQkBClpaWpf//+Cg0N1ZAhQ6or5jlzle+3Ilz5+33yySe1e/duzZo1q8zl7vQ9wzoogHAaZ15EEBUVJUkKDAzUuHHjNHr0aKet+6+clTkqKqrEIcHMzExlZmaqYcOGTln/H86W948cYWFhkk6XvP79+5c7Vqr67/jvIiMjlZaWpsLCQvn4+MgwDKWmphbn+Wu+v36nfxTW6lbRvMHBwcU/R0REaNiwYVq9erVLFJSyuMr3W1Gu+v1Onz5dH330kb766isFBASUWu5u3zOsg0PAcDknTpxQdna2JMnhcGjhwoVKSEgwOdWZdejQQbm5uVq5cqUkafbs2Ro4cKB8fX2rNcd1112nl19+WZKUlJSkVatW6aqrrio1zszvuF69ekpISND8+fMlSYsWLVJ0dLSio6NLjBs8eLAWL16sQ4cOyTAMzZo1S0OHDq2WjOeT98CBA3I4HJJO/wHwySefuPT/bl3l+60oV/x+n3vuOS1YsEArVqxQrVq1yhzjbt8zLMSca09gRfPmzTPCw8ONgIAAo1atWkZ4eLixceNGwzAM45VXXjEefPBBwzAMY82aNUbbtm2Ndu3aGa1btzaGDx9uHDt2zKUz/5G7Xbt2RvPmzY1evXoZaWlp1Z731KlTxpAhQ4yYmBijefPmxgcffFC8zJW+499++83o0qWL0bx5c6NDhw7G1q1bDcMwjFGjRhlLliwpHvfqq68aMTExRpMmTYxRo0YZ+fn51ZbxXPO+9NJLRuvWrYu/04cffrj4CtHqNm7cOCM8PNzw9vY26tevb8TExJTKaxiu8/1WJK8rfb+GYRipqamGJKNp06ZGXFycERcXZ3Tu3LlUbsNwne8Z+CueBQwAAGAxHAIGAACwGAogAACAxVAAAQAALIYCCAAAYDEUQAAAAIuhAAIA4OImTJig6Oho2Ww2bd26tULvycvL02233abmzZurTZs2xc+zBiSeBAIAgMu79tprde+99+qiiy6q8HsmTZokLy8v7dq1SzabrdqfTQ7XRgEEAMDF9ezZs8z5u3fv1h133KHDhw8rPz9fY8aM0bhx45SVlaU33nhDaWlpxc8idvajKeHeKIAAALihoqIi3XDDDZo3b55atmyp7OxsdenSRV26dJGPj4/q1q2rxx9/XF999ZVq1KihRx55RH369DE7NlwEBRAAADe0c+dObdu2rcSzhTMzM7V9+3a1atVKe/bsUevWrTVt2jRt2bJFffv21fbt2xUWFmZiargKCiAAAG7IMAyFhoZq8+bNpZYdPXpUXl5euvHGGyVJcXFxatKkibZt26ZevXpVb1C4JK4CBgDADbVo0UIBAQF6++23i+clJibq+PHjCg0NVZ8+ffTFF19Ikvbu3aukpCS1aNHCrLhwMTbDMAyzQwAAgPKNHz9eS5Ys0cGDBxUaGqqaNWsqMTFRu3fv1p133qmUlBQVFRUpLCxM77zzjsLDw7Vnzx7dfPPNOnbsmLy9vfXwww9r0KBBZv8qcBEUQAAAAIvhEDAAAIDFUAABAAAshgIIAABgMRRAAAAAi6EAAgAAWAwFEAAAwGIogAAAABZDAQQAALAYCiAAAIDFUAABAAAshgIIAABgMRRAAAAAi6EAAgAAWAwFEAAAwGIogAAAABZDAQQAALAYCiAAAIDFUAABAAAshgIIAABgMRRAAAAAi/k/3e73D2HuCqwAAAAASUVORK5CYII=' width=640.0/>\n",
       "            </div>\n",
       "        "
      ],
      "text/plain": [
       "Canvas(toolbar=Toolbar(toolitems=[('Home', 'Reset original view', 'home', 'home'), ('Back', 'Back to previous …"
      ]
     },
     "metadata": {},
     "output_type": "display_data"
    }
   ],
   "source": [
    "fig, ax = plt.subplots()\n",
    "static_lakes_gdf.boundary.plot(ax=ax, color='red')\n",
    "evolving_lakes_gdf.boundary.plot(ax=ax)"
   ]
  },
  {
   "cell_type": "code",
   "execution_count": null,
   "id": "a11879f2-dfcf-44ef-afe1-c4e11f3cbbd4",
   "metadata": {},
   "outputs": [],
   "source": []
  },
  {
   "cell_type": "markdown",
   "id": "c059b478-b0d9-4cc2-b7a3-a195305ef531",
   "metadata": {
    "tags": []
   },
   "source": [
    "# Fig. S1"
   ]
  },
  {
   "cell_type": "code",
   "execution_count": null,
   "id": "b89d2ef4-2675-46b9-a0d3-109671221ab0",
   "metadata": {
    "tags": []
   },
   "outputs": [],
   "source": [
    "ROI_poly = buffered_poly\n",
    "print(type(buffered_poly))\n",
    "print(type(ROI_poly))"
   ]
  },
  {
   "cell_type": "code",
   "execution_count": null,
   "id": "97a4007e-064b-4b7a-9163-705fa3fb5927",
   "metadata": {
    "tags": []
   },
   "outputs": [],
   "source": [
    "ROI_poly = buffered_poly\n",
    "dataset1 = CS2_dh\n",
    "dataset2 = ATL15_dh\n",
    "\n",
    "# Clipping datasets\n",
    "dataset1_clipped = dataset1.rio.clip(ROI_poly, dataset1.rio.crs)\n",
    "dataset2_clipped = dataset2.rio.clip(ROI_poly, dataset2.rio.crs)\n",
    "\n",
    "# Extract min and max of x and y for dataset1\n",
    "min_x1 = dataset1_clipped.x.min().item()\n",
    "max_x1 = dataset1_clipped.x.max().item()\n",
    "min_y1 = dataset1_clipped.y.min().item()\n",
    "max_y1 = dataset1_clipped.y.max().item()\n",
    "\n",
    "# Extract min and max of x and y for dataset2\n",
    "min_x2 = dataset2_clipped.x.min().item()\n",
    "max_x2 = dataset2_clipped.x.max().item()\n",
    "min_y2 = dataset2_clipped.y.min().item()\n",
    "max_y2 = dataset2_clipped.y.max().item()\n",
    "\n",
    "# Check if the coordinates match\n",
    "if min_x1 != min_x2 or max_x1 != max_x2 or min_y1 != min_y2 or max_y1 != max_y2:\n",
    "    raise ValueError(\"Dataset1 and Dataset2 do not have matching x, y min, max coordinates\")\n",
    "\n",
    "# Establish x_min, x_max, y_min, y_max, \n",
    "x_min = min_x1\n",
    "x_max = max_x1\n",
    "y_min = min_y1\n",
    "y_max = max_y1\n",
    "\n",
    "# Subsetting datasets\n",
    "# Subset datasets to region of interest for plotting\n",
    "buffer = 4000\n",
    "mask_x = (dataset1.x >= x_min-buffer) & (dataset1.x <= x_max+buffer)\n",
    "mask_y = (dataset1.y >= y_min-buffer) & (dataset1.y <= y_max+buffer)\n",
    "dataset1_subset = dataset1.where(mask_x & mask_y, drop=True)\n",
    "mask_x = (dataset2.x >= x_min-buffer) & (dataset2.x <= x_max+buffer)\n",
    "mask_y = (dataset2.y >= y_min-buffer) & (dataset2.y <= y_max+buffer)\n",
    "dataset2_subset = dataset2.where(mask_x & mask_y, drop=True)\n",
    "mask_x = (moa_highres_da.x >= x_min-buffer) & (moa_highres_da.x <= x_max+buffer)\n",
    "mask_y = (moa_highres_da.y >= y_min-buffer) & (moa_highres_da.y <= y_max+buffer)\n",
    "moa_highres_da_subset = moa_highres_da.where(mask_x & mask_y, drop=True)"
   ]
  },
  {
   "cell_type": "code",
   "execution_count": null,
   "id": "7937af91-7689-4a40-b36c-fa8c58a1808e",
   "metadata": {
    "tags": []
   },
   "outputs": [],
   "source": [
    "# Modify find contours function to achieve something like less than 5% of contours intersecting with buffer\n",
    "# gdf = find_evolving_outlines(ROI['name'].values[0], buffered_poly, 0.5, CS2_dh, ATL15_dh)\n",
    "# gdf = find_evolving_outlines(ROI['name'].values[0], buffered_poly, 0.5, CS2_dh, ATL15_dh)\n",
    "gdf = find_evolving_outlines('Slessor_2_3_23', buffered_poly, 0.5, CS2_dh, ATL15_dh)"
   ]
  },
  {
   "cell_type": "code",
   "execution_count": 51,
   "id": "32f68e0c-a180-4b49-a3a9-7faeb8ee5e61",
   "metadata": {
    "tags": []
   },
   "outputs": [
    {
     "ename": "NameError",
     "evalue": "name 'gdf_subset' is not defined",
     "output_type": "error",
     "traceback": [
      "\u001b[0;31m---------------------------------------------------------------------------\u001b[0m",
      "\u001b[0;31mNameError\u001b[0m                                 Traceback (most recent call last)",
      "Cell \u001b[0;32mIn[51], line 11\u001b[0m\n\u001b[1;32m      8\u001b[0m \u001b[38;5;66;03m# Panel A - Plot uplift filling event\u001b[39;00m\n\u001b[1;32m      9\u001b[0m \u001b[38;5;66;03m# Specify the time value you want to plot\u001b[39;00m\n\u001b[1;32m     10\u001b[0m specified_date \u001b[38;5;241m=\u001b[39m datetime\u001b[38;5;241m.\u001b[39mdate(\u001b[38;5;241m2010\u001b[39m, \u001b[38;5;241m8\u001b[39m, \u001b[38;5;241m17\u001b[39m)\n\u001b[0;32m---> 11\u001b[0m \u001b[43mgdf_subset\u001b[49m[(gdf_subset[\u001b[38;5;124m'\u001b[39m\u001b[38;5;124mdate\u001b[39m\u001b[38;5;124m'\u001b[39m] \u001b[38;5;241m==\u001b[39m specified_date) \u001b[38;5;241m&\u001b[39m (gdf_subset[\u001b[38;5;124m'\u001b[39m\u001b[38;5;124mdh (m)\u001b[39m\u001b[38;5;124m'\u001b[39m] \u001b[38;5;241m>\u001b[39m \u001b[38;5;241m0\u001b[39m)]\u001b[38;5;241m.\u001b[39mboundary\u001b[38;5;241m.\u001b[39mplot(ax\u001b[38;5;241m=\u001b[39max[\u001b[38;5;241m0\u001b[39m], color\u001b[38;5;241m=\u001b[39m\u001b[38;5;124m'\u001b[39m\u001b[38;5;124mblue\u001b[39m\u001b[38;5;124m'\u001b[39m)\n\u001b[1;32m     12\u001b[0m gdf_subset[(gdf_subset[\u001b[38;5;124m'\u001b[39m\u001b[38;5;124mdate\u001b[39m\u001b[38;5;124m'\u001b[39m] \u001b[38;5;241m==\u001b[39m specified_date) \u001b[38;5;241m&\u001b[39m (gdf_subset[\u001b[38;5;124m'\u001b[39m\u001b[38;5;124mdh (m)\u001b[39m\u001b[38;5;124m'\u001b[39m] \u001b[38;5;241m<\u001b[39m \u001b[38;5;241m0\u001b[39m)]\u001b[38;5;241m.\u001b[39mboundary\u001b[38;5;241m.\u001b[39mplot(ax\u001b[38;5;241m=\u001b[39max[\u001b[38;5;241m0\u001b[39m], color\u001b[38;5;241m=\u001b[39m\u001b[38;5;124m'\u001b[39m\u001b[38;5;124mred\u001b[39m\u001b[38;5;124m'\u001b[39m)\n\u001b[1;32m     14\u001b[0m \u001b[38;5;66;03m# Calculate the absolute difference between each time in the dataset and the specified time\u001b[39;00m\n",
      "\u001b[0;31mNameError\u001b[0m: name 'gdf_subset' is not defined"
     ]
    },
    {
     "data": {
      "application/vnd.jupyter.widget-view+json": {
       "model_id": "857aaea419854a70be5d4e3e7566a668",
       "version_major": 2,
       "version_minor": 0
      },
      "image/png": "[encoded data removed]",
      "text/html": [
       "\n",
       "            <div style=\"display: inline-block;\">\n",
       "                <div class=\"jupyter-widgets widget-label\" style=\"text-align: center;\">\n",
       "                    Figure\n",
       "                </div>\n",
       "                <img src='data:image/png;base64,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' width=550.0/>\n",
       "            </div>\n",
       "        "
      ],
      "text/plain": [
       "Canvas(toolbar=Toolbar(toolitems=[('Home', 'Reset original view', 'home', 'home'), ('Back', 'Back to previous …"
      ]
     },
     "metadata": {},
     "output_type": "display_data"
    }
   ],
   "source": [
    "# TODO\n",
    "# Try other lakes\n",
    "\n",
    "# Plot Fig. 2\n",
    "fig, ax = plt.subplots(3,1, sharex=True, figsize=(5.5,16.5))\n",
    "\n",
    "\n",
    "# Panel A - Plot uplift filling event\n",
    "# Specify the time value you want to plot\n",
    "specified_date = datetime.date(2010, 8, 17)\n",
    "gdf_subset[(gdf_subset['date'] == specified_date) & (gdf_subset['dh (m)'] > 0)].boundary.plot(ax=ax[0], color='blue')\n",
    "gdf_subset[(gdf_subset['date'] == specified_date) & (gdf_subset['dh (m)'] < 0)].boundary.plot(ax=ax[0], color='red')\n",
    "\n",
    "# Calculate the absolute difference between each time in the dataset and the specified time\n",
    "time_diff = np.abs(midcyc_dates - np.datetime64(specified_date))\n",
    "# Find the index of the minimum difference\n",
    "nearest_time_index = time_diff.argmin().item()\n",
    "if nearest_time_index <= 32:\n",
    "    dhdt = dataset1_subset.cyc_to_cyc_delta_h[nearest_time_index,:,:]\n",
    "elif nearest_time_index > 32:\n",
    "    # Subtract 33 from idx to start over with new dataset\n",
    "    dhdt = dataset2_subset.cyc_to_cyc_delta_h[(nearest_time_index-33),:,:]\n",
    "\n",
    "# Plot gridded height change data\n",
    "divnorm=colors.TwoSlopeNorm(vmin=-1.5, vcenter=0., vmax=1.5)  \n",
    "img = ax[0].imshow(dhdt, extent=[x_min-buffer, x_max+buffer, y_min-buffer, y_max+buffer], origin='upper', cmap='coolwarm_r', \n",
    "                   # norm=colors.CenteredNorm(),\n",
    "                   norm=divnorm)\n",
    "\n",
    "# Plot buffered polygon showing extent of evolving outline search\n",
    "ROI_color = 'magenta'\n",
    "gpd.GeoSeries(buffered_poly).boundary.plot(ax=ax[0], color=ROI_color)\n",
    "\n",
    "# Create an axes on the right side of ax1 for the colorbar\n",
    "cax = fig.add_axes([ax[0].get_position().x1 + 0.15, ax[0].get_position().y0 - 0.092, 0.03, ax[0].get_position().height])\n",
    "fig.colorbar(img, cax=cax).set_label('height change [m]', size=12)\n",
    "\n",
    "# Annotate time slice\n",
    "ax[0].annotate('height change: {} to {}'.format(datetime64_to_fractional_year(cyc_start_dates[nearest_time_index]),\n",
    "    datetime64_to_fractional_year(cyc_end_dates[nearest_time_index])), \n",
    "    xy=(-421e3,1009e3), xycoords='data', fontsize=14)\n",
    "\n",
    "\n",
    "# Panel B - Plot subsidence draining event\n",
    "# specified_date = datetime.date(2021, 2, 15)\n",
    "specified_date = datetime.date(2020, 2, 16)\n",
    "# specified_date = datetime.date(2015, 8, 17)\n",
    "\n",
    "gdf_subset[(gdf_subset['date'] == specified_date) & (gdf_subset['dh (m)'] > 0)].boundary.plot(ax=ax[1], color='blue')\n",
    "gdf_subset[(gdf_subset['date'] == specified_date) & (gdf_subset['dh (m)'] < 0)].boundary.plot(ax=ax[1], color='red')\n",
    "\n",
    "# Calculate the absolute difference between each time in the dataset and the specified time\n",
    "time_diff = np.abs(midcyc_dates - np.datetime64(specified_date))\n",
    "# Find the index of the minimum difference\n",
    "nearest_time_index = time_diff.argmin().item()\n",
    "if nearest_time_index <= 32:\n",
    "    dhdt = dataset1_subset.delta_h[nearest_time_index+1,:,:]-dataset1_subset.delta_h[nearest_time_index,:,:]\n",
    "elif nearest_time_index > 32:\n",
    "    # Subtract 33 from idx to start over with new dataset\n",
    "    dhdt = dataset2_subset.delta_h[(nearest_time_index-33)+1,:,:]-dataset2_subset.delta_h[(nearest_time_index-33),:,:]\n",
    "\n",
    "# Plot gridded height change data\n",
    "img = ax[1].imshow(dhdt, extent=[x_min-buffer, x_max+buffer, y_min-buffer, y_max+buffer], origin='lower', cmap='coolwarm_r', \n",
    "                   # norm=colors.CenteredNorm(),\n",
    "                   norm=divnorm)\n",
    "gpd.GeoSeries(buffered_poly).boundary.plot(ax=ax[1], color=ROI_color)\n",
    "\n",
    "ax[1].annotate('height change: {} to {}'.format(datetime64_to_fractional_year(cyc_start_dates[nearest_time_index]),\n",
    "    datetime64_to_fractional_year(cyc_end_dates[nearest_time_index])), \n",
    "    xy=(-421e3,1009e3), xycoords='data', fontsize=14)\n",
    "\n",
    "\n",
    "# Panel C - Plot outlines in aggregate vs. two past static delineations\n",
    "# Plot MOA imagery  \n",
    "ax[2].imshow(moa_highres_da_subset[0,:,:], cmap=\"gray\", clim=[14000, 17000], extent=[x_min-buffer, x_max+buffer, y_min-buffer, y_max+buffer])\n",
    "\n",
    "# Pick colormap and make continuous cmap discrete for evolving outlines\n",
    "colormap = 'plasma'\n",
    "continuous_cmap = matplotlib.colormaps[colormap]\n",
    "discrete_cmap = colors.ListedColormap(continuous_cmap(np.linspace(0, 1, len(midcyc_dates)-1)))\n",
    "\n",
    "# Norm to time variable\n",
    "norm = plt.Normalize(mdates.date2num(midcyc_dates[0]), \n",
    "                     mdates.date2num(midcyc_dates[-1]))\n",
    "\n",
    "# Use for loop to store each time slice as line segment to use in legend\n",
    "# And plot each outline in the geopandas dataframe and color by date\n",
    "lines = []  # list of lines to be used for the legend\n",
    "for idx, dt in enumerate(midcyc_dates, 0):\n",
    "    x = 1; y = 1\n",
    "    line, = ax[2].plot(x, y, color=discrete_cmap(norm(mdates.date2num(midcyc_dates[idx]))), linewidth=3)\n",
    "    lines.append(line)\n",
    "    \n",
    "    # Filter rows that match the current time slice\n",
    "    gdf_subset_dt = gdf_subset[gdf_subset['datetime'] == dt]\n",
    "\n",
    "    # Plotting the subset\n",
    "    gdf_subset_dt.plot(ax=ax[2], edgecolor=discrete_cmap(norm(mdates.date2num(midcyc_dates[idx]))), facecolor='none')\n",
    "\n",
    "    \n",
    "# All panels\n",
    "# Label axes\n",
    "ax[2].set_xlabel('x [km]', size=16)\n",
    "ax[1].set_ylabel('y [km]', size=16)\n",
    "\n",
    "# ax[0].annotate('A', xy=(-425e3,1049e3), xycoords='data', fontsize=30)\n",
    "# ax[1].annotate('B', xy=(-425e3,1049e3), xycoords='data', fontsize=30)\n",
    "# ax[2].annotate('C', xy=(-425e3,1049e3), xycoords='data', fontsize=30)\n",
    "ax[0].annotate('A', xy=(0.02, 0.9), xycoords='axes fraction', fontsize=30)\n",
    "ax[1].annotate('B', xy=(0.02, 0.9), xycoords='axes fraction', fontsize=30)\n",
    "ax[2].annotate('C', xy=(0.02, 0.9), xycoords='axes fraction', fontsize=30)\n",
    "\n",
    "# Create lines for legend\n",
    "S09_color = 'lightseagreen'\n",
    "SF18_color = 'teal'\n",
    "Smith2009 = plt.Line2D((0, 1), (0, 0), color=S09_color, linestyle=(0, (1, 2)), linewidth=3)\n",
    "SiegfriedFricker2018 = plt.Line2D((0, 1), (0, 0), color=SF18_color, linestyle=(0, (1, 1)), linewidth=3)\n",
    "ROI = plt.Line2D((0, 1), (0, 0), color=ROI_color, linestyle='solid', linewidth=3)\n",
    "uplift = plt.Line2D((0, 1), (0, 0), color='blue', linewidth=3)\n",
    "subsidence = plt.Line2D((0, 1), (0, 0), color='red', linewidth=3)\n",
    "\n",
    "# Create legends\n",
    "ax[0].legend([Smith2009, SiegfriedFricker2018, ROI, uplift], \n",
    "           ['static outline [10]',\n",
    "            'static outline [13]', \n",
    "            # 'evolving outline ({} m threshold)'.format(threshold)], \n",
    "            'evolving outline search limit [this study]',\n",
    "            'evolving outline - uplift [this study]'], \n",
    "             loc='upper right') \n",
    "\n",
    "ax[1].legend([subsidence],\n",
    "           ['evolving outline - subsidence [this study]'], \n",
    "             loc='upper right')\n",
    "\n",
    "legend = ax[2].legend([tuple(lines)], ['evolving outlines [this study]'],\n",
    "    handlelength=3, handler_map={tuple: HandlerTuple(ndivide=None, pad=0)},\n",
    "    loc='upper center')\n",
    "legend.get_frame().set_linewidth(0.0)\n",
    "ax[2].patch.set_alpha(1)\n",
    "\n",
    "# Create colorbar \n",
    "m = plt.cm.ScalarMappable(cmap=discrete_cmap)\n",
    "m.set_array(np.array([datetime64_to_fractional_year(date) for date in midcyc_dates[0:]]))\n",
    "cax = inset_axes(ax[2],\n",
    "                 width=\"100%\",\n",
    "                 height=\"2.5%\",\n",
    "                 loc=3,\n",
    "                 bbox_to_anchor=[0,-0.14,1,1],\n",
    "                 bbox_transform=ax[2].transAxes,\n",
    "                 borderpad=0,\n",
    "                 )\n",
    "cbar=fig.colorbar(m, ticks=np.array([2010,2012,2014,2016,2018,2020,2022]), \n",
    "             cax=cax, orientation='horizontal').set_label('evolving outline year', size=15)\n",
    "\n",
    "# Plot inset map\n",
    "axIns = ax[0].inset_axes([0.01, 0.01, 0.3, 0.3]) # [left, bottom, width, height] (fractional axes coordinates)\n",
    "axIns.set_aspect('equal')\n",
    "moa_2014_coastline.plot(ax=axIns, color='gray', edgecolor='k', linewidth=0.1, zorder=3)\n",
    "moa_2014_groundingline.plot(ax=axIns, color='ghostwhite', edgecolor='k', linewidth=0.1, zorder=3)\n",
    "axIns.axis('off')\n",
    "# # Plot black rectangle to indicate location\n",
    "# rect = Rectangle((x_min, y_min), (x_max-x_min), (y_max-y_min), fill=False, linewidth=2, color='k', zorder=3)\n",
    "# axIns.add_artist(rect)\n",
    "# Plot red star to indicate location\n",
    "axIns.scatter(((x_max+x_min)/2), ((y_max+y_min)/2), marker='*', \n",
    "    linewidth=1, edgecolor='k', facecolor='r', s=100, zorder=3)\n",
    "\n",
    "# # Add annotation to the opposite side of the colorbar\n",
    "# cbar.ax.text(1.1, 0.5, 'CryoSat-2 era', va='center', ha='left', transform=cbar.ax.transAxes)\n",
    "\n",
    "for i in ax: \n",
    "    S09_outlines.boundary.plot(ax=i, edgecolor=S09_color, facecolor='none', linestyle=(0, (1, 2)), linewidth=3, alpha=1, zorder=0)\n",
    "    SF18_outlines.boundary.plot(ax=i, edgecolor=SF18_color, facecolor='none', linestyle=(0, (1, 1)), linewidth=3, alpha=1, zorder=0)\n",
    "    \n",
    "    # Change polar stereographic m to km\n",
    "    km_scale = 1e3\n",
    "    ticks_x = ticker.FuncFormatter(lambda x, pos: '{0:g}'.format(x/km_scale))\n",
    "    i.xaxis.set_major_formatter(ticks_x)\n",
    "    ticks_y = ticker.FuncFormatter(lambda x, pos: '{0:g}'.format(x/km_scale))\n",
    "    i.yaxis.set_major_formatter(ticks_y)\n",
    "    \n",
    "    # i.set(xlim=(x_min-buffer, x_max+buffer), ylim=(y_min-buffer, y_max+buffer))   \n",
    "    i.set(xlim=(x_min-buffer, x_max+buffer), ylim=(y_min-buffer, y_max+buffer))   \n",
    "\n",
    "plt.tight_layout()\n",
    "\n",
    "plt.show()"
   ]
  },
  {
   "cell_type": "code",
   "execution_count": null,
   "id": "f9029d96-c400-4346-abab-fd6ce96b5474",
   "metadata": {},
   "outputs": [],
   "source": []
  },
  {
   "cell_type": "code",
   "execution_count": null,
   "id": "60a382fc-3e70-4dd8-bb49-ef539b386c04",
   "metadata": {},
   "outputs": [],
   "source": []
  },
  {
   "cell_type": "code",
   "execution_count": null,
   "id": "7b587357-145a-48d9-96b0-7aac94ccedbf",
   "metadata": {},
   "outputs": [],
   "source": []
  },
  {
   "cell_type": "code",
   "execution_count": 52,
   "id": "34fe41da-fd2d-4890-a858-d6ac61e90535",
   "metadata": {
    "tags": []
   },
   "outputs": [
    {
     "ename": "NameError",
     "evalue": "name 'lake_gdf' is not defined",
     "output_type": "error",
     "traceback": [
      "\u001b[0;31m---------------------------------------------------------------------------\u001b[0m",
      "\u001b[0;31mNameError\u001b[0m                                 Traceback (most recent call last)",
      "Cell \u001b[0;32mIn[52], line 6\u001b[0m\n\u001b[1;32m      2\u001b[0m plt\u001b[38;5;241m.\u001b[39mclose()\n\u001b[1;32m      3\u001b[0m \u001b[38;5;28;01mfor\u001b[39;00m idx \u001b[38;5;129;01min\u001b[39;00m \u001b[38;5;28mrange\u001b[39m(\u001b[38;5;241m145\u001b[39m, \u001b[38;5;28mlen\u001b[39m(lakes_gdf)):\n\u001b[1;32m      4\u001b[0m \n\u001b[1;32m      5\u001b[0m     \u001b[38;5;66;03m# Define lake name and polygon\u001b[39;00m\n\u001b[0;32m----> 6\u001b[0m     lake_name \u001b[38;5;241m=\u001b[39m \u001b[43mlake_gdf\u001b[49m\u001b[38;5;241m.\u001b[39mname\u001b[38;5;241m.\u001b[39mvalues[\u001b[38;5;241m0\u001b[39m]\n\u001b[1;32m      7\u001b[0m     lake_poly \u001b[38;5;241m=\u001b[39m lake_gdf\u001b[38;5;241m.\u001b[39miloc[\u001b[38;5;241m0\u001b[39m]\u001b[38;5;241m.\u001b[39mgeometry\n\u001b[1;32m      9\u001b[0m     \u001b[38;5;66;03m# # Create buffered polygons for various multiples of lake area to find which\u001b[39;00m\n\u001b[1;32m     10\u001b[0m     \u001b[38;5;66;03m# # best emcompasses the height change signals at previously identified lakes\u001b[39;00m\n",
      "\u001b[0;31mNameError\u001b[0m: name 'lake_gdf' is not defined"
     ]
    }
   ],
   "source": [
    "# I can't figure out why data_counts plot looks sparse when you plot at continental scale\n",
    "plt.close()\n",
    "for idx in range(145, len(static_lakes_gdf)):\n",
    "\n",
    "    # Define lake name and polygon\n",
    "    lake_name = lake_gdf.name.values[0]\n",
    "    lake_poly = lake_gdf.iloc[0].geometry\n",
    "\n",
    "    # # Create buffered polygons for various multiples of lake area to find which\n",
    "    # # best emcompasses the height change signals at previously identified lakes\n",
    "    buffered_poly_2x = muliple_area_buffer(lake_poly, 2)\n",
    "    # buffered_poly_3x = muliple_area_buffer(lake_poly, 3)\n",
    "    # buffered_poly_4x = muliple_area_buffer(lake_poly, 4)\n",
    "    # buffered_poly_5x = muliple_area_buffer(lake_poly, 5)\n",
    "\n",
    "    # Establish x_min, x_max, y_min, y_max\n",
    "    x_min, y_min, x_max, y_max = buffered_poly_2x.iloc[0].geometry.bounds\n",
    "    x_buffer = abs(x_max-x_min)*10\n",
    "    y_buffer = abs(y_max-y_min)*10\n",
    "\n",
    "    # Subsetting datasets\n",
    "    mask_x = (dataset1.x >= x_min - x_buffer) & (dataset1.x <= x_max + x_buffer)\n",
    "    mask_y = (dataset1.y >= y_min - y_buffer) & (dataset1.y <= y_max + y_buffer)\n",
    "    dataset1_subset = dataset1.where(mask_x & mask_y, drop=True)\n",
    "    mask_x = (dataset2.x >= x_min - x_buffer) & (dataset2.x <= x_max + x_buffer)\n",
    "    mask_y = (dataset2.y >= y_min - y_buffer) & (dataset2.y <= y_max + y_buffer)\n",
    "    dataset2_subset = dataset2.where(mask_x & mask_y, drop=True)\n",
    "\n",
    "    # Make output folders\n",
    "    create_folder(OUTPUT_DIR + '/{}'.format('plot_data_counts'))\n",
    "    create_folder(OUTPUT_DIR + '/plot_data_counts/{}'.format(lake_name))\n",
    "    print('Now creating/saving plots...')\n",
    "\n",
    "    # Create lines for legend\n",
    "    S09_color = 'cyan'\n",
    "    SF18_color  = 'darkcyan'\n",
    "    static_lakes_gdf_postSF18_color = 'deepskyblue'\n",
    "    Smith2009 = plt.Line2D((0, 1), (0, 0), color=S09_color, linestyle=(0, (1, 3)), linewidth=2)\n",
    "    SiegfriedFricker2018 = plt.Line2D((0, 1), (0, 0), color=SF18_color, linestyle=(0, (1, 2)), linewidth=2)\n",
    "    static_lakes_gdf_postSF18 = plt.Line2D((0, 1), (0, 0), color=static_lakes_gdf_postSF18_color, linestyle=(0, (1, 1)), linewidth=2)\n",
    "\n",
    "    # Calculate cycle-to-cycle dHeight at each cycle of the spliced data sets\n",
    "    for idx in range(33,34):#len(midcyc_dates)):\n",
    "        # For midcyc_dates indexes <= 32, use CryoSat-2 dataset for cycle-to-cycle dHeight\n",
    "        # This covers the CryoSat-2 era before ICESat-2 launch (2010-08-17 to 2018-08-17)\n",
    "        if idx <= 32:\n",
    "            count_subset = dataset1_subset['data_count'][idx,:,:]\n",
    "            count_subset.rio.write_crs(\"epsg:3031\", inplace=True)\n",
    "\n",
    "        # For midcyc_dates indexes > 32, use ICESat-2 dataset for cycle-to-cycle dHeight\n",
    "        # This covers the ICESat-2 era (2018-11-16 to most recently available data)\n",
    "        elif idx > 32:\n",
    "            # Subtract 33 from idx to start over at index zero with new dataset\n",
    "            count_subset = dataset2_subset['data_count'][(idx-33),:,:]\n",
    "            count_subset.rio.write_crs(\"epsg:3031\", inplace=True)\n",
    "\n",
    "        # Only plot arrays that have data in them; some time slices have no data because no CryoSat-2 SARIn coverage\n",
    "        # Returns True if there is at least one non-NaN value in data_stacked, and False if all values are NaN\n",
    "        # if np.any(~np.isnan(count_subset)):\n",
    "        # Create fig, ax\n",
    "        fig, ax = plt.subplots()\n",
    "\n",
    "        # Plot figure\n",
    "        img = ax.imshow(count_subset, extent=[x_min-x_buffer, x_max+x_buffer, y_min-y_buffer, y_max+y_buffer], \n",
    "            origin='lower', cmap='viridis')\n",
    "\n",
    "        buffered_poly_2x.boundary.plot(ax=ax, edgecolor='r', facecolor='none', linewidth=5)"
   ]
  },
  {
   "cell_type": "code",
   "execution_count": 53,
   "id": "3c3de926-fc8f-4f81-bcc5-8d005970cb74",
   "metadata": {
    "tags": []
   },
   "outputs": [
    {
     "ename": "NameError",
     "evalue": "name 'buffered_poly_2x' is not defined",
     "output_type": "error",
     "traceback": [
      "\u001b[0;31m---------------------------------------------------------------------------\u001b[0m",
      "\u001b[0;31mNameError\u001b[0m                                 Traceback (most recent call last)",
      "Cell \u001b[0;32mIn[53], line 18\u001b[0m\n\u001b[1;32m     10\u001b[0m \u001b[38;5;66;03m# Plot figure\u001b[39;00m\n\u001b[1;32m     11\u001b[0m img \u001b[38;5;241m=\u001b[39m ax\u001b[38;5;241m.\u001b[39mimshow(dataset2[\u001b[38;5;124m'\u001b[39m\u001b[38;5;124mdata_count\u001b[39m\u001b[38;5;124m'\u001b[39m][(idx\u001b[38;5;241m-\u001b[39m\u001b[38;5;241m33\u001b[39m),:,:], \n\u001b[1;32m     12\u001b[0m     \u001b[38;5;66;03m# extent=[x_min-x_buffer, x_max+x_buffer, y_min-y_buffer, y_max+y_buffer],\u001b[39;00m\n\u001b[1;32m     13\u001b[0m     extent\u001b[38;5;241m=\u001b[39m[dataset2\u001b[38;5;241m.\u001b[39mx\u001b[38;5;241m.\u001b[39mmin(), dataset2\u001b[38;5;241m.\u001b[39mx\u001b[38;5;241m.\u001b[39mmax(), dataset2\u001b[38;5;241m.\u001b[39my\u001b[38;5;241m.\u001b[39mmin(), dataset2\u001b[38;5;241m.\u001b[39my\u001b[38;5;241m.\u001b[39mmax()], \n\u001b[1;32m     14\u001b[0m     origin\u001b[38;5;241m=\u001b[39m\u001b[38;5;124m'\u001b[39m\u001b[38;5;124mlower\u001b[39m\u001b[38;5;124m'\u001b[39m, \n\u001b[1;32m     15\u001b[0m     \u001b[38;5;66;03m# cmap='viridis'\u001b[39;00m\n\u001b[1;32m     16\u001b[0m     )\n\u001b[0;32m---> 18\u001b[0m \u001b[43mbuffered_poly_2x\u001b[49m\u001b[38;5;241m.\u001b[39mboundary\u001b[38;5;241m.\u001b[39mplot(ax\u001b[38;5;241m=\u001b[39max, edgecolor\u001b[38;5;241m=\u001b[39m\u001b[38;5;124m'\u001b[39m\u001b[38;5;124mr\u001b[39m\u001b[38;5;124m'\u001b[39m, facecolor\u001b[38;5;241m=\u001b[39m\u001b[38;5;124m'\u001b[39m\u001b[38;5;124mnone\u001b[39m\u001b[38;5;124m'\u001b[39m, linewidth\u001b[38;5;241m=\u001b[39m\u001b[38;5;241m5\u001b[39m)\n\u001b[1;32m     19\u001b[0m plt\u001b[38;5;241m.\u001b[39mshow()\n\u001b[1;32m     20\u001b[0m Scripps_landice\u001b[38;5;241m.\u001b[39mboundary\u001b[38;5;241m.\u001b[39mplot(ax\u001b[38;5;241m=\u001b[39max, edgecolor\u001b[38;5;241m=\u001b[39m\u001b[38;5;124m'\u001b[39m\u001b[38;5;124mblue\u001b[39m\u001b[38;5;124m'\u001b[39m, facecolor\u001b[38;5;241m=\u001b[39m\u001b[38;5;124m'\u001b[39m\u001b[38;5;124mnone\u001b[39m\u001b[38;5;124m'\u001b[39m, linewidth\u001b[38;5;241m=\u001b[39m\u001b[38;5;241m0.5\u001b[39m)\n",
      "\u001b[0;31mNameError\u001b[0m: name 'buffered_poly_2x' is not defined"
     ]
    },
    {
     "data": {
      "application/vnd.jupyter.widget-view+json": {
       "model_id": "",
       "version_major": 2,
       "version_minor": 0
      },
      "image/png": "[encoded data removed]",
      "text/html": [
       "\n",
       "            <div style=\"display: inline-block;\">\n",
       "                <div class=\"jupyter-widgets widget-label\" style=\"text-align: center;\">\n",
       "                    Figure\n",
       "                </div>\n",
       "                <img src='data:image/png;base64,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' width=640.0/>\n",
       "            </div>\n",
       "        "
      ],
      "text/plain": [
       "Canvas(toolbar=Toolbar(toolitems=[('Home', 'Reset original view', 'home', 'home'), ('Back', 'Back to previous …"
      ]
     },
     "metadata": {},
     "output_type": "display_data"
    }
   ],
   "source": [
    "# Only plot arrays that have data in them; some time slices have no data because no CryoSat-2 SARIn coverage\n",
    "# Returns True if there is at least one non-NaN value in data_stacked, and False if all values are NaN\n",
    "# if np.any(~np.isnan(count_subset)):\n",
    "plt.close()\n",
    "# Create fig, ax\n",
    "fig, ax = plt.subplots()\n",
    "\n",
    "idx=44\n",
    "\n",
    "# Plot figure\n",
    "img = ax.imshow(dataset2['data_count'][(idx-33),:,:], \n",
    "    # extent=[x_min-x_buffer, x_max+x_buffer, y_min-y_buffer, y_max+y_buffer],\n",
    "    extent=[dataset2.x.min(), dataset2.x.max(), dataset2.y.min(), dataset2.y.max()], \n",
    "    origin='lower', \n",
    "    # cmap='viridis'\n",
    "    )\n",
    "\n",
    "buffered_poly_2x.boundary.plot(ax=ax, edgecolor='r', facecolor='none', linewidth=5)\n",
    "plt.show()\n",
    "Scripps_landice.boundary.plot(ax=ax, edgecolor='blue', facecolor='none', linewidth=0.5)\n",
    "\n",
    "# Add colorbar \n",
    "divider = make_axes_locatable(ax)\n",
    "cax = divider.append_axes('right', size='5%', pad=0.2)\n",
    "fig.colorbar(img, cax=cax).set_label('data counts', size=15)\n",
    "\n",
    "plt.show()"
   ]
  },
  {
   "cell_type": "code",
   "execution_count": null,
   "id": "d1ac66a1-541e-4dc1-8e1d-54ada1b4ea59",
   "metadata": {},
   "outputs": [],
   "source": []
  }
 ],
 "metadata": {
  "kernelspec": {
   "display_name": "Python 3 (ipykernel)",
   "language": "python",
   "name": "python3"
  },
  "language_info": {
   "codemirror_mode": {
    "name": "ipython",
    "version": 3
   },
   "file_extension": ".py",
   "mimetype": "text/x-python",
   "name": "python",
   "nbconvert_exporter": "python",
   "pygments_lexer": "ipython3",
   "version": "3.11.8"
  },
  "toc-autonumbering": false,
  "toc-showcode": false,
  "toc-showtags": false
 },
 "nbformat": 4,
 "nbformat_minor": 5
}
